{
 "cells": [
  {
   "cell_type": "code",
   "execution_count": null,
   "id": "4b17fb54",
   "metadata": {},
   "outputs": [],
   "source": [
    "import numpy as np\n",
    "import os\n",
    "import sys\n",
    "import matplotlib.pyplot as plt\n",
    "module_path = os.path.abspath(os.path.join('..'))\n",
    "if module_path not in sys.path:\n",
    "    sys.path.append(module_path)\n",
    "lgcg_path = os.path.abspath(os.path.join('../lazified_pdap'))\n",
    "if lgcg_path not in sys.path:\n",
    "    sys.path.append(lgcg_path)\n",
    "from lib.measure import Measure\n",
    "from nlgcg_parameter_free import NLGCGParameterFree"
   ]
  },
  {
   "cell_type": "markdown",
   "id": "42775360",
   "metadata": {},
   "source": [
    "# Heat Equation"
   ]
  },
  {
   "cell_type": "markdown",
   "id": "f17e312e",
   "metadata": {},
   "source": [
    "## Generate Data and Define Functions"
   ]
  },
  {
   "cell_type": "code",
   "execution_count": 2,
   "id": "3d3ce033",
   "metadata": {},
   "outputs": [],
   "source": [
    "Omega = np.array([[0,1], [0,1]])\n",
    "alpha = 1e-1\n",
    "observation_resolution = 4\n",
    "std_factor = 0.1\n",
    "true_sources = np.array([[0.28, 0.71], [0.51,0.27], [0.71,0.53]])\n",
    "true_weights = np.array([1,-0.7, 0.8])"
   ]
  },
  {
   "cell_type": "code",
   "execution_count": 3,
   "id": "0c7b0495",
   "metadata": {},
   "outputs": [],
   "source": [
    "observations = (np.array(np.meshgrid(\n",
    "                    *(\n",
    "                        np.linspace(bound[0], bound[1], observation_resolution+2)\n",
    "                        for bound in Omega\n",
    "                    ))\n",
    "            ).reshape(len(Omega), -1).T)\n",
    "observations = np.array([obs for obs in observations if all(obs!=0) and all(obs!=1)])"
   ]
  },
  {
   "cell_type": "code",
   "execution_count": 4,
   "id": "b5a585ae",
   "metadata": {},
   "outputs": [],
   "source": [
    "def kappa(x):\n",
    "    # Input is 2D array of shape (number of points, Omega dimension)\n",
    "    if len(x.shape) == 1:\n",
    "        x = x.reshape(1, -1)\n",
    "    columns = []\n",
    "    outer_factor = np.sqrt(std_factor*np.pi)**Omega.shape[0]\n",
    "    for point in observations:\n",
    "        diff = point-x # (len(x), Omega.shape[0])\n",
    "        norms = -np.square(np.linalg.norm(diff, axis=1))/std_factor # (len(x),)\n",
    "        exponentiated = np.exp(norms) # (len(x),)\n",
    "        columns.append(exponentiated)\n",
    "    result = np.transpose(np.array(columns), axes=(1,0))/outer_factor # shape=(len(x), len(observations))\n",
    "    return result"
   ]
  },
  {
   "cell_type": "code",
   "execution_count": 5,
   "id": "0fb8c596",
   "metadata": {},
   "outputs": [],
   "source": [
    "u_hat = Measure(support=true_sources, coefficients=true_weights)\n",
    "target = u_hat.duality_pairing(kappa)"
   ]
  },
  {
   "cell_type": "code",
   "execution_count": 6,
   "id": "806d4339",
   "metadata": {},
   "outputs": [],
   "source": [
    "g = lambda u: alpha * np.linalg.norm(u, ord=1)\n",
    "f = lambda u: 0.5 * np.linalg.norm(u.duality_pairing(kappa) - target) ** 2"
   ]
  },
  {
   "cell_type": "code",
   "execution_count": 7,
   "id": "8c40b3b9",
   "metadata": {},
   "outputs": [],
   "source": [
    "def grad_kappa(x):\n",
    "    # Input is 2D array of shape (number of points, Omega dimension)\n",
    "    if len(x.shape) == 1:\n",
    "        x = x.reshape(1, -1)\n",
    "    gradients = []\n",
    "    outer_factor = std_factor*np.sqrt(std_factor*np.pi)**Omega.shape[0]/2\n",
    "    for point in observations:\n",
    "        diff = point-x # (len(x), Omega.shape[0])\n",
    "        norms = -np.square(np.linalg.norm(diff, axis=1))/std_factor # (len(x),)\n",
    "        exponentiated = np.exp(norms) # (len(x),)\n",
    "        gradient = diff * exponentiated.reshape(-1,1) # shape=(len(x),Omega.shape[0])\n",
    "        gradients.append(gradient)\n",
    "    result = np.transpose(np.array(gradients), axes=(1,0,2))/outer_factor # The Jacobian of kappa, shape=(len(x), len(observations), Omega.shape[0])\n",
    "    return result"
   ]
  },
  {
   "cell_type": "code",
   "execution_count": 8,
   "id": "1d07d303",
   "metadata": {},
   "outputs": [],
   "source": [
    "def hess_kappa(x):\n",
    "    # Input is 2D array of shape (number of points, Omega dimension)\n",
    "    if len(x.shape) == 1:\n",
    "        x = x.reshape(1, -1)\n",
    "    hessians = []\n",
    "    outer_factors = [-std_factor*np.sqrt(std_factor*np.pi)**Omega.shape[0]/2,std_factor**2*np.sqrt(std_factor*np.pi)**Omega.shape[0]/4]\n",
    "    for point in observations:\n",
    "        diff = point-x # (len(x), Omega.shape[0])\n",
    "        norms = -np.square(np.linalg.norm(diff, axis=1))/std_factor # (len(x),)\n",
    "        exponentiated_normed_1 = np.exp(norms)/outer_factors[0] # (len(x),)\n",
    "        exponentiated_normed_2 = np.exp(norms)/outer_factors[1] # (len(x),)\n",
    "        first_part = np.repeat(np.eye(Omega.shape[0])[np.newaxis,:],len(x),axis=0)*exponentiated_normed_1.reshape(-1,1,1) # shape=(len(x),Omega.shape[0],Omega.shape[0])\n",
    "        second_part = np.einsum('ij,ik->ijk', diff, diff)*exponentiated_normed_2.reshape(-1,1,1) # shape=(len(x),Omega.shape[0],Omega.shape[0])\n",
    "        hessians.append(first_part+second_part)\n",
    "    result = np.transpose(np.array(hessians), axes=(1,0,2,3)) # The derivative of the Jacobian of kappa, shape=(len(x), len(observations), Omega.shape[0], Omega.shape[0])\n",
    "    return result"
   ]
  },
  {
   "cell_type": "code",
   "execution_count": 9,
   "id": "8dcef6ba",
   "metadata": {},
   "outputs": [],
   "source": [
    "def p_raw(u):\n",
    "    Ku = u.duality_pairing(kappa)\n",
    "    inner = Ku-target\n",
    "    return lambda x: -kappa(x) @ inner\n",
    "\n",
    "p = lambda u: p_raw(u)"
   ]
  },
  {
   "cell_type": "code",
   "execution_count": 10,
   "id": "fb148005",
   "metadata": {},
   "outputs": [],
   "source": [
    "def grad_P_raw(u):\n",
    "    p_u = p_raw(u)\n",
    "    inner = target-u.duality_pairing(kappa)\n",
    "    return lambda x: np.sign(p_u(x)).reshape(-1,1)*np.tensordot(grad_kappa(x), inner, axes=([1,0]))\n",
    "\n",
    "grad_P = lambda u: grad_P_raw(u)"
   ]
  },
  {
   "cell_type": "code",
   "execution_count": 11,
   "id": "3e058af5",
   "metadata": {},
   "outputs": [],
   "source": [
    "def hess_P_raw(u):\n",
    "    p_u = p_raw(u)\n",
    "    inner = target-u.duality_pairing(kappa)\n",
    "    return lambda x: np.sign(p_u(x)).reshape(-1,1,1)*np.tensordot(hess_kappa(x),inner,axes=([1,0]))\n",
    "\n",
    "hess_P = lambda u: hess_P_raw(u)"
   ]
  },
  {
   "cell_type": "code",
   "execution_count": 12,
   "id": "45fd9314",
   "metadata": {},
   "outputs": [],
   "source": [
    "def grad_j(positions, coefs):\n",
    "    K_matrix = kappa(positions)\n",
    "    grad_F = (K_matrix.T@coefs).flatten() - target\n",
    "    nabla_x = coefs.reshape(-1,1)*np.tensordot(grad_kappa(positions), grad_F, axes=([1,0]))\n",
    "    nabla_u = np.dot(K_matrix, grad_F) + alpha * np.sign(coefs)\n",
    "    return np.append(nabla_x.flatten(), nabla_u, axis=0).flatten()"
   ]
  },
  {
   "cell_type": "code",
   "execution_count": 13,
   "id": "aea40f89",
   "metadata": {},
   "outputs": [],
   "source": [
    "def hess_j(positions, coefs):\n",
    "    kappa_values = kappa(positions)\n",
    "    grad_kappa_values = grad_kappa(positions)\n",
    "    hess_kappa_values = hess_kappa(positions)\n",
    "    matrix_dimension = len(positions)*Omega.shape[0] + len(coefs)\n",
    "    hesse_matrix = np.zeros((matrix_dimension, matrix_dimension))\n",
    "    step = Omega.shape[0]\n",
    "    coefs_delay = step*len(positions)\n",
    "    inner = (kappa_values.T@coefs).flatten() - target\n",
    "    for i in range(len(positions)):\n",
    "        # nabla_{x_i,x_j}\n",
    "        for j in range(len(positions)):\n",
    "            if j<i:\n",
    "                continue\n",
    "            block = coefs[i]*coefs[j]*np.matmul(grad_kappa_values[i].T, grad_kappa_values[j])\n",
    "            if i==j:\n",
    "                block += coefs[i]*np.tensordot(hess_kappa_values[i],inner,axes=([0,0]))\n",
    "            hesse_matrix[i*step:(i+1)*step, j*step:(j+1)*step] = block\n",
    "            hesse_matrix[j*step:(j+1)*step, i*step:(i+1)*step] = block.T\n",
    "        # nabla_{x_i,u_j}\n",
    "        for j in range(len(coefs)):\n",
    "            block = coefs[i]*np.matmul(grad_kappa_values[i].T, kappa_values[j])\n",
    "            if i == j:\n",
    "                block += np.matmul(grad_kappa_values[i].T, inner)\n",
    "            hesse_matrix[i*step:(i+1)*step, coefs_delay+j] = block\n",
    "            hesse_matrix[coefs_delay+j, i*step:(i+1)*step] = block.T\n",
    "    for i in range(len(coefs)):\n",
    "        # nabla_{u_i,u_j}\n",
    "        for j in range(len(coefs)):\n",
    "            if j<i:\n",
    "                continue\n",
    "            block = np.dot(kappa_values[i], kappa_values[j])\n",
    "            hesse_matrix[coefs_delay+i,coefs_delay+j] = block\n",
    "            hesse_matrix[coefs_delay+j,coefs_delay+i] = block\n",
    "    return hesse_matrix"
   ]
  },
  {
   "cell_type": "code",
   "execution_count": 14,
   "id": "8e2c0c94",
   "metadata": {},
   "outputs": [
    {
     "data": {
      "text/plain": [
       "6.264527262470839"
      ]
     },
     "execution_count": 14,
     "metadata": {},
     "output_type": "execute_result"
    }
   ],
   "source": [
    "a = np.arange(0,1,0.01)\n",
    "if Omega.shape[0] == 1:\n",
    "    vals = np.linalg.norm(kappa(a.reshape(1,-1).T), axis=1)\n",
    "    norm_kappa = max(vals)\n",
    "elif Omega.shape[0] == 2:\n",
    "    x, y = np.meshgrid(a,a)\n",
    "    points = np.array(list(zip(x.flatten(), y.flatten())))\n",
    "    vals = np.linalg.norm(kappa(points), axis=1)\n",
    "    norm_kappa = max(vals) # ||k([0.5,0.5])||\n",
    "elif Omega.shape[0] == 3:\n",
    "    x, y, z = np.meshgrid(a,a,a)\n",
    "    points = np.array(list(zip(x.flatten(), y.flatten(), z.flatten())))\n",
    "    vals = np.linalg.norm(kappa(points), axis=1)\n",
    "    norm_kappa = max(vals)\n",
    "else:\n",
    "    norm_kappa = 10\n",
    "norm_kappa"
   ]
  },
  {
   "cell_type": "markdown",
   "id": "5771fd7f",
   "metadata": {},
   "source": [
    "## Experiments"
   ]
  },
  {
   "cell_type": "code",
   "execution_count": 15,
   "id": "509f2c25",
   "metadata": {},
   "outputs": [],
   "source": [
    "exp = NLGCGParameterFree(target=target, \n",
    "           kappa=kappa, \n",
    "           g=g, \n",
    "           f=f,\n",
    "           p=p,\n",
    "           grad_P=grad_P,\n",
    "           hess_P=hess_P,\n",
    "           norm_kappa=norm_kappa,\n",
    "           grad_j=grad_j,\n",
    "           hess_j=hess_j,\n",
    "           alpha=alpha,\n",
    "           Omega=Omega,\n",
    "           L=1,\n",
    "           global_search_resolution=100\n",
    "           )"
   ]
  },
  {
   "cell_type": "code",
   "execution_count": 26,
   "id": "41e41cca",
   "metadata": {},
   "outputs": [
    {
     "name": "stderr",
     "output_type": "stream",
     "text": [
      "INFO:root:Radii: []\n",
      "DEBUG:root:SSN in 1 dimensions converged in 3 iterations to tolerance 1.000E-03\n",
      "INFO:root:1: choice: 0, lazy: True, support: 0, epsilon: 0.05000000000000001, objective: 2.590E+01, dropped: False\n",
      "INFO:root:=====================================================\n",
      "INFO:root:Radii: [0.1]\n",
      "INFO:root:1, 1: lazy: N/A, support: 1, epsilon: 0.05000000000000001, objective: 5.136E+00\n",
      "INFO:root:1, 2: lazy: N/A, support: 1, epsilon: 0.05000000000000001, objective: 5.129E+00\n",
      "INFO:root:1, 3: lazy: N/A, support: 1, epsilon: 0.05000000000000001, objective: 5.129E+00\n",
      "INFO:root:1, 4: lazy: N/A, support: 1, epsilon: 0.05000000000000001, objective: 5.129E+00\n",
      "INFO:root:gap: 2.72101374272147e-11, norm grad: 1.8899295459813614e-12\n",
      "INFO:root:gap: 2.72101374272147e-11, norm grad: 1.8899295459813614e-12\n",
      "INFO:root:1, 5: lazy: True, support: 1, epsilon: 0.05000000000000001, objective: 5.129E+00\n",
      "INFO:root:Inequality 6.7: False\n",
      "DEBUG:root:SSN in 3 dimensions converged in 3 iterations to tolerance 5.000E-04\n",
      "INFO:root:2: choice: 4, lazy: True, support: 2, epsilon: 0.05000000000000001, objective: 4.579E+00, dropped: False\n",
      "INFO:root:=====================================================\n",
      "INFO:root:Radii: [0.1, 0.1]\n",
      "INFO:root:2, 1: lazy: N/A, support: 2, epsilon: 0.05000000000000001, objective: 2.779E+00\n",
      "INFO:root:2, 2: lazy: N/A, support: 2, epsilon: 0.05000000000000001, objective: 2.690E+00\n",
      "INFO:root:2, 3: lazy: N/A, support: 2, epsilon: 0.05000000000000001, objective: 2.689E+00\n",
      "INFO:root:2, 4: lazy: N/A, support: 2, epsilon: 0.05000000000000001, objective: 2.689E+00\n",
      "INFO:root:2, 5: lazy: N/A, support: 2, epsilon: 0.05000000000000001, objective: 2.689E+00\n",
      "INFO:root:norm_grad: 1.7085932677466682e-08, constant: 0.0005132767372071688, diff: 0.0\n",
      "INFO:root:2, 6: lazy: N/A, support: 2, epsilon: 0.05000000000000001, objective: 2.689E+00\n",
      "INFO:root:Inequalities 6.6: [True, True, False]\n",
      "DEBUG:root:SSN in 3 dimensions converged in 2 iterations to tolerance 2.500E-04\n",
      "INFO:root:3: choice: 2, lazy: True, support: 2, epsilon: 0.05000000000000001, objective: 2.689E+00, dropped: False\n",
      "INFO:root:=====================================================\n",
      "INFO:root:Radii: [0.1, 0.1, 0.1]\n",
      "INFO:root:norm_grad: 21.6259536640781, constant: 0.0005794957815531079, diff: 54.53840270264445\n",
      "INFO:root:3, 1: lazy: N/A, support: 3, epsilon: 0.05000000000000001, objective: 2.677E+01\n",
      "INFO:root:Inequalities 6.6: [True, True, False]\n",
      "DEBUG:root:SSN in 4 dimensions converged in 2 iterations to tolerance 1.250E-04\n",
      "INFO:root:4: choice: 0, lazy: True, support: 3, epsilon: 0.05000000000000001, objective: 1.608E+00, dropped: False\n",
      "INFO:root:=====================================================\n",
      "INFO:root:Radii: [0.1, 0.1, 0.1, 0.1]\n",
      "INFO:root:norm_grad: 5.856402882946212, constant: 0.0008499638164702938, diff: 6.865747268353916\n",
      "INFO:root:4, 1: lazy: N/A, support: 4, epsilon: 0.05000000000000001, objective: 9.080E+00\n",
      "INFO:root:Inequalities 6.6: [True, True, False]\n",
      "DEBUG:root:SSN in 5 dimensions converged in 2 iterations to tolerance 6.250E-05\n",
      "INFO:root:5: choice: 0, lazy: True, support: 4, epsilon: 0.05000000000000001, objective: 4.708E-01, dropped: False\n",
      "INFO:root:=====================================================\n",
      "INFO:root:Radii: [0.1, 0.1, 0.1, 0.1, 0.1]\n",
      "INFO:root:5, 1: lazy: N/A, support: 5, epsilon: 0.05000000000000001, objective: 2.649E-01\n",
      "INFO:root:5, 2: lazy: N/A, support: 5, epsilon: 0.05000000000000001, objective: 2.465E-01\n",
      "INFO:root:5, 3: lazy: N/A, support: 5, epsilon: 0.05000000000000001, objective: 2.443E-01\n",
      "INFO:root:5, 4: lazy: N/A, support: 5, epsilon: 0.05000000000000001, objective: 2.413E-01\n",
      "INFO:root:norm_grad: 0.06501159368521897, constant: 0.0008368009136367072, diff: 0.009074256595875713\n",
      "INFO:root:5, 5: lazy: N/A, support: 5, epsilon: 0.05000000000000001, objective: 2.504E-01\n",
      "INFO:root:Inequalities 6.6: [True, True, False]\n",
      "DEBUG:root:SSN in 6 dimensions converged in 4 iterations to tolerance 3.125E-05\n",
      "INFO:root:6: choice: 2, lazy: False, support: 5, epsilon: 0.004641824292901212, objective: 2.413E-01, dropped: False\n",
      "INFO:root:=====================================================\n",
      "INFO:root:Radii: [0.1, 0.1, 0.1, 0.1, 0.1]\n",
      "INFO:root:norm_grad: 13.932316960197042, constant: 0.0006572832927572444, diff: 2.534906596634012\n",
      "INFO:root:6, 1: lazy: N/A, support: 3, epsilon: 0.13738151500515003, objective: 2.741E+00\n",
      "INFO:root:Inequalities 6.6: [True, False, False]\n",
      "DEBUG:root:SSN in 6 dimensions converged in 2 iterations to tolerance 1.563E-05\n",
      "INFO:root:7: choice: 0, lazy: False, support: 5, epsilon: 0.0009814217524351226, objective: 2.412E-01, dropped: False\n",
      "INFO:root:=====================================================\n",
      "INFO:root:Radii: [0.1, 0.1, 0.1, 0.1, 0.1, 0.1]\n",
      "INFO:root:7, 1: lazy: N/A, support: 3, epsilon: 0.007736299327041832, objective: 2.393E-01\n",
      "INFO:root:7, 2: lazy: N/A, support: 3, epsilon: 0.007736299327041832, objective: 2.391E-01\n",
      "INFO:root:7, 3: lazy: N/A, support: 3, epsilon: 0.007736299327041832, objective: 2.391E-01\n",
      "INFO:root:7, 4: lazy: N/A, support: 3, epsilon: 0.007736299327041832, objective: 2.391E-01\n",
      "INFO:root:gap: 1.9050776483526694e-13, norm grad: 4.554429753912116e-13\n",
      "INFO:root:7, 5: lazy: False, support: 3, epsilon: 1.953329892807982e-14, objective: 2.391E-01\n"
     ]
    }
   ],
   "source": [
    "u, times, supports, inner_loop, lgcg_lazy, lgcg_total, objective_values, dropped_tot, epsilons = exp.nlgcg(tol=1e-12, max_radius=0.1)"
   ]
  },
  {
   "cell_type": "code",
   "execution_count": 25,
   "id": "8d20caf3",
   "metadata": {},
   "outputs": [
    {
     "data": {
      "text/plain": [
       "array([0.        , 0.00794721, 0.02092075, 0.02841687, 0.03662348,\n",
       "       0.04466438, 0.05293202, 0.06863022, 0.08158493, 0.08931375,\n",
       "       0.09637165, 0.10130143, 0.10871029, 0.11532569, 0.12942433,\n",
       "       0.14590955, 0.15944934, 0.1735878 , 0.19042373, 0.20458817,\n",
       "       0.2109406 , 0.21613884, 0.22337556, 0.22955823, 0.78383756,\n",
       "       0.79961443, 1.32571149, 1.33919549, 1.34601521, 1.35261631,\n",
       "       1.3597033 , 1.86515784])"
      ]
     },
     "execution_count": 25,
     "metadata": {},
     "output_type": "execute_result"
    }
   ],
   "source": [
    "np.array(times)"
   ]
  },
  {
   "cell_type": "code",
   "execution_count": 19,
   "id": "c1662c30",
   "metadata": {},
   "outputs": [
    {
     "data": {
      "text/plain": [
       "array([ 0.99569143, -0.6175807 ,  0.71213226])"
      ]
     },
     "execution_count": 19,
     "metadata": {},
     "output_type": "execute_result"
    }
   ],
   "source": [
    "u.coefficients"
   ]
  },
  {
   "cell_type": "code",
   "execution_count": 20,
   "id": "2d95ed03",
   "metadata": {},
   "outputs": [
    {
     "data": {
      "text/plain": [
       "array([[0.28322727, 0.71433132],\n",
       "       [0.49565837, 0.23548621],\n",
       "       [0.73058833, 0.54790134]])"
      ]
     },
     "execution_count": 20,
     "metadata": {},
     "output_type": "execute_result"
    }
   ],
   "source": [
    "u.support"
   ]
  },
  {
   "cell_type": "code",
   "execution_count": 31,
   "id": "d5c8ef6f",
   "metadata": {},
   "outputs": [
    {
     "data": {
      "text/plain": [
       "0"
      ]
     },
     "execution_count": 31,
     "metadata": {},
     "output_type": "execute_result"
    }
   ],
   "source": [
    "dropped_tot"
   ]
  },
  {
   "cell_type": "markdown",
   "id": "3bd828b6",
   "metadata": {},
   "source": [
    "# Signal Processing"
   ]
  },
  {
   "cell_type": "markdown",
   "id": "cef2188a",
   "metadata": {},
   "source": [
    "## Generate Data and Define Functions"
   ]
  },
  {
   "cell_type": "code",
   "execution_count": 2,
   "id": "dc9492fd",
   "metadata": {},
   "outputs": [],
   "source": [
    "observation_resolution = 120\n",
    "Omega = np.array([[0,observation_resolution//2]])\n",
    "alpha = 1e-1\n",
    "true_sources = np.array([[3.125], [7], [np.sqrt(179)]])\n",
    "true_weights = np.array([-1, 0.7, 0.5])"
   ]
  },
  {
   "cell_type": "code",
   "execution_count": 3,
   "id": "182298de",
   "metadata": {},
   "outputs": [],
   "source": [
    "observations = np.arange(0,1,1/observation_resolution)"
   ]
  },
  {
   "cell_type": "code",
   "execution_count": 4,
   "id": "3e1aa384",
   "metadata": {},
   "outputs": [],
   "source": [
    "def kappa(x):\n",
    "    # Input is 2D array of shape (number of points, Omega dimension)\n",
    "    if len(x.shape) == 1:\n",
    "        x = x.reshape(1, -1)\n",
    "    columns = []\n",
    "    for t in observations:\n",
    "        column = np.sin(2*np.pi*x*t).flatten()\n",
    "        columns.append(column)\n",
    "    result = np.transpose(np.array(columns), axes=(1,0)) # shape=(len(x), len(observations))\n",
    "    return result"
   ]
  },
  {
   "cell_type": "code",
   "execution_count": 5,
   "id": "6249cce0",
   "metadata": {},
   "outputs": [],
   "source": [
    "u_hat = Measure(support=true_sources, coefficients=true_weights)\n",
    "target = u_hat.duality_pairing(kappa)"
   ]
  },
  {
   "cell_type": "code",
   "execution_count": 6,
   "id": "13d5b0a2",
   "metadata": {},
   "outputs": [],
   "source": [
    "g = lambda u: alpha * np.linalg.norm(u, ord=1)\n",
    "f = lambda u: 0.5 * np.linalg.norm(u.duality_pairing(kappa) - target) ** 2"
   ]
  },
  {
   "cell_type": "code",
   "execution_count": 7,
   "id": "f382b482",
   "metadata": {},
   "outputs": [],
   "source": [
    "def grad_kappa(x):\n",
    "    # Input is 2D array of shape (number of points, Omega dimension)\n",
    "    if len(x.shape) == 1:\n",
    "        x = x.reshape(1, -1)\n",
    "    gradients = []\n",
    "    for t in observations:\n",
    "        factor = 2*np.pi*t\n",
    "        column = np.cos(2*np.pi*x*t) # (len(x), Omega.shape[0])\n",
    "        gradient = factor * column\n",
    "        gradients.append(gradient)\n",
    "    result = np.transpose(np.array(gradients), axes=(1,0,2)) # The Jacobian of kappa, shape=(len(x), len(observations), Omega.shape[0])\n",
    "    return result"
   ]
  },
  {
   "cell_type": "code",
   "execution_count": 8,
   "id": "2c93d0d2",
   "metadata": {},
   "outputs": [],
   "source": [
    "def hess_kappa(x):\n",
    "    # Input is 2D array of shape (number of points, Omega dimension)\n",
    "    if len(x.shape) == 1:\n",
    "        x = x.reshape(1, -1)\n",
    "    hessians = []\n",
    "    for t in observations:\n",
    "        factor = -4*np.pi**2*t**2\n",
    "        column = np.sin(2*np.pi*x*t).reshape(-1,1,1) # (len(x), Omega.shape[0], Omega.shape[0])\n",
    "        hessian = factor * column\n",
    "        hessians.append(hessian)\n",
    "    result = np.transpose(np.array(hessians), axes=(1,0,2,3)) # The derivative of the Jacobian of kappa, shape=(len(x), len(observations), Omega.shape[0], Omega.shape[0])\n",
    "    return result"
   ]
  },
  {
   "cell_type": "code",
   "execution_count": 9,
   "id": "bef8b921",
   "metadata": {},
   "outputs": [],
   "source": [
    "def p_raw(u):\n",
    "    Ku = u.duality_pairing(kappa)\n",
    "    inner = Ku-target\n",
    "    return lambda x: -kappa(x) @ inner\n",
    "\n",
    "p = lambda u: p_raw(u)"
   ]
  },
  {
   "cell_type": "code",
   "execution_count": 10,
   "id": "0eb6981d",
   "metadata": {},
   "outputs": [],
   "source": [
    "def grad_P_raw(u):\n",
    "    p_u = p_raw(u)\n",
    "    inner = target-u.duality_pairing(kappa)\n",
    "    return lambda x: np.sign(p_u(x)).reshape(-1,1)*np.tensordot(grad_kappa(x), inner, axes=([1,0]))\n",
    "\n",
    "grad_P = lambda u: grad_P_raw(u)"
   ]
  },
  {
   "cell_type": "code",
   "execution_count": 11,
   "id": "5dead660",
   "metadata": {},
   "outputs": [],
   "source": [
    "def hess_P_raw(u):\n",
    "    p_u = p_raw(u)\n",
    "    inner = target-u.duality_pairing(kappa)\n",
    "    return lambda x: np.sign(p_u(x)).reshape(-1,1,1)*np.tensordot(hess_kappa(x),inner,axes=([1,0]))\n",
    "\n",
    "hess_P = lambda u: hess_P_raw(u)"
   ]
  },
  {
   "cell_type": "code",
   "execution_count": 12,
   "id": "038e5a64",
   "metadata": {},
   "outputs": [],
   "source": [
    "def grad_j(positions, coefs):\n",
    "    K_matrix = kappa(positions)\n",
    "    grad_F = (K_matrix.T@coefs).flatten() - target\n",
    "    nabla_x = coefs.reshape(-1,1)*np.tensordot(grad_kappa(positions), grad_F, axes=([1,0]))\n",
    "    nabla_u = np.dot(K_matrix, grad_F) + alpha * np.sign(coefs)\n",
    "    return np.append(nabla_x.flatten(), nabla_u, axis=0).flatten()"
   ]
  },
  {
   "cell_type": "code",
   "execution_count": 13,
   "id": "31e81ccd",
   "metadata": {},
   "outputs": [],
   "source": [
    "def hess_j(positions, coefs):\n",
    "    kappa_values = kappa(positions)\n",
    "    grad_kappa_values = grad_kappa(positions)\n",
    "    hess_kappa_values = hess_kappa(positions)\n",
    "    matrix_dimension = len(positions)*Omega.shape[0] + len(coefs)\n",
    "    hesse_matrix = np.zeros((matrix_dimension, matrix_dimension))\n",
    "    step = Omega.shape[0]\n",
    "    coefs_delay = step*len(positions)\n",
    "    inner = (kappa_values.T@coefs).flatten() - target\n",
    "    for i in range(len(positions)):\n",
    "        # nabla_{x_i,x_j}\n",
    "        for j in range(len(positions)):\n",
    "            if j<i:\n",
    "                continue\n",
    "            block = coefs[i]*coefs[j]*np.matmul(grad_kappa_values[i].T, grad_kappa_values[j])\n",
    "            if i==j:\n",
    "                block += coefs[i]*np.tensordot(hess_kappa_values[i],inner,axes=([0,0]))\n",
    "            hesse_matrix[i*step:(i+1)*step, j*step:(j+1)*step] = block\n",
    "            hesse_matrix[j*step:(j+1)*step, i*step:(i+1)*step] = block.T\n",
    "        # nabla_{x_i,u_j}\n",
    "        for j in range(len(coefs)):\n",
    "            block = coefs[i]*np.matmul(grad_kappa_values[i].T, kappa_values[j])\n",
    "            if i == j:\n",
    "                block += np.matmul(grad_kappa_values[i].T, inner)\n",
    "            hesse_matrix[i*step:(i+1)*step, coefs_delay+j] = block\n",
    "            hesse_matrix[coefs_delay+j, i*step:(i+1)*step] = block.T\n",
    "    for i in range(len(coefs)):\n",
    "        # nabla_{u_i,u_j}\n",
    "        for j in range(len(coefs)):\n",
    "            if j<i:\n",
    "                continue\n",
    "            block = np.dot(kappa_values[i], kappa_values[j])\n",
    "            hesse_matrix[coefs_delay+i,coefs_delay+j] = block\n",
    "            hesse_matrix[coefs_delay+j,coefs_delay+i] = block\n",
    "    return hesse_matrix"
   ]
  },
  {
   "cell_type": "code",
   "execution_count": 14,
   "id": "748ec8c5",
   "metadata": {},
   "outputs": [
    {
     "data": {
      "text/plain": [
       "8.436705235037092"
      ]
     },
     "execution_count": 14,
     "metadata": {},
     "output_type": "execute_result"
    }
   ],
   "source": [
    "a = np.arange(Omega[0][0], Omega[0][1], 0.1).reshape(-1,1)\n",
    "vals = np.linalg.norm(kappa(a), axis=1)\n",
    "norm_kappa = max(vals)\n",
    "norm_kappa"
   ]
  },
  {
   "cell_type": "code",
   "execution_count": 15,
   "id": "248c79e8",
   "metadata": {},
   "outputs": [],
   "source": [
    "L = 1"
   ]
  },
  {
   "cell_type": "markdown",
   "id": "29e92b53",
   "metadata": {},
   "source": [
    "## Experiments"
   ]
  },
  {
   "cell_type": "code",
   "execution_count": 16,
   "id": "79526be3",
   "metadata": {},
   "outputs": [],
   "source": [
    "exp = NLGCGParameterFree(target=target, \n",
    "           kappa=kappa, \n",
    "           g=g, \n",
    "           f=f,\n",
    "           p=p,\n",
    "           grad_P=grad_P,\n",
    "           hess_P=hess_P,\n",
    "           norm_kappa=norm_kappa,\n",
    "           grad_j=grad_j,\n",
    "           hess_j=hess_j,\n",
    "           alpha=alpha,\n",
    "           Omega=Omega,\n",
    "           L=1,\n",
    "           global_search_resolution=1000\n",
    "           )"
   ]
  },
  {
   "cell_type": "code",
   "execution_count": 22,
   "id": "03e430cf",
   "metadata": {},
   "outputs": [
    {
     "name": "stderr",
     "output_type": "stream",
     "text": [
      "INFO:root:Radii: []\n",
      "DEBUG:root:SSN in 1 dimensions converged in 3 iterations to tolerance 1.000E-03\n",
      "INFO:root:1: choice: 0, lazy: True, support: 0, epsilon: 0.05, objective: 5.291E+01, dropped: False\n",
      "INFO:root:=====================================================\n",
      "INFO:root:Radii: [1]\n",
      "INFO:root:1, 1: lazy: N/A, support: 1, epsilon: 0.05, objective: 2.250E+01\n",
      "INFO:root:1, 2: lazy: N/A, support: 1, epsilon: 0.05, objective: 2.250E+01\n",
      "INFO:root:1, 3: lazy: N/A, support: 1, epsilon: 0.05, objective: 2.250E+01\n",
      "INFO:root:gap: 1.6494123025286848e-11, norm grad: 1.153599236779974e-11\n",
      "INFO:root:gap: 1.6494123025286848e-11, norm grad: 1.153599236779974e-11\n",
      "INFO:root:1, 4: lazy: True, support: 1, epsilon: 0.05, objective: 2.250E+01\n",
      "INFO:root:Inequality 6.7: False\n",
      "DEBUG:root:SSN in 3 dimensions converged in 3 iterations to tolerance 5.000E-04\n",
      "INFO:root:2: choice: 4, lazy: True, support: 2, epsilon: 0.05, objective: 1.699E+01, dropped: False\n",
      "INFO:root:=====================================================\n",
      "INFO:root:Radii: [1, 0.14027335201480598, 0.10849111296307654]\n",
      "INFO:root:2, 1: lazy: N/A, support: 2, epsilon: 0.050813238106539586, objective: 7.669E+00\n",
      "INFO:root:2, 2: lazy: N/A, support: 2, epsilon: 0.050813238106539586, objective: 7.667E+00\n",
      "INFO:root:2, 3: lazy: N/A, support: 2, epsilon: 0.050813238106539586, objective: 7.667E+00\n",
      "INFO:root:2, 4: lazy: N/A, support: 2, epsilon: 0.050813238106539586, objective: 7.667E+00\n",
      "INFO:root:gap: 1.2068352703345594e-12, norm grad: 1.3539162552355643e-13\n",
      "INFO:root:gap: 1.2068352703345594e-12, norm grad: 1.3539162552355643e-13\n",
      "INFO:root:2, 5: lazy: True, support: 2, epsilon: 0.050813238106539586, objective: 7.667E+00\n",
      "INFO:root:Inequality 6.7: False\n",
      "DEBUG:root:SSN in 3 dimensions converged in 3 iterations to tolerance 2.500E-04\n",
      "INFO:root:3: choice: 4, lazy: True, support: 3, epsilon: 0.05, objective: 7.348E+00, dropped: False\n",
      "INFO:root:=====================================================\n",
      "INFO:root:Radii: [1, 1, 1]\n",
      "INFO:root:3, 1: lazy: N/A, support: 3, epsilon: 0.05, objective: 2.198E-01\n",
      "INFO:root:3, 2: lazy: N/A, support: 3, epsilon: 0.05, objective: 2.198E-01\n",
      "INFO:root:3, 3: lazy: N/A, support: 3, epsilon: 0.05, objective: 2.198E-01\n",
      "INFO:root:gap: 3.104389797190206e-11, norm grad: 1.1408645709566902e-11\n",
      "INFO:root:3, 4: lazy: False, support: 3, epsilon: 1.3036486213074647e-13, objective: 2.198E-01\n"
     ]
    }
   ],
   "source": [
    "u, times, supports, inner_loop, lgcg_lazy, lgcg_total, objective_values, dropped_tot, epsilons = exp.nlgcg(tol=1e-12, max_radius=1)"
   ]
  },
  {
   "cell_type": "code",
   "execution_count": 23,
   "id": "26dc8db9",
   "metadata": {},
   "outputs": [
    {
     "data": {
      "text/plain": [
       "array([2.38418579e-07, 1.15282536e-02, 3.64291668e-02, 4.74889278e-02,\n",
       "       6.03549480e-02, 8.09674263e-02, 1.03477240e-01, 1.33018017e-01,\n",
       "       1.49209261e-01, 1.58890486e-01, 1.69454336e-01, 1.81401730e-01,\n",
       "       1.96549177e-01, 2.18019724e-01, 2.27967978e-01, 2.40325212e-01,\n",
       "       3.42612743e-01])"
      ]
     },
     "execution_count": 23,
     "metadata": {},
     "output_type": "execute_result"
    }
   ],
   "source": [
    "np.array(times)"
   ]
  },
  {
   "cell_type": "code",
   "execution_count": 18,
   "id": "73bc5cd5",
   "metadata": {},
   "outputs": [
    {
     "data": {
      "text/plain": [
       "0"
      ]
     },
     "execution_count": 18,
     "metadata": {},
     "output_type": "execute_result"
    }
   ],
   "source": [
    "dropped_tot"
   ]
  },
  {
   "cell_type": "code",
   "execution_count": 19,
   "id": "31d83514",
   "metadata": {},
   "outputs": [
    {
     "data": {
      "text/plain": [
       "array([-0.99832728,  0.69841291,  0.49833707])"
      ]
     },
     "execution_count": 19,
     "metadata": {},
     "output_type": "execute_result"
    }
   ],
   "source": [
    "u.coefficients"
   ]
  },
  {
   "cell_type": "code",
   "execution_count": 20,
   "id": "06a139c2",
   "metadata": {},
   "outputs": [
    {
     "data": {
      "text/plain": [
       "array([[ 3.12502173],\n",
       "       [ 6.9999926 ],\n",
       "       [13.37905649]])"
      ]
     },
     "execution_count": 20,
     "metadata": {},
     "output_type": "execute_result"
    }
   ],
   "source": [
    "u.support"
   ]
  },
  {
   "cell_type": "markdown",
   "id": "cb5c30c4",
   "metadata": {},
   "source": [
    "## Plots"
   ]
  },
  {
   "cell_type": "code",
   "execution_count": 19,
   "id": "6452dd85",
   "metadata": {},
   "outputs": [
    {
     "data": {
      "image/png": "[encoded data removed]",
      "text/plain": [
       "<Figure size 640x480 with 1 Axes>"
      ]
     },
     "metadata": {},
     "output_type": "display_data"
    }
   ],
   "source": [
    "u_tilde = u # Newton solution\n",
    "a = np.arange(Omega[0][0],Omega[0][1],0.005)\n",
    "p_u = p(u_tilde)\n",
    "vals = p_u(a)\n",
    "plt.plot(a,vals);\n",
    "for i, pos in enumerate(u_tilde.support):\n",
    "    if not i:\n",
    "        plt.axvline(x=pos, linestyle=\"--\", c=\"r\", label=\"Optimal and true support\");\n",
    "    else:\n",
    "        plt.axvline(x=pos, linestyle=\"--\", c=\"r\");\n",
    "plt.xlabel(\"Frequency\");\n",
    "plt.ylim(-0.11,0.11);\n",
    "plt.xlim(0, 20);\n",
    "plt.legend();"
   ]
  },
  {
   "cell_type": "code",
   "execution_count": null,
   "id": "4b17bb3c",
   "metadata": {},
   "outputs": [],
   "source": []
  }
 ],
 "metadata": {
  "kernelspec": {
   "display_name": "conda_env_lgcg",
   "language": "python",
   "name": "python3"
  },
  "language_info": {
   "codemirror_mode": {
    "name": "ipython",
    "version": 3
   },
   "file_extension": ".py",
   "mimetype": "text/x-python",
   "name": "python",
   "nbconvert_exporter": "python",
   "pygments_lexer": "ipython3",
   "version": "3.10.13"
  }
 },
 "nbformat": 4,
 "nbformat_minor": 5
}
