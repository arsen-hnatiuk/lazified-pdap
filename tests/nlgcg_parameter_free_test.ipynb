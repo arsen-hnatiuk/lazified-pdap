{
 "cells": [
  {
   "cell_type": "code",
   "execution_count": 1,
   "id": "4b17fb54",
   "metadata": {},
   "outputs": [],
   "source": [
    "import numpy as np\n",
    "import os\n",
    "import sys\n",
    "import matplotlib.pyplot as plt\n",
    "module_path = os.path.abspath(os.path.join('..'))\n",
    "if module_path not in sys.path:\n",
    "    sys.path.append(module_path)\n",
    "lgcg_path = os.path.abspath(os.path.join('../lazified_pdap'))\n",
    "if lgcg_path not in sys.path:\n",
    "    sys.path.append(lgcg_path)\n",
    "from lib.measure import Measure\n",
    "from nlgcg_parameter_free import NLGCGParameterFree"
   ]
  },
  {
   "cell_type": "markdown",
   "id": "42775360",
   "metadata": {},
   "source": [
    "# Heat Equation"
   ]
  },
  {
   "cell_type": "markdown",
   "id": "f17e312e",
   "metadata": {},
   "source": [
    "## Generate Data and Define Functions"
   ]
  },
  {
   "cell_type": "code",
   "execution_count": 17,
   "id": "3d3ce033",
   "metadata": {},
   "outputs": [],
   "source": [
    "Omega = np.array([[0,1], [0,1]])\n",
    "alpha = 1e-1\n",
    "observation_resolution = 4\n",
    "std_factor = 0.1\n",
    "true_sources = np.array([[0.28, 0.71], [0.51,0.27], [0.71,0.53]])\n",
    "true_weights = np.array([1,-0.7, 0.8])"
   ]
  },
  {
   "cell_type": "code",
   "execution_count": 18,
   "id": "0c7b0495",
   "metadata": {},
   "outputs": [],
   "source": [
    "observations = (np.array(np.meshgrid(\n",
    "                    *(\n",
    "                        np.linspace(bound[0], bound[1], observation_resolution+2)\n",
    "                        for bound in Omega\n",
    "                    ))\n",
    "            ).reshape(len(Omega), -1).T)\n",
    "observations = np.array([obs for obs in observations if all(obs!=0) and all(obs!=1)])"
   ]
  },
  {
   "cell_type": "code",
   "execution_count": 19,
   "id": "b5a585ae",
   "metadata": {},
   "outputs": [],
   "source": [
    "def kappa(x):\n",
    "    # Input is 2D array of shape (number of points, Omega dimension)\n",
    "    if len(x.shape) == 1:\n",
    "        x = x.reshape(1, -1)\n",
    "    columns = []\n",
    "    outer_factor = np.sqrt(std_factor*np.pi)**Omega.shape[0]\n",
    "    for point in observations:\n",
    "        diff = point-x # (len(x), Omega.shape[0])\n",
    "        norms = -np.square(np.linalg.norm(diff, axis=1))/std_factor # (len(x),)\n",
    "        exponentiated = np.exp(norms) # (len(x),)\n",
    "        columns.append(exponentiated)\n",
    "    result = np.transpose(np.array(columns), axes=(1,0))/outer_factor # shape=(len(x), len(observations))\n",
    "    return result"
   ]
  },
  {
   "cell_type": "code",
   "execution_count": 20,
   "id": "0fb8c596",
   "metadata": {},
   "outputs": [],
   "source": [
    "u_hat = Measure(support=true_sources, coefficients=true_weights)\n",
    "target = u_hat.duality_pairing(kappa)"
   ]
  },
  {
   "cell_type": "code",
   "execution_count": 21,
   "id": "806d4339",
   "metadata": {},
   "outputs": [],
   "source": [
    "g = lambda u: alpha * np.linalg.norm(u, ord=1)\n",
    "f = lambda u: 0.5 * np.linalg.norm(u.duality_pairing(kappa) - target) ** 2"
   ]
  },
  {
   "cell_type": "code",
   "execution_count": 22,
   "id": "8c40b3b9",
   "metadata": {},
   "outputs": [],
   "source": [
    "def grad_kappa(x):\n",
    "    # Input is 2D array of shape (number of points, Omega dimension)\n",
    "    if len(x.shape) == 1:\n",
    "        x = x.reshape(1, -1)\n",
    "    gradients = []\n",
    "    outer_factor = std_factor*np.sqrt(std_factor*np.pi)**Omega.shape[0]/2\n",
    "    for point in observations:\n",
    "        diff = point-x # (len(x), Omega.shape[0])\n",
    "        norms = -np.square(np.linalg.norm(diff, axis=1))/std_factor # (len(x),)\n",
    "        exponentiated = np.exp(norms) # (len(x),)\n",
    "        gradient = diff * exponentiated.reshape(-1,1) # shape=(len(x),Omega.shape[0])\n",
    "        gradients.append(gradient)\n",
    "    result = np.transpose(np.array(gradients), axes=(1,0,2))/outer_factor # The Jacobian of kappa, shape=(len(x), len(observations), Omega.shape[0])\n",
    "    return result"
   ]
  },
  {
   "cell_type": "code",
   "execution_count": 23,
   "id": "1d07d303",
   "metadata": {},
   "outputs": [],
   "source": [
    "def hess_kappa(x):\n",
    "    # Input is 2D array of shape (number of points, Omega dimension)\n",
    "    if len(x.shape) == 1:\n",
    "        x = x.reshape(1, -1)\n",
    "    hessians = []\n",
    "    outer_factors = [-std_factor*np.sqrt(std_factor*np.pi)**Omega.shape[0]/2,std_factor**2*np.sqrt(std_factor*np.pi)**Omega.shape[0]/4]\n",
    "    for point in observations:\n",
    "        diff = point-x # (len(x), Omega.shape[0])\n",
    "        norms = -np.square(np.linalg.norm(diff, axis=1))/std_factor # (len(x),)\n",
    "        exponentiated_normed_1 = np.exp(norms)/outer_factors[0] # (len(x),)\n",
    "        exponentiated_normed_2 = np.exp(norms)/outer_factors[1] # (len(x),)\n",
    "        first_part = np.repeat(np.eye(Omega.shape[0])[np.newaxis,:],len(x),axis=0)*exponentiated_normed_1.reshape(-1,1,1) # shape=(len(x),Omega.shape[0],Omega.shape[0])\n",
    "        second_part = np.einsum('ij,ik->ijk', diff, diff)*exponentiated_normed_2.reshape(-1,1,1) # shape=(len(x),Omega.shape[0],Omega.shape[0])\n",
    "        hessians.append(first_part+second_part)\n",
    "    result = np.transpose(np.array(hessians), axes=(1,0,2,3)) # The derivative of the Jacobian of kappa, shape=(len(x), len(observations), Omega.shape[0], Omega.shape[0])\n",
    "    return result"
   ]
  },
  {
   "cell_type": "code",
   "execution_count": 24,
   "id": "8dcef6ba",
   "metadata": {},
   "outputs": [],
   "source": [
    "def p_raw(u):\n",
    "    Ku = u.duality_pairing(kappa)\n",
    "    inner = Ku-target\n",
    "    return lambda x: -kappa(x) @ inner\n",
    "\n",
    "p = lambda u: p_raw(u)"
   ]
  },
  {
   "cell_type": "code",
   "execution_count": 25,
   "id": "fb148005",
   "metadata": {},
   "outputs": [],
   "source": [
    "def grad_P_raw(u):\n",
    "    p_u = p_raw(u)\n",
    "    inner = target-u.duality_pairing(kappa)\n",
    "    return lambda x: np.sign(p_u(x)).reshape(-1,1)*np.tensordot(grad_kappa(x), inner, axes=([1,0]))\n",
    "\n",
    "grad_P = lambda u: grad_P_raw(u)"
   ]
  },
  {
   "cell_type": "code",
   "execution_count": 26,
   "id": "3e058af5",
   "metadata": {},
   "outputs": [],
   "source": [
    "def hess_P_raw(u):\n",
    "    p_u = p_raw(u)\n",
    "    inner = target-u.duality_pairing(kappa)\n",
    "    return lambda x: np.sign(p_u(x)).reshape(-1,1,1)*np.tensordot(hess_kappa(x),inner,axes=([1,0]))\n",
    "\n",
    "hess_P = lambda u: hess_P_raw(u)"
   ]
  },
  {
   "cell_type": "code",
   "execution_count": 27,
   "id": "45fd9314",
   "metadata": {},
   "outputs": [],
   "source": [
    "def grad_j(positions, coefs):\n",
    "    K_matrix = kappa(positions)\n",
    "    grad_F = (K_matrix.T@coefs).flatten() - target\n",
    "    nabla_x = coefs.reshape(-1,1)*np.tensordot(grad_kappa(positions), grad_F, axes=([1,0]))\n",
    "    nabla_u = np.dot(K_matrix, grad_F) + alpha * np.sign(coefs)\n",
    "    return np.append(nabla_x.flatten(), nabla_u, axis=0).flatten()"
   ]
  },
  {
   "cell_type": "code",
   "execution_count": 28,
   "id": "aea40f89",
   "metadata": {},
   "outputs": [],
   "source": [
    "def hess_j(positions, coefs):\n",
    "    kappa_values = kappa(positions)\n",
    "    grad_kappa_values = grad_kappa(positions)\n",
    "    hess_kappa_values = hess_kappa(positions)\n",
    "    matrix_dimension = len(positions)*Omega.shape[0] + len(coefs)\n",
    "    hesse_matrix = np.zeros((matrix_dimension, matrix_dimension))\n",
    "    step = Omega.shape[0]\n",
    "    coefs_delay = step*len(positions)\n",
    "    inner = (kappa_values.T@coefs).flatten() - target\n",
    "    for i in range(len(positions)):\n",
    "        # nabla_{x_i,x_j}\n",
    "        for j in range(len(positions)):\n",
    "            if j<i:\n",
    "                continue\n",
    "            block = coefs[i]*coefs[j]*np.matmul(grad_kappa_values[i].T, grad_kappa_values[j])\n",
    "            if i==j:\n",
    "                block += coefs[i]*np.tensordot(hess_kappa_values[i],inner,axes=([0,0]))\n",
    "            hesse_matrix[i*step:(i+1)*step, j*step:(j+1)*step] = block\n",
    "            hesse_matrix[j*step:(j+1)*step, i*step:(i+1)*step] = block.T\n",
    "        # nabla_{x_i,u_j}\n",
    "        for j in range(len(coefs)):\n",
    "            block = coefs[i]*np.matmul(grad_kappa_values[i].T, kappa_values[j])\n",
    "            if i == j:\n",
    "                block += np.matmul(grad_kappa_values[i].T, inner)\n",
    "            hesse_matrix[i*step:(i+1)*step, coefs_delay+j] = block\n",
    "            hesse_matrix[coefs_delay+j, i*step:(i+1)*step] = block.T\n",
    "    for i in range(len(coefs)):\n",
    "        # nabla_{u_i,u_j}\n",
    "        for j in range(len(coefs)):\n",
    "            if j<i:\n",
    "                continue\n",
    "            block = np.dot(kappa_values[i], kappa_values[j])\n",
    "            hesse_matrix[coefs_delay+i,coefs_delay+j] = block\n",
    "            hesse_matrix[coefs_delay+j,coefs_delay+i] = block\n",
    "    return hesse_matrix"
   ]
  },
  {
   "cell_type": "markdown",
   "id": "5771fd7f",
   "metadata": {},
   "source": [
    "## Experiments"
   ]
  },
  {
   "cell_type": "code",
   "execution_count": 29,
   "id": "509f2c25",
   "metadata": {},
   "outputs": [],
   "source": [
    "exp = NLGCGParameterFree(target=target, \n",
    "           kappa=kappa, \n",
    "           g=g, \n",
    "           f=f,\n",
    "           p=p,\n",
    "           grad_P=grad_P,\n",
    "           hess_P=hess_P,\n",
    "           grad_j=grad_j,\n",
    "           hess_j=hess_j,\n",
    "           alpha=alpha,\n",
    "           Omega=Omega,\n",
    "           global_search_resolution=100\n",
    "           )"
   ]
  },
  {
   "cell_type": "code",
   "execution_count": 30,
   "id": "41e41cca",
   "metadata": {},
   "outputs": [
    {
     "name": "stderr",
     "output_type": "stream",
     "text": [
      "INFO:root:Radii: []\n",
      "DEBUG:root:SSN in 1 dimensions converged in 3 iterations to tolerance 1.000E-03\n",
      "INFO:root:1: choice: 0, lazy: True, support: 0, epsilon: 0.05000000000000001, objective: 2.590E+01, dropped: False\n",
      "INFO:root:=====================================================\n",
      "INFO:root:Radii: [0.1]\n",
      "INFO:root:1, 1: lazy: N/A, support: 1, epsilon: 0.05000000000000001, objective: 5.136E+00\n",
      "INFO:root:1, 2: lazy: N/A, support: 1, epsilon: 0.05000000000000001, objective: 5.129E+00\n",
      "INFO:root:1, 3: lazy: N/A, support: 1, epsilon: 0.05000000000000001, objective: 5.129E+00\n",
      "INFO:root:norm_grad: 1.2896713015087883e-05, constant: 0.0007004139746575969, diff: -2.859934511434403e-13\n",
      "INFO:root:1, 4: lazy: N/A, support: 1, epsilon: 0.05000000000000001, objective: 5.129E+00\n",
      "INFO:root:Inequalities 6.6: [True, True, False]\n",
      "DEBUG:root:SSN in 2 dimensions converged in 2 iterations to tolerance 5.000E-04\n",
      "INFO:root:2: choice: 3, lazy: True, support: 1, epsilon: 0.05000000000000001, objective: 5.129E+00, dropped: False\n",
      "INFO:root:=====================================================\n",
      "INFO:root:Radii: [0.1, 0.1]\n",
      "INFO:root:2, 1: lazy: N/A, support: 2, epsilon: 0.05000000000000001, objective: 2.794E+00\n",
      "INFO:root:2, 2: lazy: N/A, support: 2, epsilon: 0.05000000000000001, objective: 2.690E+00\n",
      "INFO:root:2, 3: lazy: N/A, support: 2, epsilon: 0.05000000000000001, objective: 2.689E+00\n",
      "INFO:root:2, 4: lazy: N/A, support: 2, epsilon: 0.05000000000000001, objective: 2.689E+00\n",
      "INFO:root:2, 5: lazy: N/A, support: 2, epsilon: 0.05000000000000001, objective: 2.689E+00\n",
      "INFO:root:gap: 1.494325978579865e-08, norm grad: 5.337133700690814e-10\n",
      "INFO:root:gap: 1.494325978579865e-08, norm grad: 5.337133700690814e-10\n",
      "INFO:root:2, 6: lazy: True, support: 2, epsilon: 0.05000000000000001, objective: 2.689E+00\n",
      "INFO:root:Inequality 6.7: False\n",
      "DEBUG:root:SSN in 4 dimensions converged in 5 iterations to tolerance 2.500E-04\n",
      "INFO:root:3: choice: 4, lazy: True, support: 3, epsilon: 0.05000000000000001, objective: 2.150E+00, dropped: False\n",
      "INFO:root:=====================================================\n",
      "INFO:root:Radii: [0.1, 0.1, 0.1]\n",
      "INFO:root:norm_grad: 21.622729581452212, constant: 0.0005770736528092829, diff: 814.6337843009453\n",
      "INFO:root:3, 1: lazy: N/A, support: 3, epsilon: 0.05000000000000001, objective: 2.988E+01\n",
      "INFO:root:Inequalities 6.6: [True, False, False]\n",
      "DEBUG:root:SSN in 4 dimensions converged in 5 iterations to tolerance 1.250E-04\n",
      "INFO:root:4: choice: 0, lazy: True, support: 3, epsilon: 0.05000000000000001, objective: 1.522E+00, dropped: False\n",
      "INFO:root:=====================================================\n",
      "INFO:root:Radii: [0.1, 0.1, 0.1, 0.1]\n",
      "INFO:root:norm_grad: 4.785646269495501, constant: 0.0008439871659889829, diff: 76.72054025705182\n",
      "INFO:root:4, 1: lazy: N/A, support: 4, epsilon: 0.05000000000000001, objective: 3.323E+01\n",
      "INFO:root:Inequalities 6.6: [True, True, False]\n",
      "DEBUG:root:SSN in 5 dimensions converged in 2 iterations to tolerance 6.250E-05\n",
      "INFO:root:5: choice: 0, lazy: True, support: 4, epsilon: 0.05000000000000001, objective: 4.390E-01, dropped: False\n",
      "INFO:root:=====================================================\n",
      "INFO:root:Radii: [0.1, 0.1, 0.1, 0.1, 0.1]\n",
      "INFO:root:norm_grad: 2.9512448214424456, constant: 0.0008385261197225313, diff: 0.596272357438503\n",
      "INFO:root:5, 1: lazy: N/A, support: 5, epsilon: 0.05000000000000001, objective: 9.470E-01\n",
      "INFO:root:Inequalities 6.6: [True, True, False]\n",
      "DEBUG:root:SSN in 6 dimensions converged in 2 iterations to tolerance 3.125E-05\n",
      "INFO:root:6: choice: 0, lazy: True, support: 5, epsilon: 0.05000000000000001, objective: 3.508E-01, dropped: False\n",
      "INFO:root:=====================================================\n",
      "INFO:root:Radii: [0.1, 0.1, 0.1, 0.1, 0.1, 0.1]\n",
      "INFO:root:norm_grad: 1.0969109561753803, constant: 0.0009115951167270487, diff: 0.011482945025066749\n",
      "INFO:root:6, 1: lazy: N/A, support: 6, epsilon: 0.05000000000000001, objective: 3.300E-01\n",
      "INFO:root:Inequalities 6.6: [True, True, False]\n",
      "DEBUG:root:SSN in 7 dimensions converged in 2 iterations to tolerance 1.563E-05\n",
      "INFO:root:7: choice: 0, lazy: True, support: 6, epsilon: 0.05000000000000001, objective: 3.185E-01, dropped: False\n",
      "INFO:root:=====================================================\n",
      "INFO:root:Radii: [0.1, 0.1, 0.1, 0.1, 0.1, 0.1, 0.1]\n",
      "INFO:root:norm_grad: 0.7754771702569813, constant: 0.0008715899135792576, diff: 0.12965271986963695\n",
      "INFO:root:7, 1: lazy: N/A, support: 7, epsilon: 0.05000000000000001, objective: 4.355E-01\n",
      "INFO:root:Inequalities 6.6: [True, True, False]\n",
      "DEBUG:root:SSN in 8 dimensions converged in 2 iterations to tolerance 7.813E-06\n",
      "INFO:root:8: choice: 0, lazy: True, support: 7, epsilon: 0.05000000000000001, objective: 3.058E-01, dropped: False\n",
      "INFO:root:=====================================================\n",
      "INFO:root:Radii: [0.1, 0.1, 0.1, 0.1, 0.1, 0.1, 0.1, 0.1]\n",
      "INFO:root:norm_grad: 0.6170798282151171, constant: 0.0008773094710206797, diff: 0.6907226027312688\n",
      "INFO:root:8, 1: lazy: N/A, support: 8, epsilon: 0.05000000000000001, objective: 9.866E-01\n",
      "INFO:root:Inequalities 6.6: [True, True, False]\n",
      "DEBUG:root:SSN in 9 dimensions converged in 5 iterations to tolerance 3.906E-06\n",
      "INFO:root:9: choice: 0, lazy: True, support: 8, epsilon: 0.05000000000000001, objective: 2.958E-01, dropped: False\n",
      "INFO:root:=====================================================\n",
      "INFO:root:Radii: [0.1, 0.1, 0.1, 0.1, 0.1, 0.1, 0.1, 0.1]\n",
      "INFO:root:norm_grad: 10.282245227394869, constant: 0.0009410127748860016, diff: 13.098408468327106\n",
      "INFO:root:9, 1: lazy: N/A, support: 7, epsilon: 0.10482279173807205, objective: 1.321E+01\n",
      "INFO:root:Inequalities 6.6: [True, False, False]\n",
      "DEBUG:root:SSN in 9 dimensions converged in 2 iterations to tolerance 1.953E-06\n",
      "INFO:root:10: choice: 0, lazy: False, support: 8, epsilon: 0.02193993841205373, objective: 2.808E-01, dropped: False\n",
      "INFO:root:=====================================================\n",
      "INFO:root:Radii: [0.1, 0.1, 0.1, 0.1, 0.1, 0.1, 0.1, 0.1, 0.1]\n",
      "INFO:root:norm_grad: 18.394708825463876, constant: 0.0008950954458334057, diff: 0.07736601991543735\n",
      "INFO:root:10, 1: lazy: N/A, support: 7, epsilon: 0.15884224563391874, objective: 1.185E+00\n",
      "INFO:root:Inequalities 6.6: [True, False, False]\n",
      "DEBUG:root:SSN in 10 dimensions converged in 2 iterations to tolerance 9.766E-07\n",
      "INFO:root:11: choice: 0, lazy: True, support: 9, epsilon: 0.02193993841205373, objective: 2.784E-01, dropped: False\n",
      "INFO:root:=====================================================\n",
      "INFO:root:Radii: [0.1, 0.1, 0.1, 0.1, 0.1, 0.1, 0.1, 0.1, 0.1, 0.1]\n",
      "INFO:root:norm_grad: 18.290500347438616, constant: 0.0008656284804703574, diff: 0.1561695069027349\n",
      "INFO:root:11, 1: lazy: N/A, support: 8, epsilon: 0.15873038955411162, objective: 1.293E+00\n",
      "INFO:root:Inequalities 6.6: [True, False, False]\n",
      "DEBUG:root:SSN in 11 dimensions converged in 6 iterations to tolerance 4.883E-07\n",
      "INFO:root:12: choice: 0, lazy: True, support: 10, epsilon: 0.02193993841205373, objective: 2.776E-01, dropped: False\n",
      "INFO:root:=====================================================\n",
      "INFO:root:Radii: [0.1, 0.1, 0.1, 0.1, 0.1, 0.1, 0.1, 0.1, 0.1]\n",
      "INFO:root:12, 1: lazy: N/A, support: 5, epsilon: 0.2038492883637903, objective: 6.412E-01\n",
      "INFO:root:norm_grad: 5.500811195672304, constant: 0.0006910154357161578, diff: 0.15222143626867735\n",
      "INFO:root:12, 2: lazy: N/A, support: 5, epsilon: 0.2038492883637903, objective: 1.006E+00\n",
      "INFO:root:Inequalities 6.6: [True, True, False]\n",
      "DEBUG:root:SSN in 10 dimensions converged in 4 iterations to tolerance 2.441E-07\n",
      "INFO:root:13: choice: 0, lazy: False, support: 9, epsilon: 0.00967715916995764, objective: 2.674E-01, dropped: False\n",
      "INFO:root:=====================================================\n",
      "INFO:root:Radii: [0.1, 0.1, 0.1, 0.1, 0.1, 0.1, 0.1, 0.1, 0.1]\n",
      "INFO:root:13, 1: lazy: N/A, support: 4, epsilon: 0.35052952834549034, objective: 1.354E+00\n",
      "INFO:root:13, 2: lazy: N/A, support: 4, epsilon: 0.35052952834549034, objective: 8.022E-01\n",
      "INFO:root:13, 3: lazy: N/A, support: 4, epsilon: 0.35052952834549034, objective: 3.993E-01\n",
      "INFO:root:13, 4: lazy: N/A, support: 4, epsilon: 0.35052952834549034, objective: 2.825E-01\n",
      "INFO:root:13, 5: lazy: N/A, support: 3, epsilon: 0.37808177499015716, objective: 3.934E-01\n",
      "INFO:root:norm_grad: 8.682833820463134, constant: 0.0006612191493037935, diff: -0.04631574216061074\n",
      "INFO:root:13, 6: lazy: N/A, support: 3, epsilon: 0.37808177499015716, objective: 3.471E-01\n",
      "INFO:root:Inequalities 6.6: [True, True, False]\n",
      "DEBUG:root:SSN in 10 dimensions converged in 5 iterations to tolerance 1.221E-07\n",
      "INFO:root:14: choice: 0, lazy: True, support: 9, epsilon: 0.00967715916995764, objective: 2.620E-01, dropped: False\n",
      "INFO:root:=====================================================\n",
      "INFO:root:Radii: [0.1, 0.1, 0.1, 0.1, 0.1, 0.1, 0.1, 0.1, 0.1]\n",
      "INFO:root:14, 1: lazy: N/A, support: 3, epsilon: 0.37532424794676633, objective: 8.409E-01\n",
      "INFO:root:14, 2: lazy: N/A, support: 3, epsilon: 0.37532424794676633, objective: 5.779E-01\n",
      "INFO:root:14, 3: lazy: N/A, support: 3, epsilon: 0.37532424794676633, objective: 3.623E-01\n",
      "INFO:root:14, 4: lazy: N/A, support: 3, epsilon: 0.37532424794676633, objective: 2.643E-01\n",
      "INFO:root:14, 5: lazy: N/A, support: 3, epsilon: 0.37532424794676633, objective: 2.450E-01\n",
      "INFO:root:14, 6: lazy: N/A, support: 3, epsilon: 0.37532424794676633, objective: 2.393E-01\n",
      "INFO:root:14, 7: lazy: N/A, support: 3, epsilon: 0.37532424794676633, objective: 2.391E-01\n",
      "INFO:root:14, 8: lazy: N/A, support: 3, epsilon: 0.37532424794676633, objective: 2.391E-01\n",
      "INFO:root:gap: 1.890494939055995e-05, norm grad: 2.6600065499593924e-05\n",
      "INFO:root:14, 9: lazy: False, support: 3, epsilon: 2.6288110951578012e-06, objective: 2.391E-01\n",
      "INFO:root:norm_grad: 6.132156691237106e-09, constant: 0.0006212866068286899, diff: -8.326672684688674e-17\n",
      "INFO:root:14, 10: lazy: N/A, support: 3, epsilon: 2.6288110951578012e-06, objective: 2.391E-01\n",
      "INFO:root:Inequalities 6.6: [True, True, False]\n",
      "DEBUG:root:SSN in 4 dimensions converged in 15 iterations to tolerance 6.104E-08\n",
      "INFO:root:15: choice: 3, lazy: False, support: 3, epsilon: 2.233533988948555e-15, objective: 2.391E-01, dropped: False\n",
      "INFO:root:=====================================================\n"
     ]
    }
   ],
   "source": [
    "u, times, supports, inner_loop, lgcg_lazy, lgcg_total, objective_values, dropped_tot, epsilons = exp.nlgcg(tol=1e-12, max_radius=0.1)"
   ]
  },
  {
   "cell_type": "code",
   "execution_count": 31,
   "id": "8d20caf3",
   "metadata": {},
   "outputs": [
    {
     "data": {
      "text/plain": [
       "array([0.        , 0.01204395, 0.02545643, 0.03215003, 0.03875518,\n",
       "       0.04372096, 0.05446172, 0.06473422, 0.07105565, 0.07602715,\n",
       "       0.08226085, 0.08867455, 0.10237122, 0.11852384, 0.13324094,\n",
       "       0.14919877, 0.16492486, 0.18044114, 0.19771075, 0.21371675,\n",
       "       0.23277092, 0.24938536, 0.27006674, 0.28679919, 0.30874515,\n",
       "       0.3274641 , 0.34912372, 0.81385946, 0.83357477, 0.84907317,\n",
       "       0.87346268, 0.89088488, 0.91259503, 0.92007852, 1.40022182,\n",
       "       1.41772151, 1.42512131, 1.4322865 , 1.43973422, 1.44962716,\n",
       "       1.45643258, 1.47325921, 1.49498153, 1.50166321, 1.50671816,\n",
       "       1.51191592, 1.52055335, 1.5255754 , 1.53210545, 1.53739405,\n",
       "       2.00195527, 2.0071106 , 2.44165015])"
      ]
     },
     "execution_count": 31,
     "metadata": {},
     "output_type": "execute_result"
    }
   ],
   "source": [
    "np.array(times)"
   ]
  },
  {
   "cell_type": "code",
   "execution_count": 19,
   "id": "c1662c30",
   "metadata": {},
   "outputs": [
    {
     "data": {
      "text/plain": [
       "array([ 0.99569143, -0.6175807 ,  0.71213226])"
      ]
     },
     "execution_count": 19,
     "metadata": {},
     "output_type": "execute_result"
    }
   ],
   "source": [
    "u.coefficients"
   ]
  },
  {
   "cell_type": "code",
   "execution_count": 20,
   "id": "2d95ed03",
   "metadata": {},
   "outputs": [
    {
     "data": {
      "text/plain": [
       "array([[0.28322727, 0.71433132],\n",
       "       [0.49565837, 0.23548621],\n",
       "       [0.73058833, 0.54790134]])"
      ]
     },
     "execution_count": 20,
     "metadata": {},
     "output_type": "execute_result"
    }
   ],
   "source": [
    "u.support"
   ]
  },
  {
   "cell_type": "code",
   "execution_count": 31,
   "id": "d5c8ef6f",
   "metadata": {},
   "outputs": [
    {
     "data": {
      "text/plain": [
       "0"
      ]
     },
     "execution_count": 31,
     "metadata": {},
     "output_type": "execute_result"
    }
   ],
   "source": [
    "dropped_tot"
   ]
  },
  {
   "cell_type": "markdown",
   "id": "6ad878dc",
   "metadata": {},
   "source": [
    "## Plots"
   ]
  },
  {
   "cell_type": "code",
   "execution_count": 18,
   "id": "9ad8a8eb",
   "metadata": {},
   "outputs": [
    {
     "name": "stderr",
     "output_type": "stream",
     "text": [
      "DEBUG:matplotlib.colorbar:locator: <matplotlib.ticker.FixedLocator object at 0x7fda88a58760>\n"
     ]
    },
    {
     "data": {
      "image/png": "[encoded data removed]",
      "text/plain": [
       "<Figure size 640x480 with 2 Axes>"
      ]
     },
     "metadata": {},
     "output_type": "display_data"
    }
   ],
   "source": [
    "u_tilde = u #Measure(support=[[0.16189578,0.67106819],[0.22222222,0.77777778],[0.33333333,0.66666667],[0.33333333,0.77777778],[0.44444444,0.22222222],[0.44444444,0.33333333],[0.5129322,0.21945235],[0.66666667,0.55555556],[0.77777778,0.44444444],[0.77777778,0.55555556],[0.88888889,0.88888889]], coefficients=[0.12089905,0.30391103,0.5035049,0.13645795,-0.11020099,-0.09355168,-0.43700644,0.23772164,0.05493194,0.41683878,-0.00129572])\n",
    "p_u = p(u_tilde)\n",
    "fct = lambda x: np.linalg.norm(kappa(x), axis=1)\n",
    "a = np.arange(0,1,0.01)\n",
    "x, y = np.meshgrid(a,a)\n",
    "points = np.array(list(zip(x.flatten(), y.flatten())))\n",
    "vals = fct(points).reshape((100,100))\n",
    "\n",
    "plt.contourf(x, y, vals, levels=100);\n",
    "plt.colorbar();"
   ]
  },
  {
   "cell_type": "markdown",
   "id": "3bd828b6",
   "metadata": {},
   "source": [
    "# Signal Processing"
   ]
  },
  {
   "cell_type": "markdown",
   "id": "cef2188a",
   "metadata": {},
   "source": [
    "## Generate Data and Define Functions"
   ]
  },
  {
   "cell_type": "code",
   "execution_count": 2,
   "id": "dc9492fd",
   "metadata": {},
   "outputs": [],
   "source": [
    "observation_resolution = 120\n",
    "Omega = np.array([[0,observation_resolution//2]])\n",
    "alpha = 1e-1\n",
    "true_sources = np.array([[3.125], [7], [np.sqrt(179)]])\n",
    "true_weights = np.array([-1, 0.7, 0.5])"
   ]
  },
  {
   "cell_type": "code",
   "execution_count": 3,
   "id": "182298de",
   "metadata": {},
   "outputs": [],
   "source": [
    "observations = np.arange(0,1,1/observation_resolution)"
   ]
  },
  {
   "cell_type": "code",
   "execution_count": 4,
   "id": "3e1aa384",
   "metadata": {},
   "outputs": [],
   "source": [
    "def kappa(x):\n",
    "    # Input is 2D array of shape (number of points, Omega dimension)\n",
    "    if len(x.shape) == 1:\n",
    "        x = x.reshape(1, -1)\n",
    "    columns = []\n",
    "    for t in observations:\n",
    "        column = np.sin(2*np.pi*x*t).flatten()\n",
    "        columns.append(column)\n",
    "    result = np.transpose(np.array(columns), axes=(1,0)) # shape=(len(x), len(observations))\n",
    "    return result"
   ]
  },
  {
   "cell_type": "code",
   "execution_count": 5,
   "id": "6249cce0",
   "metadata": {},
   "outputs": [],
   "source": [
    "u_hat = Measure(support=true_sources, coefficients=true_weights)\n",
    "target = u_hat.duality_pairing(kappa)"
   ]
  },
  {
   "cell_type": "code",
   "execution_count": 6,
   "id": "13d5b0a2",
   "metadata": {},
   "outputs": [],
   "source": [
    "g = lambda u: alpha * np.linalg.norm(u, ord=1)\n",
    "f = lambda u: 0.5 * np.linalg.norm(u.duality_pairing(kappa) - target) ** 2"
   ]
  },
  {
   "cell_type": "code",
   "execution_count": 7,
   "id": "f382b482",
   "metadata": {},
   "outputs": [],
   "source": [
    "def grad_kappa(x):\n",
    "    # Input is 2D array of shape (number of points, Omega dimension)\n",
    "    if len(x.shape) == 1:\n",
    "        x = x.reshape(1, -1)\n",
    "    gradients = []\n",
    "    for t in observations:\n",
    "        factor = 2*np.pi*t\n",
    "        column = np.cos(2*np.pi*x*t) # (len(x), Omega.shape[0])\n",
    "        gradient = factor * column\n",
    "        gradients.append(gradient)\n",
    "    result = np.transpose(np.array(gradients), axes=(1,0,2)) # The Jacobian of kappa, shape=(len(x), len(observations), Omega.shape[0])\n",
    "    return result"
   ]
  },
  {
   "cell_type": "code",
   "execution_count": 8,
   "id": "2c93d0d2",
   "metadata": {},
   "outputs": [],
   "source": [
    "def hess_kappa(x):\n",
    "    # Input is 2D array of shape (number of points, Omega dimension)\n",
    "    if len(x.shape) == 1:\n",
    "        x = x.reshape(1, -1)\n",
    "    hessians = []\n",
    "    for t in observations:\n",
    "        factor = -4*np.pi**2*t**2\n",
    "        column = np.sin(2*np.pi*x*t).reshape(-1,1,1) # (len(x), Omega.shape[0], Omega.shape[0])\n",
    "        hessian = factor * column\n",
    "        hessians.append(hessian)\n",
    "    result = np.transpose(np.array(hessians), axes=(1,0,2,3)) # The derivative of the Jacobian of kappa, shape=(len(x), len(observations), Omega.shape[0], Omega.shape[0])\n",
    "    return result"
   ]
  },
  {
   "cell_type": "code",
   "execution_count": 9,
   "id": "bef8b921",
   "metadata": {},
   "outputs": [],
   "source": [
    "def p_raw(u):\n",
    "    Ku = u.duality_pairing(kappa)\n",
    "    inner = Ku-target\n",
    "    return lambda x: -kappa(x) @ inner\n",
    "\n",
    "p = lambda u: p_raw(u)"
   ]
  },
  {
   "cell_type": "code",
   "execution_count": 10,
   "id": "0eb6981d",
   "metadata": {},
   "outputs": [],
   "source": [
    "def grad_P_raw(u):\n",
    "    p_u = p_raw(u)\n",
    "    inner = target-u.duality_pairing(kappa)\n",
    "    return lambda x: np.sign(p_u(x)).reshape(-1,1)*np.tensordot(grad_kappa(x), inner, axes=([1,0]))\n",
    "\n",
    "grad_P = lambda u: grad_P_raw(u)"
   ]
  },
  {
   "cell_type": "code",
   "execution_count": 11,
   "id": "5dead660",
   "metadata": {},
   "outputs": [],
   "source": [
    "def hess_P_raw(u):\n",
    "    p_u = p_raw(u)\n",
    "    inner = target-u.duality_pairing(kappa)\n",
    "    return lambda x: np.sign(p_u(x)).reshape(-1,1,1)*np.tensordot(hess_kappa(x),inner,axes=([1,0]))\n",
    "\n",
    "hess_P = lambda u: hess_P_raw(u)"
   ]
  },
  {
   "cell_type": "code",
   "execution_count": 12,
   "id": "038e5a64",
   "metadata": {},
   "outputs": [],
   "source": [
    "def grad_j(positions, coefs):\n",
    "    K_matrix = kappa(positions)\n",
    "    grad_F = (K_matrix.T@coefs).flatten() - target\n",
    "    nabla_x = coefs.reshape(-1,1)*np.tensordot(grad_kappa(positions), grad_F, axes=([1,0]))\n",
    "    nabla_u = np.dot(K_matrix, grad_F) + alpha * np.sign(coefs)\n",
    "    return np.append(nabla_x.flatten(), nabla_u, axis=0).flatten()"
   ]
  },
  {
   "cell_type": "code",
   "execution_count": 13,
   "id": "31e81ccd",
   "metadata": {},
   "outputs": [],
   "source": [
    "def hess_j(positions, coefs):\n",
    "    kappa_values = kappa(positions)\n",
    "    grad_kappa_values = grad_kappa(positions)\n",
    "    hess_kappa_values = hess_kappa(positions)\n",
    "    matrix_dimension = len(positions)*Omega.shape[0] + len(coefs)\n",
    "    hesse_matrix = np.zeros((matrix_dimension, matrix_dimension))\n",
    "    step = Omega.shape[0]\n",
    "    coefs_delay = step*len(positions)\n",
    "    inner = (kappa_values.T@coefs).flatten() - target\n",
    "    for i in range(len(positions)):\n",
    "        # nabla_{x_i,x_j}\n",
    "        for j in range(len(positions)):\n",
    "            if j<i:\n",
    "                continue\n",
    "            block = coefs[i]*coefs[j]*np.matmul(grad_kappa_values[i].T, grad_kappa_values[j])\n",
    "            if i==j:\n",
    "                block += coefs[i]*np.tensordot(hess_kappa_values[i],inner,axes=([0,0]))\n",
    "            hesse_matrix[i*step:(i+1)*step, j*step:(j+1)*step] = block\n",
    "            hesse_matrix[j*step:(j+1)*step, i*step:(i+1)*step] = block.T\n",
    "        # nabla_{x_i,u_j}\n",
    "        for j in range(len(coefs)):\n",
    "            block = coefs[i]*np.matmul(grad_kappa_values[i].T, kappa_values[j])\n",
    "            if i == j:\n",
    "                block += np.matmul(grad_kappa_values[i].T, inner)\n",
    "            hesse_matrix[i*step:(i+1)*step, coefs_delay+j] = block\n",
    "            hesse_matrix[coefs_delay+j, i*step:(i+1)*step] = block.T\n",
    "    for i in range(len(coefs)):\n",
    "        # nabla_{u_i,u_j}\n",
    "        for j in range(len(coefs)):\n",
    "            if j<i:\n",
    "                continue\n",
    "            block = np.dot(kappa_values[i], kappa_values[j])\n",
    "            hesse_matrix[coefs_delay+i,coefs_delay+j] = block\n",
    "            hesse_matrix[coefs_delay+j,coefs_delay+i] = block\n",
    "    return hesse_matrix"
   ]
  },
  {
   "cell_type": "markdown",
   "id": "29e92b53",
   "metadata": {},
   "source": [
    "## Experiments"
   ]
  },
  {
   "cell_type": "code",
   "execution_count": 14,
   "id": "79526be3",
   "metadata": {},
   "outputs": [],
   "source": [
    "exp = NLGCGParameterFree(target=target, \n",
    "           kappa=kappa, \n",
    "           g=g, \n",
    "           f=f,\n",
    "           p=p,\n",
    "           grad_P=grad_P,\n",
    "           hess_P=hess_P,\n",
    "           grad_j=grad_j,\n",
    "           hess_j=hess_j,\n",
    "           alpha=alpha,\n",
    "           Omega=Omega,\n",
    "           global_search_resolution=1000\n",
    "           )"
   ]
  },
  {
   "cell_type": "code",
   "execution_count": 15,
   "id": "03e430cf",
   "metadata": {},
   "outputs": [
    {
     "name": "stderr",
     "output_type": "stream",
     "text": [
      "INFO:root:Radii: []\n",
      "DEBUG:root:SSN in 1 dimensions converged in 2 iterations to tolerance 1.000E-03\n",
      "INFO:root:1: choice: 0, lazy: True, support: 0, epsilon: 0.05, objective: 5.291E+01, dropped: False\n",
      "INFO:root:=====================================================\n",
      "INFO:root:Radii: [1]\n",
      "INFO:root:1, 1: lazy: N/A, support: 1, epsilon: 0.05, objective: 2.250E+01\n",
      "INFO:root:1, 2: lazy: N/A, support: 1, epsilon: 0.05, objective: 2.250E+01\n",
      "INFO:root:1, 3: lazy: N/A, support: 1, epsilon: 0.05, objective: 2.250E+01\n",
      "INFO:root:gap: 1.6468758756419227e-11, norm grad: 1.1518566082051635e-11\n",
      "INFO:root:gap: 1.6468758756419227e-11, norm grad: 1.1518566082051635e-11\n",
      "INFO:root:1, 4: lazy: True, support: 1, epsilon: 0.05, objective: 2.250E+01\n",
      "INFO:root:Inequality 6.7: False\n",
      "DEBUG:root:SSN in 3 dimensions converged in 5 iterations to tolerance 5.000E-04\n",
      "INFO:root:2: choice: 4, lazy: True, support: 2, epsilon: 0.05, objective: 7.911E+00, dropped: False\n",
      "INFO:root:=====================================================\n",
      "INFO:root:Radii: [1, 1, 1]\n",
      "INFO:root:2, 1: lazy: N/A, support: 3, epsilon: 0.05, objective: 2.203E-01\n",
      "INFO:root:2, 2: lazy: N/A, support: 3, epsilon: 0.05, objective: 2.198E-01\n",
      "INFO:root:2, 3: lazy: N/A, support: 3, epsilon: 0.05, objective: 2.198E-01\n",
      "INFO:root:gap: 2.0984642195651615e-08, norm grad: 3.0004697425702596e-09\n",
      "INFO:root:norm_grad: 3.0004697425702596e-09, constant: 0.0002970871201967523, diff: -2.7755575615628914e-17\n",
      "INFO:root:2, 4: lazy: False, support: 3, epsilon: 1.132764329860201e-10, objective: 2.198E-01\n",
      "INFO:root:Inequalities 6.6: [True, True, False]\n",
      "DEBUG:root:SSN in 4 dimensions and tolerance 2.500E-04: MAX ITERATIONS REACHED\n",
      "INFO:root:3: choice: 3, lazy: False, support: 3, epsilon: 1.965364238027874e-15, objective: 2.198E-01, dropped: False\n",
      "INFO:root:=====================================================\n"
     ]
    }
   ],
   "source": [
    "u, times, supports, inner_loop, lgcg_lazy, lgcg_total, objective_values, dropped_tot, epsilons = exp.nlgcg(tol=1e-12, max_radius=1)"
   ]
  },
  {
   "cell_type": "code",
   "execution_count": 16,
   "id": "c5d68a84",
   "metadata": {},
   "outputs": [
    {
     "data": {
      "text/plain": [
       "array([2.38418579e-07, 1.95789337e-02, 4.32834625e-02, 5.58636189e-02,\n",
       "       6.96122646e-02, 8.52971077e-02, 1.06263638e-01, 1.36299133e-01,\n",
       "       1.50459766e-01, 1.60699368e-01, 3.00843000e-01, 5.21606445e-01])"
      ]
     },
     "execution_count": 16,
     "metadata": {},
     "output_type": "execute_result"
    }
   ],
   "source": [
    "np.array(times)"
   ]
  },
  {
   "cell_type": "code",
   "execution_count": 18,
   "id": "73bc5cd5",
   "metadata": {},
   "outputs": [
    {
     "data": {
      "text/plain": [
       "0"
      ]
     },
     "execution_count": 18,
     "metadata": {},
     "output_type": "execute_result"
    }
   ],
   "source": [
    "dropped_tot"
   ]
  },
  {
   "cell_type": "code",
   "execution_count": 19,
   "id": "31d83514",
   "metadata": {},
   "outputs": [
    {
     "data": {
      "text/plain": [
       "array([-0.99832728,  0.69841291,  0.49833707])"
      ]
     },
     "execution_count": 19,
     "metadata": {},
     "output_type": "execute_result"
    }
   ],
   "source": [
    "u.coefficients"
   ]
  },
  {
   "cell_type": "code",
   "execution_count": 20,
   "id": "06a139c2",
   "metadata": {},
   "outputs": [
    {
     "data": {
      "text/plain": [
       "array([[ 3.12502173],\n",
       "       [ 6.9999926 ],\n",
       "       [13.37905649]])"
      ]
     },
     "execution_count": 20,
     "metadata": {},
     "output_type": "execute_result"
    }
   ],
   "source": [
    "u.support"
   ]
  },
  {
   "cell_type": "markdown",
   "id": "cb5c30c4",
   "metadata": {},
   "source": [
    "## Plots"
   ]
  },
  {
   "cell_type": "code",
   "execution_count": 19,
   "id": "6452dd85",
   "metadata": {},
   "outputs": [
    {
     "data": {
      "image/png": "[encoded data removed]",
      "text/plain": [
       "<Figure size 640x480 with 1 Axes>"
      ]
     },
     "metadata": {},
     "output_type": "display_data"
    }
   ],
   "source": [
    "u_tilde = u # Newton solution\n",
    "a = np.arange(Omega[0][0],Omega[0][1],0.005)\n",
    "p_u = p(u_tilde)\n",
    "vals = p_u(a)\n",
    "plt.plot(a,vals);\n",
    "for i, pos in enumerate(u_tilde.support):\n",
    "    if not i:\n",
    "        plt.axvline(x=pos, linestyle=\"--\", c=\"r\", label=\"Optimal and true support\");\n",
    "    else:\n",
    "        plt.axvline(x=pos, linestyle=\"--\", c=\"r\");\n",
    "plt.xlabel(\"Frequency\");\n",
    "plt.ylim(-0.11,0.11);\n",
    "plt.xlim(0, 20);\n",
    "plt.legend();"
   ]
  },
  {
   "cell_type": "code",
   "execution_count": null,
   "id": "4b17bb3c",
   "metadata": {},
   "outputs": [],
   "source": []
  }
 ],
 "metadata": {
  "kernelspec": {
   "display_name": "conda_env_lgcg",
   "language": "python",
   "name": "python3"
  },
  "language_info": {
   "codemirror_mode": {
    "name": "ipython",
    "version": 3
   },
   "file_extension": ".py",
   "mimetype": "text/x-python",
   "name": "python",
   "nbconvert_exporter": "python",
   "pygments_lexer": "ipython3",
   "version": "3.10.13"
  }
 },
 "nbformat": 4,
 "nbformat_minor": 5
}
