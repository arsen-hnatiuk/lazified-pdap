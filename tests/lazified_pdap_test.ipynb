{
 "cells": [
  {
   "cell_type": "code",
   "execution_count": 1,
   "metadata": {},
   "outputs": [],
   "source": [
    "import numpy as np\n",
    "import scipy as sp\n",
    "import os\n",
    "import sys\n",
    "import matplotlib.pyplot as plt\n",
    "module_path = os.path.abspath(os.path.join('..'))\n",
    "if module_path not in sys.path:\n",
    "    sys.path.append(module_path)\n",
    "lgcg_path = os.path.abspath(os.path.join('../lazified_pdap'))\n",
    "if lgcg_path not in sys.path:\n",
    "    sys.path.append(lgcg_path)\n",
    "from lib.measure import Measure\n",
    "from lib.ssn import SSN\n",
    "from lazified_pdap import LazifiedPDAP"
   ]
  },
  {
   "cell_type": "markdown",
   "metadata": {},
   "source": [
    "# Heat Equation"
   ]
  },
  {
   "cell_type": "markdown",
   "metadata": {},
   "source": [
    "## Generate Data and Define Functions"
   ]
  },
  {
   "cell_type": "code",
   "execution_count": 2,
   "metadata": {},
   "outputs": [],
   "source": [
    "Omega = np.array([[0,1], [0,1]])\n",
    "alpha = 1e-1\n",
    "observation_resolution = 4\n",
    "std_factor = 0.1\n",
    "true_sources = np.array([[0.28, 0.71], [0.51,0.27], [0.71,0.53]])\n",
    "true_weights = np.array([1,-0.7, 0.8])"
   ]
  },
  {
   "cell_type": "code",
   "execution_count": 3,
   "metadata": {},
   "outputs": [],
   "source": [
    "observations = (np.array(np.meshgrid(\n",
    "                    *(\n",
    "                        np.linspace(bound[0], bound[1], observation_resolution+2)\n",
    "                        for bound in Omega\n",
    "                    ))\n",
    "            ).reshape(len(Omega), -1).T)\n",
    "observations = np.array([obs for obs in observations if all(obs!=0) and all(obs!=1)])"
   ]
  },
  {
   "cell_type": "code",
   "execution_count": 4,
   "metadata": {},
   "outputs": [],
   "source": [
    "def kappa(x):\n",
    "    # Input is 2D array of shape (number of points, Omega dimension)\n",
    "    if len(x.shape) == 1:\n",
    "        x = x.reshape(1, -1)\n",
    "    columns = []\n",
    "    outer_factor = np.sqrt(std_factor*np.pi)**Omega.shape[0]\n",
    "    for point in observations:\n",
    "        diff = point-x # (len(x), Omega.shape[0])\n",
    "        norms = -np.square(np.linalg.norm(diff, axis=1))/std_factor # (len(x),)\n",
    "        exponentiated = np.exp(norms) # (len(x),)\n",
    "        columns.append(exponentiated)\n",
    "    result = np.transpose(np.array(columns), axes=(1,0))/outer_factor # shape=(len(x), len(observations))\n",
    "    return result"
   ]
  },
  {
   "cell_type": "code",
   "execution_count": 5,
   "metadata": {},
   "outputs": [],
   "source": [
    "u_hat = Measure(support=true_sources, coefficients=true_weights)\n",
    "target = u_hat.duality_pairing(kappa)"
   ]
  },
  {
   "cell_type": "code",
   "execution_count": 6,
   "metadata": {},
   "outputs": [],
   "source": [
    "g = lambda u: alpha * np.linalg.norm(u, ord=1)\n",
    "f = lambda u: 0.5 * np.linalg.norm(u.duality_pairing(kappa) - target) ** 2"
   ]
  },
  {
   "cell_type": "code",
   "execution_count": 7,
   "metadata": {},
   "outputs": [],
   "source": [
    "def grad_kappa(x):\n",
    "    # Input is 2D array of shape (number of points, Omega dimension)\n",
    "    if len(x.shape) == 1:\n",
    "        x = x.reshape(1, -1)\n",
    "    gradients = []\n",
    "    outer_factor = std_factor*np.sqrt(std_factor*np.pi)**Omega.shape[0]/2\n",
    "    for point in observations:\n",
    "        diff = point-x # (len(x), Omega.shape[0])\n",
    "        norms = -np.square(np.linalg.norm(diff, axis=1))/std_factor # (len(x),)\n",
    "        exponentiated = np.exp(norms) # (len(x),)\n",
    "        gradient = diff * exponentiated.reshape(-1,1) # shape=(len(x),Omega.shape[0])\n",
    "        gradients.append(gradient)\n",
    "    result = np.transpose(np.array(gradients), axes=(1,0,2))/outer_factor # The Jacobian of kappa, shape=(len(x), len(observations), Omega.shape[0])\n",
    "    return result"
   ]
  },
  {
   "cell_type": "code",
   "execution_count": 8,
   "metadata": {},
   "outputs": [],
   "source": [
    "def hess_kappa(x):\n",
    "    # Input is 2D array of shape (number of points, Omega dimension)\n",
    "    if len(x.shape) == 1:\n",
    "        x = x.reshape(1, -1)\n",
    "    hessians = []\n",
    "    outer_factors = [-std_factor*np.sqrt(std_factor*np.pi)**Omega.shape[0]/2,std_factor**2*np.sqrt(std_factor*np.pi)**Omega.shape[0]/4]\n",
    "    for point in observations:\n",
    "        diff = point-x # (len(x), Omega.shape[0])\n",
    "        norms = -np.square(np.linalg.norm(diff, axis=1))/std_factor # (len(x),)\n",
    "        exponentiated_normed_1 = np.exp(norms)/outer_factors[0] # (len(x),)\n",
    "        exponentiated_normed_2 = np.exp(norms)/outer_factors[1] # (len(x),)\n",
    "        first_part = np.repeat(np.eye(Omega.shape[0])[np.newaxis,:],len(x),axis=0)*exponentiated_normed_1.reshape(-1,1,1) # shape=(len(x),Omega.shape[0],Omega.shape[0])\n",
    "        second_part = np.einsum('ij,ik->ijk', diff, diff)*exponentiated_normed_2.reshape(-1,1,1) # shape=(len(x),Omega.shape[0],Omega.shape[0])\n",
    "        hessians.append(first_part+second_part)\n",
    "    result = np.transpose(np.array(hessians), axes=(1,0,2,3)) # The derivative of the Jacobian of kappa, shape=(len(x), len(observations), Omega.shape[0], Omega.shape[0])\n",
    "    return result"
   ]
  },
  {
   "cell_type": "code",
   "execution_count": 9,
   "metadata": {},
   "outputs": [],
   "source": [
    "def p_raw(u):\n",
    "    Ku = u.duality_pairing(kappa)\n",
    "    inner = Ku-target\n",
    "    return lambda x: -kappa(x) @ inner\n",
    "\n",
    "p = lambda u: p_raw(u)"
   ]
  },
  {
   "cell_type": "code",
   "execution_count": 10,
   "metadata": {},
   "outputs": [],
   "source": [
    "def grad_P_raw(u):\n",
    "    p_u = p_raw(u)\n",
    "    inner = target-u.duality_pairing(kappa)\n",
    "    return lambda x: np.sign(p_u(x)).reshape(-1,1)*np.tensordot(grad_kappa(x), inner, axes=([1,0]))\n",
    "\n",
    "grad_P = lambda u: grad_P_raw(u)"
   ]
  },
  {
   "cell_type": "code",
   "execution_count": 11,
   "metadata": {},
   "outputs": [],
   "source": [
    "def hess_P_raw(u):\n",
    "    p_u = p_raw(u)\n",
    "    inner = target-u.duality_pairing(kappa)\n",
    "    return lambda x: np.sign(p_u(x)).reshape(-1,1,1)*np.tensordot(hess_kappa(x),inner,axes=([1,0]))\n",
    "\n",
    "hess_P = lambda u: hess_P_raw(u)"
   ]
  },
  {
   "cell_type": "code",
   "execution_count": 12,
   "metadata": {},
   "outputs": [],
   "source": [
    "def grad_j(positions, coefs):\n",
    "    K_matrix = kappa(positions)\n",
    "    grad_F = (K_matrix.T@coefs).flatten() - target\n",
    "    nabla_x = coefs.reshape(-1,1)*np.tensordot(grad_kappa(positions), grad_F, axes=([1,0]))\n",
    "    nabla_u = np.dot(K_matrix, grad_F) + alpha * np.sign(coefs)\n",
    "    return np.append(nabla_x.flatten(), nabla_u, axis=0).flatten()"
   ]
  },
  {
   "cell_type": "code",
   "execution_count": 13,
   "metadata": {},
   "outputs": [],
   "source": [
    "def hess_j(positions, coefs):\n",
    "    kappa_values = kappa(positions)\n",
    "    grad_kappa_values = grad_kappa(positions)\n",
    "    hess_kappa_values = hess_kappa(positions)\n",
    "    matrix_dimension = len(positions)*Omega.shape[0] + len(coefs)\n",
    "    hesse_matrix = np.zeros((matrix_dimension, matrix_dimension))\n",
    "    step = Omega.shape[0]\n",
    "    coefs_delay = step*len(positions)\n",
    "    inner = (kappa_values.T@coefs).flatten() - target\n",
    "    for i in range(len(positions)):\n",
    "        # nabla_{x_i,x_j}\n",
    "        for j in range(len(positions)):\n",
    "            if j<i:\n",
    "                continue\n",
    "            block = coefs[i]*coefs[j]*np.matmul(grad_kappa_values[i].T, grad_kappa_values[j])\n",
    "            if i==j:\n",
    "                block += coefs[i]*np.tensordot(hess_kappa_values[i],inner,axes=([0,0]))\n",
    "            hesse_matrix[i*step:(i+1)*step, j*step:(j+1)*step] = block\n",
    "            hesse_matrix[j*step:(j+1)*step, i*step:(i+1)*step] = block.T\n",
    "        # nabla_{x_i,u_j}\n",
    "        for j in range(len(coefs)):\n",
    "            block = coefs[i]*np.matmul(grad_kappa_values[i].T, kappa_values[j])\n",
    "            if i == j:\n",
    "                block += np.matmul(grad_kappa_values[i].T, inner)\n",
    "            hesse_matrix[i*step:(i+1)*step, coefs_delay+j] = block\n",
    "            hesse_matrix[coefs_delay+j, i*step:(i+1)*step] = block.T\n",
    "    for i in range(len(coefs)):\n",
    "        # nabla_{u_i,u_j}\n",
    "        for j in range(len(coefs)):\n",
    "            if j<i:\n",
    "                continue\n",
    "            block = np.dot(kappa_values[i], kappa_values[j])\n",
    "            hesse_matrix[coefs_delay+i,coefs_delay+j] = block\n",
    "            hesse_matrix[coefs_delay+j,coefs_delay+i] = block\n",
    "    return hesse_matrix"
   ]
  },
  {
   "cell_type": "code",
   "execution_count": 14,
   "metadata": {},
   "outputs": [
    {
     "data": {
      "text/plain": [
       "6.264527262470839"
      ]
     },
     "execution_count": 14,
     "metadata": {},
     "output_type": "execute_result"
    }
   ],
   "source": [
    "a = np.arange(0,1,0.01)\n",
    "if Omega.shape[0] == 1:\n",
    "    vals = np.linalg.norm(kappa(a.reshape(1,-1).T), axis=1)\n",
    "    norm_kappa = max(vals)\n",
    "elif Omega.shape[0] == 2:\n",
    "    x, y = np.meshgrid(a,a)\n",
    "    points = np.array(list(zip(x.flatten(), y.flatten())))\n",
    "    vals = np.linalg.norm(kappa(points), axis=1)\n",
    "    norm_kappa = max(vals) # ||k([0.5,0.5])||\n",
    "elif Omega.shape[0] == 3:\n",
    "    x, y, z = np.meshgrid(a,a,a)\n",
    "    points = np.array(list(zip(x.flatten(), y.flatten(), z.flatten())))\n",
    "    vals = np.linalg.norm(kappa(points), axis=1)\n",
    "    norm_kappa = max(vals)\n",
    "else:\n",
    "    norm_kappa = 10\n",
    "norm_kappa"
   ]
  },
  {
   "cell_type": "code",
   "execution_count": 15,
   "metadata": {},
   "outputs": [
    {
     "data": {
      "text/plain": [
       "27.126794337315015"
      ]
     },
     "execution_count": 15,
     "metadata": {},
     "output_type": "execute_result"
    }
   ],
   "source": [
    "a = np.arange(0,1,0.1)\n",
    "if Omega.shape[0] == 1:\n",
    "    vals = np.linalg.norm(grad_kappa(a.reshape(1,-1).T), axis=(1,2))\n",
    "    norm_kappa1 = max(norm_kappa, max(vals))\n",
    "elif Omega.shape[0] == 2:\n",
    "    B, D = np.meshgrid(a,a)\n",
    "    points = np.array(list(zip(B.flatten(), D.flatten())))\n",
    "    vals = np.linalg.norm(grad_kappa(points), axis=(1,2))\n",
    "    norm_kappa1 = max(norm_kappa, max(vals))\n",
    "elif Omega.shape[0] == 3:\n",
    "    x, y, z = np.meshgrid(a,a,a)\n",
    "    points = np.array(list(zip(x.flatten(), y.flatten(), z.flatten())))\n",
    "    vals = np.linalg.norm(grad_kappa(points), axis=(1,2))\n",
    "    norm_kappa1 = max(norm_kappa, max(vals))\n",
    "else:\n",
    "    norm_kappa1 = 50\n",
    "norm_kappa1"
   ]
  },
  {
   "cell_type": "code",
   "execution_count": 16,
   "metadata": {},
   "outputs": [
    {
     "data": {
      "text/plain": [
       "1.0"
      ]
     },
     "execution_count": 16,
     "metadata": {},
     "output_type": "execute_result"
    }
   ],
   "source": [
    "gamma = 1\n",
    "theta = 1e-1\n",
    "sigma = 2e-3\n",
    "m = 1e-3\n",
    "bar_m = 1e-1\n",
    "L = 1\n",
    "L_H = max(np.abs(true_weights))\n",
    "R = 1e-2\n",
    "L_H"
   ]
  },
  {
   "cell_type": "markdown",
   "metadata": {},
   "source": [
    "## Experiments"
   ]
  },
  {
   "cell_type": "code",
   "execution_count": 17,
   "metadata": {},
   "outputs": [],
   "source": [
    "exp = LazifiedPDAP(target=target, \n",
    "           kappa=kappa, \n",
    "           g=g, \n",
    "           f=f,\n",
    "           p=p,\n",
    "           grad_P=grad_P,\n",
    "           hess_P=hess_P,\n",
    "           norm_kappa=norm_kappa,\n",
    "           norm_kappa1=norm_kappa1,\n",
    "           grad_j=grad_j,\n",
    "           hess_j=hess_j,\n",
    "           alpha=alpha,\n",
    "           Omega=Omega,\n",
    "           gamma=gamma,\n",
    "           theta=theta,\n",
    "           sigma=sigma,\n",
    "           m=m,\n",
    "           bar_m=bar_m,\n",
    "           L=L,\n",
    "           L_H=L_H,\n",
    "           R=R\n",
    "           )"
   ]
  },
  {
   "cell_type": "code",
   "execution_count": 19,
   "metadata": {},
   "outputs": [
    {
     "data": {
      "text/plain": [
       "2.391032205368258"
      ]
     },
     "execution_count": 19,
     "metadata": {},
     "output_type": "execute_result"
    }
   ],
   "source": [
    "exp.M"
   ]
  },
  {
   "cell_type": "markdown",
   "metadata": {},
   "source": [
    "### PDAP"
   ]
  },
  {
   "cell_type": "code",
   "execution_count": 20,
   "metadata": {},
   "outputs": [
    {
     "name": "stderr",
     "output_type": "stream",
     "text": [
      "DEBUG:root:SSN in 1 dimensions converged in 3 iterations to tolerance 1.000E-14\n",
      "INFO:root:1: Phi:7.375E+02, support: 1\n",
      "INFO:root:==============================================\n",
      "DEBUG:root:SSN in 2 dimensions and tolerance 1.000E-14: MAX ITERATIONS REACHED\n",
      "INFO:root:2: Phi:1.732E+02, support: 2\n",
      "INFO:root:==============================================\n",
      "DEBUG:root:SSN in 3 dimensions and tolerance 1.000E-14: MAX ITERATIONS REACHED\n",
      "INFO:root:3: Phi:9.305E+01, support: 3\n",
      "INFO:root:==============================================\n",
      "DEBUG:root:SSN in 4 dimensions and tolerance 1.000E-14: MAX ITERATIONS REACHED\n",
      "INFO:root:4: Phi:6.027E+00, support: 4\n",
      "INFO:root:==============================================\n",
      "DEBUG:root:SSN in 5 dimensions converged in 3 iterations to tolerance 1.000E-14\n",
      "INFO:root:5: Phi:2.407E+00, support: 5\n",
      "INFO:root:==============================================\n",
      "DEBUG:root:SSN in 6 dimensions converged in 2 iterations to tolerance 1.000E-14\n",
      "INFO:root:6: Phi:3.931E-01, support: 6\n",
      "INFO:root:==============================================\n",
      "DEBUG:root:SSN in 7 dimensions converged in 2 iterations to tolerance 1.000E-14\n",
      "INFO:root:7: Phi:2.086E-01, support: 7\n",
      "INFO:root:==============================================\n",
      "DEBUG:root:SSN in 8 dimensions converged in 2 iterations to tolerance 1.000E-14\n",
      "INFO:root:8: Phi:2.087E-01, support: 8\n",
      "INFO:root:==============================================\n",
      "DEBUG:root:SSN in 9 dimensions converged in 3 iterations to tolerance 1.000E-14\n",
      "INFO:root:9: Phi:1.248E-01, support: 7\n",
      "INFO:root:==============================================\n",
      "DEBUG:root:SSN in 8 dimensions converged in 6 iterations to tolerance 1.000E-14\n",
      "INFO:root:10: Phi:3.219E-01, support: 7\n",
      "INFO:root:==============================================\n",
      "DEBUG:root:SSN in 8 dimensions converged in 2 iterations to tolerance 1.000E-14\n",
      "INFO:root:11: Phi:1.283E-01, support: 8\n",
      "INFO:root:==============================================\n",
      "DEBUG:root:SSN in 9 dimensions converged in 2 iterations to tolerance 1.000E-14\n",
      "INFO:root:12: Phi:7.663E-02, support: 9\n",
      "INFO:root:==============================================\n",
      "DEBUG:root:SSN in 10 dimensions converged in 7 iterations to tolerance 1.000E-14\n",
      "INFO:root:13: Phi:4.520E-02, support: 9\n",
      "INFO:root:==============================================\n",
      "DEBUG:root:SSN in 10 dimensions converged in 7 iterations to tolerance 1.000E-14\n",
      "INFO:root:14: Phi:5.905E-02, support: 9\n",
      "INFO:root:==============================================\n",
      "DEBUG:root:SSN in 10 dimensions converged in 7 iterations to tolerance 1.000E-14\n",
      "INFO:root:15: Phi:2.586E-02, support: 8\n",
      "INFO:root:==============================================\n",
      "DEBUG:root:SSN in 9 dimensions converged in 9 iterations to tolerance 1.000E-14\n",
      "INFO:root:16: Phi:8.337E-02, support: 8\n",
      "INFO:root:==============================================\n",
      "DEBUG:root:SSN in 9 dimensions converged in 2 iterations to tolerance 1.000E-14\n",
      "INFO:root:17: Phi:4.574E-02, support: 9\n",
      "INFO:root:==============================================\n",
      "DEBUG:root:SSN in 10 dimensions converged in 6 iterations to tolerance 1.000E-14\n",
      "INFO:root:18: Phi:1.701E-02, support: 9\n",
      "INFO:root:==============================================\n",
      "DEBUG:root:SSN in 10 dimensions converged in 7 iterations to tolerance 1.000E-14\n",
      "INFO:root:19: Phi:4.478E-02, support: 9\n",
      "INFO:root:==============================================\n",
      "DEBUG:root:SSN in 10 dimensions converged in 8 iterations to tolerance 1.000E-14\n",
      "INFO:root:20: Phi:1.814E-02, support: 9\n",
      "INFO:root:==============================================\n",
      "DEBUG:root:SSN in 10 dimensions converged in 6 iterations to tolerance 1.000E-14\n",
      "INFO:root:21: Phi:1.403E-02, support: 9\n",
      "INFO:root:==============================================\n",
      "DEBUG:root:SSN in 10 dimensions converged in 6 iterations to tolerance 1.000E-14\n",
      "INFO:root:22: Phi:7.535E-03, support: 8\n",
      "INFO:root:==============================================\n",
      "DEBUG:root:SSN in 9 dimensions converged in 2 iterations to tolerance 1.000E-14\n",
      "INFO:root:23: Phi:7.613E-03, support: 9\n",
      "INFO:root:==============================================\n",
      "DEBUG:root:SSN in 10 dimensions converged in 7 iterations to tolerance 1.000E-14\n",
      "INFO:root:24: Phi:5.437E-03, support: 8\n",
      "INFO:root:==============================================\n",
      "DEBUG:root:SSN in 9 dimensions converged in 8 iterations to tolerance 1.000E-14\n",
      "INFO:root:25: Phi:5.455E-03, support: 8\n",
      "INFO:root:==============================================\n",
      "DEBUG:root:SSN in 9 dimensions converged in 2 iterations to tolerance 1.000E-14\n",
      "INFO:root:26: Phi:3.296E-03, support: 9\n",
      "INFO:root:==============================================\n",
      "DEBUG:root:SSN in 10 dimensions converged in 12 iterations to tolerance 1.000E-14\n",
      "INFO:root:27: Phi:9.277E-03, support: 8\n",
      "INFO:root:==============================================\n",
      "DEBUG:root:SSN in 9 dimensions converged in 2 iterations to tolerance 1.000E-14\n",
      "INFO:root:28: Phi:3.071E-03, support: 9\n",
      "INFO:root:==============================================\n",
      "DEBUG:root:SSN in 10 dimensions converged in 12 iterations to tolerance 1.000E-14\n",
      "INFO:root:29: Phi:2.558E-03, support: 9\n",
      "INFO:root:==============================================\n",
      "DEBUG:root:SSN in 10 dimensions converged in 9 iterations to tolerance 1.000E-14\n",
      "INFO:root:30: Phi:1.841E-03, support: 9\n",
      "INFO:root:==============================================\n",
      "DEBUG:root:SSN in 10 dimensions converged in 12 iterations to tolerance 1.000E-14\n",
      "INFO:root:31: Phi:1.231E-03, support: 8\n",
      "INFO:root:==============================================\n",
      "DEBUG:root:SSN in 9 dimensions converged in 12 iterations to tolerance 1.000E-14\n",
      "INFO:root:32: Phi:9.444E-04, support: 8\n",
      "INFO:root:==============================================\n",
      "DEBUG:root:SSN in 9 dimensions converged in 12 iterations to tolerance 1.000E-14\n",
      "INFO:root:33: Phi:1.928E-03, support: 8\n",
      "INFO:root:==============================================\n",
      "DEBUG:root:SSN in 9 dimensions converged in 13 iterations to tolerance 1.000E-14\n",
      "INFO:root:34: Phi:7.909E-04, support: 8\n",
      "INFO:root:==============================================\n",
      "DEBUG:root:SSN in 9 dimensions converged in 8 iterations to tolerance 1.000E-14\n",
      "INFO:root:35: Phi:7.326E-04, support: 8\n",
      "INFO:root:==============================================\n",
      "DEBUG:root:SSN in 9 dimensions converged in 2 iterations to tolerance 1.000E-14\n",
      "INFO:root:36: Phi:5.435E-04, support: 9\n",
      "INFO:root:==============================================\n",
      "DEBUG:root:SSN in 10 dimensions converged in 10 iterations to tolerance 1.000E-14\n",
      "INFO:root:37: Phi:4.852E-04, support: 9\n",
      "INFO:root:==============================================\n",
      "DEBUG:root:SSN in 10 dimensions converged in 14 iterations to tolerance 1.000E-14\n",
      "INFO:root:38: Phi:3.192E-04, support: 9\n",
      "INFO:root:==============================================\n",
      "DEBUG:root:SSN in 10 dimensions converged in 13 iterations to tolerance 1.000E-14\n",
      "INFO:root:39: Phi:8.708E-04, support: 9\n",
      "INFO:root:==============================================\n",
      "DEBUG:root:SSN in 10 dimensions converged in 16 iterations to tolerance 1.000E-14\n",
      "INFO:root:40: Phi:2.387E-04, support: 9\n",
      "INFO:root:==============================================\n",
      "DEBUG:root:SSN in 10 dimensions converged in 13 iterations to tolerance 1.000E-14\n",
      "INFO:root:41: Phi:2.239E-04, support: 9\n",
      "INFO:root:==============================================\n",
      "DEBUG:root:SSN in 10 dimensions converged in 21 iterations to tolerance 1.000E-14\n",
      "INFO:root:42: Phi:1.913E-04, support: 8\n",
      "INFO:root:==============================================\n",
      "DEBUG:root:SSN in 9 dimensions converged in 11 iterations to tolerance 1.000E-14\n",
      "INFO:root:43: Phi:1.444E-04, support: 8\n",
      "INFO:root:==============================================\n",
      "DEBUG:root:SSN in 9 dimensions converged in 12 iterations to tolerance 1.000E-14\n",
      "INFO:root:44: Phi:1.422E-04, support: 8\n",
      "INFO:root:==============================================\n",
      "DEBUG:root:SSN in 9 dimensions converged in 16 iterations to tolerance 1.000E-14\n",
      "INFO:root:45: Phi:1.030E-04, support: 8\n",
      "INFO:root:==============================================\n",
      "DEBUG:root:SSN in 9 dimensions converged in 2 iterations to tolerance 1.000E-14\n",
      "INFO:root:46: Phi:6.109E-05, support: 9\n",
      "INFO:root:==============================================\n",
      "DEBUG:root:SSN in 10 dimensions converged in 16 iterations to tolerance 1.000E-14\n",
      "INFO:root:47: Phi:5.570E-05, support: 9\n",
      "INFO:root:==============================================\n",
      "DEBUG:root:SSN in 10 dimensions converged in 21 iterations to tolerance 1.000E-14\n",
      "INFO:root:48: Phi:5.417E-05, support: 8\n",
      "INFO:root:==============================================\n",
      "DEBUG:root:SSN in 9 dimensions converged in 15 iterations to tolerance 1.000E-14\n",
      "INFO:root:49: Phi:3.602E-05, support: 8\n",
      "INFO:root:==============================================\n",
      "DEBUG:root:SSN in 9 dimensions converged in 18 iterations to tolerance 1.000E-14\n",
      "INFO:root:50: Phi:2.597E-05, support: 8\n",
      "INFO:root:==============================================\n",
      "DEBUG:root:SSN in 9 dimensions converged in 16 iterations to tolerance 1.000E-14\n",
      "INFO:root:51: Phi:1.556E-05, support: 8\n",
      "INFO:root:==============================================\n",
      "DEBUG:root:SSN in 9 dimensions converged in 17 iterations to tolerance 1.000E-14\n",
      "INFO:root:52: Phi:2.038E-05, support: 8\n",
      "INFO:root:==============================================\n",
      "DEBUG:root:SSN in 9 dimensions converged in 2 iterations to tolerance 1.000E-14\n",
      "INFO:root:53: Phi:1.460E-05, support: 9\n",
      "INFO:root:==============================================\n",
      "DEBUG:root:SSN in 10 dimensions converged in 18 iterations to tolerance 1.000E-14\n",
      "INFO:root:54: Phi:1.270E-05, support: 9\n",
      "INFO:root:==============================================\n",
      "DEBUG:root:SSN in 10 dimensions converged in 17 iterations to tolerance 1.000E-14\n",
      "INFO:root:55: Phi:9.216E-06, support: 9\n",
      "INFO:root:==============================================\n",
      "DEBUG:root:SSN in 10 dimensions converged in 18 iterations to tolerance 1.000E-14\n",
      "INFO:root:56: Phi:6.561E-06, support: 9\n",
      "INFO:root:==============================================\n",
      "DEBUG:root:SSN in 10 dimensions converged in 13 iterations to tolerance 1.000E-14\n",
      "INFO:root:57: Phi:5.613E-06, support: 9\n",
      "INFO:root:==============================================\n",
      "DEBUG:root:SSN in 10 dimensions converged in 20 iterations to tolerance 1.000E-14\n",
      "INFO:root:58: Phi:3.997E-06, support: 9\n",
      "INFO:root:==============================================\n",
      "DEBUG:root:SSN in 10 dimensions converged in 18 iterations to tolerance 1.000E-14\n",
      "INFO:root:59: Phi:3.991E-06, support: 9\n",
      "INFO:root:==============================================\n",
      "DEBUG:root:SSN in 10 dimensions converged in 15 iterations to tolerance 1.000E-14\n",
      "INFO:root:60: Phi:3.189E-06, support: 9\n",
      "INFO:root:==============================================\n",
      "DEBUG:root:SSN in 10 dimensions converged in 20 iterations to tolerance 1.000E-14\n",
      "INFO:root:61: Phi:2.354E-06, support: 9\n",
      "INFO:root:==============================================\n",
      "DEBUG:root:SSN in 10 dimensions converged in 18 iterations to tolerance 1.000E-14\n",
      "INFO:root:62: Phi:1.647E-06, support: 9\n",
      "INFO:root:==============================================\n",
      "DEBUG:root:SSN in 10 dimensions converged in 16 iterations to tolerance 1.000E-14\n",
      "INFO:root:63: Phi:1.540E-06, support: 9\n",
      "INFO:root:==============================================\n",
      "DEBUG:root:SSN in 10 dimensions converged in 11 iterations to tolerance 1.000E-14\n",
      "INFO:root:64: Phi:1.090E-06, support: 9\n",
      "INFO:root:==============================================\n",
      "DEBUG:root:SSN in 10 dimensions converged in 18 iterations to tolerance 1.000E-14\n",
      "INFO:root:65: Phi:1.021E-06, support: 9\n",
      "INFO:root:==============================================\n",
      "DEBUG:root:SSN in 10 dimensions converged in 25 iterations to tolerance 1.000E-14\n",
      "INFO:root:66: Phi:7.973E-07, support: 8\n",
      "INFO:root:==============================================\n",
      "DEBUG:root:SSN in 9 dimensions converged in 17 iterations to tolerance 1.000E-14\n",
      "INFO:root:67: Phi:4.213E-07, support: 8\n",
      "INFO:root:==============================================\n",
      "DEBUG:root:SSN in 9 dimensions converged in 15 iterations to tolerance 1.000E-14\n",
      "INFO:root:68: Phi:1.202E-06, support: 8\n",
      "INFO:root:==============================================\n",
      "DEBUG:root:SSN in 9 dimensions converged in 20 iterations to tolerance 1.000E-14\n",
      "INFO:root:69: Phi:4.151E-07, support: 8\n",
      "INFO:root:==============================================\n",
      "DEBUG:root:SSN in 9 dimensions converged in 22 iterations to tolerance 1.000E-14\n",
      "INFO:root:70: Phi:3.937E-07, support: 8\n",
      "INFO:root:==============================================\n",
      "DEBUG:root:SSN in 9 dimensions converged in 2 iterations to tolerance 1.000E-14\n",
      "INFO:root:71: Phi:3.287E-07, support: 9\n",
      "INFO:root:==============================================\n",
      "DEBUG:root:SSN in 10 dimensions converged in 18 iterations to tolerance 1.000E-14\n",
      "INFO:root:72: Phi:2.801E-07, support: 9\n",
      "INFO:root:==============================================\n",
      "DEBUG:root:SSN in 10 dimensions converged in 32 iterations to tolerance 1.000E-14\n",
      "INFO:root:73: Phi:1.998E-07, support: 8\n",
      "INFO:root:==============================================\n",
      "DEBUG:root:SSN in 9 dimensions converged in 20 iterations to tolerance 1.000E-14\n",
      "INFO:root:74: Phi:1.080E-07, support: 8\n",
      "INFO:root:==============================================\n",
      "DEBUG:root:SSN in 9 dimensions converged in 22 iterations to tolerance 1.000E-14\n",
      "INFO:root:75: Phi:1.037E-07, support: 8\n",
      "INFO:root:==============================================\n",
      "DEBUG:root:SSN in 9 dimensions converged in 18 iterations to tolerance 1.000E-14\n",
      "INFO:root:76: Phi:8.318E-08, support: 8\n",
      "INFO:root:==============================================\n",
      "DEBUG:root:SSN in 9 dimensions converged in 12 iterations to tolerance 1.000E-14\n",
      "INFO:root:77: Phi:7.687E-08, support: 8\n",
      "INFO:root:==============================================\n",
      "DEBUG:root:SSN in 9 dimensions converged in 35 iterations to tolerance 1.000E-14\n",
      "INFO:root:78: Phi:9.407E-08, support: 7\n",
      "INFO:root:==============================================\n",
      "DEBUG:root:SSN in 8 dimensions converged in 2 iterations to tolerance 1.000E-14\n",
      "INFO:root:79: Phi:5.004E-08, support: 8\n",
      "INFO:root:==============================================\n",
      "DEBUG:root:SSN in 9 dimensions converged in 22 iterations to tolerance 1.000E-14\n",
      "INFO:root:80: Phi:3.416E-08, support: 8\n",
      "INFO:root:==============================================\n",
      "DEBUG:root:SSN in 9 dimensions converged in 2 iterations to tolerance 1.000E-14\n",
      "INFO:root:81: Phi:3.021E-08, support: 9\n",
      "INFO:root:==============================================\n",
      "DEBUG:root:SSN in 10 dimensions converged in 24 iterations to tolerance 1.000E-14\n",
      "INFO:root:82: Phi:2.595E-08, support: 9\n",
      "INFO:root:==============================================\n",
      "DEBUG:root:SSN in 10 dimensions converged in 16 iterations to tolerance 1.000E-14\n",
      "INFO:root:83: Phi:2.426E-08, support: 9\n",
      "INFO:root:==============================================\n",
      "DEBUG:root:SSN in 10 dimensions converged in 21 iterations to tolerance 1.000E-14\n",
      "INFO:root:84: Phi:1.951E-08, support: 9\n",
      "INFO:root:==============================================\n",
      "DEBUG:root:SSN in 10 dimensions converged in 20 iterations to tolerance 1.000E-14\n",
      "INFO:root:85: Phi:1.254E-08, support: 9\n",
      "INFO:root:==============================================\n",
      "DEBUG:root:SSN in 10 dimensions converged in 21 iterations to tolerance 1.000E-14\n",
      "INFO:root:86: Phi:8.806E-09, support: 9\n",
      "INFO:root:==============================================\n",
      "DEBUG:root:SSN in 10 dimensions converged in 18 iterations to tolerance 1.000E-14\n",
      "INFO:root:87: Phi:8.673E-09, support: 9\n",
      "INFO:root:==============================================\n",
      "DEBUG:root:SSN in 10 dimensions converged in 38 iterations to tolerance 1.000E-14\n",
      "INFO:root:88: Phi:7.075E-09, support: 8\n",
      "INFO:root:==============================================\n",
      "DEBUG:root:SSN in 9 dimensions converged in 24 iterations to tolerance 1.000E-14\n",
      "INFO:root:89: Phi:6.497E-09, support: 8\n",
      "INFO:root:==============================================\n",
      "DEBUG:root:SSN in 9 dimensions converged in 21 iterations to tolerance 1.000E-14\n",
      "INFO:root:90: Phi:4.449E-09, support: 8\n",
      "INFO:root:==============================================\n",
      "DEBUG:root:SSN in 9 dimensions converged in 2 iterations to tolerance 1.000E-14\n",
      "INFO:root:91: Phi:3.139E-09, support: 9\n",
      "INFO:root:==============================================\n",
      "DEBUG:root:SSN in 10 dimensions converged in 35 iterations to tolerance 1.000E-14\n",
      "INFO:root:92: Phi:2.567E-09, support: 9\n",
      "INFO:root:==============================================\n",
      "DEBUG:root:SSN in 10 dimensions converged in 36 iterations to tolerance 1.000E-14\n",
      "INFO:root:93: Phi:2.170E-09, support: 8\n",
      "INFO:root:==============================================\n",
      "DEBUG:root:SSN in 9 dimensions converged in 20 iterations to tolerance 1.000E-14\n",
      "INFO:root:94: Phi:4.720E-09, support: 8\n",
      "INFO:root:==============================================\n",
      "DEBUG:root:SSN in 9 dimensions converged in 21 iterations to tolerance 1.000E-14\n",
      "INFO:root:95: Phi:1.626E-09, support: 8\n",
      "INFO:root:==============================================\n",
      "DEBUG:root:SSN in 9 dimensions converged in 18 iterations to tolerance 1.000E-14\n",
      "INFO:root:96: Phi:1.182E-09, support: 8\n",
      "INFO:root:==============================================\n",
      "DEBUG:root:SSN in 9 dimensions converged in 20 iterations to tolerance 1.000E-14\n",
      "INFO:root:97: Phi:1.113E-09, support: 8\n",
      "INFO:root:==============================================\n",
      "DEBUG:root:SSN in 9 dimensions converged in 22 iterations to tolerance 1.000E-14\n",
      "INFO:root:98: Phi:7.855E-10, support: 8\n",
      "INFO:root:==============================================\n",
      "DEBUG:root:SSN in 9 dimensions converged in 23 iterations to tolerance 1.000E-14\n",
      "INFO:root:99: Phi:5.982E-10, support: 8\n",
      "INFO:root:==============================================\n",
      "DEBUG:root:SSN in 9 dimensions converged in 19 iterations to tolerance 1.000E-14\n",
      "INFO:root:100: Phi:5.428E-10, support: 8\n",
      "INFO:root:==============================================\n",
      "DEBUG:root:SSN in 9 dimensions converged in 21 iterations to tolerance 1.000E-14\n",
      "INFO:root:101: Phi:4.069E-10, support: 8\n",
      "INFO:root:==============================================\n",
      "DEBUG:root:SSN in 9 dimensions converged in 19 iterations to tolerance 1.000E-14\n",
      "INFO:root:102: Phi:2.784E-10, support: 8\n",
      "INFO:root:==============================================\n",
      "DEBUG:root:SSN in 9 dimensions converged in 20 iterations to tolerance 1.000E-14\n",
      "INFO:root:103: Phi:2.188E-10, support: 8\n",
      "INFO:root:==============================================\n",
      "DEBUG:root:SSN in 9 dimensions converged in 20 iterations to tolerance 1.000E-14\n",
      "INFO:root:104: Phi:1.966E-10, support: 8\n",
      "INFO:root:==============================================\n",
      "DEBUG:root:SSN in 9 dimensions converged in 19 iterations to tolerance 1.000E-14\n",
      "INFO:root:105: Phi:1.358E-10, support: 8\n",
      "INFO:root:==============================================\n",
      "DEBUG:root:SSN in 9 dimensions converged in 18 iterations to tolerance 1.000E-14\n",
      "INFO:root:106: Phi:1.180E-10, support: 8\n",
      "INFO:root:==============================================\n",
      "DEBUG:root:SSN in 9 dimensions converged in 16 iterations to tolerance 1.000E-14\n",
      "INFO:root:107: Phi:1.018E-10, support: 8\n",
      "INFO:root:==============================================\n",
      "DEBUG:root:SSN in 9 dimensions converged in 21 iterations to tolerance 1.000E-14\n",
      "INFO:root:108: Phi:5.500E-11, support: 8\n",
      "INFO:root:==============================================\n",
      "DEBUG:root:SSN in 9 dimensions converged in 21 iterations to tolerance 1.000E-14\n",
      "INFO:root:109: Phi:4.922E-11, support: 8\n",
      "INFO:root:==============================================\n",
      "DEBUG:root:SSN in 9 dimensions converged in 22 iterations to tolerance 1.000E-14\n",
      "INFO:root:110: Phi:4.604E-11, support: 8\n",
      "INFO:root:==============================================\n",
      "DEBUG:root:SSN in 9 dimensions converged in 17 iterations to tolerance 1.000E-14\n",
      "INFO:root:111: Phi:4.383E-11, support: 8\n",
      "INFO:root:==============================================\n",
      "DEBUG:root:SSN in 9 dimensions converged in 18 iterations to tolerance 1.000E-14\n",
      "INFO:root:112: Phi:2.549E-11, support: 8\n",
      "INFO:root:==============================================\n",
      "DEBUG:root:SSN in 9 dimensions converged in 22 iterations to tolerance 1.000E-14\n",
      "INFO:root:113: Phi:1.921E-11, support: 8\n",
      "INFO:root:==============================================\n",
      "DEBUG:root:SSN in 9 dimensions converged in 19 iterations to tolerance 1.000E-14\n",
      "INFO:root:114: Phi:1.486E-11, support: 8\n",
      "INFO:root:==============================================\n",
      "DEBUG:root:SSN in 9 dimensions converged in 22 iterations to tolerance 1.000E-14\n",
      "INFO:root:115: Phi:1.417E-11, support: 8\n",
      "INFO:root:==============================================\n",
      "DEBUG:root:SSN in 9 dimensions converged in 17 iterations to tolerance 1.000E-14\n",
      "INFO:root:116: Phi:1.736E-11, support: 8\n",
      "INFO:root:==============================================\n",
      "DEBUG:root:SSN in 9 dimensions converged in 21 iterations to tolerance 1.000E-14\n",
      "INFO:root:117: Phi:1.232E-11, support: 8\n",
      "INFO:root:==============================================\n",
      "DEBUG:root:SSN in 9 dimensions converged in 34 iterations to tolerance 1.000E-14\n",
      "INFO:root:118: Phi:6.004E-12, support: 7\n",
      "INFO:root:==============================================\n",
      "DEBUG:root:SSN in 8 dimensions converged in 18 iterations to tolerance 1.000E-14\n",
      "INFO:root:119: Phi:7.500E-12, support: 7\n",
      "INFO:root:==============================================\n",
      "DEBUG:root:SSN in 8 dimensions converged in 15 iterations to tolerance 1.000E-14\n",
      "INFO:root:120: Phi:3.715E-12, support: 7\n",
      "INFO:root:==============================================\n",
      "DEBUG:root:SSN in 8 dimensions converged in 17 iterations to tolerance 1.000E-14\n",
      "INFO:root:121: Phi:4.288E-12, support: 7\n",
      "INFO:root:==============================================\n",
      "DEBUG:root:SSN in 8 dimensions converged in 2 iterations to tolerance 1.000E-14\n",
      "INFO:root:122: Phi:3.806E-12, support: 8\n",
      "INFO:root:==============================================\n",
      "DEBUG:root:SSN in 9 dimensions converged in 21 iterations to tolerance 1.000E-14\n",
      "INFO:root:123: Phi:2.351E-12, support: 8\n",
      "INFO:root:==============================================\n",
      "DEBUG:root:SSN in 9 dimensions converged in 21 iterations to tolerance 1.000E-14\n",
      "INFO:root:124: Phi:1.909E-12, support: 8\n",
      "INFO:root:==============================================\n",
      "DEBUG:root:SSN in 9 dimensions converged in 15 iterations to tolerance 1.000E-14\n",
      "INFO:root:125: Phi:1.330E-12, support: 8\n",
      "INFO:root:==============================================\n",
      "DEBUG:root:SSN in 9 dimensions converged in 30 iterations to tolerance 1.000E-14\n",
      "INFO:root:126: Phi:1.176E-12, support: 7\n",
      "INFO:root:==============================================\n",
      "DEBUG:root:SSN in 8 dimensions converged in 3 iterations to tolerance 1.000E-14\n",
      "INFO:root:127: Phi:9.348E-13, support: 8\n",
      "INFO:root:==============================================\n",
      "DEBUG:root:SSN in 9 dimensions converged in 33 iterations to tolerance 1.000E-14\n",
      "INFO:root:128: Phi:5.835E-13, support: 7\n",
      "INFO:root:==============================================\n",
      "DEBUG:root:SSN in 8 dimensions converged in 21 iterations to tolerance 1.000E-14\n",
      "INFO:root:129: Phi:4.150E-13, support: 7\n",
      "INFO:root:==============================================\n",
      "DEBUG:root:SSN in 8 dimensions converged in 2 iterations to tolerance 1.000E-14\n",
      "INFO:root:130: Phi:4.863E-13, support: 8\n",
      "INFO:root:==============================================\n",
      "DEBUG:root:SSN in 9 dimensions converged in 21 iterations to tolerance 1.000E-14\n",
      "INFO:root:131: Phi:3.003E-13, support: 8\n",
      "INFO:root:==============================================\n",
      "DEBUG:root:SSN in 9 dimensions converged in 3 iterations to tolerance 1.000E-14\n",
      "INFO:root:132: Phi:3.472E-13, support: 9\n",
      "INFO:root:==============================================\n",
      "DEBUG:root:SSN in 10 dimensions converged in 31 iterations to tolerance 1.000E-14\n",
      "INFO:root:133: Phi:2.955E-13, support: 8\n",
      "INFO:root:==============================================\n",
      "DEBUG:root:SSN in 9 dimensions converged in 20 iterations to tolerance 1.000E-14\n",
      "INFO:root:134: Phi:2.421E-13, support: 8\n",
      "INFO:root:==============================================\n",
      "DEBUG:root:SSN in 9 dimensions converged in 2 iterations to tolerance 1.000E-14\n",
      "INFO:root:135: Phi:1.544E-13, support: 9\n",
      "INFO:root:==============================================\n",
      "DEBUG:root:SSN in 10 dimensions converged in 23 iterations to tolerance 1.000E-14\n",
      "INFO:root:136: Phi:1.459E-13, support: 9\n",
      "INFO:root:==============================================\n",
      "DEBUG:root:SSN in 10 dimensions converged in 20 iterations to tolerance 1.000E-14\n",
      "INFO:root:137: Phi:1.220E-13, support: 9\n",
      "INFO:root:==============================================\n",
      "DEBUG:root:SSN in 10 dimensions converged in 18 iterations to tolerance 1.000E-14\n",
      "INFO:root:138: Phi:9.098E-14, support: 9\n",
      "INFO:root:==============================================\n",
      "DEBUG:root:SSN in 10 dimensions converged in 20 iterations to tolerance 1.000E-14\n",
      "INFO:root:139: Phi:2.750E-13, support: 9\n",
      "INFO:root:==============================================\n",
      "DEBUG:root:SSN in 10 dimensions converged in 15 iterations to tolerance 1.000E-14\n",
      "INFO:root:140: Phi:8.185E-14, support: 9\n",
      "INFO:root:==============================================\n",
      "DEBUG:root:SSN in 10 dimensions converged in 18 iterations to tolerance 1.000E-14\n",
      "INFO:root:141: Phi:7.984E-14, support: 9\n",
      "INFO:root:==============================================\n",
      "DEBUG:root:SSN in 10 dimensions converged in 18 iterations to tolerance 1.000E-14\n",
      "INFO:root:142: Phi:4.986E-14, support: 9\n",
      "INFO:root:==============================================\n",
      "DEBUG:root:SSN in 10 dimensions converged in 17 iterations to tolerance 1.000E-14\n",
      "INFO:root:143: Phi:3.912E-14, support: 9\n",
      "INFO:root:==============================================\n",
      "DEBUG:root:SSN in 10 dimensions converged in 16 iterations to tolerance 1.000E-14\n",
      "INFO:root:144: Phi:3.897E-14, support: 9\n",
      "INFO:root:==============================================\n",
      "DEBUG:root:SSN in 10 dimensions converged in 27 iterations to tolerance 1.000E-14\n",
      "INFO:root:145: Phi:2.546E-14, support: 8\n",
      "INFO:root:==============================================\n",
      "DEBUG:root:SSN in 9 dimensions converged in 7 iterations to tolerance 1.000E-14\n",
      "INFO:root:146: Phi:1.879E-14, support: 9\n",
      "INFO:root:==============================================\n",
      "DEBUG:root:SSN in 10 dimensions converged in 8 iterations to tolerance 1.000E-14\n",
      "INFO:root:147: Phi:1.480E-14, support: 9\n",
      "INFO:root:==============================================\n",
      "DEBUG:root:SSN in 10 dimensions converged in 2 iterations to tolerance 1.000E-14\n",
      "INFO:root:148: Phi:2.014E-14, support: 10\n",
      "INFO:root:==============================================\n",
      "DEBUG:root:SSN in 11 dimensions converged in 8 iterations to tolerance 1.000E-14\n",
      "INFO:root:149: Phi:1.801E-14, support: 11\n",
      "INFO:root:==============================================\n",
      "DEBUG:root:SSN in 12 dimensions converged in 12 iterations to tolerance 1.000E-14\n",
      "INFO:root:150: Phi:9.427E-15, support: 11\n",
      "INFO:root:==============================================\n"
     ]
    }
   ],
   "source": [
    "u, P_values, times, supports, objective_values = exp.pdap(tol=1e-14)"
   ]
  },
  {
   "cell_type": "code",
   "execution_count": 21,
   "metadata": {},
   "outputs": [],
   "source": [
    "best = objective_values[-1]"
   ]
  },
  {
   "cell_type": "code",
   "execution_count": 22,
   "metadata": {},
   "outputs": [
    {
     "data": {
      "text/plain": [
       "array([2.38418579e-07, 4.18431044e-01, 1.04219627e+00, 1.63789558e+00,\n",
       "       2.19843435e+00, 2.71504903e+00, 3.20965147e+00, 3.77218604e+00,\n",
       "       4.25794053e+00, 4.72859573e+00, 5.18463206e+00, 5.63479400e+00,\n",
       "       6.11822319e+00, 6.62584686e+00, 7.09952021e+00, 7.59171414e+00,\n",
       "       8.05779266e+00, 8.52308035e+00, 8.99023223e+00, 9.47606373e+00,\n",
       "       9.98122334e+00, 1.04586179e+01, 1.09188306e+01, 1.13593760e+01,\n",
       "       1.18496115e+01, 1.23145330e+01, 1.27793734e+01, 1.32756631e+01,\n",
       "       1.37670116e+01, 1.42132204e+01, 1.47056115e+01, 1.51985340e+01,\n",
       "       1.57450454e+01, 1.62031600e+01, 1.67054157e+01, 1.71655104e+01,\n",
       "       1.76761296e+01, 1.81986217e+01, 1.86635735e+01, 1.92270210e+01,\n",
       "       1.97201936e+01, 2.01633193e+01, 2.06141446e+01, 2.10860300e+01,\n",
       "       2.15470774e+01, 2.20299225e+01, 2.24876997e+01, 2.29483402e+01,\n",
       "       2.34765096e+01, 2.39271548e+01, 2.43913689e+01, 2.48511713e+01,\n",
       "       2.52912235e+01, 2.57479277e+01, 2.61932025e+01, 2.66848056e+01,\n",
       "       2.71941602e+01, 2.76745391e+01, 2.82228057e+01, 2.87059350e+01,\n",
       "       2.91986158e+01, 2.96591918e+01, 3.01245105e+01, 3.06612763e+01,\n",
       "       3.11264818e+01, 3.15742009e+01, 3.20552256e+01, 3.25727258e+01,\n",
       "       3.30436082e+01, 3.34891362e+01, 3.39387319e+01, 3.43806977e+01,\n",
       "       3.48384211e+01, 3.53679311e+01, 3.58364646e+01, 3.63660131e+01,\n",
       "       3.68172412e+01, 3.72748618e+01, 3.77602508e+01, 3.82287908e+01,\n",
       "       3.87673748e+01, 3.92241173e+01, 3.96939936e+01, 4.02017732e+01,\n",
       "       4.06699452e+01, 4.11259463e+01, 4.15875406e+01, 4.20581708e+01,\n",
       "       4.25271938e+01, 4.30223765e+01, 4.34758615e+01, 4.39644716e+01,\n",
       "       4.44375000e+01, 4.49778056e+01, 4.54508140e+01, 4.59164860e+01,\n",
       "       4.63767626e+01, 4.68498464e+01, 4.73146791e+01, 4.77882526e+01,\n",
       "       4.82314572e+01, 4.86883800e+01, 4.91409876e+01, 4.96034687e+01,\n",
       "       5.00742497e+01, 5.05222995e+01, 5.09917245e+01, 5.14420888e+01,\n",
       "       5.18991868e+01, 5.23540108e+01, 5.28138382e+01, 5.32611294e+01,\n",
       "       5.37129498e+01, 5.41585860e+01, 5.46534677e+01, 5.51136198e+01,\n",
       "       5.56726067e+01, 5.61907368e+01, 5.66572742e+01, 5.71236105e+01,\n",
       "       5.75943654e+01, 5.80605803e+01, 5.85439079e+01, 5.90268407e+01,\n",
       "       5.94835589e+01, 5.99427421e+01, 6.04392116e+01])"
      ]
     },
     "execution_count": 22,
     "metadata": {},
     "output_type": "execute_result"
    }
   ],
   "source": [
    "np.array(times[:127])"
   ]
  },
  {
   "cell_type": "code",
   "execution_count": 23,
   "metadata": {},
   "outputs": [
    {
     "data": {
      "text/plain": [
       "array([0, 1, 2, 3, 4, 5, 6, 7, 8, 7, 7, 8, 9, 9, 9, 8, 8, 9, 9, 9, 9, 9,\n",
       "       8, 9, 8, 8, 9, 8, 9, 9, 9, 8, 8, 8, 8, 8, 9, 9, 9, 9, 9, 9, 8, 8,\n",
       "       8, 8, 9, 9, 8, 8, 8, 8, 8, 9, 9, 9, 9, 9, 9, 9, 9, 9, 9, 9, 9, 9,\n",
       "       8, 8, 8, 8, 8, 9, 9, 8, 8, 8, 8, 8, 7, 8, 8, 9, 9, 9, 9, 9, 9, 9,\n",
       "       8, 8, 8, 9, 9, 8, 8, 8, 8, 8, 8, 8, 8, 8, 8, 8, 8, 8, 8, 8, 8, 8,\n",
       "       8, 8, 8, 8, 8, 8, 8, 8, 7, 7, 7, 7, 8, 8, 8, 8, 7])"
      ]
     },
     "execution_count": 23,
     "metadata": {},
     "output_type": "execute_result"
    }
   ],
   "source": [
    "np.array(supports[:127])"
   ]
  },
  {
   "cell_type": "code",
   "execution_count": 24,
   "metadata": {},
   "outputs": [
    {
     "data": {
      "text/plain": [
       "array([2.56626430e+01, 5.56767886e+00, 2.59016866e+00, 1.62903637e+00,\n",
       "       2.29592885e-01, 1.29111897e-01, 6.02585416e-02, 5.81289511e-02,\n",
       "       5.43698664e-02, 4.28609944e-02, 2.43456507e-02, 2.24655449e-02,\n",
       "       2.19692476e-02, 1.97512429e-02, 1.45352924e-02, 1.17524225e-02,\n",
       "       8.37236242e-03, 8.03803951e-03, 7.27480820e-03, 5.49766958e-03,\n",
       "       4.74499614e-03, 4.33283646e-03, 3.06984433e-03, 3.03428454e-03,\n",
       "       2.57014224e-03, 2.25412115e-03, 2.23311030e-03, 1.77761494e-03,\n",
       "       1.74648370e-03, 1.02712726e-03, 1.00858173e-03, 7.05155795e-04,\n",
       "       4.57693553e-04, 3.73211215e-04, 3.33190434e-04, 3.26993069e-04,\n",
       "       3.19892763e-04, 2.76245761e-04, 2.23204779e-04, 2.02454957e-04,\n",
       "       1.54179009e-04, 1.15907286e-04, 8.63980535e-05, 6.07049270e-05,\n",
       "       5.67240418e-05, 4.57625429e-05, 4.45959475e-05, 4.10285053e-05,\n",
       "       3.04741290e-05, 1.81638719e-05, 1.30621429e-05, 1.09294757e-05,\n",
       "       1.01612381e-05, 9.32043324e-06, 8.04411016e-06, 5.27245165e-06,\n",
       "       4.24349354e-06, 3.14384592e-06, 2.27093697e-06, 2.09990078e-06,\n",
       "       1.54914535e-06, 1.32281388e-06, 1.21839882e-06, 7.01230133e-07,\n",
       "       5.11944746e-07, 4.95775988e-07, 2.81897793e-07, 2.65692097e-07,\n",
       "       2.43794268e-07, 2.04783395e-07, 1.51913784e-07, 1.42793265e-07,\n",
       "       1.19938613e-07, 1.02398590e-07, 8.53726974e-08, 6.44645053e-08,\n",
       "       4.03827174e-08, 2.99799419e-08, 2.78975285e-08, 2.69322259e-08,\n",
       "       1.81523095e-08, 1.70902468e-08, 1.22499430e-08, 1.18562841e-08,\n",
       "       1.04506356e-08, 9.08264025e-09, 4.52308146e-09, 3.98831332e-09,\n",
       "       2.17250190e-09, 1.77452125e-09, 1.67539874e-09, 1.45759801e-09,\n",
       "       1.33035957e-09, 6.07527556e-10, 5.27208888e-10, 5.16899079e-10,\n",
       "       4.39092374e-10, 4.29219077e-10, 2.96123653e-10, 2.32978747e-10,\n",
       "       2.23143504e-10, 1.82267534e-10, 1.35761957e-10, 1.09979997e-10,\n",
       "       1.05151166e-10, 6.88229196e-11, 4.99675856e-11, 4.72722694e-11,\n",
       "       2.55638011e-11, 2.36259623e-11, 2.24313901e-11, 1.96570815e-11,\n",
       "       1.70958525e-11, 8.63545346e-12, 7.26635419e-12, 4.30627756e-12,\n",
       "       4.00612876e-12, 3.83121312e-12, 2.72357137e-12, 2.26507701e-12,\n",
       "       1.90547578e-12, 1.68731695e-12, 1.61057279e-12, 1.28191902e-12,\n",
       "       9.30394650e-13, 8.47377724e-13, 4.85556040e-13])"
      ]
     },
     "execution_count": 24,
     "metadata": {},
     "output_type": "execute_result"
    }
   ],
   "source": [
    "objective_values[:127]-best"
   ]
  },
  {
   "cell_type": "code",
   "execution_count": 25,
   "metadata": {},
   "outputs": [
    {
     "name": "stdout",
     "output_type": "stream",
     "text": [
      "Measure with support [[0.2832272  0.71433139]\n",
      " [0.28322726 0.71433129]\n",
      " [0.28322729 0.71433135]\n",
      " [0.28322745 0.71433136]\n",
      " [0.49565836 0.23548626]\n",
      " [0.49565837 0.23548618]\n",
      " [0.49565841 0.23548619]\n",
      " [0.7305882  0.54790141]\n",
      " [0.73058828 0.54790142]\n",
      " [0.73058832 0.54790134]\n",
      " [0.73058842 0.54790129]] and coefficients [ 0.06428593  0.50386777  0.42333066  0.00420707 -0.23968759 -0.37173543\n",
      " -0.00615768  0.11494182  0.04807306  0.30986734  0.23925005]\n",
      "[4.17721413e-15]\n",
      "-6.938893903907228e-16\n"
     ]
    }
   ],
   "source": [
    "print(u)\n",
    "print(max([abs(abs(p(u)(x))-alpha) for x in u.support]))\n",
    "print(g(u.coefficients)-u.duality_pairing(p(u)))"
   ]
  },
  {
   "cell_type": "markdown",
   "metadata": {},
   "source": [
    "### Newton"
   ]
  },
  {
   "cell_type": "code",
   "execution_count": 57,
   "metadata": {},
   "outputs": [
    {
     "name": "stderr",
     "output_type": "stream",
     "text": [
      "DEBUG:root:SSN in 1 dimensions converged in 3 iterations to tolerance 1.000E-03\n",
      "INFO:root:1: choice: 0, lazy: True, support: 0, epsilon: 0.05000000000000001, objective: 2.590E+01, dropped: False\n",
      "INFO:root:1, 1: lazy: N/A, support: 1, epsilon: 0.05000000000000001, objective: 5.136E+00\n",
      "INFO:root:1, 2: lazy: N/A, support: 1, epsilon: 0.05000000000000001, objective: 5.129E+00\n",
      "INFO:root:1, 3: lazy: N/A, support: 1, epsilon: 0.05000000000000001, objective: 5.129E+00\n",
      "INFO:root:1, 4: lazy: True, support: 1, epsilon: 0.05000000000000001, objective: 5.129E+00\n",
      "INFO:root:False\n",
      "DEBUG:root:SSN in 3 dimensions converged in 3 iterations to tolerance 5.000E-04\n",
      "INFO:root:2: choice: 4, lazy: True, support: 2, epsilon: 0.05000000000000001, objective: 4.579E+00, dropped: False\n",
      "INFO:root:2, 1: lazy: N/A, support: 2, epsilon: 0.05000000000000001, objective: 2.779E+00\n",
      "INFO:root:2, 2: lazy: N/A, support: 2, epsilon: 0.05000000000000001, objective: 2.690E+00\n",
      "INFO:root:2, 3: lazy: N/A, support: 2, epsilon: 0.05000000000000001, objective: 2.689E+00\n",
      "INFO:root:2, 4: lazy: N/A, support: 2, epsilon: 0.05000000000000001, objective: 2.689E+00\n",
      "INFO:root:2, 5: lazy: True, support: 2, epsilon: 0.05000000000000001, objective: 2.689E+00\n",
      "INFO:root:False\n",
      "DEBUG:root:SSN in 3 dimensions converged in 2 iterations to tolerance 2.500E-04\n",
      "INFO:root:3: choice: 4, lazy: True, support: 3, epsilon: 0.05000000000000001, objective: 2.681E+00, dropped: False\n",
      "INFO:root:3, 1: lazy: N/A, support: 3, epsilon: 0.05000000000000001, objective: 5.618E+01\n",
      "INFO:root:[True, True, False]\n",
      "DEBUG:root:SSN in 4 dimensions converged in 2 iterations to tolerance 1.250E-04\n",
      "INFO:root:4: choice: 0, lazy: True, support: 3, epsilon: 0.05000000000000001, objective: 1.608E+00, dropped: False\n",
      "INFO:root:4, 1: lazy: N/A, support: 4, epsilon: 0.05000000000000001, objective: 7.337E+00\n",
      "INFO:root:[True, True, False]\n",
      "DEBUG:root:SSN in 5 dimensions converged in 2 iterations to tolerance 6.250E-05\n",
      "INFO:root:5: choice: 0, lazy: True, support: 4, epsilon: 0.05000000000000001, objective: 4.708E-01, dropped: False\n",
      "INFO:root:5, 1: lazy: N/A, support: 5, epsilon: 0.05000000000000001, objective: 2.649E-01\n",
      "INFO:root:5, 2: lazy: N/A, support: 5, epsilon: 0.05000000000000001, objective: 2.465E-01\n",
      "INFO:root:5, 3: lazy: N/A, support: 5, epsilon: 0.05000000000000001, objective: 2.443E-01\n",
      "INFO:root:5, 4: lazy: N/A, support: 5, epsilon: 0.05000000000000001, objective: 2.413E-01\n",
      "INFO:root:5, 5: lazy: N/A, support: 5, epsilon: 0.05000000000000001, objective: 2.504E-01\n",
      "INFO:root:[True, True, False]\n",
      "DEBUG:root:SSN in 6 dimensions converged in 4 iterations to tolerance 3.125E-05\n",
      "INFO:root:6: choice: 2, lazy: False, support: 5, epsilon: 0.004642735476314374, objective: 2.413E-01, dropped: False\n",
      "INFO:root:6, 1: lazy: N/A, support: 5, epsilon: 0.004642735476314374, objective: 2.442E-01\n",
      "INFO:root:[True, True, False]\n",
      "DEBUG:root:SSN in 6 dimensions converged in 2 iterations to tolerance 1.563E-05\n",
      "INFO:root:7: choice: 0, lazy: False, support: 5, epsilon: 0.00098167658421965, objective: 2.412E-01, dropped: False\n",
      "INFO:root:7, 1: lazy: N/A, support: 6, epsilon: 0.00098167658421965, objective: 2.869E-01\n",
      "INFO:root:[True, True, False]\n",
      "DEBUG:root:SSN in 7 dimensions converged in 2 iterations to tolerance 7.813E-06\n",
      "INFO:root:8: choice: 0, lazy: True, support: 6, epsilon: 0.00098167658421965, objective: 2.410E-01, dropped: False\n",
      "INFO:root:8, 1: lazy: N/A, support: 7, epsilon: 0.00098167658421965, objective: 2.492E-01\n",
      "INFO:root:[True, True, False]\n",
      "DEBUG:root:SSN in 8 dimensions converged in 7 iterations to tolerance 3.906E-06\n",
      "INFO:root:9: choice: 0, lazy: True, support: 7, epsilon: 0.00098167658421965, objective: 2.409E-01, dropped: False\n",
      "INFO:root:9, 1: lazy: N/A, support: 7, epsilon: 0.00098167658421965, objective: 2.449E-01\n",
      "INFO:root:[True, True, False]\n",
      "DEBUG:root:SSN in 8 dimensions converged in 8 iterations to tolerance 1.953E-06\n",
      "INFO:root:10: choice: 0, lazy: True, support: 7, epsilon: 0.00098167658421965, objective: 2.405E-01, dropped: False\n",
      "INFO:root:10, 1: lazy: N/A, support: 7, epsilon: 0.00098167658421965, objective: 2.427E-01\n",
      "INFO:root:[True, True, False]\n",
      "DEBUG:root:SSN in 8 dimensions converged in 2 iterations to tolerance 9.766E-07\n",
      "INFO:root:11: choice: 0, lazy: True, support: 7, epsilon: 0.00098167658421965, objective: 2.401E-01, dropped: False\n",
      "INFO:root:11, 1: lazy: N/A, support: 8, epsilon: 0.00098167658421965, objective: 2.397E-01\n",
      "INFO:root:11, 2: lazy: N/A, support: 8, epsilon: 0.00098167658421965, objective: 2.391E-01\n",
      "INFO:root:11, 3: lazy: N/A, support: 8, epsilon: 0.00098167658421965, objective: 2.391E-01\n",
      "INFO:root:11, 4: lazy: N/A, support: 8, epsilon: 0.00098167658421965, objective: 2.391E-01\n",
      "INFO:root:11, 5: lazy: N/A, support: 8, epsilon: 0.00098167658421965, objective: 2.391E-01\n",
      "INFO:root:11, 6: lazy: N/A, support: 8, epsilon: 0.00098167658421965, objective: 2.391E-01\n",
      "INFO:root:[True, True, False]\n",
      "DEBUG:root:SSN in 9 dimensions converged in 21 iterations to tolerance 4.883E-07\n",
      "INFO:root:12: choice: 2, lazy: False, support: 8, epsilon: 7.264042140410078e-05, objective: 2.391E-01, dropped: False\n",
      "INFO:root:12, 1: lazy: N/A, support: 3, epsilon: 0.00010293095357766347, objective: 2.391E-01\n",
      "INFO:root:12, 2: lazy: N/A, support: 3, epsilon: 0.00010293095357766347, objective: 2.391E-01\n",
      "INFO:root:12, 3: lazy: N/A, support: 3, epsilon: 0.00010293095357766347, objective: 2.391E-01\n",
      "INFO:root:12, 4: lazy: False, support: 3, epsilon: 2.5750743448206795e-15, objective: 2.391E-01\n"
     ]
    }
   ],
   "source": [
    "u, times, supports, inner_loop, lgcg_lazy, lgcg_total, objective_values, dropped_tot, epsilons = exp.newton(tol=1e-12, damped=False, drop_frequency=5)"
   ]
  },
  {
   "cell_type": "code",
   "execution_count": 27,
   "metadata": {},
   "outputs": [
    {
     "data": {
      "text/plain": [
       "0"
      ]
     },
     "execution_count": 27,
     "metadata": {},
     "output_type": "execute_result"
    }
   ],
   "source": [
    "dropped_tot"
   ]
  },
  {
   "cell_type": "code",
   "execution_count": 28,
   "metadata": {},
   "outputs": [
    {
     "data": {
      "text/plain": [
       "array([2.38418579e-07, 8.58068466e-03, 1.58250332e-02, 2.24006176e-02,\n",
       "       2.71444321e-02, 3.42092514e-02, 4.48961258e-02, 5.06410599e-02,\n",
       "       5.55870533e-02, 6.00469112e-02, 6.50849342e-02, 7.37345219e-02,\n",
       "       8.36610794e-02, 9.10894871e-02, 1.03396893e-01, 1.12055540e-01,\n",
       "       1.22375011e-01, 1.31371498e-01, 1.35909319e-01, 1.42207384e-01,\n",
       "       1.48448229e-01, 1.52497768e-01, 6.64011955e-01, 6.69476032e-01,\n",
       "       1.13512897e+00, 1.14139056e+00, 1.15211535e+00, 1.15993071e+00,\n",
       "       1.17336154e+00, 1.17960572e+00, 1.19218516e+00, 1.19767928e+00,\n",
       "       1.20940447e+00, 1.21699309e+00, 1.22190523e+00, 1.22762203e+00,\n",
       "       1.23251295e+00, 1.23861456e+00, 1.24325633e+00, 1.74201059e+00,\n",
       "       1.75251889e+00, 1.75891829e+00, 1.76313019e+00, 2.23953962e+00])"
      ]
     },
     "execution_count": 28,
     "metadata": {},
     "output_type": "execute_result"
    }
   ],
   "source": [
    "np.array(times)"
   ]
  },
  {
   "cell_type": "code",
   "execution_count": 29,
   "metadata": {},
   "outputs": [
    {
     "data": {
      "text/plain": [
       "array([0, 0, 1, 1, 1, 1, 2, 2, 2, 2, 2, 2, 3, 3, 3, 4, 4, 5, 5, 5, 5, 5,\n",
       "       5, 5, 5, 6, 6, 7, 7, 7, 7, 7, 7, 8, 8, 8, 8, 8, 8, 8, 3, 3, 3, 3])"
      ]
     },
     "execution_count": 29,
     "metadata": {},
     "output_type": "execute_result"
    }
   ],
   "source": [
    "np.array(supports)"
   ]
  },
  {
   "cell_type": "code",
   "execution_count": 58,
   "metadata": {},
   "outputs": [
    {
     "data": {
      "text/plain": [
       "array([[ 1.5,  5.5],\n",
       "       [ 6.5, 11.5],\n",
       "       [12.5, 13.5],\n",
       "       [14.5, 15.5],\n",
       "       [16.5, 21.5],\n",
       "       [22.5, 23.5],\n",
       "       [24.5, 25.5],\n",
       "       [26.5, 27.5],\n",
       "       [28.5, 29.5],\n",
       "       [30.5, 31.5],\n",
       "       [32.5, 38.5],\n",
       "       [39.5, 43.5]])"
      ]
     },
     "execution_count": 58,
     "metadata": {},
     "output_type": "execute_result"
    }
   ],
   "source": [
    "intervals = []\n",
    "current_inner = False\n",
    "for ind, i in enumerate(inner_loop):\n",
    "    if i:\n",
    "        if not current_inner:\n",
    "            start = ind-0.5\n",
    "            current_inner = True\n",
    "    else:\n",
    "        if current_inner:\n",
    "            end = ind-0.5\n",
    "            intervals.append((start,end))\n",
    "            current_inner = False\n",
    "if inner_loop[-1]:\n",
    "    end = len(inner_loop)-0.5\n",
    "    intervals.append((start,end))\n",
    "np.array(intervals)"
   ]
  },
  {
   "cell_type": "code",
   "execution_count": 31,
   "metadata": {},
   "outputs": [
    {
     "data": {
      "text/plain": [
       "array([ 2.56626430e+01,  2.56626430e+01,  4.89708109e+00,  4.89011091e+00,\n",
       "        4.89010890e+00,  4.89010890e+00,  4.34012696e+00,  2.54033247e+00,\n",
       "        2.45081702e+00,  2.45038785e+00,  2.45038403e+00,  2.45038403e+00,\n",
       "        2.44180213e+00,  5.59400919e+01,  1.36858216e+00,  7.09831576e+00,\n",
       "        2.31728190e-01,  2.57559619e-02,  7.34944225e-03,  5.19115390e-03,\n",
       "        2.17921964e-03,  1.12603642e-02,  2.17921964e-03,  5.11451882e-03,\n",
       "        2.13883343e-03,  4.77720606e-02,  1.92880717e-03,  1.01096838e-02,\n",
       "        1.83115153e-03,  5.76279967e-03,  1.36887058e-03,  3.60108190e-03,\n",
       "        1.00675861e-03,  6.40490808e-04,  3.87994516e-05,  5.21726647e-06,\n",
       "        2.81463712e-06,  6.20980579e-07,  9.66281955e-07,  6.20980579e-07,\n",
       "        9.36530484e-09, -5.05151476e-15, -5.24580379e-15, -5.24580379e-15])"
      ]
     },
     "execution_count": 31,
     "metadata": {},
     "output_type": "execute_result"
    }
   ],
   "source": [
    "objective_values-best"
   ]
  },
  {
   "cell_type": "code",
   "execution_count": 32,
   "metadata": {},
   "outputs": [
    {
     "data": {
      "text/plain": [
       "array([5.00000000e-02, 5.00000000e-02, 5.00000000e-02, 5.00000000e-02,\n",
       "       5.00000000e-02, 5.00000000e-02, 5.00000000e-02, 5.00000000e-02,\n",
       "       5.00000000e-02, 5.00000000e-02, 5.00000000e-02, 5.00000000e-02,\n",
       "       5.00000000e-02, 5.00000000e-02, 5.00000000e-02, 5.00000000e-02,\n",
       "       5.00000000e-02, 5.00000000e-02, 5.00000000e-02, 5.00000000e-02,\n",
       "       5.00000000e-02, 5.00000000e-02, 4.64273548e-03, 4.64273548e-03,\n",
       "       9.81676584e-04, 9.81676584e-04, 9.81676584e-04, 9.81676584e-04,\n",
       "       9.81676584e-04, 9.81676584e-04, 9.81676584e-04, 9.81676584e-04,\n",
       "       9.81676584e-04, 9.81676584e-04, 9.81676584e-04, 9.81676584e-04,\n",
       "       9.81676584e-04, 9.81676584e-04, 9.81676584e-04, 7.26404214e-05,\n",
       "       1.02930954e-04, 1.02930954e-04, 1.02930954e-04, 2.57507434e-15])"
      ]
     },
     "execution_count": 32,
     "metadata": {},
     "output_type": "execute_result"
    }
   ],
   "source": [
    "np.array(epsilons)"
   ]
  },
  {
   "cell_type": "code",
   "execution_count": 33,
   "metadata": {},
   "outputs": [
    {
     "name": "stdout",
     "output_type": "stream",
     "text": [
      "11\n",
      "15\n"
     ]
    }
   ],
   "source": [
    "print(lgcg_lazy)\n",
    "print(lgcg_total)"
   ]
  },
  {
   "cell_type": "code",
   "execution_count": 34,
   "metadata": {},
   "outputs": [
    {
     "name": "stdout",
     "output_type": "stream",
     "text": [
      "Measure with support [[0.28322727 0.71433132]\n",
      " [0.49565837 0.23548621]\n",
      " [0.73058833 0.54790134]] and coefficients [ 0.99569143 -0.6175807   0.71213226]\n",
      "[5.30131494e-15]\n",
      "-5.273559366969494e-16\n"
     ]
    }
   ],
   "source": [
    "print(u)\n",
    "print(max([abs(abs(p(u)(x))-alpha) for x in u.support]))\n",
    "print(g(u.coefficients)-u.duality_pairing(p(u)))"
   ]
  },
  {
   "cell_type": "code",
   "execution_count": 35,
   "metadata": {},
   "outputs": [
    {
     "data": {
      "text/plain": [
       "array([402.39077637, 272.29702435, 194.35314107,  68.45550406,\n",
       "        48.27005106,   1.82700374,   7.42624617,  18.87504406,\n",
       "        24.25981579])"
      ]
     },
     "execution_count": 35,
     "metadata": {},
     "output_type": "execute_result"
    }
   ],
   "source": [
    "hess = hess_j(u.support, u.coefficients)\n",
    "np.linalg.eig(hess).eigenvalues"
   ]
  },
  {
   "cell_type": "markdown",
   "metadata": {},
   "source": [
    "### Newton Damped"
   ]
  },
  {
   "cell_type": "code",
   "execution_count": 59,
   "metadata": {},
   "outputs": [
    {
     "name": "stderr",
     "output_type": "stream",
     "text": [
      "DEBUG:root:SSN in 1 dimensions converged in 3 iterations to tolerance 1.000E-03\n",
      "INFO:root:1: choice: 0, lazy: True, support: 0, epsilon: 0.05000000000000001, objective: 2.590E+01, dropped: False\n",
      "INFO:root:1, 1: lazy: N/A, support: 1, epsilon: 0.05000000000000001, objective: 5.820E+00\n",
      "INFO:root:1, 2: lazy: N/A, support: 1, epsilon: 0.05000000000000001, objective: 5.727E+00\n",
      "INFO:root:1, 3: lazy: N/A, support: 1, epsilon: 0.05000000000000001, objective: 5.644E+00\n",
      "INFO:root:1, 4: lazy: N/A, support: 1, epsilon: 0.05000000000000001, objective: 5.570E+00\n",
      "INFO:root:1, 5: lazy: N/A, support: 1, epsilon: 0.05000000000000001, objective: 5.505E+00\n",
      "INFO:root:1, 6: lazy: N/A, support: 1, epsilon: 0.05000000000000001, objective: 5.447E+00\n",
      "INFO:root:1, 7: lazy: N/A, support: 1, epsilon: 0.05000000000000001, objective: 5.396E+00\n",
      "INFO:root:1, 8: lazy: N/A, support: 1, epsilon: 0.05000000000000001, objective: 5.351E+00\n",
      "INFO:root:1, 9: lazy: N/A, support: 1, epsilon: 0.05000000000000001, objective: 5.312E+00\n",
      "INFO:root:1, 10: lazy: N/A, support: 1, epsilon: 0.05000000000000001, objective: 5.278E+00\n",
      "INFO:root:1, 11: lazy: N/A, support: 1, epsilon: 0.05000000000000001, objective: 5.249E+00\n",
      "INFO:root:1, 12: lazy: N/A, support: 1, epsilon: 0.05000000000000001, objective: 5.225E+00\n",
      "INFO:root:1, 13: lazy: N/A, support: 1, epsilon: 0.05000000000000001, objective: 5.204E+00\n",
      "INFO:root:1, 14: lazy: N/A, support: 1, epsilon: 0.05000000000000001, objective: 5.187E+00\n",
      "INFO:root:1, 15: lazy: N/A, support: 1, epsilon: 0.05000000000000001, objective: 5.173E+00\n",
      "INFO:root:1, 16: lazy: N/A, support: 1, epsilon: 0.05000000000000001, objective: 5.162E+00\n",
      "INFO:root:1, 17: lazy: N/A, support: 1, epsilon: 0.05000000000000001, objective: 5.153E+00\n",
      "INFO:root:1, 18: lazy: N/A, support: 1, epsilon: 0.05000000000000001, objective: 5.146E+00\n",
      "INFO:root:1, 19: lazy: N/A, support: 1, epsilon: 0.05000000000000001, objective: 5.140E+00\n",
      "INFO:root:1, 20: lazy: N/A, support: 1, epsilon: 0.05000000000000001, objective: 5.136E+00\n",
      "INFO:root:1, 21: lazy: N/A, support: 1, epsilon: 0.05000000000000001, objective: 5.134E+00\n",
      "INFO:root:1, 22: lazy: N/A, support: 1, epsilon: 0.05000000000000001, objective: 5.132E+00\n",
      "INFO:root:1, 23: lazy: N/A, support: 1, epsilon: 0.05000000000000001, objective: 5.131E+00\n",
      "INFO:root:1, 24: lazy: N/A, support: 1, epsilon: 0.05000000000000001, objective: 5.130E+00\n",
      "INFO:root:1, 25: lazy: N/A, support: 1, epsilon: 0.05000000000000001, objective: 5.129E+00\n",
      "INFO:root:1, 26: lazy: N/A, support: 1, epsilon: 0.05000000000000001, objective: 5.129E+00\n",
      "INFO:root:1, 27: lazy: N/A, support: 1, epsilon: 0.05000000000000001, objective: 5.129E+00\n",
      "INFO:root:1, 28: lazy: N/A, support: 1, epsilon: 0.05000000000000001, objective: 5.129E+00\n",
      "INFO:root:1, 29: lazy: N/A, support: 1, epsilon: 0.05000000000000001, objective: 5.129E+00\n",
      "INFO:root:1, 30: lazy: True, support: 1, epsilon: 0.05000000000000001, objective: 5.129E+00\n",
      "INFO:root:False\n",
      "DEBUG:root:SSN in 3 dimensions converged in 3 iterations to tolerance 5.000E-04\n",
      "INFO:root:2: choice: 4, lazy: True, support: 2, epsilon: 0.05000000000000001, objective: 4.579E+00, dropped: False\n",
      "INFO:root:2, 1: lazy: N/A, support: 2, epsilon: 0.05000000000000001, objective: 3.228E+00\n",
      "INFO:root:2, 2: lazy: N/A, support: 2, epsilon: 0.05000000000000001, objective: 3.125E+00\n",
      "INFO:root:2, 3: lazy: N/A, support: 2, epsilon: 0.05000000000000001, objective: 3.041E+00\n",
      "INFO:root:2, 4: lazy: N/A, support: 2, epsilon: 0.05000000000000001, objective: 2.971E+00\n",
      "INFO:root:2, 5: lazy: N/A, support: 2, epsilon: 0.05000000000000001, objective: 2.914E+00\n",
      "INFO:root:2, 6: lazy: N/A, support: 2, epsilon: 0.05000000000000001, objective: 2.867E+00\n",
      "INFO:root:2, 7: lazy: N/A, support: 2, epsilon: 0.05000000000000001, objective: 2.829E+00\n",
      "INFO:root:2, 8: lazy: N/A, support: 2, epsilon: 0.05000000000000001, objective: 2.798E+00\n",
      "INFO:root:2, 9: lazy: N/A, support: 2, epsilon: 0.05000000000000001, objective: 2.772E+00\n",
      "INFO:root:2, 10: lazy: N/A, support: 2, epsilon: 0.05000000000000001, objective: 2.752E+00\n",
      "INFO:root:2, 11: lazy: N/A, support: 2, epsilon: 0.05000000000000001, objective: 2.736E+00\n",
      "INFO:root:2, 12: lazy: N/A, support: 2, epsilon: 0.05000000000000001, objective: 2.723E+00\n",
      "INFO:root:2, 13: lazy: N/A, support: 2, epsilon: 0.05000000000000001, objective: 2.713E+00\n",
      "INFO:root:2, 14: lazy: N/A, support: 2, epsilon: 0.05000000000000001, objective: 2.706E+00\n",
      "INFO:root:2, 15: lazy: N/A, support: 2, epsilon: 0.05000000000000001, objective: 2.700E+00\n",
      "INFO:root:2, 16: lazy: N/A, support: 2, epsilon: 0.05000000000000001, objective: 2.696E+00\n",
      "INFO:root:2, 17: lazy: N/A, support: 2, epsilon: 0.05000000000000001, objective: 2.694E+00\n",
      "INFO:root:2, 18: lazy: N/A, support: 2, epsilon: 0.05000000000000001, objective: 2.692E+00\n",
      "INFO:root:2, 19: lazy: N/A, support: 2, epsilon: 0.05000000000000001, objective: 2.691E+00\n",
      "INFO:root:2, 20: lazy: N/A, support: 2, epsilon: 0.05000000000000001, objective: 2.690E+00\n",
      "INFO:root:2, 21: lazy: N/A, support: 2, epsilon: 0.05000000000000001, objective: 2.690E+00\n",
      "INFO:root:2, 22: lazy: N/A, support: 2, epsilon: 0.05000000000000001, objective: 2.690E+00\n",
      "INFO:root:2, 23: lazy: N/A, support: 2, epsilon: 0.05000000000000001, objective: 2.689E+00\n",
      "INFO:root:2, 24: lazy: N/A, support: 2, epsilon: 0.05000000000000001, objective: 2.689E+00\n",
      "INFO:root:2, 25: lazy: N/A, support: 2, epsilon: 0.05000000000000001, objective: 2.689E+00\n",
      "INFO:root:2, 26: lazy: True, support: 2, epsilon: 0.05000000000000001, objective: 2.689E+00\n",
      "INFO:root:False\n",
      "DEBUG:root:SSN in 3 dimensions converged in 2 iterations to tolerance 2.500E-04\n",
      "INFO:root:3: choice: 4, lazy: True, support: 3, epsilon: 0.05000000000000001, objective: 2.681E+00, dropped: False\n",
      "INFO:root:3, 1: lazy: N/A, support: 3, epsilon: 0.05000000000000001, objective: 2.161E+00\n",
      "INFO:root:[True, True, False]\n",
      "DEBUG:root:SSN in 4 dimensions converged in 2 iterations to tolerance 1.250E-04\n",
      "INFO:root:4: choice: 0, lazy: True, support: 3, epsilon: 0.05000000000000001, objective: 1.608E+00, dropped: False\n",
      "INFO:root:4, 1: lazy: N/A, support: 4, epsilon: 0.05000000000000001, objective: 4.979E-01\n",
      "INFO:root:[True, True, False]\n",
      "DEBUG:root:SSN in 5 dimensions converged in 2 iterations to tolerance 6.250E-05\n",
      "INFO:root:5: choice: 0, lazy: True, support: 4, epsilon: 0.05000000000000001, objective: 4.708E-01, dropped: False\n",
      "INFO:root:5, 1: lazy: N/A, support: 5, epsilon: 0.05000000000000001, objective: 3.236E-01\n",
      "INFO:root:5, 2: lazy: N/A, support: 5, epsilon: 0.05000000000000001, objective: 3.034E-01\n",
      "INFO:root:5, 3: lazy: N/A, support: 5, epsilon: 0.05000000000000001, objective: 2.868E-01\n",
      "INFO:root:5, 4: lazy: N/A, support: 5, epsilon: 0.05000000000000001, objective: 2.733E-01\n",
      "INFO:root:5, 5: lazy: N/A, support: 5, epsilon: 0.05000000000000001, objective: 2.627E-01\n",
      "INFO:root:5, 6: lazy: N/A, support: 5, epsilon: 0.05000000000000001, objective: 2.547E-01\n",
      "INFO:root:5, 7: lazy: N/A, support: 5, epsilon: 0.05000000000000001, objective: 2.490E-01\n",
      "INFO:root:5, 8: lazy: N/A, support: 5, epsilon: 0.05000000000000001, objective: 2.451E-01\n",
      "INFO:root:5, 9: lazy: N/A, support: 5, epsilon: 0.05000000000000001, objective: 2.426E-01\n",
      "INFO:root:5, 10: lazy: N/A, support: 5, epsilon: 0.05000000000000001, objective: 2.413E-01\n",
      "INFO:root:5, 11: lazy: N/A, support: 5, epsilon: 0.05000000000000001, objective: 2.406E-01\n",
      "INFO:root:5, 12: lazy: N/A, support: 5, epsilon: 0.05000000000000001, objective: 2.404E-01\n",
      "INFO:root:5, 13: lazy: N/A, support: 5, epsilon: 0.05000000000000001, objective: 2.399E-01\n",
      "INFO:root:5, 14: lazy: N/A, support: 5, epsilon: 0.05000000000000001, objective: 2.398E-01\n",
      "INFO:root:5, 15: lazy: N/A, support: 5, epsilon: 0.05000000000000001, objective: 2.396E-01\n",
      "INFO:root:5, 16: lazy: N/A, support: 5, epsilon: 0.05000000000000001, objective: 2.395E-01\n",
      "INFO:root:5, 17: lazy: N/A, support: 5, epsilon: 0.05000000000000001, objective: 2.394E-01\n",
      "INFO:root:5, 18: lazy: N/A, support: 5, epsilon: 0.05000000000000001, objective: 2.393E-01\n",
      "INFO:root:5, 19: lazy: N/A, support: 5, epsilon: 0.05000000000000001, objective: 2.392E-01\n",
      "INFO:root:5, 20: lazy: N/A, support: 5, epsilon: 0.05000000000000001, objective: 2.392E-01\n",
      "INFO:root:5, 21: lazy: N/A, support: 5, epsilon: 0.05000000000000001, objective: 2.392E-01\n",
      "INFO:root:5, 22: lazy: N/A, support: 5, epsilon: 0.05000000000000001, objective: 2.392E-01\n",
      "INFO:root:5, 23: lazy: N/A, support: 5, epsilon: 0.05000000000000001, objective: 2.391E-01\n",
      "INFO:root:5, 24: lazy: N/A, support: 5, epsilon: 0.05000000000000001, objective: 2.391E-01\n",
      "INFO:root:5, 25: lazy: N/A, support: 5, epsilon: 0.05000000000000001, objective: 2.391E-01\n",
      "INFO:root:5, 26: lazy: N/A, support: 5, epsilon: 0.05000000000000001, objective: 2.391E-01\n",
      "INFO:root:5, 27: lazy: N/A, support: 5, epsilon: 0.05000000000000001, objective: 2.391E-01\n",
      "INFO:root:5, 28: lazy: N/A, support: 5, epsilon: 0.05000000000000001, objective: 2.391E-01\n",
      "INFO:root:5, 29: lazy: N/A, support: 5, epsilon: 0.05000000000000001, objective: 2.391E-01\n",
      "INFO:root:5, 30: lazy: N/A, support: 5, epsilon: 0.05000000000000001, objective: 2.391E-01\n",
      "INFO:root:5, 31: lazy: N/A, support: 5, epsilon: 0.05000000000000001, objective: 2.391E-01\n",
      "INFO:root:5, 32: lazy: N/A, support: 5, epsilon: 0.05000000000000001, objective: 2.391E-01\n",
      "INFO:root:5, 33: lazy: N/A, support: 5, epsilon: 0.05000000000000001, objective: 2.391E-01\n",
      "INFO:root:5, 34: lazy: N/A, support: 5, epsilon: 0.05000000000000001, objective: 2.391E-01\n",
      "INFO:root:5, 35: lazy: N/A, support: 5, epsilon: 0.05000000000000001, objective: 2.391E-01\n",
      "INFO:root:5, 36: lazy: N/A, support: 5, epsilon: 0.05000000000000001, objective: 2.391E-01\n",
      "INFO:root:5, 37: lazy: False, support: 5, epsilon: 7.310779499971909e-06, objective: 2.391E-01\n",
      "INFO:root:5, 38: lazy: N/A, support: 5, epsilon: 7.310779499971909e-06, objective: 2.391E-01\n",
      "INFO:root:5, 39: lazy: N/A, support: 5, epsilon: 7.310779499971909e-06, objective: 2.391E-01\n",
      "INFO:root:5, 40: lazy: N/A, support: 5, epsilon: 7.310779499971909e-06, objective: 2.391E-01\n",
      "INFO:root:5, 41: lazy: N/A, support: 5, epsilon: 7.310779499971909e-06, objective: 2.391E-01\n",
      "INFO:root:5, 42: lazy: N/A, support: 5, epsilon: 7.310779499971909e-06, objective: 2.391E-01\n",
      "INFO:root:5, 43: lazy: N/A, support: 5, epsilon: 7.310779499971909e-06, objective: 2.391E-01\n",
      "INFO:root:5, 44: lazy: False, support: 5, epsilon: 1.2408608694482206e-09, objective: 2.391E-01\n",
      "INFO:root:5, 45: lazy: N/A, support: 5, epsilon: 1.2408608694482206e-09, objective: 2.391E-01\n",
      "INFO:root:[True, True, False]\n",
      "DEBUG:root:SSN in 6 dimensions converged in 2 iterations to tolerance 3.125E-05\n",
      "INFO:root:6: choice: 3, lazy: False, support: 5, epsilon: 7.841864898246786e-11, objective: 2.391E-01, dropped: False\n",
      "INFO:root:6, 1: lazy: N/A, support: 3, epsilon: 7.841864898246786e-11, objective: 2.391E-01\n",
      "INFO:root:6, 2: lazy: False, support: 3, epsilon: 4.745410793516092e-16, objective: 2.391E-01\n"
     ]
    }
   ],
   "source": [
    "u, times, supports, inner_loop, lgcg_lazy, lgcg_total, objective_values, dropped_tot, epsilons = exp.newton(tol=1e-12, damped=True, damping_root=1)"
   ]
  },
  {
   "cell_type": "code",
   "execution_count": 39,
   "metadata": {},
   "outputs": [
    {
     "data": {
      "text/plain": [
       "0"
      ]
     },
     "execution_count": 39,
     "metadata": {},
     "output_type": "execute_result"
    }
   ],
   "source": [
    "dropped_tot"
   ]
  },
  {
   "cell_type": "code",
   "execution_count": 40,
   "metadata": {},
   "outputs": [
    {
     "data": {
      "text/plain": [
       "array([2.38418579e-07, 1.18465424e-02, 1.88066959e-02, 3.02670002e-02,\n",
       "       3.56731415e-02, 4.15892601e-02, 4.72061634e-02, 5.34479618e-02,\n",
       "       5.88636398e-02, 6.60176277e-02, 7.19494820e-02, 7.80100822e-02,\n",
       "       8.42995644e-02, 9.02578831e-02, 9.55674648e-02, 1.00833416e-01,\n",
       "       1.06026888e-01, 1.11744165e-01, 1.17453814e-01, 1.22920036e-01,\n",
       "       1.29497290e-01, 1.34731770e-01, 1.39455080e-01, 1.44275904e-01,\n",
       "       1.49066925e-01, 1.53709173e-01, 1.60214901e-01, 1.65451527e-01,\n",
       "       1.70458794e-01, 1.74128771e-01, 1.78067923e-01, 1.85987234e-01,\n",
       "       1.94742441e-01, 2.02468872e-01, 2.07917213e-01, 2.13300467e-01,\n",
       "       2.19124079e-01, 2.24780560e-01, 2.29963303e-01, 2.35563278e-01,\n",
       "       2.41349936e-01, 2.46809959e-01, 2.52551556e-01, 2.58374214e-01,\n",
       "       2.63869286e-01, 2.69862652e-01, 2.75438786e-01, 2.80704975e-01,\n",
       "       2.86530972e-01, 2.92293787e-01, 2.97790527e-01, 3.03611517e-01,\n",
       "       3.09106588e-01, 3.14450979e-01, 3.20564985e-01, 3.25967073e-01,\n",
       "       3.31239223e-01, 3.36784840e-01, 3.47616196e-01, 3.59884501e-01,\n",
       "       3.67056370e-01, 3.79014015e-01, 3.86171341e-01, 3.97727966e-01,\n",
       "       4.06043291e-01, 4.11866188e-01, 4.17697191e-01, 4.23507214e-01,\n",
       "       4.29296255e-01, 4.34930801e-01, 4.41551924e-01, 4.47337866e-01,\n",
       "       4.53289986e-01, 4.60455894e-01, 4.66720819e-01, 4.71823931e-01,\n",
       "       4.77369308e-01, 4.81575727e-01, 4.86136436e-01, 4.93083239e-01,\n",
       "       4.97430325e-01, 5.01896620e-01, 5.07971048e-01, 5.13718128e-01,\n",
       "       5.19251823e-01, 5.25232077e-01, 5.31035900e-01, 5.36446571e-01,\n",
       "       5.41564941e-01, 5.47645330e-01, 5.53483486e-01, 5.59512377e-01,\n",
       "       5.64184189e-01, 5.68790436e-01, 5.74888706e-01, 5.80692530e-01,\n",
       "       5.86020231e-01, 5.90750217e-01, 5.95114470e-01, 5.99379301e-01,\n",
       "       1.12986779e+00, 1.13461661e+00, 1.13952637e+00, 1.14526129e+00,\n",
       "       1.15201259e+00, 1.15891647e+00, 1.16400099e+00, 1.72909522e+00,\n",
       "       1.73288012e+00, 2.23605609e+00, 2.24192357e+00, 2.72085690e+00])"
      ]
     },
     "execution_count": 40,
     "metadata": {},
     "output_type": "execute_result"
    }
   ],
   "source": [
    "np.array(times)"
   ]
  },
  {
   "cell_type": "code",
   "execution_count": 41,
   "metadata": {},
   "outputs": [
    {
     "data": {
      "text/plain": [
       "array([0, 0, 1, 1, 1, 1, 1, 1, 1, 1, 1, 1, 1, 1, 1, 1, 1, 1, 1, 1, 1, 1,\n",
       "       1, 1, 1, 1, 1, 1, 1, 1, 1, 1, 2, 2, 2, 2, 2, 2, 2, 2, 2, 2, 2, 2,\n",
       "       2, 2, 2, 2, 2, 2, 2, 2, 2, 2, 2, 2, 2, 2, 2, 3, 3, 3, 4, 4, 5, 5,\n",
       "       5, 5, 5, 5, 5, 5, 5, 5, 5, 5, 5, 5, 5, 5, 5, 5, 5, 5, 5, 5, 5, 5,\n",
       "       5, 5, 5, 5, 5, 5, 5, 5, 5, 5, 5, 5, 5, 5, 5, 5, 5, 5, 5, 5, 5, 5,\n",
       "       3, 3])"
      ]
     },
     "execution_count": 41,
     "metadata": {},
     "output_type": "execute_result"
    }
   ],
   "source": [
    "np.array(supports)"
   ]
  },
  {
   "cell_type": "code",
   "execution_count": 60,
   "metadata": {},
   "outputs": [
    {
     "data": {
      "text/plain": [
       "array([[  1.5,  31.5],\n",
       "       [ 32.5,  58.5],\n",
       "       [ 59.5,  60.5],\n",
       "       [ 61.5,  62.5],\n",
       "       [ 63.5, 108.5],\n",
       "       [109.5, 111.5]])"
      ]
     },
     "execution_count": 60,
     "metadata": {},
     "output_type": "execute_result"
    }
   ],
   "source": [
    "intervals = []\n",
    "current_inner = False\n",
    "for ind, i in enumerate(inner_loop):\n",
    "    if i:\n",
    "        if not current_inner:\n",
    "            start = ind-0.5\n",
    "            current_inner = True\n",
    "    else:\n",
    "        if current_inner:\n",
    "            end = ind-0.5\n",
    "            intervals.append((start,end))\n",
    "            current_inner = False\n",
    "if inner_loop[-1]:\n",
    "    end = len(inner_loop)-0.5\n",
    "    intervals.append((start,end))\n",
    "np.array(intervals)"
   ]
  },
  {
   "cell_type": "code",
   "execution_count": 43,
   "metadata": {},
   "outputs": [
    {
     "data": {
      "text/plain": [
       "array([ 2.56626430e+01,  2.56626430e+01,  5.58059645e+00,  5.48796890e+00,\n",
       "        5.40512051e+00,  5.33124615e+00,  5.26561178e+00,  5.20754251e+00,\n",
       "        5.15641318e+00,  5.11164078e+00,  5.07267844e+00,  5.03901064e+00,\n",
       "        5.01014947e+00,  4.98563174e+00,  4.96501690e+00,  4.94788559e+00,\n",
       "        4.93383879e+00,  4.92249752e+00,  4.91350301e+00,  4.90651728e+00,\n",
       "        4.90122407e+00,  4.89733011e+00,  4.89456651e+00,  4.89269039e+00,\n",
       "        4.89148647e+00,  4.89076860e+00,  4.89038100e+00,  4.89019920e+00,\n",
       "        4.89013023e+00,  4.89011170e+00,  4.89010902e+00,  4.89010890e+00,\n",
       "        4.33999529e+00,  2.98914704e+00,  2.88612695e+00,  2.80175517e+00,\n",
       "        2.73238891e+00,  2.67530300e+00,  2.62838259e+00,  2.58993972e+00,\n",
       "        2.55859749e+00,  2.53321361e+00,  2.51282810e+00,  2.49662636e+00,\n",
       "        2.48391236e+00,  2.47408865e+00,  2.46664089e+00,  2.46112563e+00,\n",
       "        2.45716031e+00,  2.45441508e+00,  2.45260605e+00,  2.45149023e+00,\n",
       "        2.45086213e+00,  2.45055216e+00,  2.45042690e+00,  2.45039033e+00,\n",
       "        2.45038435e+00,  2.45038403e+00,  2.45038403e+00,  2.44180252e+00,\n",
       "        1.92187709e+00,  1.36856873e+00,  2.58826851e-01,  2.31723685e-01,\n",
       "        8.44523956e-02,  6.43198817e-02,  4.76605998e-02,  3.41778920e-02,\n",
       "        2.36067793e-02,  1.56335457e-02,  9.88558465e-03,  5.96687498e-03,\n",
       "        3.50802494e-03,  2.17664391e-03,  1.50398039e-03,  1.26936686e-03,\n",
       "        8.40083715e-04,  6.58525347e-04,  5.13798969e-04,  3.61568333e-04,\n",
       "        2.71354125e-04,  2.01740919e-04,  1.46366799e-04,  1.04085072e-04,\n",
       "        7.32300878e-05,  5.08338078e-05,  3.42523758e-05,  2.25560667e-05,\n",
       "        1.42219101e-05,  8.59904104e-06,  4.92303146e-06,  2.62443141e-06,\n",
       "        1.30990153e-06,  5.83989615e-07,  2.39484132e-07,  8.40423202e-08,\n",
       "        2.61445970e-08,  6.86800292e-09,  1.53803512e-09,  2.96257657e-10,\n",
       "        4.93912689e-11,  7.38439865e-12,  1.01818554e-12,  1.30090383e-13,\n",
       "        1.21014310e-14, -3.02535774e-15, -4.96824804e-15, -5.19029264e-15,\n",
       "       -5.21804822e-15, -5.21804822e-15, -5.27355937e-15, -5.27355937e-15])"
      ]
     },
     "execution_count": 43,
     "metadata": {},
     "output_type": "execute_result"
    }
   ],
   "source": [
    "objective_values-best"
   ]
  },
  {
   "cell_type": "code",
   "execution_count": 44,
   "metadata": {},
   "outputs": [
    {
     "data": {
      "text/plain": [
       "array([5.00000000e-02, 5.00000000e-02, 5.00000000e-02, 5.00000000e-02,\n",
       "       5.00000000e-02, 5.00000000e-02, 5.00000000e-02, 5.00000000e-02,\n",
       "       5.00000000e-02, 5.00000000e-02, 5.00000000e-02, 5.00000000e-02,\n",
       "       5.00000000e-02, 5.00000000e-02, 5.00000000e-02, 5.00000000e-02,\n",
       "       5.00000000e-02, 5.00000000e-02, 5.00000000e-02, 5.00000000e-02,\n",
       "       5.00000000e-02, 5.00000000e-02, 5.00000000e-02, 5.00000000e-02,\n",
       "       5.00000000e-02, 5.00000000e-02, 5.00000000e-02, 5.00000000e-02,\n",
       "       5.00000000e-02, 5.00000000e-02, 5.00000000e-02, 5.00000000e-02,\n",
       "       5.00000000e-02, 5.00000000e-02, 5.00000000e-02, 5.00000000e-02,\n",
       "       5.00000000e-02, 5.00000000e-02, 5.00000000e-02, 5.00000000e-02,\n",
       "       5.00000000e-02, 5.00000000e-02, 5.00000000e-02, 5.00000000e-02,\n",
       "       5.00000000e-02, 5.00000000e-02, 5.00000000e-02, 5.00000000e-02,\n",
       "       5.00000000e-02, 5.00000000e-02, 5.00000000e-02, 5.00000000e-02,\n",
       "       5.00000000e-02, 5.00000000e-02, 5.00000000e-02, 5.00000000e-02,\n",
       "       5.00000000e-02, 5.00000000e-02, 5.00000000e-02, 5.00000000e-02,\n",
       "       5.00000000e-02, 5.00000000e-02, 5.00000000e-02, 5.00000000e-02,\n",
       "       5.00000000e-02, 5.00000000e-02, 5.00000000e-02, 5.00000000e-02,\n",
       "       5.00000000e-02, 5.00000000e-02, 5.00000000e-02, 5.00000000e-02,\n",
       "       5.00000000e-02, 5.00000000e-02, 5.00000000e-02, 5.00000000e-02,\n",
       "       5.00000000e-02, 5.00000000e-02, 5.00000000e-02, 5.00000000e-02,\n",
       "       5.00000000e-02, 5.00000000e-02, 5.00000000e-02, 5.00000000e-02,\n",
       "       5.00000000e-02, 5.00000000e-02, 5.00000000e-02, 5.00000000e-02,\n",
       "       5.00000000e-02, 5.00000000e-02, 5.00000000e-02, 5.00000000e-02,\n",
       "       5.00000000e-02, 5.00000000e-02, 5.00000000e-02, 5.00000000e-02,\n",
       "       5.00000000e-02, 5.00000000e-02, 5.00000000e-02, 5.00000000e-02,\n",
       "       7.31077950e-06, 7.31077950e-06, 7.31077950e-06, 7.31077950e-06,\n",
       "       7.31077950e-06, 7.31077950e-06, 7.31077950e-06, 1.24086087e-09,\n",
       "       1.24086087e-09, 7.84186490e-11, 7.84186490e-11, 4.74541079e-16])"
      ]
     },
     "execution_count": 44,
     "metadata": {},
     "output_type": "execute_result"
    }
   ],
   "source": [
    "np.array(epsilons)"
   ]
  },
  {
   "cell_type": "code",
   "execution_count": 45,
   "metadata": {},
   "outputs": [
    {
     "name": "stdout",
     "output_type": "stream",
     "text": [
      "7\n",
      "11\n"
     ]
    }
   ],
   "source": [
    "print(lgcg_lazy)\n",
    "print(lgcg_total)"
   ]
  },
  {
   "cell_type": "code",
   "execution_count": 46,
   "metadata": {},
   "outputs": [
    {
     "name": "stdout",
     "output_type": "stream",
     "text": [
      "Measure with support [[0.28322727 0.71433132]\n",
      " [0.49565837 0.23548621]\n",
      " [0.73058833 0.54790134]] and coefficients [ 0.99569143 -0.6175807   0.71213226]\n",
      "[1.99840144e-15]\n",
      "1.970645868709653e-15\n"
     ]
    }
   ],
   "source": [
    "print(u)\n",
    "print(max([abs(abs(p(u)(x))-alpha) for x in u.support]))\n",
    "print(g(u.coefficients)-u.duality_pairing(p(u)))"
   ]
  },
  {
   "cell_type": "markdown",
   "metadata": {},
   "source": [
    "### LPDAP"
   ]
  },
  {
   "cell_type": "code",
   "execution_count": 55,
   "metadata": {},
   "outputs": [
    {
     "name": "stderr",
     "output_type": "stream",
     "text": [
      "INFO:root:1: Step: GCG, Lazy True, Phi_k: 9.886E+03, epsilon: 5.000E-02, support: 0, dropped:False\n",
      "INFO:root:==============================================\n",
      "DEBUG:root:SSN in 1 dimensions converged in 3 iterations to tolerance 1.000E-03\n",
      "INFO:root:2: Step: GCG, Lazy True, Phi_k: 7.648E+02, epsilon: 5.000E-02, support: 1, dropped:False\n",
      "INFO:root:==============================================\n",
      "DEBUG:root:SSN in 2 dimensions converged in 3 iterations to tolerance 1.000E-03\n",
      "INFO:root:3: Step: GCG, Lazy True, Phi_k: 1.645E+02, epsilon: 5.000E-02, support: 2, dropped:False\n",
      "INFO:root:==============================================\n",
      "DEBUG:root:SSN in 3 dimensions converged in 2 iterations to tolerance 1.000E-03\n",
      "INFO:root:4: Step: GCG, Lazy True, Phi_k: 1.010E+02, epsilon: 5.000E-02, support: 3, dropped:False\n",
      "INFO:root:==============================================\n",
      "DEBUG:root:SSN in 4 dimensions converged in 2 iterations to tolerance 1.000E-03\n",
      "INFO:root:5: Step: GCG, Lazy True, Phi_k: 6.220E+00, epsilon: 5.000E-02, support: 4, dropped:False\n",
      "INFO:root:==============================================\n",
      "DEBUG:root:SSN in 5 dimensions converged in 2 iterations to tolerance 1.000E-03\n",
      "INFO:root:6: Step: GCG, Lazy True, Phi_k: 2.237E+00, epsilon: 5.000E-02, support: 5, dropped:False\n",
      "INFO:root:==============================================\n",
      "DEBUG:root:SSN in 6 dimensions converged in 2 iterations to tolerance 1.000E-03\n",
      "INFO:root:7: Step: GCG, Lazy True, Phi_k: 4.384E-01, epsilon: 5.000E-02, support: 6, dropped:False\n",
      "INFO:root:==============================================\n",
      "DEBUG:root:SSN in 7 dimensions converged in 2 iterations to tolerance 1.000E-03\n",
      "INFO:root:8: Step: GCG, Lazy True, Phi_k: 1.883E-01, epsilon: 5.000E-02, support: 7, dropped:False\n",
      "INFO:root:==============================================\n",
      "DEBUG:root:SSN in 8 dimensions converged in 2 iterations to tolerance 1.000E-03\n",
      "INFO:root:9: Step: GCG, Lazy True, Phi_k: 2.190E-01, epsilon: 5.000E-02, support: 8, dropped:False\n",
      "INFO:root:==============================================\n",
      "DEBUG:root:SSN in 9 dimensions converged in 3 iterations to tolerance 1.000E-03\n",
      "INFO:root:10: Step: GCG, Lazy False, Phi_k: 1.282E-01, epsilon: 2.284E-02, support: 7, dropped:False\n",
      "INFO:root:==============================================\n",
      "DEBUG:root:SSN in 8 dimensions converged in 3 iterations to tolerance 1.000E-03\n",
      "INFO:root:11: Step: GCG, Lazy True, Phi_k: 1.924E-01, epsilon: 2.284E-02, support: 7, dropped:False\n",
      "INFO:root:==============================================\n",
      "DEBUG:root:SSN in 8 dimensions converged in 2 iterations to tolerance 1.000E-03\n",
      "INFO:root:12: Step: GCG, Lazy True, Phi_k: 1.424E-01, epsilon: 2.284E-02, support: 8, dropped:False\n",
      "INFO:root:==============================================\n",
      "DEBUG:root:SSN in 9 dimensions converged in 2 iterations to tolerance 1.000E-03\n",
      "INFO:root:13: Step: GCG, Lazy True, Phi_k: 6.231E-02, epsilon: 2.284E-02, support: 9, dropped:False\n",
      "INFO:root:==============================================\n",
      "DEBUG:root:SSN in 10 dimensions converged in 3 iterations to tolerance 1.000E-03\n",
      "INFO:root:14: Step: GCG, Lazy False, Phi_k: 5.642E-02, epsilon: 1.109E-02, support: 8, dropped:False\n",
      "INFO:root:==============================================\n",
      "DEBUG:root:SSN in 9 dimensions converged in 3 iterations to tolerance 1.000E-03\n",
      "INFO:root:15: Step: GCG, Lazy True, Phi_k: 3.185E-02, epsilon: 1.109E-02, support: 8, dropped:False\n",
      "INFO:root:==============================================\n",
      "DEBUG:root:SSN in 9 dimensions converged in 3 iterations to tolerance 1.000E-03\n",
      "INFO:root:16: Step: GCG, Lazy False, Phi_k: 2.370E-02, epsilon: 4.755E-03, support: 8, dropped:False\n",
      "INFO:root:==============================================\n",
      "DEBUG:root:SSN in 9 dimensions converged in 2 iterations to tolerance 1.000E-03\n",
      "INFO:root:17: Step: GCG, Lazy True, Phi_k: 1.956E-02, epsilon: 4.755E-03, support: 9, dropped:False\n",
      "INFO:root:==============================================\n",
      "DEBUG:root:SSN in 10 dimensions converged in 2 iterations to tolerance 1.000E-03\n",
      "INFO:root:18: Step: GCG, Lazy True, Phi_k: 1.582E-02, epsilon: 4.755E-03, support: 10, dropped:False\n",
      "INFO:root:==============================================\n",
      "DEBUG:root:SSN in 11 dimensions converged in 7 iterations to tolerance 1.000E-03\n",
      "INFO:root:19: Step: GCG, Lazy True, Phi_k: 3.740E-02, epsilon: 4.755E-03, support: 9, dropped:False\n",
      "INFO:root:==============================================\n",
      "DEBUG:root:SSN in 10 dimensions converged in 2 iterations to tolerance 1.000E-03\n",
      "INFO:root:20: Step: GCG, Lazy True, Phi_k: 1.635E-02, epsilon: 4.755E-03, support: 10, dropped:False\n",
      "INFO:root:==============================================\n",
      "DEBUG:root:SSN in 11 dimensions converged in 4 iterations to tolerance 1.000E-03\n",
      "INFO:root:21: Step: GCG, Lazy True, Phi_k: 1.220E-02, epsilon: 4.755E-03, support: 9, dropped:False\n",
      "INFO:root:==============================================\n",
      "DEBUG:root:SSN in 10 dimensions converged in 3 iterations to tolerance 1.000E-03\n",
      "INFO:root:22: Step: GCG, Lazy False, Phi_k: 8.013E-03, epsilon: 1.647E-03, support: 9, dropped:False\n",
      "INFO:root:==============================================\n",
      "DEBUG:root:SSN in 10 dimensions converged in 6 iterations to tolerance 1.000E-03\n",
      "INFO:root:23: Step: GCG, Lazy True, Phi_k: 7.174E-03, epsilon: 1.647E-03, support: 8, dropped:False\n",
      "INFO:root:==============================================\n",
      "DEBUG:root:SSN in 9 dimensions converged in 3 iterations to tolerance 1.000E-03\n",
      "INFO:root:24: Step: GCG, Lazy True, Phi_k: 5.964E-03, epsilon: 1.647E-03, support: 8, dropped:False\n",
      "INFO:root:==============================================\n",
      "DEBUG:root:SSN in 9 dimensions converged in 5 iterations to tolerance 1.000E-03\n",
      "INFO:root:25: Step: GCG, Lazy False, Phi_k: 3.280E-03, epsilon: 6.802E-04, support: 8, dropped:False\n",
      "INFO:root:==============================================\n",
      "DEBUG:root:SSN in 9 dimensions converged in 3 iterations to tolerance 1.000E-03\n",
      "INFO:root:26: Step: GCG, Lazy True, Phi_k: 2.992E-03, epsilon: 6.802E-04, support: 8, dropped:False\n",
      "INFO:root:==============================================\n",
      "DEBUG:root:SSN in 9 dimensions converged in 4 iterations to tolerance 1.000E-03\n",
      "INFO:root:27: Step: GCG, Lazy True, Phi_k: 4.401E-03, epsilon: 6.802E-04, support: 8, dropped:False\n",
      "INFO:root:==============================================\n",
      "DEBUG:root:SSN in 9 dimensions converged in 2 iterations to tolerance 1.000E-03\n",
      "INFO:root:28: Step: GCG, Lazy True, Phi_k: 1.818E-03, epsilon: 6.802E-04, support: 9, dropped:False\n",
      "INFO:root:==============================================\n",
      "DEBUG:root:SSN in 10 dimensions converged in 2 iterations to tolerance 1.000E-03\n",
      "INFO:root:29: Step: GCG, Lazy True, Phi_k: 1.686E-03, epsilon: 6.802E-04, support: 10, dropped:False\n",
      "INFO:root:==============================================\n",
      "DEBUG:root:SSN in 11 dimensions converged in 5 iterations to tolerance 1.000E-03\n",
      "INFO:root:30: Step: GCG, Lazy True, Phi_k: 1.909E-03, epsilon: 6.802E-04, support: 9, dropped:False\n",
      "INFO:root:==============================================\n",
      "DEBUG:root:SSN in 10 dimensions converged in 4 iterations to tolerance 1.000E-03\n",
      "INFO:root:31: Step: GCG, Lazy False, Phi_k: 1.516E-03, epsilon: 3.162E-04, support: 9, dropped:False\n",
      "INFO:root:==============================================\n",
      "DEBUG:root:SSN in 10 dimensions converged in 3 iterations to tolerance 1.000E-03\n",
      "INFO:root:32: Step: GCG, Lazy True, Phi_k: 1.621E-03, epsilon: 3.162E-04, support: 9, dropped:False\n",
      "INFO:root:==============================================\n",
      "DEBUG:root:SSN in 10 dimensions converged in 2 iterations to tolerance 1.000E-03\n",
      "INFO:root:33: Step: GCG, Lazy False, Phi_k: 7.093E-04, epsilon: 1.481E-04, support: 10, dropped:False\n",
      "INFO:root:==============================================\n",
      "DEBUG:root:SSN in 11 dimensions converged in 3 iterations to tolerance 1.000E-03\n",
      "INFO:root:34: Step: GCG, Lazy True, Phi_k: 6.580E-04, epsilon: 1.481E-04, support: 10, dropped:False\n",
      "INFO:root:==============================================\n",
      "DEBUG:root:SSN in 11 dimensions converged in 3 iterations to tolerance 1.000E-03\n",
      "INFO:root:35: Step: GCG, Lazy True, Phi_k: 7.021E-04, epsilon: 1.481E-04, support: 10, dropped:False\n",
      "INFO:root:==============================================\n",
      "DEBUG:root:SSN in 11 dimensions converged in 2 iterations to tolerance 1.000E-03\n",
      "INFO:root:Recompute 1, Lazy: True, Psi_k:5.000E-04, Phi_k:5.134E-04, dropped:False\n",
      "DEBUG:root:SSN in 11 dimensions converged in 4 iterations to tolerance 5.000E-04\n",
      "INFO:root:Recompute 2, Lazy: False, Psi_k:2.500E-04, Phi_k:3.467E-04, dropped:False\n",
      "DEBUG:root:SSN in 11 dimensions converged in 7 iterations to tolerance 2.500E-04\n",
      "INFO:root:Recompute 3, Lazy: False, Psi_k:1.250E-04, Phi_k:3.390E-04, dropped:False\n",
      "DEBUG:root:SSN in 11 dimensions converged in 9 iterations to tolerance 1.250E-04\n",
      "INFO:root:36: Step: GCG, Lazy False, Phi_k: 3.111E-04, epsilon: 6.501E-05, support: 9, dropped:False\n",
      "INFO:root:==============================================\n",
      "DEBUG:root:SSN in 10 dimensions converged in 4 iterations to tolerance 1.250E-04\n",
      "INFO:root:37: Step: GCG, Lazy True, Phi_k: 2.965E-04, epsilon: 6.501E-05, support: 9, dropped:False\n",
      "INFO:root:==============================================\n",
      "DEBUG:root:SSN in 10 dimensions converged in 6 iterations to tolerance 1.250E-04\n",
      "INFO:root:38: Step: GCG, Lazy True, Phi_k: 2.916E-04, epsilon: 6.501E-05, support: 9, dropped:False\n",
      "INFO:root:==============================================\n",
      "DEBUG:root:SSN in 10 dimensions converged in 6 iterations to tolerance 1.250E-04\n",
      "INFO:root:39: Step: GCG, Lazy True, Phi_k: 2.867E-04, epsilon: 6.501E-05, support: 8, dropped:False\n",
      "INFO:root:==============================================\n",
      "DEBUG:root:SSN in 9 dimensions converged in 2 iterations to tolerance 1.250E-04\n",
      "INFO:root:Recompute 4, Lazy: True, Psi_k:6.250E-05, Phi_k:1.633E-04, dropped:False\n",
      "DEBUG:root:SSN in 9 dimensions converged in 5 iterations to tolerance 6.250E-05\n",
      "INFO:root:40: Step: GCG, Lazy True, Phi_k: 1.589E-04, epsilon: 6.501E-05, support: 8, dropped:False\n",
      "INFO:root:==============================================\n",
      "DEBUG:root:SSN in 9 dimensions converged in 7 iterations to tolerance 6.250E-05\n",
      "INFO:root:41: Step: GCG, Lazy False, Phi_k: 1.075E-04, epsilon: 2.246E-05, support: 8, dropped:False\n",
      "INFO:root:==============================================\n",
      "DEBUG:root:SSN in 9 dimensions converged in 2 iterations to tolerance 6.250E-05\n",
      "INFO:root:42: Step: GCG, Lazy True, Phi_k: 9.215E-05, epsilon: 2.246E-05, support: 9, dropped:False\n",
      "INFO:root:==============================================\n",
      "DEBUG:root:SSN in 10 dimensions converged in 4 iterations to tolerance 6.250E-05\n",
      "INFO:root:Recompute 5, Lazy: True, Psi_k:3.125E-05, Phi_k:7.083E-05, dropped:False\n",
      "DEBUG:root:SSN in 10 dimensions converged in 7 iterations to tolerance 3.125E-05\n",
      "INFO:root:43: Step: GCG, Lazy True, Phi_k: 7.499E-05, epsilon: 2.246E-05, support: 9, dropped:False\n",
      "INFO:root:==============================================\n",
      "DEBUG:root:SSN in 10 dimensions converged in 6 iterations to tolerance 3.125E-05\n",
      "INFO:root:44: Step: GCG, Lazy True, Phi_k: 8.224E-05, epsilon: 2.246E-05, support: 9, dropped:False\n",
      "INFO:root:==============================================\n",
      "DEBUG:root:SSN in 10 dimensions converged in 2 iterations to tolerance 3.125E-05\n",
      "INFO:root:45: Step: GCG, Lazy True, Phi_k: 7.606E-05, epsilon: 2.246E-05, support: 10, dropped:False\n",
      "INFO:root:==============================================\n",
      "DEBUG:root:SSN in 11 dimensions converged in 7 iterations to tolerance 3.125E-05\n",
      "INFO:root:Recompute 6, Lazy: False, Psi_k:1.563E-05, Phi_k:4.077E-05, dropped:False\n",
      "DEBUG:root:SSN in 11 dimensions converged in 10 iterations to tolerance 1.563E-05\n",
      "INFO:root:46: Step: GCG, Lazy False, Phi_k: 4.029E-05, epsilon: 8.424E-06, support: 8, dropped:False\n",
      "INFO:root:==============================================\n",
      "DEBUG:root:SSN in 9 dimensions converged in 6 iterations to tolerance 1.563E-05\n",
      "INFO:root:47: Step: GCG, Lazy True, Phi_k: 2.957E-05, epsilon: 8.424E-06, support: 8, dropped:False\n",
      "INFO:root:==============================================\n",
      "DEBUG:root:SSN in 9 dimensions converged in 6 iterations to tolerance 1.563E-05\n",
      "INFO:root:48: Step: GCG, Lazy True, Phi_k: 2.755E-05, epsilon: 8.424E-06, support: 8, dropped:False\n",
      "INFO:root:==============================================\n",
      "DEBUG:root:SSN in 9 dimensions converged in 2 iterations to tolerance 1.563E-05\n",
      "INFO:root:49: Step: GCG, Lazy True, Phi_k: 2.522E-05, epsilon: 8.424E-06, support: 9, dropped:False\n",
      "INFO:root:==============================================\n",
      "DEBUG:root:SSN in 10 dimensions converged in 2 iterations to tolerance 1.563E-05\n",
      "INFO:root:50: Step: GCG, Lazy True, Phi_k: 2.434E-05, epsilon: 8.424E-06, support: 10, dropped:False\n",
      "INFO:root:==============================================\n",
      "DEBUG:root:SSN in 11 dimensions converged in 2 iterations to tolerance 1.563E-05\n",
      "INFO:root:Recompute 7, Lazy: False, Psi_k:7.813E-06, Phi_k:1.986E-05, dropped:False\n",
      "DEBUG:root:SSN in 11 dimensions converged in 8 iterations to tolerance 7.813E-06\n",
      "INFO:root:51: Step: GCG, Lazy True, Phi_k: 2.017E-05, epsilon: 8.424E-06, support: 9, dropped:False\n",
      "INFO:root:==============================================\n",
      "DEBUG:root:SSN in 10 dimensions converged in 7 iterations to tolerance 7.813E-06\n",
      "INFO:root:Recompute 8, Lazy: False, Psi_k:3.906E-06, Phi_k:8.715E-06, dropped:False\n",
      "DEBUG:root:SSN in 10 dimensions converged in 10 iterations to tolerance 3.906E-06\n",
      "INFO:root:52: Step: GCG, Lazy False, Phi_k: 8.685E-06, epsilon: 1.816E-06, support: 8, dropped:False\n",
      "INFO:root:==============================================\n",
      "DEBUG:root:SSN in 9 dimensions converged in 5 iterations to tolerance 3.906E-06\n",
      "INFO:root:53: Step: LSI, Lazy True, Phi_k: 8.966E-06, epsilon: 1.816E-06, support: 8, dropped:False\n",
      "INFO:root:==============================================\n",
      "DEBUG:root:SSN in 11 dimensions converged in 8 iterations to tolerance 3.906E-06\n",
      "INFO:root:54: Step: LSI, Lazy True, Phi_k: 8.844E-06, epsilon: 1.816E-06, support: 10, dropped:False\n",
      "INFO:root:==============================================\n",
      "DEBUG:root:SSN in 13 dimensions converged in 2 iterations to tolerance 3.906E-06\n",
      "INFO:root:Recompute 9, Lazy: False, Psi_k:1.953E-06, Phi_k:3.902E-06, dropped:False\n",
      "DEBUG:root:SSN in 13 dimensions converged in 15 iterations to tolerance 1.953E-06\n",
      "INFO:root:Recompute 10, Lazy: False, Psi_k:9.766E-07, Phi_k:2.364E-06, dropped:False\n",
      "DEBUG:root:SSN in 13 dimensions converged in 21 iterations to tolerance 9.766E-07\n",
      "INFO:root:55: Step: GCG, Lazy False, Phi_k: 2.105E-06, epsilon: 4.402E-07, support: 9, dropped:False\n",
      "INFO:root:==============================================\n",
      "DEBUG:root:SSN in 10 dimensions converged in 6 iterations to tolerance 9.766E-07\n",
      "INFO:root:Recompute 11, Lazy: True, Psi_k:4.883E-07, Phi_k:1.693E-06, dropped:False\n",
      "DEBUG:root:SSN in 10 dimensions converged in 13 iterations to tolerance 4.883E-07\n",
      "INFO:root:56: Step: GCG, Lazy True, Phi_k: 2.415E-06, epsilon: 4.402E-07, support: 8, dropped:False\n",
      "INFO:root:==============================================\n",
      "DEBUG:root:SSN in 9 dimensions converged in 6 iterations to tolerance 4.883E-07\n",
      "INFO:root:57: Step: LSI, Lazy True, Phi_k: 1.753E-06, epsilon: 4.402E-07, support: 8, dropped:False\n",
      "INFO:root:==============================================\n",
      "DEBUG:root:SSN in 11 dimensions converged in 16 iterations to tolerance 4.883E-07\n",
      "INFO:root:58: Step: GCG, Lazy True, Phi_k: 1.552E-06, epsilon: 4.402E-07, support: 8, dropped:False\n",
      "INFO:root:==============================================\n",
      "DEBUG:root:SSN in 9 dimensions converged in 2 iterations to tolerance 4.883E-07\n",
      "INFO:root:59: Step: GCG, Lazy False, Phi_k: 6.553E-07, epsilon: 1.370E-07, support: 9, dropped:False\n",
      "INFO:root:==============================================\n",
      "DEBUG:root:SSN in 10 dimensions converged in 2 iterations to tolerance 4.883E-07\n",
      "INFO:root:Recompute 12, Lazy: True, Psi_k:2.441E-07, Phi_k:5.610E-07, dropped:False\n",
      "DEBUG:root:SSN in 10 dimensions converged in 6 iterations to tolerance 2.441E-07\n",
      "INFO:root:60: Step: GCG, Lazy True, Phi_k: 5.792E-07, epsilon: 1.370E-07, support: 9, dropped:False\n",
      "INFO:root:==============================================\n",
      "DEBUG:root:SSN in 10 dimensions converged in 7 iterations to tolerance 2.441E-07\n",
      "INFO:root:61: Step: LSI, Lazy True, Phi_k: 5.691E-07, epsilon: 1.370E-07, support: 9, dropped:False\n",
      "INFO:root:==============================================\n",
      "DEBUG:root:SSN in 12 dimensions converged in 11 iterations to tolerance 2.441E-07\n",
      "INFO:root:Recompute 13, Lazy: False, Psi_k:1.221E-07, Phi_k:2.417E-07, dropped:False\n",
      "DEBUG:root:SSN in 12 dimensions converged in 19 iterations to tolerance 1.221E-07\n",
      "INFO:root:62: Step: GCG, Lazy False, Phi_k: 2.922E-07, epsilon: 6.110E-08, support: 8, dropped:False\n",
      "INFO:root:==============================================\n",
      "DEBUG:root:SSN in 9 dimensions converged in 15 iterations to tolerance 1.221E-07\n",
      "INFO:root:63: Step: GCG, Lazy True, Phi_k: 1.908E-07, epsilon: 6.110E-08, support: 7, dropped:False\n",
      "INFO:root:==============================================\n",
      "DEBUG:root:SSN in 8 dimensions converged in 2 iterations to tolerance 1.221E-07\n",
      "INFO:root:64: Step: LSI, Lazy True, Phi_k: 1.672E-07, epsilon: 6.110E-08, support: 8, dropped:False\n",
      "INFO:root:==============================================\n",
      "DEBUG:root:SSN in 11 dimensions converged in 2 iterations to tolerance 1.221E-07\n",
      "INFO:root:Recompute 14, Lazy: False, Psi_k:6.104E-08, Phi_k:1.065E-07, dropped:False\n",
      "DEBUG:root:SSN in 11 dimensions converged in 14 iterations to tolerance 6.104E-08\n",
      "INFO:root:65: Step: GCG, Lazy False, Phi_k: 1.132E-07, epsilon: 2.367E-08, support: 9, dropped:False\n",
      "INFO:root:==============================================\n",
      "DEBUG:root:SSN in 10 dimensions converged in 2 iterations to tolerance 6.104E-08\n",
      "INFO:root:66: Step: LSI, Lazy True, Phi_k: 5.773E-08, epsilon: 2.367E-08, support: 10, dropped:False\n",
      "INFO:root:==============================================\n",
      "DEBUG:root:SSN in 13 dimensions converged in 2 iterations to tolerance 6.104E-08\n",
      "INFO:root:Recompute 15, Lazy: False, Psi_k:3.052E-08, Phi_k:5.125E-08, dropped:False\n",
      "DEBUG:root:SSN in 13 dimensions converged in 22 iterations to tolerance 3.052E-08\n",
      "INFO:root:67: Step: GCG, Lazy False, Phi_k: 3.982E-08, epsilon: 8.327E-09, support: 10, dropped:False\n",
      "INFO:root:==============================================\n",
      "DEBUG:root:SSN in 11 dimensions converged in 4 iterations to tolerance 3.052E-08\n",
      "INFO:root:Recompute 16, Lazy: True, Psi_k:1.526E-08, Phi_k:3.354E-08, dropped:False\n",
      "DEBUG:root:SSN in 11 dimensions converged in 12 iterations to tolerance 1.526E-08\n",
      "INFO:root:68: Step: GCG, Lazy True, Phi_k: 2.747E-08, epsilon: 8.327E-09, support: 9, dropped:False\n",
      "INFO:root:==============================================\n",
      "DEBUG:root:SSN in 10 dimensions converged in 9 iterations to tolerance 1.526E-08\n",
      "INFO:root:Recompute 17, Lazy: True, Psi_k:7.629E-09, Phi_k:2.134E-08, dropped:False\n",
      "DEBUG:root:SSN in 10 dimensions converged in 11 iterations to tolerance 7.629E-09\n",
      "INFO:root:69: Step: GCG, Lazy True, Phi_k: 2.217E-08, epsilon: 8.327E-09, support: 9, dropped:False\n",
      "INFO:root:==============================================\n",
      "DEBUG:root:SSN in 10 dimensions converged in 10 iterations to tolerance 7.629E-09\n",
      "INFO:root:70: Step: LSI, Lazy True, Phi_k: 2.525E-08, epsilon: 8.327E-09, support: 8, dropped:False\n",
      "INFO:root:==============================================\n",
      "DEBUG:root:SSN in 11 dimensions converged in 13 iterations to tolerance 7.629E-09\n",
      "INFO:root:71: Step: LSI, Lazy True, Phi_k: 7.804E-08, epsilon: 8.327E-09, support: 9, dropped:False\n",
      "INFO:root:==============================================\n",
      "DEBUG:root:SSN in 12 dimensions converged in 11 iterations to tolerance 7.629E-09\n",
      "INFO:root:72: Step: LSI, Lazy True, Phi_k: 2.154E-08, epsilon: 8.327E-09, support: 11, dropped:False\n",
      "INFO:root:==============================================\n",
      "DEBUG:root:SSN in 14 dimensions converged in 11 iterations to tolerance 7.629E-09\n",
      "INFO:root:Recompute 18, Lazy: False, Psi_k:3.815E-09, Phi_k:8.692E-09, dropped:False\n",
      "DEBUG:root:SSN in 14 dimensions converged in 17 iterations to tolerance 3.815E-09\n",
      "INFO:root:73: Step: LSI, Lazy False, Phi_k: 6.908E-09, epsilon: 1.445E-09, support: 11, dropped:False\n",
      "INFO:root:==============================================\n",
      "DEBUG:root:SSN in 14 dimensions converged in 9 iterations to tolerance 3.815E-09\n",
      "INFO:root:Recompute 19, Lazy: True, Psi_k:1.907E-09, Phi_k:4.445E-09, dropped:False\n",
      "DEBUG:root:SSN in 14 dimensions converged in 17 iterations to tolerance 1.907E-09\n",
      "INFO:root:74: Step: LSI, Lazy True, Phi_k: 3.721E-09, epsilon: 1.445E-09, support: 12, dropped:False\n",
      "INFO:root:==============================================\n",
      "DEBUG:root:SSN in 15 dimensions converged in 32 iterations to tolerance 1.907E-09\n",
      "INFO:root:Recompute 20, Lazy: False, Psi_k:9.537E-10, Phi_k:2.085E-09, dropped:False\n",
      "DEBUG:root:SSN in 15 dimensions converged in 45 iterations to tolerance 9.537E-10\n",
      "INFO:root:Recompute 21, Lazy: False, Psi_k:4.768E-10, Phi_k:1.559E-09, dropped:False\n",
      "DEBUG:root:SSN in 15 dimensions converged in 54 iterations to tolerance 4.768E-10\n",
      "INFO:root:75: Step: LSI, Lazy False, Phi_k: 1.513E-09, epsilon: 3.165E-10, support: 10, dropped:False\n",
      "INFO:root:==============================================\n",
      "DEBUG:root:SSN in 13 dimensions converged in 36 iterations to tolerance 4.768E-10\n",
      "INFO:root:76: Step: GCG, Lazy True, Phi_k: 7.864E-10, epsilon: 3.165E-10, support: 9, dropped:False\n",
      "INFO:root:==============================================\n",
      "DEBUG:root:SSN in 10 dimensions converged in 9 iterations to tolerance 4.768E-10\n",
      "INFO:root:Recompute 22, Lazy: False, Psi_k:2.384E-10, Phi_k:5.531E-10, dropped:False\n",
      "DEBUG:root:SSN in 10 dimensions converged in 10 iterations to tolerance 2.384E-10\n",
      "INFO:root:77: Step: GCG, Lazy False, Phi_k: 5.114E-10, epsilon: 1.069E-10, support: 9, dropped:False\n",
      "INFO:root:==============================================\n",
      "DEBUG:root:SSN in 10 dimensions converged in 11 iterations to tolerance 2.384E-10\n",
      "INFO:root:Recompute 23, Lazy: False, Psi_k:1.192E-10, Phi_k:2.438E-10, dropped:False\n",
      "DEBUG:root:SSN in 10 dimensions converged in 14 iterations to tolerance 1.192E-10\n",
      "INFO:root:78: Step: GCG, Lazy True, Phi_k: 2.681E-10, epsilon: 1.069E-10, support: 9, dropped:False\n",
      "INFO:root:==============================================\n",
      "DEBUG:root:SSN in 10 dimensions converged in 12 iterations to tolerance 1.192E-10\n",
      "INFO:root:79: Step: LSI, Lazy True, Phi_k: 4.620E-10, epsilon: 1.069E-10, support: 9, dropped:False\n",
      "INFO:root:==============================================\n",
      "DEBUG:root:SSN in 12 dimensions converged in 29 iterations to tolerance 1.192E-10\n",
      "INFO:root:Recompute 24, Lazy: False, Psi_k:5.960E-11, Phi_k:1.422E-10, dropped:False\n",
      "DEBUG:root:SSN in 12 dimensions converged in 32 iterations to tolerance 5.960E-11\n",
      "INFO:root:80: Step: LSI, Lazy False, Phi_k: 1.364E-10, epsilon: 2.852E-11, support: 9, dropped:False\n",
      "INFO:root:==============================================\n",
      "DEBUG:root:SSN in 12 dimensions converged in 29 iterations to tolerance 5.960E-11\n",
      "INFO:root:Recompute 25, Lazy: True, Psi_k:2.980E-11, Phi_k:9.140E-11, dropped:False\n",
      "DEBUG:root:SSN in 12 dimensions converged in 32 iterations to tolerance 2.980E-11\n",
      "INFO:root:81: Step: LSI, Lazy True, Phi_k: 1.253E-10, epsilon: 2.852E-11, support: 9, dropped:False\n",
      "INFO:root:==============================================\n",
      "DEBUG:root:SSN in 12 dimensions converged in 41 iterations to tolerance 2.980E-11\n",
      "INFO:root:Recompute 26, Lazy: False, Psi_k:1.490E-11, Phi_k:4.319E-11, dropped:False\n",
      "DEBUG:root:SSN in 12 dimensions converged in 46 iterations to tolerance 1.490E-11\n",
      "INFO:root:82: Step: LSI, Lazy False, Phi_k: 4.532E-11, epsilon: 9.477E-12, support: 8, dropped:False\n",
      "INFO:root:==============================================\n",
      "DEBUG:root:SSN in 11 dimensions converged in 29 iterations to tolerance 1.490E-11\n",
      "INFO:root:Recompute 27, Lazy: True, Psi_k:7.451E-12, Phi_k:2.677E-11, dropped:False\n",
      "DEBUG:root:SSN in 11 dimensions converged in 32 iterations to tolerance 7.451E-12\n",
      "INFO:root:83: Step: GCG, Lazy True, Phi_k: 2.277E-11, epsilon: 9.477E-12, support: 8, dropped:False\n",
      "INFO:root:==============================================\n",
      "DEBUG:root:SSN in 9 dimensions converged in 17 iterations to tolerance 7.451E-12\n",
      "INFO:root:84: Step: GCG, Lazy False, Phi_k: 2.073E-11, epsilon: 4.335E-12, support: 7, dropped:False\n",
      "INFO:root:==============================================\n",
      "DEBUG:root:SSN in 8 dimensions converged in 2 iterations to tolerance 7.451E-12\n",
      "INFO:root:85: Step: GCG, Lazy True, Phi_k: 1.112E-11, epsilon: 4.335E-12, support: 8, dropped:False\n",
      "INFO:root:==============================================\n",
      "DEBUG:root:SSN in 9 dimensions converged in 2 iterations to tolerance 7.451E-12\n",
      "INFO:root:Recompute 28, Lazy: False, Psi_k:3.725E-12, Phi_k:6.393E-12, dropped:False\n",
      "DEBUG:root:SSN in 9 dimensions converged in 12 iterations to tolerance 3.725E-12\n",
      "INFO:root:86: Step: GCG, Lazy False, Phi_k: 6.584E-12, epsilon: 1.377E-12, support: 8, dropped:False\n",
      "INFO:root:==============================================\n",
      "DEBUG:root:SSN in 9 dimensions converged in 13 iterations to tolerance 3.725E-12\n",
      "INFO:root:87: Step: LSI, Lazy True, Phi_k: 7.167E-12, epsilon: 1.377E-12, support: 8, dropped:False\n",
      "INFO:root:==============================================\n",
      "DEBUG:root:SSN in 11 dimensions converged in 9 iterations to tolerance 3.725E-12\n",
      "INFO:root:Recompute 29, Lazy: True, Psi_k:1.863E-12, Phi_k:6.323E-12, dropped:False\n",
      "DEBUG:root:SSN in 11 dimensions converged in 19 iterations to tolerance 1.863E-12\n",
      "INFO:root:88: Step: GCG, Lazy True, Phi_k: 9.038E-12, epsilon: 1.377E-12, support: 9, dropped:False\n",
      "INFO:root:==============================================\n",
      "DEBUG:root:SSN in 10 dimensions converged in 24 iterations to tolerance 1.863E-12\n",
      "INFO:root:89: Step: LSI, Lazy True, Phi_k: 3.402E-12, epsilon: 1.377E-12, support: 8, dropped:False\n",
      "INFO:root:==============================================\n",
      "DEBUG:root:SSN in 11 dimensions converged in 2 iterations to tolerance 1.863E-12\n",
      "INFO:root:Recompute 30, Lazy: False, Psi_k:1.000E-12, Phi_k:2.344E-12, dropped:False\n",
      "DEBUG:root:SSN in 11 dimensions converged in 21 iterations to tolerance 1.000E-12\n",
      "INFO:root:90: Step: GCG, Lazy False, Phi_k: 1.910E-12, epsilon: 3.995E-13, support: 9, dropped:False\n",
      "INFO:root:==============================================\n",
      "DEBUG:root:SSN in 10 dimensions converged in 2 iterations to tolerance 1.000E-12\n",
      "INFO:root:91: Step: GCG, Lazy True, Phi_k: 1.697E-12, epsilon: 3.995E-13, support: 10, dropped:False\n",
      "INFO:root:==============================================\n",
      "DEBUG:root:SSN in 11 dimensions converged in 9 iterations to tolerance 1.000E-12\n",
      "INFO:root:92: Step: GCG, Lazy True, Phi_k: 1.042E-12, epsilon: 3.995E-13, support: 10, dropped:False\n",
      "INFO:root:==============================================\n",
      "DEBUG:root:SSN in 11 dimensions converged in 2 iterations to tolerance 1.000E-12\n",
      "INFO:root:93: Step: LSI, Lazy True, Phi_k: 9.823E-13, epsilon: 3.995E-13, support: 11, dropped:False\n",
      "INFO:root:==============================================\n"
     ]
    }
   ],
   "source": [
    "u, Phi_ks, times, supports, objective_values, dropped_tot, epsilons = exp.lpdap(tol=1e-12)"
   ]
  },
  {
   "cell_type": "code",
   "execution_count": 48,
   "metadata": {},
   "outputs": [
    {
     "data": {
      "text/plain": [
       "0"
      ]
     },
     "execution_count": 48,
     "metadata": {},
     "output_type": "execute_result"
    }
   ],
   "source": [
    "dropped_tot"
   ]
  },
  {
   "cell_type": "code",
   "execution_count": 49,
   "metadata": {},
   "outputs": [
    {
     "data": {
      "text/plain": [
       "array([5.00822067e-03, 2.39226818e-02, 4.39913273e-02, 6.43539429e-02,\n",
       "       8.49573612e-02, 1.05225801e-01, 1.25687599e-01, 1.46164179e-01,\n",
       "       1.67770863e-01, 7.11780071e-01, 7.29965210e-01, 7.47247934e-01,\n",
       "       7.63816118e-01, 1.34156585e+00, 1.36275458e+00, 1.86567879e+00,\n",
       "       1.88338733e+00, 1.89911151e+00, 1.91899037e+00, 1.93670297e+00,\n",
       "       1.96150661e+00, 2.50524879e+00, 2.52784061e+00, 2.54926038e+00,\n",
       "       3.09177184e+00, 3.11411738e+00, 3.13033271e+00, 3.14962196e+00,\n",
       "       3.17570353e+00, 3.19966984e+00, 3.73969698e+00, 3.75688314e+00,\n",
       "       4.22693658e+00, 4.23949671e+00, 4.25286674e+00, 4.26836300e+00,\n",
       "       4.73042464e+00, 5.20169139e+00, 5.66969848e+00, 5.68024445e+00,\n",
       "       5.69259548e+00, 5.70796347e+00, 5.72350836e+00, 5.73322773e+00,\n",
       "       6.29122472e+00, 6.30082655e+00, 6.31362367e+00, 6.32242966e+00,\n",
       "       6.33538008e+00, 6.34752488e+00, 6.96176457e+00, 7.41738558e+00,\n",
       "       7.42729044e+00, 7.44009399e+00, 7.45232677e+00, 7.46431088e+00,\n",
       "       8.03263664e+00, 8.04446673e+00, 8.60860395e+00, 9.07991076e+00,\n",
       "       9.08976817e+00, 9.10340261e+00, 9.63102913e+00, 1.01680872e+01,\n",
       "       1.07404351e+01, 1.07516212e+01, 1.07619400e+01, 1.07749519e+01,\n",
       "       1.07908468e+01, 1.13145359e+01, 1.13244634e+01, 1.13328607e+01,\n",
       "       1.13449082e+01, 1.18740509e+01, 1.23501794e+01, 1.23630412e+01,\n",
       "       1.23722939e+01, 1.29028428e+01, 1.33723626e+01, 1.33806434e+01,\n",
       "       1.38643296e+01, 1.43501942e+01, 1.43638098e+01, 1.43734441e+01,\n",
       "       1.43833542e+01, 1.43927653e+01, 1.44042780e+01, 1.44189289e+01,\n",
       "       1.44303107e+01, 1.50304549e+01, 1.54876735e+01, 1.54977462e+01,\n",
       "       1.55088022e+01, 1.60114141e+01, 1.64927399e+01, 1.69799082e+01,\n",
       "       1.69993949e+01, 1.74885635e+01, 1.79950352e+01, 1.84802175e+01,\n",
       "       1.84899430e+01, 1.85048552e+01, 1.90183413e+01, 1.94950011e+01,\n",
       "       1.95110495e+01, 1.95271773e+01, 2.00932229e+01, 2.05537364e+01,\n",
       "       2.05705879e+01, 2.05857050e+01, 2.10809364e+01, 2.10896714e+01,\n",
       "       2.15614274e+01, 2.20038497e+01, 2.20168159e+01, 2.20290484e+01,\n",
       "       2.20423422e+01, 2.20590749e+01, 2.25395949e+01, 2.30052969e+01,\n",
       "       2.30148766e+01, 2.30246539e+01, 2.30334852e+01])"
      ]
     },
     "execution_count": 49,
     "metadata": {},
     "output_type": "execute_result"
    }
   ],
   "source": [
    "np.array(times)"
   ]
  },
  {
   "cell_type": "code",
   "execution_count": 50,
   "metadata": {},
   "outputs": [
    {
     "data": {
      "text/plain": [
       "array([ 0,  1,  2,  3,  4,  5,  6,  7,  8,  7,  7,  8,  9,  8,  8,  8,  9,\n",
       "       10,  9, 10,  9,  9,  8,  8,  8,  8,  8,  9, 10,  9,  9,  9, 10, 10,\n",
       "       10, 11, 10, 10,  9,  9,  9,  8,  9,  8,  8,  9, 10,  9,  9, 10, 10,\n",
       "        8,  8,  8,  9, 10, 11,  9,  9,  8,  8, 10, 13, 10,  9,  9,  8,  8,\n",
       "        8,  9, 10,  9,  9, 10,  8,  7,  8, 11,  9, 10, 13, 10, 10,  9,  9,\n",
       "        9,  8,  9, 11, 12, 11, 13, 12, 12, 10, 10,  9,  9,  9,  9,  9,  9,\n",
       "        9,  9,  9,  9,  8,  8,  8,  8,  7,  8,  9,  8,  8, 10,  9,  8, 11,\n",
       "        9, 10, 10, 11])"
      ]
     },
     "execution_count": 50,
     "metadata": {},
     "output_type": "execute_result"
    }
   ],
   "source": [
    "np.array(supports)"
   ]
  },
  {
   "cell_type": "code",
   "execution_count": 51,
   "metadata": {},
   "outputs": [
    {
     "data": {
      "text/plain": [
       "array([2.56626430e+01, 5.68389440e+00, 2.59001760e+00, 1.71526034e+00,\n",
       "       2.30637908e-01, 1.22566759e-01, 5.96825854e-02, 5.71032551e-02,\n",
       "       5.37492393e-02, 4.16045844e-02, 2.03598543e-02, 1.93706673e-02,\n",
       "       1.85833768e-02, 1.51984354e-02, 1.22395359e-02, 1.01108092e-02,\n",
       "       9.19103903e-03, 9.16965325e-03, 6.74362031e-03, 6.63321629e-03,\n",
       "       5.00712147e-03, 4.13478500e-03, 3.11887174e-03, 3.05519531e-03,\n",
       "       2.01701788e-03, 1.96338604e-03, 1.84629753e-03, 1.49748578e-03,\n",
       "       1.19904005e-03, 6.15231665e-04, 5.70760185e-04, 5.04951682e-04,\n",
       "       3.75158897e-04, 3.57330714e-04, 3.44118864e-04, 2.95353764e-04,\n",
       "       2.24275075e-04, 2.18184857e-04, 2.05529104e-04, 1.80134908e-04,\n",
       "       1.29515398e-04, 1.10066811e-04, 9.88904508e-05, 9.38867774e-05,\n",
       "       6.91313238e-05, 6.68964442e-05, 5.02626439e-05, 4.79708632e-05,\n",
       "       4.02687627e-05, 3.60214271e-05, 2.33490400e-05, 2.21194804e-05,\n",
       "       2.02424190e-05, 1.41829263e-05, 1.17037805e-05, 1.13294217e-05,\n",
       "       1.08430022e-05, 1.03627666e-05, 6.72560783e-06, 6.48916294e-06,\n",
       "       5.93544954e-06, 3.17457477e-06, 2.06670083e-06, 1.22264095e-06,\n",
       "       9.46253408e-07, 7.58511083e-07, 7.20350700e-07, 6.04826315e-07,\n",
       "       2.31441325e-07, 2.01855694e-07, 1.93981860e-07, 1.86174463e-07,\n",
       "       1.63819777e-07, 1.10973608e-07, 9.98842080e-08, 6.32598274e-08,\n",
       "       6.17002481e-08, 5.20419696e-08, 4.33303821e-08, 3.35743641e-08,\n",
       "       2.93876949e-08, 2.03369858e-08, 2.00434039e-08, 1.75980819e-08,\n",
       "       1.31701406e-08, 1.28727332e-08, 1.16650713e-08, 8.23751956e-09,\n",
       "       5.17417967e-09, 4.04245537e-09, 3.52275531e-09, 2.66018341e-09,\n",
       "       2.24490324e-09, 9.68239877e-10, 8.51204829e-10, 8.44156828e-10,\n",
       "       3.21474014e-10, 2.99135799e-10, 2.96885155e-10, 1.94613020e-10,\n",
       "       1.89300797e-10, 1.35793321e-10, 8.53921100e-11, 8.19847801e-11,\n",
       "       4.15391055e-11, 4.09636491e-11, 2.32104058e-11, 2.30306330e-11,\n",
       "       6.93894942e-12, 6.54729049e-12, 6.32580099e-12, 6.18116669e-12,\n",
       "       3.63833963e-12, 3.55410146e-12, 3.39261952e-12, 2.64779865e-12,\n",
       "       2.48481791e-12, 1.62939107e-12, 1.30562228e-12, 1.06867293e-12,\n",
       "       9.56651425e-13, 6.88310520e-13, 5.92637051e-13])"
      ]
     },
     "execution_count": 51,
     "metadata": {},
     "output_type": "execute_result"
    }
   ],
   "source": [
    "objective_values-best"
   ]
  },
  {
   "cell_type": "code",
   "execution_count": 52,
   "metadata": {},
   "outputs": [
    {
     "data": {
      "text/plain": [
       "array([5.00000000e-02, 5.00000000e-02, 5.00000000e-02, 5.00000000e-02,\n",
       "       5.00000000e-02, 5.00000000e-02, 5.00000000e-02, 5.00000000e-02,\n",
       "       5.00000000e-02, 5.00000000e-02, 2.28377115e-02, 2.28377115e-02,\n",
       "       2.28377115e-02, 2.28377115e-02, 1.10924920e-02, 1.10924920e-02,\n",
       "       4.75484299e-03, 4.75484299e-03, 4.75484299e-03, 4.75484299e-03,\n",
       "       4.75484299e-03, 4.75484299e-03, 1.64712213e-03, 1.64712213e-03,\n",
       "       1.64712213e-03, 6.80226804e-04, 6.80226804e-04, 6.80226804e-04,\n",
       "       6.80226804e-04, 6.80226804e-04, 6.80226804e-04, 3.16173107e-04,\n",
       "       3.16173107e-04, 1.48083647e-04, 1.48083647e-04, 1.48083647e-04,\n",
       "       1.48083647e-04, 1.48083647e-04, 1.48083647e-04, 6.50099286e-05,\n",
       "       6.50099286e-05, 6.50099286e-05, 6.50099286e-05, 6.50099286e-05,\n",
       "       6.50099286e-05, 2.24632003e-05, 2.24632003e-05, 2.24632003e-05,\n",
       "       2.24632003e-05, 2.24632003e-05, 2.24632003e-05, 2.24632003e-05,\n",
       "       8.42377825e-06, 8.42377825e-06, 8.42377825e-06, 8.42377825e-06,\n",
       "       8.42377825e-06, 8.42377825e-06, 8.42377825e-06, 8.42377825e-06,\n",
       "       1.81616174e-06, 1.81616174e-06, 1.81616174e-06, 1.81616174e-06,\n",
       "       1.81616174e-06, 4.40179447e-07, 4.40179447e-07, 4.40179447e-07,\n",
       "       4.40179447e-07, 4.40179447e-07, 1.37026147e-07, 1.37026147e-07,\n",
       "       1.37026147e-07, 1.37026147e-07, 1.37026147e-07, 6.11027409e-08,\n",
       "       6.11027409e-08, 6.11027409e-08, 6.11027409e-08, 2.36683435e-08,\n",
       "       2.36683435e-08, 2.36683435e-08, 8.32740468e-09, 8.32740468e-09,\n",
       "       8.32740468e-09, 8.32740468e-09, 8.32740468e-09, 8.32740468e-09,\n",
       "       8.32740468e-09, 8.32740468e-09, 8.32740468e-09, 1.44451598e-09,\n",
       "       1.44451598e-09, 1.44451598e-09, 1.44451598e-09, 1.44451598e-09,\n",
       "       3.16461127e-10, 3.16461127e-10, 3.16461127e-10, 1.06930900e-10,\n",
       "       1.06930900e-10, 1.06930900e-10, 1.06930900e-10, 1.06930900e-10,\n",
       "       2.85217556e-11, 2.85217556e-11, 2.85217556e-11, 2.85217556e-11,\n",
       "       9.47725206e-12, 9.47725206e-12, 9.47725206e-12, 4.33538410e-12,\n",
       "       4.33538410e-12, 4.33538410e-12, 1.37689522e-12, 1.37689522e-12,\n",
       "       1.37689522e-12, 1.37689522e-12, 1.37689522e-12, 1.37689522e-12,\n",
       "       3.99456555e-13, 3.99456555e-13, 3.99456555e-13])"
      ]
     },
     "execution_count": 52,
     "metadata": {},
     "output_type": "execute_result"
    }
   ],
   "source": [
    "np.array(epsilons)"
   ]
  },
  {
   "cell_type": "code",
   "execution_count": 56,
   "metadata": {},
   "outputs": [
    {
     "name": "stdout",
     "output_type": "stream",
     "text": [
      "Measure with support [[0.283226   0.71433135]\n",
      " [0.28322702 0.71433109]\n",
      " [0.28322703 0.71433195]\n",
      " [0.28322805 0.71433148]\n",
      " [0.28322886 0.71433089]\n",
      " [0.49565798 0.23548655]\n",
      " [0.49565846 0.23548594]\n",
      " [0.4956585  0.23548642]\n",
      " [0.495659   0.23548602]\n",
      " [0.73058755 0.5479017 ]\n",
      " [0.73058936 0.54790092]] and coefficients [ 0.15889505  0.38419598  0.08858788  0.32357095  0.04044155 -0.18376399\n",
      " -0.35190137 -0.04738175 -0.03453353  0.3992167   0.3129155 ]\n",
      "[4.43783899e-13]\n",
      "-1.7910672944765338e-13\n"
     ]
    }
   ],
   "source": [
    "print(u)\n",
    "print(max([abs(abs(p(u)(x))-alpha) for x in u.support]))\n",
    "print(g(u.coefficients)-u.duality_pairing(p(u)))"
   ]
  },
  {
   "cell_type": "markdown",
   "metadata": {},
   "source": [
    "## Plots"
   ]
  },
  {
   "cell_type": "code",
   "execution_count": 73,
   "metadata": {},
   "outputs": [
    {
     "data": {
      "image/png": "[encoded data removed]",
      "text/plain": [
       "<Figure size 640x480 with 1 Axes>"
      ]
     },
     "metadata": {},
     "output_type": "display_data"
    }
   ],
   "source": [
    "clustered_points = [[0.28322656, 0.7143313 ], [0.28322701, 0.71433113], [0.28322748, 0.71433135], [0.28322768, 0.71433104]]\n",
    "clustered_weights = [0.21149885,  0.1,  0.75096038, 0.07]\n",
    "true_point = [0.28322727, 0.71433132]\n",
    "true_weight = 0.99569143\n",
    "plt.plot(0,0,\"o\", c=\"b\", markersize=10,label=\"Clustered support\"); # Point for legend\n",
    "plt.plot(0,0,\"o\", c=\"r\", fillstyle=\"none\", markersize=10,label=\"Optimal support\"); # Point for legend\n",
    "for (x,c) in zip(clustered_points, clustered_weights):\n",
    "    plt.plot(x[0], x[1], \"o\", c=\"b\", markersize=25*c);\n",
    "plt.plot(true_point[0], true_point[1], \"o\", fillstyle=\"none\", c=\"r\", markersize=25*true_weight);\n",
    "plt.ylim(7.143313e-1-7e-7, 7.143313e-1+7e-7)\n",
    "plt.xlim(2.832272e-1-7e-7, 2.832272e-1+7e-7)\n",
    "plt.legend(fontsize=10);"
   ]
  },
  {
   "cell_type": "code",
   "execution_count": 108,
   "metadata": {},
   "outputs": [
    {
     "name": "stderr",
     "output_type": "stream",
     "text": [
      "DEBUG:matplotlib.colorbar:locator: <matplotlib.ticker.FixedLocator object at 0x7f14ac5309d0>\n"
     ]
    },
    {
     "data": {
      "image/png": "[encoded data removed]",
      "text/plain": [
       "<Figure size 640x480 with 2 Axes>"
      ]
     },
     "metadata": {},
     "output_type": "display_data"
    }
   ],
   "source": [
    "u_tilde = u #Measure(support=[[0.16189578,0.67106819],[0.22222222,0.77777778],[0.33333333,0.66666667],[0.33333333,0.77777778],[0.44444444,0.22222222],[0.44444444,0.33333333],[0.5129322,0.21945235],[0.66666667,0.55555556],[0.77777778,0.44444444],[0.77777778,0.55555556],[0.88888889,0.88888889]], coefficients=[0.12089905,0.30391103,0.5035049,0.13645795,-0.11020099,-0.09355168,-0.43700644,0.23772164,0.05493194,0.41683878,-0.00129572])\n",
    "P = lambda x: np.abs(p(u_tilde)(x))\n",
    "a = np.arange(0,1,0.01)\n",
    "B, D = np.meshgrid(a,a)\n",
    "vals = np.array([P(np.array([x_1,x_2])) for x_1, x_2 in zip(B.flatten(), D.flatten())]).reshape((100,100))\n",
    "\n",
    "plt.contourf(B, D, vals, levels=100);\n",
    "plt.colorbar();\n",
    "for i, x in enumerate(true_sources):\n",
    "    if i:\n",
    "        plt.plot([x[0]], [x[1]], \"P\", c=\"r\", markersize=10);\n",
    "    else:\n",
    "        plt.plot([x[0]], [x[1]], \"P\", c=\"r\", markersize=10, label=\"True sources\");\n",
    "for i, x in enumerate(u_tilde.support):\n",
    "    if i:\n",
    "        plt.plot([x[0]], [x[1]], \"o\", c=\"b\");\n",
    "    else:\n",
    "        plt.plot([x[0]], [x[1]], \"o\", c=\"b\", label=\"Optimal support\");\n",
    "plt.legend();"
   ]
  },
  {
   "cell_type": "code",
   "execution_count": null,
   "metadata": {},
   "outputs": [],
   "source": [
    "residuals_pdap = np.array([2.56626430e+01, 5.56767886e+00, 2.59016866e+00, 1.62903637e+00,\n",
    "       2.29592885e-01, 1.29111897e-01, 6.02585416e-02, 5.81289511e-02,\n",
    "       5.43698664e-02, 4.28609944e-02, 2.43456507e-02, 2.24655449e-02,\n",
    "       2.19692476e-02, 1.97512429e-02, 1.45352924e-02, 1.17524225e-02,\n",
    "       8.37236242e-03, 8.03803951e-03, 7.27480820e-03, 5.49766958e-03,\n",
    "       4.74499614e-03, 4.33283646e-03, 3.06984433e-03, 3.03428454e-03,\n",
    "       2.57014224e-03, 2.25412115e-03, 2.23311030e-03, 1.77761494e-03,\n",
    "       1.74648370e-03, 1.02712726e-03, 1.00858173e-03, 7.05155795e-04,\n",
    "       4.57693553e-04, 3.73211215e-04, 3.33190434e-04, 3.26993069e-04,\n",
    "       3.19892763e-04, 2.76245761e-04, 2.23204779e-04, 2.02454957e-04,\n",
    "       1.54179009e-04, 1.15907286e-04, 8.63980535e-05, 6.07049270e-05,\n",
    "       5.67240418e-05, 4.57625429e-05, 4.45959475e-05, 4.10285053e-05,\n",
    "       3.04741290e-05, 1.81638719e-05, 1.30621429e-05, 1.09294757e-05,\n",
    "       1.01612381e-05, 9.32043324e-06, 8.04411016e-06, 5.27245165e-06,\n",
    "       4.24349354e-06, 3.14384592e-06, 2.27093697e-06, 2.09990078e-06,\n",
    "       1.54914535e-06, 1.32281388e-06, 1.21839882e-06, 7.01230133e-07,\n",
    "       5.11944746e-07, 4.95775988e-07, 2.81897793e-07, 2.65692097e-07,\n",
    "       2.43794268e-07, 2.04783395e-07, 1.51913784e-07, 1.42793265e-07,\n",
    "       1.19938613e-07, 1.02398590e-07, 8.53726974e-08, 6.44645053e-08,\n",
    "       4.03827174e-08, 2.99799419e-08, 2.78975285e-08, 2.69322259e-08,\n",
    "       1.81523095e-08, 1.70902468e-08, 1.22499430e-08, 1.18562841e-08,\n",
    "       1.04506356e-08, 9.08264025e-09, 4.52308146e-09, 3.98831332e-09,\n",
    "       2.17250190e-09, 1.77452125e-09, 1.67539874e-09, 1.45759801e-09,\n",
    "       1.33035957e-09, 6.07527556e-10, 5.27208888e-10, 5.16899079e-10,\n",
    "       4.39092374e-10, 4.29219077e-10, 2.96123653e-10, 2.32978747e-10,\n",
    "       2.23143504e-10, 1.82267534e-10, 1.35761957e-10, 1.09979997e-10,\n",
    "       1.05151166e-10, 6.88229196e-11, 4.99675856e-11, 4.72722694e-11,\n",
    "       2.55638011e-11, 2.36259623e-11, 2.24313901e-11, 1.96570815e-11,\n",
    "       1.70958525e-11, 8.63545346e-12, 7.26635419e-12, 4.30627756e-12,\n",
    "       4.00612876e-12, 3.83121312e-12, 2.72357137e-12, 2.26507701e-12,\n",
    "       1.90547578e-12, 1.68731695e-12, 1.61057279e-12, 1.28191902e-12,\n",
    "       9.30394650e-13, 8.47377724e-13, 4.85556040e-13])\n",
    "\n",
    "times_pdap = np.array([2.38418579e-07, 4.18431044e-01, 1.04219627e+00, 1.63789558e+00,\n",
    "       2.19843435e+00, 2.71504903e+00, 3.20965147e+00, 3.77218604e+00,\n",
    "       4.25794053e+00, 4.72859573e+00, 5.18463206e+00, 5.63479400e+00,\n",
    "       6.11822319e+00, 6.62584686e+00, 7.09952021e+00, 7.59171414e+00,\n",
    "       8.05779266e+00, 8.52308035e+00, 8.99023223e+00, 9.47606373e+00,\n",
    "       9.98122334e+00, 1.04586179e+01, 1.09188306e+01, 1.13593760e+01,\n",
    "       1.18496115e+01, 1.23145330e+01, 1.27793734e+01, 1.32756631e+01,\n",
    "       1.37670116e+01, 1.42132204e+01, 1.47056115e+01, 1.51985340e+01,\n",
    "       1.57450454e+01, 1.62031600e+01, 1.67054157e+01, 1.71655104e+01,\n",
    "       1.76761296e+01, 1.81986217e+01, 1.86635735e+01, 1.92270210e+01,\n",
    "       1.97201936e+01, 2.01633193e+01, 2.06141446e+01, 2.10860300e+01,\n",
    "       2.15470774e+01, 2.20299225e+01, 2.24876997e+01, 2.29483402e+01,\n",
    "       2.34765096e+01, 2.39271548e+01, 2.43913689e+01, 2.48511713e+01,\n",
    "       2.52912235e+01, 2.57479277e+01, 2.61932025e+01, 2.66848056e+01,\n",
    "       2.71941602e+01, 2.76745391e+01, 2.82228057e+01, 2.87059350e+01,\n",
    "       2.91986158e+01, 2.96591918e+01, 3.01245105e+01, 3.06612763e+01,\n",
    "       3.11264818e+01, 3.15742009e+01, 3.20552256e+01, 3.25727258e+01,\n",
    "       3.30436082e+01, 3.34891362e+01, 3.39387319e+01, 3.43806977e+01,\n",
    "       3.48384211e+01, 3.53679311e+01, 3.58364646e+01, 3.63660131e+01,\n",
    "       3.68172412e+01, 3.72748618e+01, 3.77602508e+01, 3.82287908e+01,\n",
    "       3.87673748e+01, 3.92241173e+01, 3.96939936e+01, 4.02017732e+01,\n",
    "       4.06699452e+01, 4.11259463e+01, 4.15875406e+01, 4.20581708e+01,\n",
    "       4.25271938e+01, 4.30223765e+01, 4.34758615e+01, 4.39644716e+01,\n",
    "       4.44375000e+01, 4.49778056e+01, 4.54508140e+01, 4.59164860e+01,\n",
    "       4.63767626e+01, 4.68498464e+01, 4.73146791e+01, 4.77882526e+01,\n",
    "       4.82314572e+01, 4.86883800e+01, 4.91409876e+01, 4.96034687e+01,\n",
    "       5.00742497e+01, 5.05222995e+01, 5.09917245e+01, 5.14420888e+01,\n",
    "       5.18991868e+01, 5.23540108e+01, 5.28138382e+01, 5.32611294e+01,\n",
    "       5.37129498e+01, 5.41585860e+01, 5.46534677e+01, 5.51136198e+01,\n",
    "       5.56726067e+01, 5.61907368e+01, 5.66572742e+01, 5.71236105e+01,\n",
    "       5.75943654e+01, 5.80605803e+01, 5.85439079e+01, 5.90268407e+01,\n",
    "       5.94835589e+01, 5.99427421e+01, 6.04392116e+01])\n",
    "\n",
    "supports_pdap = np.array([0, 1, 2, 3, 4, 5, 6, 7, 8, 7, 7, 8, 9, 9, 9, 8, 8, 9, 9, 9, 9, 9,\n",
    "       8, 9, 8, 8, 9, 8, 9, 9, 9, 8, 8, 8, 8, 8, 9, 9, 9, 9, 9, 9, 8, 8,\n",
    "       8, 8, 9, 9, 8, 8, 8, 8, 8, 9, 9, 9, 9, 9, 9, 9, 9, 9, 9, 9, 9, 9,\n",
    "       8, 8, 8, 8, 8, 9, 9, 8, 8, 8, 8, 8, 7, 8, 8, 9, 9, 9, 9, 9, 9, 9,\n",
    "       8, 8, 8, 9, 9, 8, 8, 8, 8, 8, 8, 8, 8, 8, 8, 8, 8, 8, 8, 8, 8, 8,\n",
    "       8, 8, 8, 8, 8, 8, 8, 8, 7, 7, 7, 7, 8, 8, 8, 8, 7])\n",
    "\n",
    "residuals_newton = np.array([ 2.56626430e+01,  2.56626430e+01,  4.89708109e+00,  4.89011091e+00,\n",
    "        4.89010890e+00,  4.89010890e+00,  4.34012696e+00,  2.54033247e+00,\n",
    "        2.45081702e+00,  2.45038785e+00,  2.45038403e+00,  2.45038403e+00,\n",
    "        2.44180213e+00,  5.59400919e+01,  1.36858216e+00,  7.09831576e+00,\n",
    "        2.31728190e-01,  2.57559619e-02,  7.34944225e-03,  5.19115390e-03,\n",
    "        2.17921964e-03,  1.12603642e-02,  2.17921964e-03,  5.11451882e-03,\n",
    "        2.13883343e-03,  4.77720606e-02,  1.92880717e-03,  1.01096838e-02,\n",
    "        1.83115153e-03,  5.76279967e-03,  1.36887058e-03,  3.60108190e-03,\n",
    "        1.00675861e-03,  6.40490808e-04,  3.87994516e-05,  5.21726647e-06,\n",
    "        2.81463712e-06,  6.20980579e-07,  9.66281955e-07,  6.20980579e-07,\n",
    "        9.36530484e-09, -5.05151476e-15, -5.24580379e-15, -5.24580379e-15])\n",
    "\n",
    "times_newton = np.array([2.38418579e-07, 8.58068466e-03, 1.58250332e-02, 2.24006176e-02,\n",
    "       2.71444321e-02, 3.42092514e-02, 4.48961258e-02, 5.06410599e-02,\n",
    "       5.55870533e-02, 6.00469112e-02, 6.50849342e-02, 7.37345219e-02,\n",
    "       8.36610794e-02, 9.10894871e-02, 1.03396893e-01, 1.12055540e-01,\n",
    "       1.22375011e-01, 1.31371498e-01, 1.35909319e-01, 1.42207384e-01,\n",
    "       1.48448229e-01, 1.52497768e-01, 6.64011955e-01, 6.69476032e-01,\n",
    "       1.13512897e+00, 1.14139056e+00, 1.15211535e+00, 1.15993071e+00,\n",
    "       1.17336154e+00, 1.17960572e+00, 1.19218516e+00, 1.19767928e+00,\n",
    "       1.20940447e+00, 1.21699309e+00, 1.22190523e+00, 1.22762203e+00,\n",
    "       1.23251295e+00, 1.23861456e+00, 1.24325633e+00, 1.74201059e+00,\n",
    "       1.75251889e+00, 1.75891829e+00, 1.76313019e+00, 2.23953962e+00])\n",
    "\n",
    "supports_newton = np.array([0, 0, 1, 1, 1, 1, 2, 2, 2, 2, 2, 2, 3, 3, 3, 4, 4, 5, 5, 5, 5, 5,\n",
    "       5, 5, 5, 6, 6, 7, 7, 7, 7, 7, 7, 8, 8, 8, 8, 8, 8, 8, 3, 3, 3, 3])\n",
    "\n",
    "intervals_newton = np.array([[ 1.5,  5.5],\n",
    "       [ 6.5, 11.5],\n",
    "       [12.5, 13.5],\n",
    "       [14.5, 15.5],\n",
    "       [16.5, 21.5],\n",
    "       [22.5, 23.5],\n",
    "       [24.5, 25.5],\n",
    "       [26.5, 27.5],\n",
    "       [28.5, 29.5],\n",
    "       [30.5, 31.5],\n",
    "       [32.5, 38.5],\n",
    "       [39.5, 43.5]])\n",
    "\n",
    "epsilons_newton = np.array([5.00000000e-02, 5.00000000e-02, 5.00000000e-02, 5.00000000e-02,\n",
    "       5.00000000e-02, 5.00000000e-02, 5.00000000e-02, 5.00000000e-02,\n",
    "       5.00000000e-02, 5.00000000e-02, 5.00000000e-02, 5.00000000e-02,\n",
    "       5.00000000e-02, 5.00000000e-02, 5.00000000e-02, 5.00000000e-02,\n",
    "       5.00000000e-02, 5.00000000e-02, 5.00000000e-02, 5.00000000e-02,\n",
    "       5.00000000e-02, 5.00000000e-02, 4.64273548e-03, 4.64273548e-03,\n",
    "       9.81676584e-04, 9.81676584e-04, 9.81676584e-04, 9.81676584e-04,\n",
    "       9.81676584e-04, 9.81676584e-04, 9.81676584e-04, 9.81676584e-04,\n",
    "       9.81676584e-04, 9.81676584e-04, 9.81676584e-04, 9.81676584e-04,\n",
    "       9.81676584e-04, 9.81676584e-04, 9.81676584e-04, 7.26404214e-05,\n",
    "       1.02930954e-04, 1.02930954e-04, 1.02930954e-04, 2.57507434e-15])\n",
    "\n",
    "residuals_newton_damped = np.array([ 2.56626430e+01,  2.56626430e+01,  5.58059645e+00,  5.48796890e+00,\n",
    "        5.40512051e+00,  5.33124615e+00,  5.26561178e+00,  5.20754251e+00,\n",
    "        5.15641318e+00,  5.11164078e+00,  5.07267844e+00,  5.03901064e+00,\n",
    "        5.01014947e+00,  4.98563174e+00,  4.96501690e+00,  4.94788559e+00,\n",
    "        4.93383879e+00,  4.92249752e+00,  4.91350301e+00,  4.90651728e+00,\n",
    "        4.90122407e+00,  4.89733011e+00,  4.89456651e+00,  4.89269039e+00,\n",
    "        4.89148647e+00,  4.89076860e+00,  4.89038100e+00,  4.89019920e+00,\n",
    "        4.89013023e+00,  4.89011170e+00,  4.89010902e+00,  4.89010890e+00,\n",
    "        4.33999529e+00,  2.98914704e+00,  2.88612695e+00,  2.80175517e+00,\n",
    "        2.73238891e+00,  2.67530300e+00,  2.62838259e+00,  2.58993972e+00,\n",
    "        2.55859749e+00,  2.53321361e+00,  2.51282810e+00,  2.49662636e+00,\n",
    "        2.48391236e+00,  2.47408865e+00,  2.46664089e+00,  2.46112563e+00,\n",
    "        2.45716031e+00,  2.45441508e+00,  2.45260605e+00,  2.45149023e+00,\n",
    "        2.45086213e+00,  2.45055216e+00,  2.45042690e+00,  2.45039033e+00,\n",
    "        2.45038435e+00,  2.45038403e+00,  2.45038403e+00,  2.44180252e+00,\n",
    "        1.92187709e+00,  1.36856873e+00,  2.58826851e-01,  2.31723685e-01,\n",
    "        8.44523956e-02,  6.43198817e-02,  4.76605998e-02,  3.41778920e-02,\n",
    "        2.36067793e-02,  1.56335457e-02,  9.88558465e-03,  5.96687498e-03,\n",
    "        3.50802494e-03,  2.17664391e-03,  1.50398039e-03,  1.26936686e-03,\n",
    "        8.40083715e-04,  6.58525347e-04,  5.13798969e-04,  3.61568333e-04,\n",
    "        2.71354125e-04,  2.01740919e-04,  1.46366799e-04,  1.04085072e-04,\n",
    "        7.32300878e-05,  5.08338078e-05,  3.42523758e-05,  2.25560667e-05,\n",
    "        1.42219101e-05,  8.59904104e-06,  4.92303146e-06,  2.62443141e-06,\n",
    "        1.30990153e-06,  5.83989615e-07,  2.39484132e-07,  8.40423202e-08,\n",
    "        2.61445970e-08,  6.86800292e-09,  1.53803512e-09,  2.96257657e-10,\n",
    "        4.93912689e-11,  7.38439865e-12,  1.01818554e-12,  1.30090383e-13,\n",
    "        1.21014310e-14, -3.02535774e-15, -4.96824804e-15, -5.19029264e-15,\n",
    "       -5.21804822e-15, -5.21804822e-15, -5.27355937e-15, -5.27355937e-15])\n",
    "\n",
    "times_newton_damped = np.array([2.38418579e-07, 1.18465424e-02, 1.88066959e-02, 3.02670002e-02,\n",
    "       3.56731415e-02, 4.15892601e-02, 4.72061634e-02, 5.34479618e-02,\n",
    "       5.88636398e-02, 6.60176277e-02, 7.19494820e-02, 7.80100822e-02,\n",
    "       8.42995644e-02, 9.02578831e-02, 9.55674648e-02, 1.00833416e-01,\n",
    "       1.06026888e-01, 1.11744165e-01, 1.17453814e-01, 1.22920036e-01,\n",
    "       1.29497290e-01, 1.34731770e-01, 1.39455080e-01, 1.44275904e-01,\n",
    "       1.49066925e-01, 1.53709173e-01, 1.60214901e-01, 1.65451527e-01,\n",
    "       1.70458794e-01, 1.74128771e-01, 1.78067923e-01, 1.85987234e-01,\n",
    "       1.94742441e-01, 2.02468872e-01, 2.07917213e-01, 2.13300467e-01,\n",
    "       2.19124079e-01, 2.24780560e-01, 2.29963303e-01, 2.35563278e-01,\n",
    "       2.41349936e-01, 2.46809959e-01, 2.52551556e-01, 2.58374214e-01,\n",
    "       2.63869286e-01, 2.69862652e-01, 2.75438786e-01, 2.80704975e-01,\n",
    "       2.86530972e-01, 2.92293787e-01, 2.97790527e-01, 3.03611517e-01,\n",
    "       3.09106588e-01, 3.14450979e-01, 3.20564985e-01, 3.25967073e-01,\n",
    "       3.31239223e-01, 3.36784840e-01, 3.47616196e-01, 3.59884501e-01,\n",
    "       3.67056370e-01, 3.79014015e-01, 3.86171341e-01, 3.97727966e-01,\n",
    "       4.06043291e-01, 4.11866188e-01, 4.17697191e-01, 4.23507214e-01,\n",
    "       4.29296255e-01, 4.34930801e-01, 4.41551924e-01, 4.47337866e-01,\n",
    "       4.53289986e-01, 4.60455894e-01, 4.66720819e-01, 4.71823931e-01,\n",
    "       4.77369308e-01, 4.81575727e-01, 4.86136436e-01, 4.93083239e-01,\n",
    "       4.97430325e-01, 5.01896620e-01, 5.07971048e-01, 5.13718128e-01,\n",
    "       5.19251823e-01, 5.25232077e-01, 5.31035900e-01, 5.36446571e-01,\n",
    "       5.41564941e-01, 5.47645330e-01, 5.53483486e-01, 5.59512377e-01,\n",
    "       5.64184189e-01, 5.68790436e-01, 5.74888706e-01, 5.80692530e-01,\n",
    "       5.86020231e-01, 5.90750217e-01, 5.95114470e-01, 5.99379301e-01,\n",
    "       1.12986779e+00, 1.13461661e+00, 1.13952637e+00, 1.14526129e+00,\n",
    "       1.15201259e+00, 1.15891647e+00, 1.16400099e+00, 1.72909522e+00,\n",
    "       1.73288012e+00, 2.23605609e+00, 2.24192357e+00, 2.72085690e+00])\n",
    "\n",
    "supports_newton_damped = np.array([0, 0, 1, 1, 1, 1, 1, 1, 1, 1, 1, 1, 1, 1, 1, 1, 1, 1, 1, 1, 1, 1,\n",
    "       1, 1, 1, 1, 1, 1, 1, 1, 1, 1, 2, 2, 2, 2, 2, 2, 2, 2, 2, 2, 2, 2,\n",
    "       2, 2, 2, 2, 2, 2, 2, 2, 2, 2, 2, 2, 2, 2, 2, 3, 3, 3, 4, 4, 5, 5,\n",
    "       5, 5, 5, 5, 5, 5, 5, 5, 5, 5, 5, 5, 5, 5, 5, 5, 5, 5, 5, 5, 5, 5,\n",
    "       5, 5, 5, 5, 5, 5, 5, 5, 5, 5, 5, 5, 5, 5, 5, 5, 5, 5, 5, 5, 5, 5,\n",
    "       3, 3])\n",
    "\n",
    "intervals_newton_damped = np.array([[  1.5,  31.5],\n",
    "       [ 32.5,  58.5],\n",
    "       [ 59.5,  60.5],\n",
    "       [ 61.5,  62.5],\n",
    "       [ 63.5, 108.5],\n",
    "       [109.5, 111.5]])\n",
    "\n",
    "epsilons_newton_damped = np.array([5.00000000e-02, 5.00000000e-02, 5.00000000e-02, 5.00000000e-02,\n",
    "       5.00000000e-02, 5.00000000e-02, 5.00000000e-02, 5.00000000e-02,\n",
    "       5.00000000e-02, 5.00000000e-02, 5.00000000e-02, 5.00000000e-02,\n",
    "       5.00000000e-02, 5.00000000e-02, 5.00000000e-02, 5.00000000e-02,\n",
    "       5.00000000e-02, 5.00000000e-02, 5.00000000e-02, 5.00000000e-02,\n",
    "       5.00000000e-02, 5.00000000e-02, 5.00000000e-02, 5.00000000e-02,\n",
    "       5.00000000e-02, 5.00000000e-02, 5.00000000e-02, 5.00000000e-02,\n",
    "       5.00000000e-02, 5.00000000e-02, 5.00000000e-02, 5.00000000e-02,\n",
    "       5.00000000e-02, 5.00000000e-02, 5.00000000e-02, 5.00000000e-02,\n",
    "       5.00000000e-02, 5.00000000e-02, 5.00000000e-02, 5.00000000e-02,\n",
    "       5.00000000e-02, 5.00000000e-02, 5.00000000e-02, 5.00000000e-02,\n",
    "       5.00000000e-02, 5.00000000e-02, 5.00000000e-02, 5.00000000e-02,\n",
    "       5.00000000e-02, 5.00000000e-02, 5.00000000e-02, 5.00000000e-02,\n",
    "       5.00000000e-02, 5.00000000e-02, 5.00000000e-02, 5.00000000e-02,\n",
    "       5.00000000e-02, 5.00000000e-02, 5.00000000e-02, 5.00000000e-02,\n",
    "       5.00000000e-02, 5.00000000e-02, 5.00000000e-02, 5.00000000e-02,\n",
    "       5.00000000e-02, 5.00000000e-02, 5.00000000e-02, 5.00000000e-02,\n",
    "       5.00000000e-02, 5.00000000e-02, 5.00000000e-02, 5.00000000e-02,\n",
    "       5.00000000e-02, 5.00000000e-02, 5.00000000e-02, 5.00000000e-02,\n",
    "       5.00000000e-02, 5.00000000e-02, 5.00000000e-02, 5.00000000e-02,\n",
    "       5.00000000e-02, 5.00000000e-02, 5.00000000e-02, 5.00000000e-02,\n",
    "       5.00000000e-02, 5.00000000e-02, 5.00000000e-02, 5.00000000e-02,\n",
    "       5.00000000e-02, 5.00000000e-02, 5.00000000e-02, 5.00000000e-02,\n",
    "       5.00000000e-02, 5.00000000e-02, 5.00000000e-02, 5.00000000e-02,\n",
    "       5.00000000e-02, 5.00000000e-02, 5.00000000e-02, 5.00000000e-02,\n",
    "       7.31077950e-06, 7.31077950e-06, 7.31077950e-06, 7.31077950e-06,\n",
    "       7.31077950e-06, 7.31077950e-06, 7.31077950e-06, 1.24086087e-09,\n",
    "       1.24086087e-09, 7.84186490e-11, 7.84186490e-11, 4.74541079e-16])\n",
    "\n",
    "residuals_lpdap = np.array([2.56626430e+01, 5.68389440e+00, 2.59001760e+00, 1.71526034e+00,\n",
    "       2.30637908e-01, 1.22566759e-01, 5.96825854e-02, 5.71032551e-02,\n",
    "       5.37492393e-02, 4.16045844e-02, 2.03598543e-02, 1.93706673e-02,\n",
    "       1.85833768e-02, 1.51984354e-02, 1.22395359e-02, 1.01108092e-02,\n",
    "       9.19103903e-03, 9.16965325e-03, 6.74362031e-03, 6.63321629e-03,\n",
    "       5.00712147e-03, 4.13478500e-03, 3.11887174e-03, 3.05519531e-03,\n",
    "       2.01701788e-03, 1.96338604e-03, 1.84629753e-03, 1.49748578e-03,\n",
    "       1.19904005e-03, 6.15231665e-04, 5.70760185e-04, 5.04951682e-04,\n",
    "       3.75158897e-04, 3.57330714e-04, 3.44118864e-04, 2.95353764e-04,\n",
    "       2.24275075e-04, 2.18184857e-04, 2.05529104e-04, 1.80134908e-04,\n",
    "       1.29515398e-04, 1.10066811e-04, 9.88904508e-05, 9.38867774e-05,\n",
    "       6.91313238e-05, 6.68964442e-05, 5.02626439e-05, 4.79708632e-05,\n",
    "       4.02687627e-05, 3.60214271e-05, 2.33490400e-05, 2.21194804e-05,\n",
    "       2.02424190e-05, 1.41829263e-05, 1.17037805e-05, 1.13294217e-05,\n",
    "       1.08430022e-05, 1.03627666e-05, 6.72560783e-06, 6.48916294e-06,\n",
    "       5.93544954e-06, 3.17457477e-06, 2.06670083e-06, 1.22264095e-06,\n",
    "       9.46253408e-07, 7.58511083e-07, 7.20350700e-07, 6.04826315e-07,\n",
    "       2.31441325e-07, 2.01855694e-07, 1.93981860e-07, 1.86174463e-07,\n",
    "       1.63819777e-07, 1.10973608e-07, 9.98842080e-08, 6.32598274e-08,\n",
    "       6.17002481e-08, 5.20419696e-08, 4.33303821e-08, 3.35743641e-08,\n",
    "       2.93876949e-08, 2.03369858e-08, 2.00434039e-08, 1.75980819e-08,\n",
    "       1.31701406e-08, 1.28727332e-08, 1.16650713e-08, 8.23751956e-09,\n",
    "       5.17417967e-09, 4.04245537e-09, 3.52275531e-09, 2.66018341e-09,\n",
    "       2.24490324e-09, 9.68239877e-10, 8.51204829e-10, 8.44156828e-10,\n",
    "       3.21474014e-10, 2.99135799e-10, 2.96885155e-10, 1.94613020e-10,\n",
    "       1.89300797e-10, 1.35793321e-10, 8.53921100e-11, 8.19847801e-11,\n",
    "       4.15391055e-11, 4.09636491e-11, 2.32104058e-11, 2.30306330e-11,\n",
    "       6.93894942e-12, 6.54729049e-12, 6.32580099e-12, 6.18116669e-12,\n",
    "       3.63833963e-12, 3.55410146e-12, 3.39261952e-12, 2.64779865e-12,\n",
    "       2.48481791e-12, 1.62939107e-12, 1.30562228e-12, 1.06867293e-12,\n",
    "       9.56651425e-13, 6.88310520e-13, 5.92637051e-13])\n",
    "\n",
    "times_lpdap = np.array([5.00822067e-03, 2.39226818e-02, 4.39913273e-02, 6.43539429e-02,\n",
    "       8.49573612e-02, 1.05225801e-01, 1.25687599e-01, 1.46164179e-01,\n",
    "       1.67770863e-01, 7.11780071e-01, 7.29965210e-01, 7.47247934e-01,\n",
    "       7.63816118e-01, 1.34156585e+00, 1.36275458e+00, 1.86567879e+00,\n",
    "       1.88338733e+00, 1.89911151e+00, 1.91899037e+00, 1.93670297e+00,\n",
    "       1.96150661e+00, 2.50524879e+00, 2.52784061e+00, 2.54926038e+00,\n",
    "       3.09177184e+00, 3.11411738e+00, 3.13033271e+00, 3.14962196e+00,\n",
    "       3.17570353e+00, 3.19966984e+00, 3.73969698e+00, 3.75688314e+00,\n",
    "       4.22693658e+00, 4.23949671e+00, 4.25286674e+00, 4.26836300e+00,\n",
    "       4.73042464e+00, 5.20169139e+00, 5.66969848e+00, 5.68024445e+00,\n",
    "       5.69259548e+00, 5.70796347e+00, 5.72350836e+00, 5.73322773e+00,\n",
    "       6.29122472e+00, 6.30082655e+00, 6.31362367e+00, 6.32242966e+00,\n",
    "       6.33538008e+00, 6.34752488e+00, 6.96176457e+00, 7.41738558e+00,\n",
    "       7.42729044e+00, 7.44009399e+00, 7.45232677e+00, 7.46431088e+00,\n",
    "       8.03263664e+00, 8.04446673e+00, 8.60860395e+00, 9.07991076e+00,\n",
    "       9.08976817e+00, 9.10340261e+00, 9.63102913e+00, 1.01680872e+01,\n",
    "       1.07404351e+01, 1.07516212e+01, 1.07619400e+01, 1.07749519e+01,\n",
    "       1.07908468e+01, 1.13145359e+01, 1.13244634e+01, 1.13328607e+01,\n",
    "       1.13449082e+01, 1.18740509e+01, 1.23501794e+01, 1.23630412e+01,\n",
    "       1.23722939e+01, 1.29028428e+01, 1.33723626e+01, 1.33806434e+01,\n",
    "       1.38643296e+01, 1.43501942e+01, 1.43638098e+01, 1.43734441e+01,\n",
    "       1.43833542e+01, 1.43927653e+01, 1.44042780e+01, 1.44189289e+01,\n",
    "       1.44303107e+01, 1.50304549e+01, 1.54876735e+01, 1.54977462e+01,\n",
    "       1.55088022e+01, 1.60114141e+01, 1.64927399e+01, 1.69799082e+01,\n",
    "       1.69993949e+01, 1.74885635e+01, 1.79950352e+01, 1.84802175e+01,\n",
    "       1.84899430e+01, 1.85048552e+01, 1.90183413e+01, 1.94950011e+01,\n",
    "       1.95110495e+01, 1.95271773e+01, 2.00932229e+01, 2.05537364e+01,\n",
    "       2.05705879e+01, 2.05857050e+01, 2.10809364e+01, 2.10896714e+01,\n",
    "       2.15614274e+01, 2.20038497e+01, 2.20168159e+01, 2.20290484e+01,\n",
    "       2.20423422e+01, 2.20590749e+01, 2.25395949e+01, 2.30052969e+01,\n",
    "       2.30148766e+01, 2.30246539e+01, 2.30334852e+01])\n",
    "\n",
    "supports_lpdap = np.array([ 0,  1,  2,  3,  4,  5,  6,  7,  8,  7,  7,  8,  9,  8,  8,  8,  9,\n",
    "       10,  9, 10,  9,  9,  8,  8,  8,  8,  8,  9, 10,  9,  9,  9, 10, 10,\n",
    "       10, 11, 10, 10,  9,  9,  9,  8,  9,  8,  8,  9, 10,  9,  9, 10, 10,\n",
    "        8,  8,  8,  9, 10, 11,  9,  9,  8,  8, 10, 13, 10,  9,  9,  8,  8,\n",
    "        8,  9, 10,  9,  9, 10,  8,  7,  8, 11,  9, 10, 13, 10, 10,  9,  9,\n",
    "        9,  8,  9, 11, 12, 11, 13, 12, 12, 10, 10,  9,  9,  9,  9,  9,  9,\n",
    "        9,  9,  9,  9,  8,  8,  8,  8,  7,  8,  9,  8,  8, 10,  9,  8, 11,\n",
    "        9, 10, 10, 11])\n",
    "\n",
    "epsilons_lpdap = np.array([5.00000000e-02, 5.00000000e-02, 5.00000000e-02, 5.00000000e-02,\n",
    "       5.00000000e-02, 5.00000000e-02, 5.00000000e-02, 5.00000000e-02,\n",
    "       5.00000000e-02, 5.00000000e-02, 2.28377115e-02, 2.28377115e-02,\n",
    "       2.28377115e-02, 2.28377115e-02, 1.10924920e-02, 1.10924920e-02,\n",
    "       4.75484299e-03, 4.75484299e-03, 4.75484299e-03, 4.75484299e-03,\n",
    "       4.75484299e-03, 4.75484299e-03, 1.64712213e-03, 1.64712213e-03,\n",
    "       1.64712213e-03, 6.80226804e-04, 6.80226804e-04, 6.80226804e-04,\n",
    "       6.80226804e-04, 6.80226804e-04, 6.80226804e-04, 3.16173107e-04,\n",
    "       3.16173107e-04, 1.48083647e-04, 1.48083647e-04, 1.48083647e-04,\n",
    "       1.48083647e-04, 1.48083647e-04, 1.48083647e-04, 6.50099286e-05,\n",
    "       6.50099286e-05, 6.50099286e-05, 6.50099286e-05, 6.50099286e-05,\n",
    "       6.50099286e-05, 2.24632003e-05, 2.24632003e-05, 2.24632003e-05,\n",
    "       2.24632003e-05, 2.24632003e-05, 2.24632003e-05, 2.24632003e-05,\n",
    "       8.42377825e-06, 8.42377825e-06, 8.42377825e-06, 8.42377825e-06,\n",
    "       8.42377825e-06, 8.42377825e-06, 8.42377825e-06, 8.42377825e-06,\n",
    "       1.81616174e-06, 1.81616174e-06, 1.81616174e-06, 1.81616174e-06,\n",
    "       1.81616174e-06, 4.40179447e-07, 4.40179447e-07, 4.40179447e-07,\n",
    "       4.40179447e-07, 4.40179447e-07, 1.37026147e-07, 1.37026147e-07,\n",
    "       1.37026147e-07, 1.37026147e-07, 1.37026147e-07, 6.11027409e-08,\n",
    "       6.11027409e-08, 6.11027409e-08, 6.11027409e-08, 2.36683435e-08,\n",
    "       2.36683435e-08, 2.36683435e-08, 8.32740468e-09, 8.32740468e-09,\n",
    "       8.32740468e-09, 8.32740468e-09, 8.32740468e-09, 8.32740468e-09,\n",
    "       8.32740468e-09, 8.32740468e-09, 8.32740468e-09, 1.44451598e-09,\n",
    "       1.44451598e-09, 1.44451598e-09, 1.44451598e-09, 1.44451598e-09,\n",
    "       3.16461127e-10, 3.16461127e-10, 3.16461127e-10, 1.06930900e-10,\n",
    "       1.06930900e-10, 1.06930900e-10, 1.06930900e-10, 1.06930900e-10,\n",
    "       2.85217556e-11, 2.85217556e-11, 2.85217556e-11, 2.85217556e-11,\n",
    "       9.47725206e-12, 9.47725206e-12, 9.47725206e-12, 4.33538410e-12,\n",
    "       4.33538410e-12, 4.33538410e-12, 1.37689522e-12, 1.37689522e-12,\n",
    "       1.37689522e-12, 1.37689522e-12, 1.37689522e-12, 1.37689522e-12,\n",
    "       3.99456555e-13, 3.99456555e-13, 3.99456555e-13])"
   ]
  },
  {
   "cell_type": "code",
   "execution_count": null,
   "metadata": {},
   "outputs": [],
   "source": [
    "names = [\"PDAP\", \"LPDAP\", \"NLGCG\", \"NLGCG (damped)\"]\n",
    "styles = [\"-\", \"--\", \"-.\", \":\"]\n",
    "plt.figure(figsize=(11.25,5))\n",
    "for array, name, style in zip([residuals_pdap, residuals_lpdap, residuals_newton, residuals_newton_damped], names, styles):\n",
    "    plt.semilogy(np.array(range(len(array))),array, style, label=name);\n",
    "plt.ylabel(\"Objective residual\");\n",
    "plt.xlabel(\"Total iterations\");\n",
    "plt.ylim(1e-12, 30);\n",
    "# plt.xlim(0, 135);\n",
    "plt.legend();\n",
    "plt.show()"
   ]
  },
  {
   "cell_type": "code",
   "execution_count": null,
   "metadata": {},
   "outputs": [],
   "source": [
    "names = [\"LPDAP\", \"NLGCG\", \"NLGCG (damped)\"]\n",
    "styles = [\"--\", \"-.\", \":\"]\n",
    "colors = [\"orange\", \"green\", \"red\"]\n",
    "plt.figure(figsize=(11.25,5))\n",
    "for array, name, style, color in zip([epsilons_lpdap, epsilons_newton, epsilons_newton_damped], names, styles, colors):\n",
    "    plt.semilogy(np.array(range(len(array))),array, style, label=name, color=color);\n",
    "plt.ylabel(\"Lazy threshold\");\n",
    "plt.xlabel(\"Total iterations\");\n",
    "plt.ylim(1e-12, 0.1);\n",
    "# plt.xlim(0, 135);\n",
    "plt.legend();\n",
    "plt.show()"
   ]
  },
  {
   "cell_type": "code",
   "execution_count": null,
   "metadata": {},
   "outputs": [],
   "source": [
    "names = [\"PDAP\", \"LPDAP\", \"NLGCG\", \"NLGCG (damped)\"]\n",
    "styles = [\"-\", \"--\", \"-.\", \":\"]\n",
    "plt.figure(figsize=(11.25,5))\n",
    "for array, name, style in zip([supports_pdap, supports_lpdap, supports_newton, supports_newton_damped], names, styles):\n",
    "    plt.plot(np.array(range(len(array))),array, style, label=name);\n",
    "plt.ylabel(\"Support size\");\n",
    "plt.xlabel(\"Total iterations\");\n",
    "plt.legend();\n",
    "plt.show()"
   ]
  },
  {
   "cell_type": "code",
   "execution_count": null,
   "metadata": {},
   "outputs": [],
   "source": [
    "names = [\"PDAP\", \"LPDAP\", \"NLGCG\", \"NLGCG (damped)\"]\n",
    "styles = [\"-\", \"--\", \"-.\", \":\"]\n",
    "plt.figure(figsize=(11.25,5))\n",
    "for domain, array, name, style in zip([times_pdap, times_lpdap, times_newton, times_newton_damped], [residuals_pdap, residuals_lpdap, residuals_newton, residuals_newton_damped], names, styles):\n",
    "    plt.semilogy(domain, array, style, label=name);\n",
    "plt.ylabel(\"Objective residual\");\n",
    "plt.xlabel(\"Time (s)\");\n",
    "plt.ylim(1e-12, 30);\n",
    "# plt.xlim(0, 60);\n",
    "plt.legend();\n",
    "plt.show()"
   ]
  },
  {
   "cell_type": "code",
   "execution_count": null,
   "metadata": {},
   "outputs": [],
   "source": [
    "plt.figure(figsize=(11.25,5))\n",
    "plt.semilogy(np.array(range(len(residuals_newton))), residuals_newton, linestyle=\"-.\", color=\"green\");\n",
    "for interval in intervals_newton:\n",
    "    plt.fill_between(interval, 0, 60, hatch=\"/\", color=\"gray\", alpha=0.2);\n",
    "plt.ylim(1e-14, 60);\n",
    "plt.xlim(0, 41);\n",
    "plt.ylabel(\"Objective residual\");\n",
    "plt.xlabel(\"Total iterations\");\n",
    "plt.show()"
   ]
  },
  {
   "cell_type": "markdown",
   "metadata": {},
   "source": [
    "# Signal Processing"
   ]
  },
  {
   "cell_type": "markdown",
   "metadata": {},
   "source": [
    "## Generate Data and Define Functions"
   ]
  },
  {
   "cell_type": "code",
   "execution_count": 2,
   "metadata": {},
   "outputs": [],
   "source": [
    "observation_resolution = 120\n",
    "Omega = np.array([[0,observation_resolution//2]])\n",
    "alpha = 1e-1\n",
    "true_sources = np.array([[3.125], [7], [np.sqrt(179)]])\n",
    "true_weights = np.array([-1, 0.7, 0.5])"
   ]
  },
  {
   "cell_type": "code",
   "execution_count": 3,
   "metadata": {},
   "outputs": [],
   "source": [
    "observations = np.arange(0,1,1/observation_resolution)"
   ]
  },
  {
   "cell_type": "code",
   "execution_count": 4,
   "metadata": {},
   "outputs": [],
   "source": [
    "def kappa(x):\n",
    "    # Input is 2D array of shape (number of points, Omega dimension)\n",
    "    if len(x.shape) == 1:\n",
    "        x = x.reshape(1, -1)\n",
    "    columns = []\n",
    "    for t in observations:\n",
    "        column = np.sin(2*np.pi*x*t).flatten()\n",
    "        columns.append(column)\n",
    "    result = np.transpose(np.array(columns), axes=(1,0)) # shape=(len(x), len(observations))\n",
    "    return result"
   ]
  },
  {
   "cell_type": "code",
   "execution_count": 5,
   "metadata": {},
   "outputs": [],
   "source": [
    "u_hat = Measure(support=true_sources, coefficients=true_weights)\n",
    "target = u_hat.duality_pairing(kappa)"
   ]
  },
  {
   "cell_type": "code",
   "execution_count": 6,
   "metadata": {},
   "outputs": [],
   "source": [
    "g = lambda u: alpha * np.linalg.norm(u, ord=1)\n",
    "f = lambda u: 0.5 * np.linalg.norm(u.duality_pairing(kappa) - target) ** 2"
   ]
  },
  {
   "cell_type": "code",
   "execution_count": 7,
   "metadata": {},
   "outputs": [],
   "source": [
    "def grad_kappa(x):\n",
    "    # Input is 2D array of shape (number of points, Omega dimension)\n",
    "    if len(x.shape) == 1:\n",
    "        x = x.reshape(1, -1)\n",
    "    gradients = []\n",
    "    for t in observations:\n",
    "        factor = 2*np.pi*t\n",
    "        column = np.cos(2*np.pi*x*t) # (len(x), Omega.shape[0])\n",
    "        gradient = factor * column\n",
    "        gradients.append(gradient)\n",
    "    result = np.transpose(np.array(gradients), axes=(1,0,2)) # The Jacobian of kappa, shape=(len(x), len(observations), Omega.shape[0])\n",
    "    return result"
   ]
  },
  {
   "cell_type": "code",
   "execution_count": 8,
   "metadata": {},
   "outputs": [],
   "source": [
    "def hess_kappa(x):\n",
    "    # Input is 2D array of shape (number of points, Omega dimension)\n",
    "    if len(x.shape) == 1:\n",
    "        x = x.reshape(1, -1)\n",
    "    hessians = []\n",
    "    for t in observations:\n",
    "        factor = -4*np.pi**2*t**2\n",
    "        column = np.sin(2*np.pi*x*t).reshape(-1,1,1) # (len(x), Omega.shape[0], Omega.shape[0])\n",
    "        hessian = factor * column\n",
    "        hessians.append(hessian)\n",
    "    result = np.transpose(np.array(hessians), axes=(1,0,2,3)) # The derivative of the Jacobian of kappa, shape=(len(x), len(observations), Omega.shape[0], Omega.shape[0])\n",
    "    return result"
   ]
  },
  {
   "cell_type": "code",
   "execution_count": 9,
   "metadata": {},
   "outputs": [],
   "source": [
    "def p_raw(u):\n",
    "    Ku = u.duality_pairing(kappa)\n",
    "    inner = Ku-target\n",
    "    return lambda x: -kappa(x) @ inner\n",
    "\n",
    "p = lambda u: p_raw(u)"
   ]
  },
  {
   "cell_type": "code",
   "execution_count": 10,
   "metadata": {},
   "outputs": [],
   "source": [
    "def grad_P_raw(u):\n",
    "    p_u = p_raw(u)\n",
    "    inner = target-u.duality_pairing(kappa)\n",
    "    return lambda x: np.sign(p_u(x)).reshape(-1,1)*np.tensordot(grad_kappa(x), inner, axes=([1,0]))\n",
    "\n",
    "grad_P = lambda u: grad_P_raw(u)"
   ]
  },
  {
   "cell_type": "code",
   "execution_count": 11,
   "metadata": {},
   "outputs": [],
   "source": [
    "def hess_P_raw(u):\n",
    "    p_u = p_raw(u)\n",
    "    inner = target-u.duality_pairing(kappa)\n",
    "    return lambda x: np.sign(p_u(x)).reshape(-1,1,1)*np.tensordot(hess_kappa(x),inner,axes=([1,0]))\n",
    "\n",
    "hess_P = lambda u: hess_P_raw(u)"
   ]
  },
  {
   "cell_type": "code",
   "execution_count": 12,
   "metadata": {},
   "outputs": [],
   "source": [
    "def grad_j(positions, coefs):\n",
    "    K_matrix = kappa(positions)\n",
    "    grad_F = (K_matrix.T@coefs).flatten() - target\n",
    "    nabla_x = coefs.reshape(-1,1)*np.tensordot(grad_kappa(positions), grad_F, axes=([1,0]))\n",
    "    nabla_u = np.dot(K_matrix, grad_F) + alpha * np.sign(coefs)\n",
    "    return np.append(nabla_x.flatten(), nabla_u, axis=0).flatten()"
   ]
  },
  {
   "cell_type": "code",
   "execution_count": 13,
   "metadata": {},
   "outputs": [],
   "source": [
    "def hess_j(positions, coefs):\n",
    "    kappa_values = kappa(positions)\n",
    "    grad_kappa_values = grad_kappa(positions)\n",
    "    hess_kappa_values = hess_kappa(positions)\n",
    "    matrix_dimension = len(positions)*Omega.shape[0] + len(coefs)\n",
    "    hesse_matrix = np.zeros((matrix_dimension, matrix_dimension))\n",
    "    step = Omega.shape[0]\n",
    "    coefs_delay = step*len(positions)\n",
    "    inner = (kappa_values.T@coefs).flatten() - target\n",
    "    for i in range(len(positions)):\n",
    "        # nabla_{x_i,x_j}\n",
    "        for j in range(len(positions)):\n",
    "            if j<i:\n",
    "                continue\n",
    "            block = coefs[i]*coefs[j]*np.matmul(grad_kappa_values[i].T, grad_kappa_values[j])\n",
    "            if i==j:\n",
    "                block += coefs[i]*np.tensordot(hess_kappa_values[i],inner,axes=([0,0]))\n",
    "            hesse_matrix[i*step:(i+1)*step, j*step:(j+1)*step] = block\n",
    "            hesse_matrix[j*step:(j+1)*step, i*step:(i+1)*step] = block.T\n",
    "        # nabla_{x_i,u_j}\n",
    "        for j in range(len(coefs)):\n",
    "            block = coefs[i]*np.matmul(grad_kappa_values[i].T, kappa_values[j])\n",
    "            if i == j:\n",
    "                block += np.matmul(grad_kappa_values[i].T, inner)\n",
    "            hesse_matrix[i*step:(i+1)*step, coefs_delay+j] = block\n",
    "            hesse_matrix[coefs_delay+j, i*step:(i+1)*step] = block.T\n",
    "    for i in range(len(coefs)):\n",
    "        # nabla_{u_i,u_j}\n",
    "        for j in range(len(coefs)):\n",
    "            if j<i:\n",
    "                continue\n",
    "            block = np.dot(kappa_values[i], kappa_values[j])\n",
    "            hesse_matrix[coefs_delay+i,coefs_delay+j] = block\n",
    "            hesse_matrix[coefs_delay+j,coefs_delay+i] = block\n",
    "    return hesse_matrix"
   ]
  },
  {
   "cell_type": "code",
   "execution_count": 14,
   "metadata": {},
   "outputs": [
    {
     "data": {
      "text/plain": [
       "8.436705235037092"
      ]
     },
     "execution_count": 14,
     "metadata": {},
     "output_type": "execute_result"
    }
   ],
   "source": [
    "a = np.arange(Omega[0][0], Omega[0][1], 0.1).reshape(-1,1)\n",
    "vals = np.linalg.norm(kappa(a), axis=1)\n",
    "norm_kappa = max(vals)\n",
    "norm_kappa"
   ]
  },
  {
   "cell_type": "code",
   "execution_count": 15,
   "metadata": {},
   "outputs": [
    {
     "data": {
      "text/plain": [
       "39.48990157632303"
      ]
     },
     "execution_count": 15,
     "metadata": {},
     "output_type": "execute_result"
    }
   ],
   "source": [
    "a = np.arange(Omega[0][0], Omega[0][1], 0.1).reshape(-1,1)\n",
    "vals = np.linalg.norm(grad_kappa(a), axis=(1,2))\n",
    "norm_kappa1 = max(norm_kappa, max(vals))\n",
    "norm_kappa1"
   ]
  },
  {
   "cell_type": "code",
   "execution_count": 16,
   "metadata": {},
   "outputs": [
    {
     "data": {
      "text/plain": [
       "1.0"
      ]
     },
     "execution_count": 16,
     "metadata": {},
     "output_type": "execute_result"
    }
   ],
   "source": [
    "gamma = 1\n",
    "theta = 1e-1\n",
    "sigma = 5e-2\n",
    "m = 1e-3\n",
    "bar_m = 1e-1\n",
    "L = 1\n",
    "L_H = max(np.abs(true_weights))\n",
    "R = 1e-1\n",
    "L_H"
   ]
  },
  {
   "cell_type": "markdown",
   "metadata": {},
   "source": [
    "## Experiments"
   ]
  },
  {
   "cell_type": "code",
   "execution_count": 17,
   "metadata": {},
   "outputs": [],
   "source": [
    "exp = LazifiedPDAP(target=target, \n",
    "           kappa=kappa, \n",
    "           g=g, \n",
    "           f=f,\n",
    "           p=p,\n",
    "           grad_P=grad_P,\n",
    "           hess_P=hess_P,\n",
    "           norm_kappa=norm_kappa,\n",
    "           norm_kappa1=norm_kappa1,\n",
    "           grad_j=grad_j,\n",
    "           hess_j=hess_j,\n",
    "           alpha=alpha,\n",
    "           Omega=Omega,\n",
    "           gamma=gamma,\n",
    "           theta=theta,\n",
    "           sigma=sigma,\n",
    "           m=m,\n",
    "           bar_m=bar_m,\n",
    "           L=L,\n",
    "           L_H=L_H,\n",
    "           R=R,\n",
    "           )"
   ]
  },
  {
   "cell_type": "markdown",
   "metadata": {},
   "source": [
    "### PDAP"
   ]
  },
  {
   "cell_type": "code",
   "execution_count": 18,
   "metadata": {},
   "outputs": [
    {
     "name": "stderr",
     "output_type": "stream",
     "text": [
      "DEBUG:root:SSN in 1 dimensions and tolerance 1.000E-14: MAX ITERATIONS REACHED\n",
      "INFO:root:1: Phi:9.458E+03, support: 1\n",
      "INFO:root:==============================================\n",
      "DEBUG:root:SSN in 2 dimensions and tolerance 1.000E-14: MAX ITERATIONS REACHED\n",
      "INFO:root:2: Phi:2.316E+03, support: 2\n",
      "INFO:root:==============================================\n",
      "DEBUG:root:SSN in 3 dimensions and tolerance 1.000E-14: MAX ITERATIONS REACHED\n",
      "INFO:root:3: Phi:4.855E+00, support: 3\n",
      "INFO:root:==============================================\n",
      "DEBUG:root:SSN in 4 dimensions converged in 3 iterations to tolerance 1.000E-14\n",
      "INFO:root:4: Phi:1.840E+00, support: 4\n",
      "INFO:root:==============================================\n",
      "DEBUG:root:SSN in 5 dimensions converged in 2 iterations to tolerance 1.000E-14\n",
      "INFO:root:5: Phi:1.004E+00, support: 5\n",
      "INFO:root:==============================================\n",
      "DEBUG:root:SSN in 6 dimensions converged in 5 iterations to tolerance 1.000E-14\n",
      "INFO:root:6: Phi:4.432E-01, support: 6\n",
      "INFO:root:==============================================\n",
      "DEBUG:root:SSN in 7 dimensions converged in 2 iterations to tolerance 1.000E-14\n",
      "INFO:root:7: Phi:4.410E-01, support: 7\n",
      "INFO:root:==============================================\n",
      "DEBUG:root:SSN in 8 dimensions converged in 2 iterations to tolerance 1.000E-14\n",
      "INFO:root:8: Phi:2.535E-01, support: 8\n",
      "INFO:root:==============================================\n",
      "DEBUG:root:SSN in 9 dimensions converged in 2 iterations to tolerance 1.000E-14\n",
      "INFO:root:9: Phi:1.792E-01, support: 9\n",
      "INFO:root:==============================================\n",
      "DEBUG:root:SSN in 10 dimensions converged in 2 iterations to tolerance 1.000E-14\n",
      "INFO:root:10: Phi:1.061E-01, support: 10\n",
      "INFO:root:==============================================\n",
      "DEBUG:root:SSN in 11 dimensions converged in 11 iterations to tolerance 1.000E-14\n",
      "INFO:root:11: Phi:7.122E-02, support: 9\n",
      "INFO:root:==============================================\n",
      "DEBUG:root:SSN in 10 dimensions converged in 3 iterations to tolerance 1.000E-14\n",
      "INFO:root:12: Phi:3.752E-02, support: 9\n",
      "INFO:root:==============================================\n",
      "DEBUG:root:SSN in 10 dimensions converged in 9 iterations to tolerance 1.000E-14\n",
      "INFO:root:13: Phi:2.300E-02, support: 8\n",
      "INFO:root:==============================================\n",
      "DEBUG:root:SSN in 9 dimensions converged in 9 iterations to tolerance 1.000E-14\n",
      "INFO:root:14: Phi:7.263E-02, support: 7\n",
      "INFO:root:==============================================\n",
      "DEBUG:root:SSN in 8 dimensions converged in 3 iterations to tolerance 1.000E-14\n",
      "INFO:root:15: Phi:1.213E-02, support: 7\n",
      "INFO:root:==============================================\n",
      "DEBUG:root:SSN in 8 dimensions converged in 6 iterations to tolerance 1.000E-14\n",
      "INFO:root:16: Phi:5.115E-03, support: 7\n",
      "INFO:root:==============================================\n",
      "DEBUG:root:SSN in 8 dimensions converged in 10 iterations to tolerance 1.000E-14\n",
      "INFO:root:17: Phi:2.428E-03, support: 5\n",
      "INFO:root:==============================================\n",
      "DEBUG:root:SSN in 6 dimensions converged in 7 iterations to tolerance 1.000E-14\n",
      "INFO:root:18: Phi:2.012E-03, support: 5\n",
      "INFO:root:==============================================\n",
      "DEBUG:root:SSN in 6 dimensions converged in 2 iterations to tolerance 1.000E-14\n",
      "INFO:root:19: Phi:1.058E-03, support: 6\n",
      "INFO:root:==============================================\n",
      "DEBUG:root:SSN in 7 dimensions converged in 11 iterations to tolerance 1.000E-14\n",
      "INFO:root:20: Phi:5.418E-04, support: 6\n",
      "INFO:root:==============================================\n",
      "DEBUG:root:SSN in 7 dimensions converged in 9 iterations to tolerance 1.000E-14\n",
      "INFO:root:21: Phi:4.533E-04, support: 6\n",
      "INFO:root:==============================================\n",
      "DEBUG:root:SSN in 7 dimensions converged in 7 iterations to tolerance 1.000E-14\n",
      "INFO:root:22: Phi:1.807E-04, support: 6\n",
      "INFO:root:==============================================\n",
      "DEBUG:root:SSN in 7 dimensions converged in 15 iterations to tolerance 1.000E-14\n",
      "INFO:root:23: Phi:1.274E-04, support: 6\n",
      "INFO:root:==============================================\n",
      "DEBUG:root:SSN in 7 dimensions converged in 12 iterations to tolerance 1.000E-14\n",
      "INFO:root:24: Phi:1.074E-04, support: 6\n",
      "INFO:root:==============================================\n",
      "DEBUG:root:SSN in 7 dimensions converged in 11 iterations to tolerance 1.000E-14\n",
      "INFO:root:25: Phi:3.642E-05, support: 6\n",
      "INFO:root:==============================================\n",
      "DEBUG:root:SSN in 7 dimensions converged in 10 iterations to tolerance 1.000E-14\n",
      "INFO:root:26: Phi:3.063E-05, support: 6\n",
      "INFO:root:==============================================\n",
      "DEBUG:root:SSN in 7 dimensions converged in 17 iterations to tolerance 1.000E-14\n",
      "INFO:root:27: Phi:2.675E-05, support: 6\n",
      "INFO:root:==============================================\n",
      "DEBUG:root:SSN in 7 dimensions converged in 13 iterations to tolerance 1.000E-14\n",
      "INFO:root:28: Phi:9.006E-06, support: 6\n",
      "INFO:root:==============================================\n",
      "DEBUG:root:SSN in 7 dimensions converged in 16 iterations to tolerance 1.000E-14\n",
      "INFO:root:29: Phi:7.504E-06, support: 6\n",
      "INFO:root:==============================================\n",
      "DEBUG:root:SSN in 7 dimensions converged in 15 iterations to tolerance 1.000E-14\n",
      "INFO:root:30: Phi:6.679E-06, support: 6\n",
      "INFO:root:==============================================\n",
      "DEBUG:root:SSN in 7 dimensions converged in 16 iterations to tolerance 1.000E-14\n",
      "INFO:root:31: Phi:2.239E-06, support: 6\n",
      "INFO:root:==============================================\n",
      "DEBUG:root:SSN in 7 dimensions converged in 19 iterations to tolerance 1.000E-14\n",
      "INFO:root:32: Phi:1.867E-06, support: 6\n",
      "INFO:root:==============================================\n",
      "DEBUG:root:SSN in 7 dimensions converged in 15 iterations to tolerance 1.000E-14\n",
      "INFO:root:33: Phi:1.668E-06, support: 6\n",
      "INFO:root:==============================================\n",
      "DEBUG:root:SSN in 7 dimensions converged in 12 iterations to tolerance 1.000E-14\n",
      "INFO:root:34: Phi:5.581E-07, support: 6\n",
      "INFO:root:==============================================\n",
      "DEBUG:root:SSN in 7 dimensions converged in 17 iterations to tolerance 1.000E-14\n",
      "INFO:root:35: Phi:4.661E-07, support: 6\n",
      "INFO:root:==============================================\n",
      "DEBUG:root:SSN in 7 dimensions converged in 20 iterations to tolerance 1.000E-14\n",
      "INFO:root:36: Phi:4.169E-07, support: 6\n",
      "INFO:root:==============================================\n",
      "DEBUG:root:SSN in 7 dimensions converged in 17 iterations to tolerance 1.000E-14\n",
      "INFO:root:37: Phi:1.394E-07, support: 6\n",
      "INFO:root:==============================================\n",
      "DEBUG:root:SSN in 7 dimensions converged in 17 iterations to tolerance 1.000E-14\n",
      "INFO:root:38: Phi:1.165E-07, support: 6\n",
      "INFO:root:==============================================\n",
      "DEBUG:root:SSN in 7 dimensions converged in 21 iterations to tolerance 1.000E-14\n",
      "INFO:root:39: Phi:1.042E-07, support: 6\n",
      "INFO:root:==============================================\n",
      "DEBUG:root:SSN in 7 dimensions converged in 19 iterations to tolerance 1.000E-14\n",
      "INFO:root:40: Phi:3.485E-08, support: 6\n",
      "INFO:root:==============================================\n",
      "DEBUG:root:SSN in 7 dimensions converged in 17 iterations to tolerance 1.000E-14\n",
      "INFO:root:41: Phi:2.912E-08, support: 6\n",
      "INFO:root:==============================================\n",
      "DEBUG:root:SSN in 7 dimensions converged in 20 iterations to tolerance 1.000E-14\n",
      "INFO:root:42: Phi:2.605E-08, support: 6\n",
      "INFO:root:==============================================\n",
      "DEBUG:root:SSN in 7 dimensions converged in 10 iterations to tolerance 1.000E-14\n",
      "INFO:root:43: Phi:8.712E-09, support: 6\n",
      "INFO:root:==============================================\n",
      "DEBUG:root:SSN in 7 dimensions converged in 21 iterations to tolerance 1.000E-14\n",
      "INFO:root:44: Phi:7.281E-09, support: 6\n",
      "INFO:root:==============================================\n",
      "DEBUG:root:SSN in 7 dimensions converged in 21 iterations to tolerance 1.000E-14\n",
      "INFO:root:45: Phi:6.513E-09, support: 6\n",
      "INFO:root:==============================================\n",
      "DEBUG:root:SSN in 7 dimensions converged in 20 iterations to tolerance 1.000E-14\n",
      "INFO:root:46: Phi:2.178E-09, support: 6\n",
      "INFO:root:==============================================\n",
      "DEBUG:root:SSN in 7 dimensions converged in 15 iterations to tolerance 1.000E-14\n",
      "INFO:root:47: Phi:1.820E-09, support: 6\n",
      "INFO:root:==============================================\n",
      "DEBUG:root:SSN in 7 dimensions converged in 19 iterations to tolerance 1.000E-14\n",
      "INFO:root:48: Phi:1.628E-09, support: 6\n",
      "INFO:root:==============================================\n",
      "DEBUG:root:SSN in 7 dimensions converged in 16 iterations to tolerance 1.000E-14\n",
      "INFO:root:49: Phi:5.445E-10, support: 6\n",
      "INFO:root:==============================================\n",
      "DEBUG:root:SSN in 7 dimensions converged in 20 iterations to tolerance 1.000E-14\n",
      "INFO:root:50: Phi:4.551E-10, support: 6\n",
      "INFO:root:==============================================\n",
      "DEBUG:root:SSN in 7 dimensions converged in 17 iterations to tolerance 1.000E-14\n",
      "INFO:root:51: Phi:4.071E-10, support: 6\n",
      "INFO:root:==============================================\n",
      "DEBUG:root:SSN in 7 dimensions converged in 23 iterations to tolerance 1.000E-14\n",
      "INFO:root:52: Phi:1.361E-10, support: 6\n",
      "INFO:root:==============================================\n",
      "DEBUG:root:SSN in 7 dimensions converged in 17 iterations to tolerance 1.000E-14\n",
      "INFO:root:53: Phi:1.138E-10, support: 6\n",
      "INFO:root:==============================================\n",
      "DEBUG:root:SSN in 7 dimensions converged in 18 iterations to tolerance 1.000E-14\n",
      "INFO:root:54: Phi:1.018E-10, support: 6\n",
      "INFO:root:==============================================\n",
      "DEBUG:root:SSN in 7 dimensions converged in 20 iterations to tolerance 1.000E-14\n",
      "INFO:root:55: Phi:3.403E-11, support: 6\n",
      "INFO:root:==============================================\n",
      "DEBUG:root:SSN in 7 dimensions converged in 19 iterations to tolerance 1.000E-14\n",
      "INFO:root:56: Phi:2.845E-11, support: 6\n",
      "INFO:root:==============================================\n",
      "DEBUG:root:SSN in 7 dimensions converged in 13 iterations to tolerance 1.000E-14\n",
      "INFO:root:57: Phi:2.544E-11, support: 6\n",
      "INFO:root:==============================================\n",
      "DEBUG:root:SSN in 7 dimensions converged in 20 iterations to tolerance 1.000E-14\n",
      "INFO:root:58: Phi:8.513E-12, support: 6\n",
      "INFO:root:==============================================\n",
      "DEBUG:root:SSN in 7 dimensions converged in 17 iterations to tolerance 1.000E-14\n",
      "INFO:root:59: Phi:7.116E-12, support: 6\n",
      "INFO:root:==============================================\n",
      "DEBUG:root:SSN in 7 dimensions converged in 17 iterations to tolerance 1.000E-14\n",
      "INFO:root:60: Phi:6.354E-12, support: 6\n",
      "INFO:root:==============================================\n",
      "DEBUG:root:SSN in 7 dimensions converged in 17 iterations to tolerance 1.000E-14\n",
      "INFO:root:61: Phi:2.127E-12, support: 6\n",
      "INFO:root:==============================================\n",
      "DEBUG:root:SSN in 7 dimensions converged in 13 iterations to tolerance 1.000E-14\n",
      "INFO:root:62: Phi:1.770E-12, support: 6\n",
      "INFO:root:==============================================\n",
      "DEBUG:root:SSN in 7 dimensions converged in 19 iterations to tolerance 1.000E-14\n",
      "INFO:root:63: Phi:1.585E-12, support: 6\n",
      "INFO:root:==============================================\n",
      "DEBUG:root:SSN in 7 dimensions converged in 19 iterations to tolerance 1.000E-14\n",
      "INFO:root:64: Phi:5.321E-13, support: 6\n",
      "INFO:root:==============================================\n",
      "DEBUG:root:SSN in 7 dimensions converged in 15 iterations to tolerance 1.000E-14\n",
      "INFO:root:65: Phi:4.399E-13, support: 6\n",
      "INFO:root:==============================================\n",
      "DEBUG:root:SSN in 7 dimensions converged in 16 iterations to tolerance 1.000E-14\n",
      "INFO:root:66: Phi:3.920E-13, support: 6\n",
      "INFO:root:==============================================\n",
      "DEBUG:root:SSN in 7 dimensions converged in 15 iterations to tolerance 1.000E-14\n",
      "INFO:root:67: Phi:1.284E-13, support: 6\n",
      "INFO:root:==============================================\n",
      "DEBUG:root:SSN in 7 dimensions converged in 21 iterations to tolerance 1.000E-14\n",
      "INFO:root:68: Phi:1.110E-13, support: 6\n",
      "INFO:root:==============================================\n",
      "DEBUG:root:SSN in 7 dimensions converged in 23 iterations to tolerance 1.000E-14\n",
      "INFO:root:69: Phi:9.775E-14, support: 6\n",
      "INFO:root:==============================================\n",
      "DEBUG:root:SSN in 7 dimensions converged in 17 iterations to tolerance 1.000E-14\n",
      "INFO:root:70: Phi:3.398E-14, support: 6\n",
      "INFO:root:==============================================\n",
      "DEBUG:root:SSN in 7 dimensions converged in 4 iterations to tolerance 1.000E-14\n",
      "INFO:root:71: Phi:3.270E-14, support: 7\n",
      "INFO:root:==============================================\n",
      "DEBUG:root:SSN in 8 dimensions converged in 28 iterations to tolerance 1.000E-14\n",
      "INFO:root:72: Phi:2.853E-14, support: 6\n",
      "INFO:root:==============================================\n",
      "DEBUG:root:SSN in 7 dimensions converged in 15 iterations to tolerance 1.000E-14\n",
      "INFO:root:73: Phi:1.064E-14, support: 6\n",
      "INFO:root:==============================================\n",
      "DEBUG:root:SSN in 7 dimensions converged in 3 iterations to tolerance 1.000E-14\n",
      "INFO:root:74: Phi:1.384E-14, support: 7\n",
      "INFO:root:==============================================\n",
      "DEBUG:root:SSN in 8 dimensions converged in 2 iterations to tolerance 1.000E-14\n",
      "INFO:root:75: Phi:1.335E-14, support: 8\n",
      "INFO:root:==============================================\n",
      "DEBUG:root:SSN in 9 dimensions converged in 3 iterations to tolerance 1.000E-14\n",
      "INFO:root:76: Phi:1.196E-14, support: 9\n",
      "INFO:root:==============================================\n",
      "DEBUG:root:SSN in 10 dimensions converged in 3 iterations to tolerance 1.000E-14\n",
      "INFO:root:77: Phi:1.012E-14, support: 10\n",
      "INFO:root:==============================================\n",
      "DEBUG:root:SSN in 11 dimensions converged in 4 iterations to tolerance 1.000E-14\n",
      "INFO:root:78: Phi:9.319E-15, support: 11\n",
      "INFO:root:==============================================\n"
     ]
    }
   ],
   "source": [
    "u, P_values, times, supports, objective_values = exp.pdap(tol=1e-14)"
   ]
  },
  {
   "cell_type": "code",
   "execution_count": 19,
   "metadata": {},
   "outputs": [
    {
     "data": {
      "text/plain": [
       "0.21975386260012753"
      ]
     },
     "execution_count": 19,
     "metadata": {},
     "output_type": "execute_result"
    }
   ],
   "source": [
    "best = objective_values[-1]\n",
    "best"
   ]
  },
  {
   "cell_type": "code",
   "execution_count": 20,
   "metadata": {},
   "outputs": [
    {
     "data": {
      "text/plain": [
       "array([2.38418579e-07, 1.44747734e-01, 2.80295134e-01, 4.21657801e-01,\n",
       "       4.89504814e-01, 5.54171801e-01, 6.21161699e-01, 6.92107677e-01,\n",
       "       7.67526627e-01, 8.35987091e-01, 9.23215628e-01, 9.91173506e-01,\n",
       "       1.05550480e+00, 1.12198663e+00, 1.18742347e+00, 1.24858093e+00,\n",
       "       1.31444311e+00, 1.38890338e+00, 1.46170950e+00, 1.53741741e+00,\n",
       "       1.62911844e+00, 1.72034478e+00, 1.80127144e+00, 1.88783288e+00,\n",
       "       1.95663786e+00, 2.02650619e+00, 2.09106112e+00, 2.15603662e+00,\n",
       "       2.22199249e+00, 2.29011488e+00, 2.37570310e+00, 2.44392920e+00,\n",
       "       2.51476240e+00, 2.58300400e+00, 2.65028501e+00, 2.72127962e+00,\n",
       "       2.78932524e+00, 2.88072634e+00, 2.97178650e+00, 3.06618643e+00,\n",
       "       3.15616083e+00, 3.24662495e+00, 3.31682277e+00, 3.38224006e+00,\n",
       "       3.47225022e+00, 3.56463027e+00, 3.65584350e+00, 3.74674320e+00,\n",
       "       3.83884501e+00, 3.93009400e+00, 4.02526259e+00, 4.11602402e+00,\n",
       "       4.20772243e+00, 4.29821467e+00, 4.36960793e+00, 4.45754361e+00,\n",
       "       4.54448533e+00, 4.62940335e+00, 4.69551659e+00, 4.76374626e+00,\n",
       "       4.83393884e+00, 4.89966536e+00, 4.96472788e+00, 5.03161097e+00])"
      ]
     },
     "execution_count": 20,
     "metadata": {},
     "output_type": "execute_result"
    }
   ],
   "source": [
    "np.array(times[:64])"
   ]
  },
  {
   "cell_type": "code",
   "execution_count": 21,
   "metadata": {},
   "outputs": [
    {
     "data": {
      "text/plain": [
       "array([ 0,  1,  2,  3,  4,  5,  6,  7,  8,  9, 10,  9,  9,  8,  7,  7,  7,\n",
       "        5,  5,  6,  6,  6,  6,  6,  6,  6,  6,  6,  6,  6,  6,  6,  6,  6,\n",
       "        6,  6,  6,  6,  6,  6,  6,  6,  6,  6,  6,  6,  6,  6,  6,  6,  6,\n",
       "        6,  6,  6,  6,  6,  6,  6,  6,  6,  6,  6,  6,  6])"
      ]
     },
     "execution_count": 21,
     "metadata": {},
     "output_type": "execute_result"
    }
   ],
   "source": [
    "np.array(supports[:64])"
   ]
  },
  {
   "cell_type": "code",
   "execution_count": 22,
   "metadata": {},
   "outputs": [
    {
     "data": {
      "text/plain": [
       "array([5.26929402e+01, 2.22757014e+01, 7.51575796e+00, 4.94388053e-02,\n",
       "       1.50239777e-02, 8.58376260e-03, 6.60215209e-03, 6.26160461e-03,\n",
       "       5.81056961e-03, 5.68714558e-03, 5.63453917e-03, 2.74798169e-03,\n",
       "       2.49625308e-03, 2.43692856e-03, 1.09428956e-03, 1.06241338e-03,\n",
       "       9.64583839e-04, 3.70010644e-04, 3.28227685e-04, 3.27716477e-04,\n",
       "       1.08225414e-04, 8.89059425e-05, 8.85996721e-05, 2.08581002e-05,\n",
       "       1.15859863e-05, 1.14112347e-05, 8.58446300e-06, 4.06824318e-06,\n",
       "       3.96465275e-06, 2.55842175e-06, 1.39500443e-06, 1.33895722e-06,\n",
       "       6.37730666e-07, 3.72191017e-07, 3.43278640e-07, 1.86417766e-07,\n",
       "       1.07771234e-07, 9.30297483e-08, 4.47907718e-08, 3.13017950e-08,\n",
       "       2.38730088e-08, 1.63320791e-08, 9.87057930e-09, 6.13811726e-09,\n",
       "       2.36248926e-09, 2.29318572e-09, 4.22883784e-10, 3.32216477e-10,\n",
       "       2.96567576e-10, 1.97008548e-10, 1.51335777e-10, 1.33198313e-10,\n",
       "       8.31296143e-11, 6.02084493e-11, 5.10619047e-11, 2.59552657e-11,\n",
       "       1.44735335e-11, 9.88081839e-12, 6.27009555e-12, 4.28232450e-12,\n",
       "       3.35426131e-12, 1.54451452e-12, 6.06209527e-13, 2.64455124e-13])"
      ]
     },
     "execution_count": 22,
     "metadata": {},
     "output_type": "execute_result"
    }
   ],
   "source": [
    "objective_values[:64]-best"
   ]
  },
  {
   "cell_type": "code",
   "execution_count": 23,
   "metadata": {},
   "outputs": [
    {
     "name": "stdout",
     "output_type": "stream",
     "text": [
      "Measure with support [[ 3.1250217 ]\n",
      " [ 3.12502177]\n",
      " [ 3.12502185]\n",
      " [ 6.99999252]\n",
      " [ 6.99999258]\n",
      " [ 6.99999258]\n",
      " [ 6.99999264]\n",
      " [13.37905646]\n",
      " [13.3790565 ]\n",
      " [13.37905653]\n",
      " [13.3790566 ]] and coefficients [-6.68341891e-01 -1.93578408e-01 -1.36406978e-01  1.83114055e-01\n",
      "  1.01999324e-03  7.83322961e-02  4.35946562e-01  2.61449494e-01\n",
      "  1.01257327e-02  2.26736028e-01  2.58196703e-05]\n",
      "[5.02375919e-15]\n",
      "-1.7208456881689926e-15\n"
     ]
    }
   ],
   "source": [
    "print(u)\n",
    "print(max([abs(abs(p(u)(x))-alpha) for x in u.support]))\n",
    "print(g(u.coefficients)-u.duality_pairing(p(u)))"
   ]
  },
  {
   "cell_type": "markdown",
   "metadata": {},
   "source": [
    "### Newton"
   ]
  },
  {
   "cell_type": "code",
   "execution_count": 24,
   "metadata": {},
   "outputs": [
    {
     "name": "stderr",
     "output_type": "stream",
     "text": [
      "DEBUG:root:SSN in 1 dimensions converged in 3 iterations to tolerance 1.000E-03\n",
      "INFO:root:1: choice: 0, lazy: True, support: 0, epsilon: 0.05, objective: 5.291E+01, dropped: False\n",
      "INFO:root:1, 1: lazy: N/A, support: 1, epsilon: 0.05, objective: 2.250E+01\n",
      "INFO:root:1, 2: lazy: N/A, support: 1, epsilon: 0.05, objective: 2.250E+01\n",
      "INFO:root:1, 3: lazy: N/A, support: 1, epsilon: 0.05, objective: 2.250E+01\n",
      "INFO:root:1, 4: lazy: True, support: 1, epsilon: 0.05, objective: 2.250E+01\n",
      "INFO:root:False\n",
      "DEBUG:root:SSN in 2 dimensions converged in 3 iterations to tolerance 5.000E-04\n",
      "INFO:root:2: choice: 4, lazy: True, support: 2, epsilon: 0.05, objective: 1.695E+01, dropped: False\n",
      "INFO:root:2, 1: lazy: N/A, support: 2, epsilon: 0.05, objective: 7.667E+00\n",
      "INFO:root:2, 2: lazy: N/A, support: 2, epsilon: 0.05, objective: 7.667E+00\n",
      "INFO:root:2, 3: lazy: True, support: 2, epsilon: 0.05, objective: 7.667E+00\n",
      "INFO:root:False\n",
      "DEBUG:root:SSN in 3 dimensions converged in 3 iterations to tolerance 2.500E-04\n",
      "INFO:root:3: choice: 4, lazy: True, support: 3, epsilon: 0.05, objective: 7.356E+00, dropped: False\n",
      "INFO:root:3, 1: lazy: N/A, support: 3, epsilon: 0.05, objective: 2.215E-01\n",
      "INFO:root:3, 2: lazy: N/A, support: 3, epsilon: 0.05, objective: 2.198E-01\n",
      "INFO:root:3, 3: lazy: N/A, support: 3, epsilon: 0.05, objective: 2.198E-01\n",
      "INFO:root:3, 4: lazy: False, support: 3, epsilon: 1.8157764575601448e-09, objective: 2.198E-01\n",
      "INFO:root:3, 5: lazy: False, support: 3, epsilon: 4.186561214908134e-15, objective: 2.198E-01\n"
     ]
    }
   ],
   "source": [
    "u, times, supports, inner_loop, lgcg_lazy, lgcg_total, objective_values, dropped_tot, epsilons = exp.newton(tol=1e-12, damped=False)"
   ]
  },
  {
   "cell_type": "code",
   "execution_count": 25,
   "metadata": {},
   "outputs": [
    {
     "data": {
      "text/plain": [
       "0"
      ]
     },
     "execution_count": 25,
     "metadata": {},
     "output_type": "execute_result"
    }
   ],
   "source": [
    "dropped_tot"
   ]
  },
  {
   "cell_type": "code",
   "execution_count": 26,
   "metadata": {},
   "outputs": [
    {
     "data": {
      "text/plain": [
       "array([ 5.26929402e+01,  5.26929402e+01,  2.22783817e+01,  2.22757012e+01,\n",
       "        2.22757012e+01,  2.22757012e+01,  1.67294819e+01,  7.44717092e+00,\n",
       "        7.44712096e+00,  7.44712096e+00,  7.13613228e+00,  1.71201655e-03,\n",
       "        7.72957685e-08, -3.60822483e-15, -3.85802501e-15, -3.85802501e-15])"
      ]
     },
     "execution_count": 26,
     "metadata": {},
     "output_type": "execute_result"
    }
   ],
   "source": [
    "objective_values-best"
   ]
  },
  {
   "cell_type": "code",
   "execution_count": 27,
   "metadata": {},
   "outputs": [
    {
     "data": {
      "text/plain": [
       "array([2.38418579e-07, 1.03397369e-02, 3.25956345e-02, 5.25333881e-02,\n",
       "       7.40909576e-02, 9.82441902e-02, 1.30960703e-01, 1.46838903e-01,\n",
       "       1.58454418e-01, 1.71169758e-01, 1.86296225e-01, 1.96773529e-01,\n",
       "       2.05665350e-01, 2.13721991e-01, 2.79594660e-01, 3.43407631e-01])"
      ]
     },
     "execution_count": 27,
     "metadata": {},
     "output_type": "execute_result"
    }
   ],
   "source": [
    "np.array(times)"
   ]
  },
  {
   "cell_type": "code",
   "execution_count": 28,
   "metadata": {},
   "outputs": [
    {
     "data": {
      "text/plain": [
       "array([0, 0, 1, 1, 1, 1, 2, 2, 2, 2, 3, 3, 3, 3, 3, 3])"
      ]
     },
     "execution_count": 28,
     "metadata": {},
     "output_type": "execute_result"
    }
   ],
   "source": [
    "np.array(supports)"
   ]
  },
  {
   "cell_type": "code",
   "execution_count": 29,
   "metadata": {},
   "outputs": [
    {
     "data": {
      "text/plain": [
       "array([[ 1.5,  5.5],\n",
       "       [ 6.5,  9.5],\n",
       "       [10.5, 15.5]])"
      ]
     },
     "execution_count": 29,
     "metadata": {},
     "output_type": "execute_result"
    }
   ],
   "source": [
    "intervals = []\n",
    "current_inner = False\n",
    "for ind, i in enumerate(inner_loop):\n",
    "    if i:\n",
    "        if not current_inner:\n",
    "            start = ind-0.5\n",
    "            current_inner = True\n",
    "    else:\n",
    "        if current_inner:\n",
    "            end = ind-0.5\n",
    "            intervals.append((start,end))\n",
    "            current_inner = False\n",
    "if inner_loop[-1]:\n",
    "    end = len(inner_loop)-0.5\n",
    "    intervals.append((start,end))\n",
    "np.array(intervals)"
   ]
  },
  {
   "cell_type": "code",
   "execution_count": 30,
   "metadata": {},
   "outputs": [
    {
     "data": {
      "text/plain": [
       "array([5.00000000e-02, 5.00000000e-02, 5.00000000e-02, 5.00000000e-02,\n",
       "       5.00000000e-02, 5.00000000e-02, 5.00000000e-02, 5.00000000e-02,\n",
       "       5.00000000e-02, 5.00000000e-02, 5.00000000e-02, 5.00000000e-02,\n",
       "       5.00000000e-02, 5.00000000e-02, 1.81577646e-09, 4.18656121e-15])"
      ]
     },
     "execution_count": 30,
     "metadata": {},
     "output_type": "execute_result"
    }
   ],
   "source": [
    "np.array(epsilons)"
   ]
  },
  {
   "cell_type": "code",
   "execution_count": 31,
   "metadata": {},
   "outputs": [
    {
     "name": "stdout",
     "output_type": "stream",
     "text": [
      "5\n",
      "7\n"
     ]
    }
   ],
   "source": [
    "print(lgcg_lazy)\n",
    "print(lgcg_total)"
   ]
  },
  {
   "cell_type": "code",
   "execution_count": 32,
   "metadata": {},
   "outputs": [
    {
     "name": "stdout",
     "output_type": "stream",
     "text": [
      "Measure with support [[ 3.12502173]\n",
      " [ 6.9999926 ]\n",
      " [13.37905649]] and coefficients [-0.99832728  0.69841291  0.49833707]\n",
      "[1.29340982e-14]\n",
      "8.520961713998076e-15\n"
     ]
    }
   ],
   "source": [
    "print(u)\n",
    "print(max([abs(abs(p(u)(x))-alpha) for x in u.support]))\n",
    "print(g(u.coefficients)-u.duality_pairing(p(u)))"
   ]
  },
  {
   "cell_type": "code",
   "execution_count": 33,
   "metadata": {},
   "outputs": [
    {
     "name": "stdout",
     "output_type": "stream",
     "text": [
      "3.9111901769535304e-05\n",
      "0.002842918772632114\n"
     ]
    }
   ],
   "source": [
    "print(np.linalg.norm(np.array([x[0] for x in u.support]) - np.array([x[0] for x in true_sources])))\n",
    "print(np.linalg.norm(u.coefficients-true_weights))"
   ]
  },
  {
   "cell_type": "code",
   "execution_count": 34,
   "metadata": {},
   "outputs": [
    {
     "data": {
      "text/plain": [
       "array([841.50400003, 377.40347866, 187.63319262,  56.17717494,\n",
       "        61.42436526,  60.16886452])"
      ]
     },
     "execution_count": 34,
     "metadata": {},
     "output_type": "execute_result"
    }
   ],
   "source": [
    "hess = hess_j(u.support, u.coefficients)\n",
    "np.linalg.eig(hess).eigenvalues"
   ]
  },
  {
   "cell_type": "markdown",
   "metadata": {},
   "source": [
    "### Newton Damped"
   ]
  },
  {
   "cell_type": "code",
   "execution_count": 35,
   "metadata": {},
   "outputs": [
    {
     "name": "stderr",
     "output_type": "stream",
     "text": [
      "DEBUG:root:SSN in 1 dimensions converged in 3 iterations to tolerance 1.000E-03\n",
      "INFO:root:1: choice: 0, lazy: True, support: 0, epsilon: 0.05, objective: 5.291E+01, dropped: False\n",
      "INFO:root:1, 1: lazy: N/A, support: 1, epsilon: 0.05, objective: 2.287E+01\n",
      "INFO:root:[True, True, False]\n",
      "DEBUG:root:SSN in 2 dimensions converged in 3 iterations to tolerance 5.000E-04\n",
      "INFO:root:2: choice: 3, lazy: True, support: 1, epsilon: 0.05, objective: 2.287E+01, dropped: False\n",
      "INFO:root:2, 1: lazy: N/A, support: 2, epsilon: 0.05, objective: 7.756E+00\n",
      "INFO:root:[True, True, False]\n",
      "DEBUG:root:SSN in 3 dimensions converged in 3 iterations to tolerance 2.500E-04\n",
      "INFO:root:3: choice: 3, lazy: True, support: 2, epsilon: 0.05, objective: 7.756E+00, dropped: False\n",
      "INFO:root:3, 1: lazy: N/A, support: 3, epsilon: 0.05, objective: 4.953E-01\n",
      "INFO:root:3, 2: lazy: N/A, support: 3, epsilon: 0.05, objective: 4.493E-01\n",
      "INFO:root:3, 3: lazy: N/A, support: 3, epsilon: 0.05, objective: 4.094E-01\n",
      "INFO:root:3, 4: lazy: N/A, support: 3, epsilon: 0.05, objective: 3.752E-01\n",
      "INFO:root:3, 5: lazy: N/A, support: 3, epsilon: 0.05, objective: 3.460E-01\n",
      "INFO:root:3, 6: lazy: N/A, support: 3, epsilon: 0.05, objective: 3.212E-01\n",
      "INFO:root:3, 7: lazy: N/A, support: 3, epsilon: 0.05, objective: 3.003E-01\n",
      "INFO:root:3, 8: lazy: N/A, support: 3, epsilon: 0.05, objective: 2.829E-01\n",
      "INFO:root:3, 9: lazy: N/A, support: 3, epsilon: 0.05, objective: 2.685E-01\n",
      "INFO:root:3, 10: lazy: N/A, support: 3, epsilon: 0.05, objective: 2.568E-01\n",
      "INFO:root:3, 11: lazy: N/A, support: 3, epsilon: 0.05, objective: 2.474E-01\n",
      "INFO:root:3, 12: lazy: N/A, support: 3, epsilon: 0.05, objective: 2.399E-01\n",
      "INFO:root:3, 13: lazy: N/A, support: 3, epsilon: 0.05, objective: 2.341E-01\n",
      "INFO:root:3, 14: lazy: N/A, support: 3, epsilon: 0.05, objective: 2.296E-01\n",
      "INFO:root:3, 15: lazy: N/A, support: 3, epsilon: 0.05, objective: 2.263E-01\n",
      "INFO:root:3, 16: lazy: N/A, support: 3, epsilon: 0.05, objective: 2.239E-01\n",
      "INFO:root:3, 17: lazy: N/A, support: 3, epsilon: 0.05, objective: 2.223E-01\n",
      "INFO:root:3, 18: lazy: N/A, support: 3, epsilon: 0.05, objective: 2.212E-01\n",
      "INFO:root:3, 19: lazy: N/A, support: 3, epsilon: 0.05, objective: 2.205E-01\n",
      "INFO:root:3, 20: lazy: N/A, support: 3, epsilon: 0.05, objective: 2.201E-01\n",
      "INFO:root:3, 21: lazy: N/A, support: 3, epsilon: 0.05, objective: 2.199E-01\n",
      "INFO:root:3, 22: lazy: N/A, support: 3, epsilon: 0.05, objective: 2.198E-01\n",
      "INFO:root:3, 23: lazy: N/A, support: 3, epsilon: 0.05, objective: 2.198E-01\n",
      "INFO:root:3, 24: lazy: N/A, support: 3, epsilon: 0.05, objective: 2.198E-01\n",
      "INFO:root:3, 25: lazy: N/A, support: 3, epsilon: 0.05, objective: 2.198E-01\n",
      "INFO:root:3, 26: lazy: N/A, support: 3, epsilon: 0.05, objective: 2.198E-01\n",
      "INFO:root:3, 27: lazy: False, support: 3, epsilon: 4.141042763133144e-09, objective: 2.198E-01\n",
      "INFO:root:3, 28: lazy: N/A, support: 3, epsilon: 4.141042763133144e-09, objective: 2.198E-01\n",
      "INFO:root:3, 29: lazy: False, support: 3, epsilon: 5.617232417601755e-15, objective: 2.198E-01\n"
     ]
    }
   ],
   "source": [
    "u, times, supports, inner_loop, lgcg_lazy, lgcg_total, objective_values, dropped_tot, epsilons = exp.newton(tol=1e-12, damped=True, damping_root=1)"
   ]
  },
  {
   "cell_type": "code",
   "execution_count": 36,
   "metadata": {},
   "outputs": [
    {
     "data": {
      "text/plain": [
       "0"
      ]
     },
     "execution_count": 36,
     "metadata": {},
     "output_type": "execute_result"
    }
   ],
   "source": [
    "dropped_tot"
   ]
  },
  {
   "cell_type": "code",
   "execution_count": 37,
   "metadata": {},
   "outputs": [
    {
     "data": {
      "text/plain": [
       "array([ 5.26929402e+01,  5.26929402e+01,  2.26483696e+01,  2.26483696e+01,\n",
       "        7.53644619e+00,  7.53644619e+00,  2.75589320e-01,  2.29500092e-01,\n",
       "        1.89679992e-01,  1.55458948e-01,  1.26228493e-01,  1.01433725e-01,\n",
       "        8.05670039e-02,  6.31629604e-02,  4.87945453e-02,  3.70698755e-02,\n",
       "        2.76297185e-02,  2.01454822e-02,  1.43176099e-02,  9.87429470e-03,\n",
       "        6.57044975e-03,  4.18687522e-03,  2.52957369e-03,  1.42916864e-03,\n",
       "        7.40382236e-04,  3.41524670e-04,  1.33936543e-04,  4.12988467e-05,\n",
       "        8.66414503e-06,  9.16449898e-07,  2.42981779e-08,  3.01275116e-11,\n",
       "       -3.80251386e-15, -3.83026943e-15, -3.83026943e-15])"
      ]
     },
     "execution_count": 37,
     "metadata": {},
     "output_type": "execute_result"
    }
   ],
   "source": [
    "objective_values-best"
   ]
  },
  {
   "cell_type": "code",
   "execution_count": 38,
   "metadata": {},
   "outputs": [
    {
     "data": {
      "text/plain": [
       "array([2.38418579e-07, 1.01959705e-02, 2.44181156e-02, 4.55415249e-02,\n",
       "       7.55374432e-02, 1.01310015e-01, 1.17352009e-01, 1.27764225e-01,\n",
       "       1.43806458e-01, 1.54491901e-01, 1.63487196e-01, 1.75086737e-01,\n",
       "       1.86660528e-01, 1.96220398e-01, 2.07118034e-01, 2.18739033e-01,\n",
       "       2.30312586e-01, 2.41689920e-01, 2.51699448e-01, 2.61953831e-01,\n",
       "       2.69539356e-01, 2.79683590e-01, 2.87734985e-01, 2.98524857e-01,\n",
       "       3.06244850e-01, 3.16206217e-01, 3.23993683e-01, 3.34265471e-01,\n",
       "       3.41686726e-01, 3.52069855e-01, 3.59730482e-01, 3.69768858e-01,\n",
       "       4.33537483e-01, 4.41210270e-01, 5.06009102e-01])"
      ]
     },
     "execution_count": 38,
     "metadata": {},
     "output_type": "execute_result"
    }
   ],
   "source": [
    "np.array(times)"
   ]
  },
  {
   "cell_type": "code",
   "execution_count": 39,
   "metadata": {},
   "outputs": [
    {
     "data": {
      "text/plain": [
       "array([0, 0, 1, 1, 2, 2, 3, 3, 3, 3, 3, 3, 3, 3, 3, 3, 3, 3, 3, 3, 3, 3,\n",
       "       3, 3, 3, 3, 3, 3, 3, 3, 3, 3, 3, 3, 3])"
      ]
     },
     "execution_count": 39,
     "metadata": {},
     "output_type": "execute_result"
    }
   ],
   "source": [
    "np.array(supports)"
   ]
  },
  {
   "cell_type": "code",
   "execution_count": 40,
   "metadata": {},
   "outputs": [
    {
     "data": {
      "text/plain": [
       "array([[ 1.5,  2.5],\n",
       "       [ 3.5,  4.5],\n",
       "       [ 5.5, 34.5]])"
      ]
     },
     "execution_count": 40,
     "metadata": {},
     "output_type": "execute_result"
    }
   ],
   "source": [
    "intervals = []\n",
    "current_inner = False\n",
    "for ind, i in enumerate(inner_loop):\n",
    "    if i:\n",
    "        if not current_inner:\n",
    "            start = ind-0.5\n",
    "            current_inner = True\n",
    "    else:\n",
    "        if current_inner:\n",
    "            end = ind-0.5\n",
    "            intervals.append((start,end))\n",
    "            current_inner = False\n",
    "if inner_loop[-1]:\n",
    "    end = len(inner_loop)-0.5\n",
    "    intervals.append((start,end))\n",
    "np.array(intervals)"
   ]
  },
  {
   "cell_type": "code",
   "execution_count": 41,
   "metadata": {},
   "outputs": [
    {
     "data": {
      "text/plain": [
       "array([5.00000000e-02, 5.00000000e-02, 5.00000000e-02, 5.00000000e-02,\n",
       "       5.00000000e-02, 5.00000000e-02, 5.00000000e-02, 5.00000000e-02,\n",
       "       5.00000000e-02, 5.00000000e-02, 5.00000000e-02, 5.00000000e-02,\n",
       "       5.00000000e-02, 5.00000000e-02, 5.00000000e-02, 5.00000000e-02,\n",
       "       5.00000000e-02, 5.00000000e-02, 5.00000000e-02, 5.00000000e-02,\n",
       "       5.00000000e-02, 5.00000000e-02, 5.00000000e-02, 5.00000000e-02,\n",
       "       5.00000000e-02, 5.00000000e-02, 5.00000000e-02, 5.00000000e-02,\n",
       "       5.00000000e-02, 5.00000000e-02, 5.00000000e-02, 5.00000000e-02,\n",
       "       4.14104276e-09, 4.14104276e-09, 5.61723242e-15])"
      ]
     },
     "execution_count": 41,
     "metadata": {},
     "output_type": "execute_result"
    }
   ],
   "source": [
    "np.array(epsilons)"
   ]
  },
  {
   "cell_type": "code",
   "execution_count": 42,
   "metadata": {},
   "outputs": [
    {
     "name": "stdout",
     "output_type": "stream",
     "text": [
      "3\n",
      "5\n"
     ]
    }
   ],
   "source": [
    "print(lgcg_lazy)\n",
    "print(lgcg_total)"
   ]
  },
  {
   "cell_type": "code",
   "execution_count": 43,
   "metadata": {},
   "outputs": [
    {
     "name": "stdout",
     "output_type": "stream",
     "text": [
      "Measure with support [[ 3.12502173]\n",
      " [ 6.9999926 ]\n",
      " [13.37905649]] and coefficients [-0.99832728  0.69841291  0.49833707]\n",
      "[1.14630527e-14]\n",
      "-1.6653345369377348e-14\n"
     ]
    }
   ],
   "source": [
    "print(u)\n",
    "print(max([abs(abs(p(u)(x))-alpha) for x in u.support]))\n",
    "print(g(u.coefficients)-u.duality_pairing(p(u)))"
   ]
  },
  {
   "cell_type": "markdown",
   "metadata": {},
   "source": [
    "### LPDAP"
   ]
  },
  {
   "cell_type": "code",
   "execution_count": 44,
   "metadata": {},
   "outputs": [
    {
     "name": "stderr",
     "output_type": "stream",
     "text": [
      "INFO:root:1: Step: GCG, Lazy True, Phi_k: 3.130E+04, epsilon: 5.000E-02, support: 0, dropped:False\n",
      "INFO:root:==============================================\n",
      "DEBUG:root:SSN in 1 dimensions converged in 3 iterations to tolerance 1.000E-03\n",
      "INFO:root:2: Step: GCG, Lazy True, Phi_k: 9.751E+03, epsilon: 5.000E-02, support: 1, dropped:False\n",
      "INFO:root:==============================================\n",
      "DEBUG:root:SSN in 2 dimensions converged in 3 iterations to tolerance 1.000E-03\n",
      "INFO:root:3: Step: GCG, Lazy True, Phi_k: 1.120E+01, epsilon: 5.000E-02, support: 2, dropped:False\n",
      "INFO:root:==============================================\n",
      "DEBUG:root:SSN in 3 dimensions converged in 2 iterations to tolerance 1.000E-03\n",
      "INFO:root:4: Step: GCG, Lazy True, Phi_k: 2.297E+03, epsilon: 5.000E-02, support: 3, dropped:False\n",
      "INFO:root:==============================================\n",
      "DEBUG:root:SSN in 4 dimensions converged in 3 iterations to tolerance 1.000E-03\n",
      "INFO:root:5: Step: GCG, Lazy True, Phi_k: 2.184E+01, epsilon: 5.000E-02, support: 4, dropped:False\n",
      "INFO:root:==============================================\n",
      "DEBUG:root:SSN in 5 dimensions converged in 2 iterations to tolerance 1.000E-03\n",
      "INFO:root:6: Step: GCG, Lazy True, Phi_k: 1.368E+00, epsilon: 5.000E-02, support: 5, dropped:False\n",
      "INFO:root:==============================================\n",
      "DEBUG:root:SSN in 6 dimensions converged in 3 iterations to tolerance 1.000E-03\n",
      "INFO:root:7: Step: GCG, Lazy True, Phi_k: 1.331E+01, epsilon: 5.000E-02, support: 5, dropped:False\n",
      "INFO:root:==============================================\n",
      "DEBUG:root:SSN in 6 dimensions converged in 2 iterations to tolerance 1.000E-03\n",
      "INFO:root:8: Step: GCG, Lazy True, Phi_k: 7.761E-01, epsilon: 5.000E-02, support: 6, dropped:False\n",
      "INFO:root:==============================================\n",
      "DEBUG:root:SSN in 7 dimensions converged in 3 iterations to tolerance 1.000E-03\n",
      "INFO:root:9: Step: GCG, Lazy True, Phi_k: 1.229E+00, epsilon: 5.000E-02, support: 6, dropped:False\n",
      "INFO:root:==============================================\n",
      "DEBUG:root:SSN in 7 dimensions converged in 2 iterations to tolerance 1.000E-03\n",
      "INFO:root:10: Step: GCG, Lazy True, Phi_k: 1.131E+00, epsilon: 5.000E-02, support: 7, dropped:False\n",
      "INFO:root:==============================================\n",
      "DEBUG:root:SSN in 8 dimensions converged in 2 iterations to tolerance 1.000E-03\n",
      "INFO:root:11: Step: GCG, Lazy True, Phi_k: 7.850E-01, epsilon: 5.000E-02, support: 8, dropped:False\n",
      "INFO:root:==============================================\n",
      "DEBUG:root:SSN in 9 dimensions converged in 2 iterations to tolerance 1.000E-03\n",
      "INFO:root:12: Step: GCG, Lazy True, Phi_k: 6.290E-01, epsilon: 5.000E-02, support: 9, dropped:False\n",
      "INFO:root:==============================================\n",
      "DEBUG:root:SSN in 10 dimensions converged in 2 iterations to tolerance 1.000E-03\n",
      "INFO:root:13: Step: GCG, Lazy True, Phi_k: 5.157E-01, epsilon: 5.000E-02, support: 10, dropped:False\n",
      "INFO:root:==============================================\n",
      "DEBUG:root:SSN in 11 dimensions converged in 2 iterations to tolerance 1.000E-03\n",
      "INFO:root:14: Step: GCG, Lazy True, Phi_k: 2.442E-01, epsilon: 5.000E-02, support: 11, dropped:False\n",
      "INFO:root:==============================================\n",
      "DEBUG:root:SSN in 12 dimensions converged in 2 iterations to tolerance 1.000E-03\n",
      "INFO:root:15: Step: GCG, Lazy True, Phi_k: 2.233E-01, epsilon: 5.000E-02, support: 12, dropped:False\n",
      "INFO:root:==============================================\n",
      "DEBUG:root:SSN in 13 dimensions converged in 2 iterations to tolerance 1.000E-03\n",
      "INFO:root:16: Step: GCG, Lazy True, Phi_k: 2.154E-01, epsilon: 5.000E-02, support: 13, dropped:False\n",
      "INFO:root:==============================================\n",
      "DEBUG:root:SSN in 14 dimensions converged in 2 iterations to tolerance 1.000E-03\n",
      "INFO:root:17: Step: GCG, Lazy True, Phi_k: 1.157E-01, epsilon: 5.000E-02, support: 14, dropped:False\n",
      "INFO:root:==============================================\n",
      "DEBUG:root:SSN in 15 dimensions converged in 2 iterations to tolerance 1.000E-03\n",
      "INFO:root:18: Step: GCG, Lazy True, Phi_k: 1.200E-01, epsilon: 5.000E-02, support: 15, dropped:False\n",
      "INFO:root:==============================================\n",
      "DEBUG:root:SSN in 16 dimensions converged in 2 iterations to tolerance 1.000E-03\n",
      "INFO:root:19: Step: GCG, Lazy False, Phi_k: 1.070E-01, epsilon: 2.340E-02, support: 16, dropped:False\n",
      "INFO:root:==============================================\n",
      "DEBUG:root:SSN in 17 dimensions converged in 2 iterations to tolerance 1.000E-03\n",
      "INFO:root:20: Step: GCG, Lazy True, Phi_k: 7.418E-02, epsilon: 2.340E-02, support: 17, dropped:False\n",
      "INFO:root:==============================================\n",
      "DEBUG:root:SSN in 18 dimensions converged in 2 iterations to tolerance 1.000E-03\n",
      "INFO:root:21: Step: GCG, Lazy True, Phi_k: 7.456E-02, epsilon: 2.340E-02, support: 18, dropped:False\n",
      "INFO:root:==============================================\n",
      "DEBUG:root:SSN in 19 dimensions converged in 2 iterations to tolerance 1.000E-03\n",
      "INFO:root:22: Step: GCG, Lazy False, Phi_k: 5.028E-02, epsilon: 1.099E-02, support: 19, dropped:False\n",
      "INFO:root:==============================================\n",
      "DEBUG:root:SSN in 20 dimensions converged in 2 iterations to tolerance 1.000E-03\n",
      "INFO:root:23: Step: GCG, Lazy True, Phi_k: 2.984E-02, epsilon: 1.099E-02, support: 20, dropped:False\n",
      "INFO:root:==============================================\n",
      "DEBUG:root:SSN in 21 dimensions converged in 2 iterations to tolerance 1.000E-03\n",
      "INFO:root:24: Step: GCG, Lazy False, Phi_k: 2.229E-02, epsilon: 4.873E-03, support: 21, dropped:False\n",
      "INFO:root:==============================================\n",
      "DEBUG:root:SSN in 22 dimensions converged in 5 iterations to tolerance 1.000E-03\n",
      "INFO:root:25: Step: GCG, Lazy True, Phi_k: 2.134E-02, epsilon: 4.873E-03, support: 18, dropped:False\n",
      "INFO:root:==============================================\n",
      "DEBUG:root:SSN in 19 dimensions converged in 5 iterations to tolerance 1.000E-03\n",
      "INFO:root:26: Step: GCG, Lazy True, Phi_k: 1.643E-02, epsilon: 4.873E-03, support: 15, dropped:False\n",
      "INFO:root:==============================================\n",
      "DEBUG:root:SSN in 16 dimensions converged in 4 iterations to tolerance 1.000E-03\n",
      "INFO:root:27: Step: GCG, Lazy False, Phi_k: 9.294E-03, epsilon: 2.088E-03, support: 13, dropped:False\n",
      "INFO:root:==============================================\n",
      "DEBUG:root:SSN in 14 dimensions converged in 3 iterations to tolerance 1.000E-03\n",
      "INFO:root:28: Step: GCG, Lazy True, Phi_k: 6.912E-03, epsilon: 2.088E-03, support: 13, dropped:False\n",
      "INFO:root:==============================================\n",
      "DEBUG:root:SSN in 14 dimensions converged in 3 iterations to tolerance 1.000E-03\n",
      "INFO:root:29: Step: GCG, Lazy True, Phi_k: 4.791E-03, epsilon: 2.088E-03, support: 13, dropped:False\n",
      "INFO:root:==============================================\n",
      "DEBUG:root:SSN in 14 dimensions converged in 7 iterations to tolerance 1.000E-03\n",
      "INFO:root:30: Step: GCG, Lazy True, Phi_k: 5.466E-03, epsilon: 2.088E-03, support: 11, dropped:False\n",
      "INFO:root:==============================================\n",
      "DEBUG:root:SSN in 12 dimensions converged in 3 iterations to tolerance 1.000E-03\n",
      "INFO:root:31: Step: GCG, Lazy True, Phi_k: 4.801E-03, epsilon: 2.088E-03, support: 11, dropped:False\n",
      "INFO:root:==============================================\n",
      "DEBUG:root:SSN in 12 dimensions converged in 4 iterations to tolerance 1.000E-03\n",
      "INFO:root:32: Step: GCG, Lazy False, Phi_k: 3.598E-03, epsilon: 8.152E-04, support: 9, dropped:False\n",
      "INFO:root:==============================================\n",
      "DEBUG:root:SSN in 10 dimensions converged in 5 iterations to tolerance 1.000E-03\n",
      "INFO:root:33: Step: GCG, Lazy True, Phi_k: 2.651E-03, epsilon: 8.152E-04, support: 7, dropped:False\n",
      "INFO:root:==============================================\n",
      "DEBUG:root:SSN in 8 dimensions converged in 3 iterations to tolerance 1.000E-03\n",
      "INFO:root:34: Step: GCG, Lazy False, Phi_k: 9.990E-04, epsilon: 2.267E-04, support: 7, dropped:False\n",
      "INFO:root:==============================================\n",
      "DEBUG:root:SSN in 8 dimensions converged in 3 iterations to tolerance 1.000E-03\n",
      "INFO:root:35: Step: GCG, Lazy True, Phi_k: 5.255E-04, epsilon: 2.267E-04, support: 7, dropped:False\n",
      "INFO:root:==============================================\n",
      "DEBUG:root:SSN in 8 dimensions converged in 2 iterations to tolerance 1.000E-03\n",
      "INFO:root:Recompute 1, Lazy: True, Psi_k:5.000E-04, Phi_k:5.210E-04, dropped:False\n",
      "DEBUG:root:SSN in 8 dimensions converged in 2 iterations to tolerance 5.000E-04\n",
      "INFO:root:Recompute 2, Lazy: True, Psi_k:2.500E-04, Phi_k:5.210E-04, dropped:False\n",
      "DEBUG:root:SSN in 8 dimensions converged in 7 iterations to tolerance 2.500E-04\n",
      "INFO:root:36: Step: GCG, Lazy True, Phi_k: 6.343E-04, epsilon: 2.267E-04, support: 6, dropped:False\n",
      "INFO:root:==============================================\n",
      "DEBUG:root:SSN in 7 dimensions converged in 4 iterations to tolerance 2.500E-04\n",
      "INFO:root:37: Step: GCG, Lazy False, Phi_k: 1.452E-04, epsilon: 3.302E-05, support: 6, dropped:False\n",
      "INFO:root:==============================================\n",
      "DEBUG:root:SSN in 7 dimensions converged in 2 iterations to tolerance 2.500E-04\n",
      "INFO:root:Recompute 3, Lazy: True, Psi_k:1.250E-04, Phi_k:1.299E-04, dropped:False\n",
      "DEBUG:root:SSN in 7 dimensions converged in 2 iterations to tolerance 1.250E-04\n",
      "INFO:root:Recompute 4, Lazy: True, Psi_k:6.250E-05, Phi_k:1.299E-04, dropped:False\n",
      "DEBUG:root:SSN in 7 dimensions converged in 6 iterations to tolerance 6.250E-05\n",
      "INFO:root:38: Step: GCG, Lazy True, Phi_k: 1.327E-04, epsilon: 3.302E-05, support: 6, dropped:False\n",
      "INFO:root:==============================================\n",
      "DEBUG:root:SSN in 7 dimensions converged in 5 iterations to tolerance 6.250E-05\n",
      "INFO:root:39: Step: GCG, Lazy True, Phi_k: 1.173E-04, epsilon: 3.302E-05, support: 6, dropped:False\n",
      "INFO:root:==============================================\n",
      "DEBUG:root:SSN in 7 dimensions converged in 6 iterations to tolerance 6.250E-05\n",
      "INFO:root:40: Step: GCG, Lazy False, Phi_k: 3.365E-05, epsilon: 7.656E-06, support: 6, dropped:False\n",
      "INFO:root:==============================================\n",
      "DEBUG:root:SSN in 7 dimensions converged in 2 iterations to tolerance 6.250E-05\n",
      "INFO:root:Recompute 5, Lazy: True, Psi_k:3.125E-05, Phi_k:2.853E-05, dropped:False\n",
      "DEBUG:root:SSN in 7 dimensions converged in 2 iterations to tolerance 3.125E-05\n",
      "INFO:root:Recompute 6, Lazy: True, Psi_k:1.563E-05, Phi_k:2.853E-05, dropped:False\n",
      "DEBUG:root:SSN in 7 dimensions converged in 5 iterations to tolerance 1.563E-05\n",
      "INFO:root:41: Step: GCG, Lazy True, Phi_k: 3.194E-05, epsilon: 7.656E-06, support: 6, dropped:False\n",
      "INFO:root:==============================================\n",
      "DEBUG:root:SSN in 7 dimensions converged in 6 iterations to tolerance 1.563E-05\n",
      "INFO:root:42: Step: GCG, Lazy True, Phi_k: 2.731E-05, epsilon: 7.656E-06, support: 6, dropped:False\n",
      "INFO:root:==============================================\n",
      "DEBUG:root:SSN in 7 dimensions converged in 3 iterations to tolerance 1.563E-05\n",
      "INFO:root:Recompute 7, Lazy: False, Psi_k:7.813E-06, Phi_k:1.415E-05, dropped:False\n",
      "DEBUG:root:SSN in 7 dimensions converged in 8 iterations to tolerance 7.813E-06\n",
      "INFO:root:43: Step: GCG, Lazy False, Phi_k: 8.089E-06, epsilon: 1.841E-06, support: 6, dropped:False\n",
      "INFO:root:==============================================\n",
      "DEBUG:root:SSN in 7 dimensions converged in 2 iterations to tolerance 7.813E-06\n",
      "INFO:root:Recompute 8, Lazy: True, Psi_k:3.906E-06, Phi_k:8.088E-06, dropped:False\n",
      "DEBUG:root:SSN in 7 dimensions converged in 7 iterations to tolerance 3.906E-06\n",
      "INFO:root:44: Step: GCG, Lazy True, Phi_k: 7.856E-06, epsilon: 1.841E-06, support: 6, dropped:False\n",
      "INFO:root:==============================================\n",
      "DEBUG:root:SSN in 7 dimensions converged in 7 iterations to tolerance 3.906E-06\n",
      "INFO:root:45: Step: GCG, Lazy True, Phi_k: 6.643E-06, epsilon: 1.841E-06, support: 6, dropped:False\n",
      "INFO:root:==============================================\n",
      "DEBUG:root:SSN in 7 dimensions converged in 6 iterations to tolerance 3.906E-06\n",
      "INFO:root:46: Step: GCG, Lazy False, Phi_k: 2.015E-06, epsilon: 4.584E-07, support: 6, dropped:False\n",
      "INFO:root:==============================================\n",
      "DEBUG:root:SSN in 7 dimensions converged in 2 iterations to tolerance 3.906E-06\n",
      "INFO:root:Recompute 9, Lazy: True, Psi_k:1.953E-06, Phi_k:1.919E-06, dropped:False\n",
      "DEBUG:root:SSN in 7 dimensions converged in 2 iterations to tolerance 1.953E-06\n",
      "INFO:root:Recompute 10, Lazy: True, Psi_k:9.766E-07, Phi_k:1.919E-06, dropped:False\n",
      "DEBUG:root:SSN in 7 dimensions converged in 9 iterations to tolerance 9.766E-07\n",
      "INFO:root:47: Step: GCG, Lazy True, Phi_k: 1.933E-06, epsilon: 4.584E-07, support: 6, dropped:False\n",
      "INFO:root:==============================================\n",
      "DEBUG:root:SSN in 7 dimensions converged in 2 iterations to tolerance 9.766E-07\n",
      "INFO:root:Recompute 11, Lazy: True, Psi_k:4.883E-07, Phi_k:1.273E-06, dropped:False\n",
      "DEBUG:root:SSN in 7 dimensions converged in 9 iterations to tolerance 4.883E-07\n",
      "INFO:root:48: Step: GCG, Lazy True, Phi_k: 1.604E-06, epsilon: 4.584E-07, support: 6, dropped:False\n",
      "INFO:root:==============================================\n",
      "DEBUG:root:SSN in 7 dimensions converged in 9 iterations to tolerance 4.883E-07\n",
      "INFO:root:49: Step: GCG, Lazy False, Phi_k: 5.011E-07, epsilon: 1.140E-07, support: 6, dropped:False\n",
      "INFO:root:==============================================\n",
      "DEBUG:root:SSN in 7 dimensions converged in 2 iterations to tolerance 4.883E-07\n",
      "INFO:root:Recompute 12, Lazy: True, Psi_k:2.441E-07, Phi_k:4.763E-07, dropped:False\n",
      "DEBUG:root:SSN in 7 dimensions converged in 10 iterations to tolerance 2.441E-07\n",
      "INFO:root:50: Step: GCG, Lazy True, Phi_k: 4.765E-07, epsilon: 1.140E-07, support: 6, dropped:False\n",
      "INFO:root:==============================================\n",
      "DEBUG:root:SSN in 7 dimensions converged in 7 iterations to tolerance 2.441E-07\n",
      "INFO:root:51: Step: GCG, Lazy True, Phi_k: 4.322E-07, epsilon: 1.140E-07, support: 6, dropped:False\n",
      "INFO:root:==============================================\n",
      "DEBUG:root:SSN in 7 dimensions converged in 3 iterations to tolerance 2.441E-07\n",
      "INFO:root:Recompute 13, Lazy: False, Psi_k:1.221E-07, Phi_k:2.199E-07, dropped:False\n",
      "DEBUG:root:SSN in 7 dimensions converged in 9 iterations to tolerance 1.221E-07\n",
      "INFO:root:Recompute 14, Lazy: False, Psi_k:6.104E-08, Phi_k:1.062E-07, dropped:False\n",
      "DEBUG:root:SSN in 7 dimensions converged in 10 iterations to tolerance 6.104E-08\n",
      "INFO:root:52: Step: GCG, Lazy False, Phi_k: 1.171E-07, epsilon: 2.665E-08, support: 6, dropped:False\n",
      "INFO:root:==============================================\n",
      "DEBUG:root:SSN in 7 dimensions converged in 8 iterations to tolerance 6.104E-08\n",
      "INFO:root:53: Step: GCG, Lazy True, Phi_k: 1.205E-07, epsilon: 2.665E-08, support: 6, dropped:False\n",
      "INFO:root:==============================================\n",
      "DEBUG:root:SSN in 7 dimensions converged in 9 iterations to tolerance 6.104E-08\n",
      "INFO:root:54: Step: GCG, Lazy True, Phi_k: 1.054E-07, epsilon: 2.665E-08, support: 6, dropped:False\n",
      "INFO:root:==============================================\n",
      "DEBUG:root:SSN in 7 dimensions converged in 9 iterations to tolerance 6.104E-08\n",
      "INFO:root:Recompute 15, Lazy: False, Psi_k:3.052E-08, Phi_k:3.184E-08, dropped:False\n",
      "DEBUG:root:SSN in 7 dimensions converged in 9 iterations to tolerance 3.052E-08\n",
      "INFO:root:Recompute 16, Lazy: False, Psi_k:1.526E-08, Phi_k:3.184E-08, dropped:False\n",
      "DEBUG:root:SSN in 7 dimensions converged in 10 iterations to tolerance 1.526E-08\n",
      "INFO:root:55: Step: GCG, Lazy False, Phi_k: 3.020E-08, epsilon: 6.872E-09, support: 6, dropped:False\n",
      "INFO:root:==============================================\n",
      "DEBUG:root:SSN in 7 dimensions converged in 11 iterations to tolerance 1.526E-08\n",
      "INFO:root:56: Step: GCG, Lazy True, Phi_k: 2.870E-08, epsilon: 6.872E-09, support: 6, dropped:False\n",
      "INFO:root:==============================================\n",
      "DEBUG:root:SSN in 7 dimensions converged in 11 iterations to tolerance 1.526E-08\n",
      "INFO:root:57: Step: GCG, Lazy True, Phi_k: 2.326E-08, epsilon: 6.872E-09, support: 6, dropped:False\n",
      "INFO:root:==============================================\n",
      "DEBUG:root:SSN in 7 dimensions converged in 3 iterations to tolerance 1.526E-08\n",
      "INFO:root:Recompute 17, Lazy: False, Psi_k:7.629E-09, Phi_k:1.490E-08, dropped:False\n",
      "DEBUG:root:SSN in 7 dimensions converged in 9 iterations to tolerance 7.629E-09\n",
      "INFO:root:58: Step: GCG, Lazy False, Phi_k: 7.151E-09, epsilon: 1.627E-09, support: 6, dropped:False\n",
      "INFO:root:==============================================\n",
      "DEBUG:root:SSN in 7 dimensions converged in 2 iterations to tolerance 7.629E-09\n",
      "INFO:root:Recompute 18, Lazy: True, Psi_k:3.815E-09, Phi_k:7.391E-09, dropped:False\n",
      "DEBUG:root:SSN in 7 dimensions converged in 5 iterations to tolerance 3.815E-09\n",
      "INFO:root:Recompute 19, Lazy: True, Psi_k:1.907E-09, Phi_k:6.256E-09, dropped:False\n",
      "DEBUG:root:SSN in 7 dimensions converged in 11 iterations to tolerance 1.907E-09\n",
      "INFO:root:59: Step: GCG, Lazy True, Phi_k: 7.457E-09, epsilon: 1.627E-09, support: 6, dropped:False\n",
      "INFO:root:==============================================\n",
      "DEBUG:root:SSN in 7 dimensions converged in 7 iterations to tolerance 1.907E-09\n",
      "INFO:root:60: Step: GCG, Lazy True, Phi_k: 6.682E-09, epsilon: 1.627E-09, support: 6, dropped:False\n",
      "INFO:root:==============================================\n",
      "DEBUG:root:SSN in 7 dimensions converged in 11 iterations to tolerance 1.907E-09\n",
      "INFO:root:61: Step: GCG, Lazy False, Phi_k: 1.841E-09, epsilon: 4.188E-10, support: 6, dropped:False\n",
      "INFO:root:==============================================\n",
      "DEBUG:root:SSN in 7 dimensions converged in 2 iterations to tolerance 1.907E-09\n",
      "INFO:root:Recompute 20, Lazy: True, Psi_k:9.537E-10, Phi_k:1.965E-09, dropped:False\n",
      "DEBUG:root:SSN in 7 dimensions converged in 9 iterations to tolerance 9.537E-10\n",
      "INFO:root:62: Step: GCG, Lazy True, Phi_k: 1.933E-09, epsilon: 4.188E-10, support: 6, dropped:False\n",
      "INFO:root:==============================================\n",
      "DEBUG:root:SSN in 7 dimensions converged in 12 iterations to tolerance 9.537E-10\n",
      "INFO:root:63: Step: GCG, Lazy True, Phi_k: 1.589E-09, epsilon: 4.188E-10, support: 6, dropped:False\n",
      "INFO:root:==============================================\n",
      "DEBUG:root:SSN in 7 dimensions converged in 3 iterations to tolerance 9.537E-10\n",
      "INFO:root:Recompute 21, Lazy: True, Psi_k:4.768E-10, Phi_k:9.434E-10, dropped:False\n",
      "DEBUG:root:SSN in 7 dimensions converged in 12 iterations to tolerance 4.768E-10\n",
      "INFO:root:Recompute 22, Lazy: False, Psi_k:2.384E-10, Phi_k:4.387E-10, dropped:False\n",
      "DEBUG:root:SSN in 7 dimensions converged in 13 iterations to tolerance 2.384E-10\n",
      "INFO:root:64: Step: GCG, Lazy False, Phi_k: 4.782E-10, epsilon: 1.088E-10, support: 6, dropped:False\n",
      "INFO:root:==============================================\n",
      "DEBUG:root:SSN in 7 dimensions converged in 8 iterations to tolerance 2.384E-10\n",
      "INFO:root:65: Step: GCG, Lazy True, Phi_k: 4.816E-10, epsilon: 1.088E-10, support: 6, dropped:False\n",
      "INFO:root:==============================================\n",
      "DEBUG:root:SSN in 7 dimensions converged in 2 iterations to tolerance 2.384E-10\n",
      "INFO:root:Recompute 23, Lazy: True, Psi_k:1.192E-10, Phi_k:3.266E-10, dropped:False\n",
      "DEBUG:root:SSN in 7 dimensions converged in 11 iterations to tolerance 1.192E-10\n",
      "INFO:root:66: Step: GCG, Lazy True, Phi_k: 3.521E-10, epsilon: 1.088E-10, support: 6, dropped:False\n",
      "INFO:root:==============================================\n",
      "DEBUG:root:SSN in 7 dimensions converged in 7 iterations to tolerance 1.192E-10\n",
      "INFO:root:Recompute 24, Lazy: False, Psi_k:5.960E-11, Phi_k:1.250E-10, dropped:False\n",
      "DEBUG:root:SSN in 7 dimensions converged in 12 iterations to tolerance 5.960E-11\n",
      "INFO:root:67: Step: GCG, Lazy False, Phi_k: 1.177E-10, epsilon: 2.678E-11, support: 6, dropped:False\n",
      "INFO:root:==============================================\n",
      "DEBUG:root:SSN in 7 dimensions converged in 9 iterations to tolerance 5.960E-11\n",
      "INFO:root:68: Step: GCG, Lazy True, Phi_k: 1.181E-10, epsilon: 2.678E-11, support: 6, dropped:False\n",
      "INFO:root:==============================================\n",
      "DEBUG:root:SSN in 7 dimensions converged in 10 iterations to tolerance 5.960E-11\n",
      "INFO:root:69: Step: GCG, Lazy True, Phi_k: 1.110E-10, epsilon: 2.678E-11, support: 6, dropped:False\n",
      "INFO:root:==============================================\n",
      "DEBUG:root:SSN in 7 dimensions converged in 3 iterations to tolerance 5.960E-11\n",
      "INFO:root:Recompute 25, Lazy: True, Psi_k:2.980E-11, Phi_k:5.944E-11, dropped:False\n",
      "DEBUG:root:SSN in 7 dimensions converged in 13 iterations to tolerance 2.980E-11\n",
      "INFO:root:70: Step: GCG, Lazy False, Phi_k: 2.904E-11, epsilon: 6.608E-12, support: 6, dropped:False\n",
      "INFO:root:==============================================\n",
      "DEBUG:root:SSN in 7 dimensions converged in 2 iterations to tolerance 2.980E-11\n",
      "INFO:root:Recompute 26, Lazy: True, Psi_k:1.490E-11, Phi_k:2.825E-11, dropped:False\n",
      "DEBUG:root:SSN in 7 dimensions converged in 9 iterations to tolerance 1.490E-11\n",
      "INFO:root:71: Step: GCG, Lazy True, Phi_k: 2.753E-11, epsilon: 6.608E-12, support: 6, dropped:False\n",
      "INFO:root:==============================================\n",
      "DEBUG:root:SSN in 7 dimensions converged in 9 iterations to tolerance 1.490E-11\n",
      "INFO:root:Recompute 27, Lazy: True, Psi_k:7.451E-12, Phi_k:2.578E-11, dropped:False\n",
      "DEBUG:root:SSN in 7 dimensions converged in 11 iterations to tolerance 7.451E-12\n",
      "INFO:root:72: Step: GCG, Lazy True, Phi_k: 2.589E-11, epsilon: 6.608E-12, support: 6, dropped:False\n",
      "INFO:root:==============================================\n",
      "DEBUG:root:SSN in 7 dimensions converged in 12 iterations to tolerance 7.451E-12\n",
      "INFO:root:73: Step: GCG, Lazy False, Phi_k: 7.417E-12, epsilon: 1.688E-12, support: 6, dropped:False\n",
      "INFO:root:==============================================\n",
      "DEBUG:root:SSN in 7 dimensions converged in 2 iterations to tolerance 7.451E-12\n",
      "INFO:root:Recompute 28, Lazy: True, Psi_k:3.725E-12, Phi_k:7.077E-12, dropped:False\n",
      "DEBUG:root:SSN in 7 dimensions converged in 14 iterations to tolerance 3.725E-12\n",
      "INFO:root:74: Step: GCG, Lazy True, Phi_k: 6.901E-12, epsilon: 1.688E-12, support: 6, dropped:False\n",
      "INFO:root:==============================================\n",
      "DEBUG:root:SSN in 7 dimensions converged in 2 iterations to tolerance 3.725E-12\n",
      "INFO:root:Recompute 29, Lazy: True, Psi_k:1.863E-12, Phi_k:5.159E-12, dropped:False\n",
      "DEBUG:root:SSN in 7 dimensions converged in 14 iterations to tolerance 1.863E-12\n",
      "INFO:root:75: Step: GCG, Lazy True, Phi_k: 5.361E-12, epsilon: 1.688E-12, support: 6, dropped:False\n",
      "INFO:root:==============================================\n",
      "DEBUG:root:SSN in 7 dimensions converged in 13 iterations to tolerance 1.863E-12\n",
      "INFO:root:Recompute 30, Lazy: False, Psi_k:1.000E-12, Phi_k:1.554E-12, dropped:False\n",
      "DEBUG:root:SSN in 7 dimensions converged in 16 iterations to tolerance 1.000E-12\n",
      "INFO:root:76: Step: GCG, Lazy False, Phi_k: 1.742E-12, epsilon: 3.963E-13, support: 6, dropped:False\n",
      "INFO:root:==============================================\n",
      "DEBUG:root:SSN in 7 dimensions converged in 12 iterations to tolerance 1.000E-12\n",
      "INFO:root:77: Step: GCG, Lazy True, Phi_k: 1.714E-12, epsilon: 3.963E-13, support: 6, dropped:False\n",
      "INFO:root:==============================================\n",
      "DEBUG:root:SSN in 7 dimensions converged in 14 iterations to tolerance 1.000E-12\n",
      "INFO:root:78: Step: GCG, Lazy True, Phi_k: 1.803E-12, epsilon: 3.963E-13, support: 6, dropped:False\n",
      "INFO:root:==============================================\n",
      "DEBUG:root:SSN in 7 dimensions converged in 10 iterations to tolerance 1.000E-12\n",
      "INFO:root:79: Step: GCG, Lazy False, Phi_k: 7.735E-13, epsilon: 1.760E-13, support: 6, dropped:False\n",
      "INFO:root:==============================================\n"
     ]
    }
   ],
   "source": [
    "u, Phi_ks, times, supports, objective_values, dropped_tot, epsilons = exp.lpdap(tol=1e-12)"
   ]
  },
  {
   "cell_type": "code",
   "execution_count": 45,
   "metadata": {},
   "outputs": [
    {
     "data": {
      "text/plain": [
       "0"
      ]
     },
     "execution_count": 45,
     "metadata": {},
     "output_type": "execute_result"
    }
   ],
   "source": [
    "dropped_tot"
   ]
  },
  {
   "cell_type": "code",
   "execution_count": 46,
   "metadata": {},
   "outputs": [
    {
     "data": {
      "text/plain": [
       "array([3.33929062e-03, 4.03299332e-02, 6.54413700e-02, 9.00952816e-02,\n",
       "       1.17777109e-01, 1.46612883e-01, 1.74020290e-01, 1.94362879e-01,\n",
       "       2.16018438e-01, 2.45656490e-01, 2.76825666e-01, 3.07981491e-01,\n",
       "       3.36368561e-01, 3.67496014e-01, 3.93160105e-01, 4.14505720e-01,\n",
       "       4.35403585e-01, 4.62241411e-01, 5.41819334e-01, 5.76987743e-01,\n",
       "       6.05555534e-01, 6.96088314e-01, 7.26593018e-01, 8.37739944e-01,\n",
       "       8.68129015e-01, 8.93475771e-01, 9.76476192e-01, 9.95888472e-01,\n",
       "       1.02132773e+00, 1.04877758e+00, 1.06623602e+00, 1.13967371e+00,\n",
       "       1.16146350e+00, 1.24819207e+00, 1.27119184e+00, 1.29541397e+00,\n",
       "       1.31625557e+00, 1.33803129e+00, 1.43804455e+00, 1.45629191e+00,\n",
       "       1.47178650e+00, 1.49361062e+00, 1.51457167e+00, 1.61387873e+00,\n",
       "       1.63456464e+00, 1.65512395e+00, 1.67402387e+00, 1.69551730e+00,\n",
       "       1.77603912e+00, 1.85229588e+00, 1.86963272e+00, 1.88879991e+00,\n",
       "       1.91163778e+00, 2.00254798e+00, 2.02206516e+00, 2.03980160e+00,\n",
       "       2.05728889e+00, 2.07406855e+00, 2.09057403e+00, 2.17694616e+00,\n",
       "       2.19308543e+00, 2.21007419e+00, 2.22690392e+00, 2.30189371e+00,\n",
       "       2.38954186e+00, 2.48826861e+00, 2.50957775e+00, 2.52556419e+00,\n",
       "       2.60203052e+00, 2.67510939e+00, 2.77255845e+00, 2.79619527e+00,\n",
       "       2.81560302e+00, 2.91905904e+00, 2.99341178e+00, 3.00818276e+00,\n",
       "       3.02768445e+00, 3.04307127e+00, 3.05927587e+00, 3.16291046e+00,\n",
       "       3.18222046e+00, 3.19866872e+00, 3.21726656e+00, 3.23404884e+00,\n",
       "       3.35078168e+00, 3.44812870e+00, 3.47121191e+00, 3.49223018e+00,\n",
       "       3.51275945e+00, 3.60015798e+00, 3.66954589e+00, 3.68557262e+00,\n",
       "       3.70162892e+00, 3.71518302e+00, 3.81193614e+00, 3.82942843e+00,\n",
       "       3.84676147e+00, 3.86699080e+00, 3.88441515e+00, 3.98476672e+00,\n",
       "       4.00261164e+00, 4.02128744e+00, 4.03945827e+00, 4.05781460e+00,\n",
       "       4.15015936e+00, 4.21856475e+00, 4.23385525e+00, 4.25235200e+00,\n",
       "       4.35099697e+00])"
      ]
     },
     "execution_count": 46,
     "metadata": {},
     "output_type": "execute_result"
    }
   ],
   "source": [
    "np.array(times)"
   ]
  },
  {
   "cell_type": "code",
   "execution_count": 47,
   "metadata": {},
   "outputs": [
    {
     "data": {
      "text/plain": [
       "array([ 0,  1,  2,  3,  4,  5,  5,  6,  6,  7,  8,  9, 10, 11, 12, 13, 14,\n",
       "       15, 16, 17, 18, 19, 20, 21, 18, 15, 13, 13, 13, 11, 11,  9,  7,  7,\n",
       "        7,  8,  8,  6,  6,  7,  7,  6,  6,  6,  7,  7,  6,  6,  7,  6,  7,\n",
       "        6,  6,  6,  7,  7,  6,  7,  6,  6,  7,  6,  6,  7,  6,  6,  6,  6,\n",
       "        6,  6,  6,  6,  6,  7,  6,  7,  7,  6,  6,  6,  7,  6,  6,  7,  6,\n",
       "        6,  6,  7,  6,  6,  6,  6,  6,  7,  6,  7,  6,  6,  6,  6,  7,  6,\n",
       "        7,  6,  6,  6,  6,  6,  6])"
      ]
     },
     "execution_count": 47,
     "metadata": {},
     "output_type": "execute_result"
    }
   ],
   "source": [
    "np.array(supports)"
   ]
  },
  {
   "cell_type": "code",
   "execution_count": 48,
   "metadata": {},
   "outputs": [
    {
     "data": {
      "text/plain": [
       "array([5.26929402e+01, 2.27036009e+01, 7.58425867e+00, 7.58339252e+00,\n",
       "       3.65763628e-01, 2.08005076e-01, 1.73018496e-01, 4.60809595e-02,\n",
       "       1.75681395e-02, 1.46086267e-02, 1.19478398e-02, 1.06827200e-02,\n",
       "       9.83991899e-03, 9.30460448e-03, 9.20230503e-03, 9.08020647e-03,\n",
       "       9.00130432e-03, 8.97509436e-03, 8.95127215e-03, 8.93178328e-03,\n",
       "       8.92231995e-03, 8.91153929e-03, 8.90661772e-03, 8.90504254e-03,\n",
       "       6.20975317e-03, 3.73269906e-03, 2.85028196e-03, 2.84743442e-03,\n",
       "       2.84117523e-03, 1.74865652e-03, 1.74714985e-03, 9.49684073e-04,\n",
       "       5.70649169e-04, 5.70587220e-04, 2.42390829e-04, 2.25786179e-04,\n",
       "       2.25786179e-04, 1.93058537e-04, 6.72293647e-05, 5.38232997e-05,\n",
       "       5.38232997e-05, 4.88657046e-05, 4.20376601e-05, 2.14170931e-05,\n",
       "       1.54706491e-05, 1.54706491e-05, 1.51035455e-05, 1.17995318e-05,\n",
       "       5.35359544e-06, 4.51032555e-06, 4.14828685e-06, 3.93497701e-06,\n",
       "       2.30759458e-06, 1.69661099e-06, 1.52127902e-06, 1.52127902e-06,\n",
       "       1.41329276e-06, 7.48565020e-07, 6.02495626e-07, 2.96967478e-07,\n",
       "       2.52691396e-07, 2.11128902e-07, 1.75963442e-07, 7.98911172e-08,\n",
       "       6.79515331e-08, 6.79208871e-08, 5.44293179e-08, 3.68561539e-08,\n",
       "       2.60115424e-08, 2.60115424e-08, 2.60097425e-08, 1.71941612e-08,\n",
       "       1.05450139e-08, 5.68852160e-09, 5.09200673e-09, 3.80388065e-09,\n",
       "       2.66887662e-09, 2.62684180e-09, 2.55926674e-09, 1.21195132e-09,\n",
       "       1.19179056e-09, 1.17725305e-09, 7.05446368e-10, 3.90002253e-10,\n",
       "       3.49914708e-10, 3.49856505e-10, 3.31843664e-10, 1.79882165e-10,\n",
       "       1.50701007e-10, 6.94563851e-11, 6.94302393e-11, 6.04668537e-11,\n",
       "       4.68600714e-11, 2.66583144e-11, 2.23854268e-11, 1.96976879e-11,\n",
       "       1.77524107e-11, 1.09784681e-11, 1.09742215e-11, 6.77455314e-12,\n",
       "       6.13728512e-12, 5.66055536e-12, 3.28689853e-12, 2.54715693e-12,\n",
       "       5.21249710e-13, 5.20861132e-13, 2.39863684e-13, 1.71945791e-13,\n",
       "       1.59650071e-13])"
      ]
     },
     "execution_count": 48,
     "metadata": {},
     "output_type": "execute_result"
    }
   ],
   "source": [
    "objective_values-best"
   ]
  },
  {
   "cell_type": "code",
   "execution_count": 49,
   "metadata": {},
   "outputs": [
    {
     "data": {
      "text/plain": [
       "array([5.00000000e-02, 5.00000000e-02, 5.00000000e-02, 5.00000000e-02,\n",
       "       5.00000000e-02, 5.00000000e-02, 5.00000000e-02, 5.00000000e-02,\n",
       "       5.00000000e-02, 5.00000000e-02, 5.00000000e-02, 5.00000000e-02,\n",
       "       5.00000000e-02, 5.00000000e-02, 5.00000000e-02, 5.00000000e-02,\n",
       "       5.00000000e-02, 5.00000000e-02, 5.00000000e-02, 2.33970495e-02,\n",
       "       2.33970495e-02, 2.33970495e-02, 1.09934084e-02, 1.09934084e-02,\n",
       "       4.87329698e-03, 4.87329698e-03, 4.87329698e-03, 2.08756260e-03,\n",
       "       2.08756260e-03, 2.08756260e-03, 2.08756260e-03, 2.08756260e-03,\n",
       "       8.15198504e-04, 8.15198504e-04, 2.26700561e-04, 2.26700561e-04,\n",
       "       2.26700561e-04, 2.26700561e-04, 2.26700561e-04, 3.30218973e-05,\n",
       "       3.30218973e-05, 3.30218973e-05, 3.30218973e-05, 3.30218973e-05,\n",
       "       7.65566882e-06, 7.65566882e-06, 7.65566882e-06, 7.65566882e-06,\n",
       "       7.65566882e-06, 7.65566882e-06, 1.84052199e-06, 1.84052199e-06,\n",
       "       1.84052199e-06, 1.84052199e-06, 4.58428877e-07, 4.58428877e-07,\n",
       "       4.58428877e-07, 4.58428877e-07, 4.58428877e-07, 4.58428877e-07,\n",
       "       1.14021824e-07, 1.14021824e-07, 1.14021824e-07, 1.14021824e-07,\n",
       "       1.14021824e-07, 1.14021824e-07, 2.66481147e-08, 2.66481147e-08,\n",
       "       2.66481147e-08, 2.66481147e-08, 2.66481147e-08, 6.87244673e-09,\n",
       "       6.87244673e-09, 6.87244673e-09, 6.87244673e-09, 1.62702117e-09,\n",
       "       1.62702117e-09, 1.62702117e-09, 1.62702117e-09, 1.62702117e-09,\n",
       "       4.18839455e-10, 4.18839455e-10, 4.18839455e-10, 4.18839455e-10,\n",
       "       4.18839455e-10, 4.18839455e-10, 1.08810500e-10, 1.08810500e-10,\n",
       "       1.08810500e-10, 1.08810500e-10, 1.08810500e-10, 2.67817447e-11,\n",
       "       2.67817447e-11, 2.67817447e-11, 2.67817447e-11, 6.60848816e-12,\n",
       "       6.60848816e-12, 6.60848816e-12, 6.60848816e-12, 6.60848816e-12,\n",
       "       1.68762757e-12, 1.68762757e-12, 1.68762757e-12, 1.68762757e-12,\n",
       "       1.68762757e-12, 1.68762757e-12, 3.96318815e-13, 3.96318815e-13,\n",
       "       3.96318815e-13])"
      ]
     },
     "execution_count": 49,
     "metadata": {},
     "output_type": "execute_result"
    }
   ],
   "source": [
    "np.array(epsilons)"
   ]
  },
  {
   "cell_type": "code",
   "execution_count": 50,
   "metadata": {},
   "outputs": [
    {
     "name": "stdout",
     "output_type": "stream",
     "text": [
      "Measure with support [[ 3.12502071]\n",
      " [ 3.12502183]\n",
      " [ 6.99999162]\n",
      " [ 6.99999263]\n",
      " [13.37905574]\n",
      " [13.37905685]] and coefficients [-0.08368632 -0.91464096  0.01670516  0.68170775  0.15898502  0.33935206]\n",
      "[2.618461e-13]\n",
      "1.6733836538662672e-13\n"
     ]
    }
   ],
   "source": [
    "print(u)\n",
    "print(max([abs(abs(p(u)(x))-alpha) for x in u.support]))\n",
    "print(g(u.coefficients)-u.duality_pairing(p(u)))"
   ]
  },
  {
   "cell_type": "markdown",
   "metadata": {},
   "source": [
    "## Plots"
   ]
  },
  {
   "cell_type": "code",
   "execution_count": 119,
   "metadata": {},
   "outputs": [
    {
     "data": {
      "image/png": "[encoded data removed]",
      "text/plain": [
       "<Figure size 640x480 with 1 Axes>"
      ]
     },
     "metadata": {},
     "output_type": "display_data"
    }
   ],
   "source": [
    "plt.plot(observations, target);\n",
    "plt.xlabel(\"Time\");"
   ]
  },
  {
   "cell_type": "code",
   "execution_count": null,
   "metadata": {},
   "outputs": [
    {
     "data": {
      "image/png": "[encoded data removed]",
      "text/plain": [
       "<Figure size 640x480 with 1 Axes>"
      ]
     },
     "metadata": {},
     "output_type": "display_data"
    }
   ],
   "source": [
    "u_tilde = u # Newton solution\n",
    "a = np.arange(Omega[0][0],Omega[0][1],0.005)\n",
    "vals = np.array([np.abs(p(u_tilde)(np.array([x]))) for x in a])\n",
    "plt.plot(a,vals);\n",
    "for i, pos in enumerate(u_tilde.support):\n",
    "    if not i:\n",
    "        plt.axvline(x=pos, linestyle=\"--\", c=\"r\", label=\"Optimal and true support\");\n",
    "    else:\n",
    "        plt.axvline(x=pos, linestyle=\"--\", c=\"r\");\n",
    "plt.xlabel(\"Frequency\");\n",
    "plt.ylim(0,0.11);\n",
    "plt.xlim(0, 20);\n",
    "plt.legend();"
   ]
  },
  {
   "cell_type": "code",
   "execution_count": null,
   "metadata": {},
   "outputs": [
    {
     "data": {
      "image/png": "[encoded data removed]",
      "text/plain": [
       "<Figure size 640x480 with 1 Axes>"
      ]
     },
     "metadata": {},
     "output_type": "display_data"
    }
   ],
   "source": [
    "u_tilde = u # LPDAP iterate after 30 ierations\n",
    "a = np.arange(Omega[0][0],Omega[0][1],0.005)\n",
    "vals = np.array([np.abs(p(u_tilde)(np.array([x]))) for x in a])\n",
    "plt.plot(a,vals);\n",
    "for i, pos in enumerate(u_tilde.support):\n",
    "    if not i:\n",
    "        plt.plot(pos,0.001, \"P\", c=\"r\", label=\"Iterate support\", markersize=10)\n",
    "    else:\n",
    "        plt.plot(pos,0.001, \"P\", c=\"r\", markersize=10)\n",
    "plt.xlabel(\"Frequency\");\n",
    "plt.ylim(0,0.13);\n",
    "plt.xlim(0, 20);\n",
    "plt.legend();"
   ]
  },
  {
   "cell_type": "code",
   "execution_count": null,
   "metadata": {},
   "outputs": [],
   "source": [
    "residuals_pdap = np.array([5.26929402e+01, 2.22757014e+01, 7.51575796e+00, 4.94388053e-02,\n",
    "       1.50239777e-02, 8.58376260e-03, 6.60215209e-03, 6.26160461e-03,\n",
    "       5.81056961e-03, 5.68714558e-03, 5.63453917e-03, 2.74798169e-03,\n",
    "       2.49625308e-03, 2.43692856e-03, 1.09428956e-03, 1.06241338e-03,\n",
    "       9.64583839e-04, 3.70010644e-04, 3.28227685e-04, 3.27716477e-04,\n",
    "       1.08225414e-04, 8.89059425e-05, 8.85996721e-05, 2.08581002e-05,\n",
    "       1.15859863e-05, 1.14112347e-05, 8.58446300e-06, 4.06824318e-06,\n",
    "       3.96465275e-06, 2.55842175e-06, 1.39500443e-06, 1.33895722e-06,\n",
    "       6.37730666e-07, 3.72191017e-07, 3.43278640e-07, 1.86417766e-07,\n",
    "       1.07771234e-07, 9.30297483e-08, 4.47907718e-08, 3.13017950e-08,\n",
    "       2.38730088e-08, 1.63320791e-08, 9.87057930e-09, 6.13811726e-09,\n",
    "       2.36248926e-09, 2.29318572e-09, 4.22883784e-10, 3.32216477e-10,\n",
    "       2.96567576e-10, 1.97008548e-10, 1.51335777e-10, 1.33198313e-10,\n",
    "       8.31296143e-11, 6.02084493e-11, 5.10619047e-11, 2.59552657e-11,\n",
    "       1.44735335e-11, 9.88081839e-12, 6.27009555e-12, 4.28232450e-12,\n",
    "       3.35426131e-12, 1.54451452e-12, 6.06209527e-13, 2.64455124e-13])\n",
    "\n",
    "times_pdap = np.array([2.38418579e-07, 1.44747734e-01, 2.80295134e-01, 4.21657801e-01,\n",
    "       4.89504814e-01, 5.54171801e-01, 6.21161699e-01, 6.92107677e-01,\n",
    "       7.67526627e-01, 8.35987091e-01, 9.23215628e-01, 9.91173506e-01,\n",
    "       1.05550480e+00, 1.12198663e+00, 1.18742347e+00, 1.24858093e+00,\n",
    "       1.31444311e+00, 1.38890338e+00, 1.46170950e+00, 1.53741741e+00,\n",
    "       1.62911844e+00, 1.72034478e+00, 1.80127144e+00, 1.88783288e+00,\n",
    "       1.95663786e+00, 2.02650619e+00, 2.09106112e+00, 2.15603662e+00,\n",
    "       2.22199249e+00, 2.29011488e+00, 2.37570310e+00, 2.44392920e+00,\n",
    "       2.51476240e+00, 2.58300400e+00, 2.65028501e+00, 2.72127962e+00,\n",
    "       2.78932524e+00, 2.88072634e+00, 2.97178650e+00, 3.06618643e+00,\n",
    "       3.15616083e+00, 3.24662495e+00, 3.31682277e+00, 3.38224006e+00,\n",
    "       3.47225022e+00, 3.56463027e+00, 3.65584350e+00, 3.74674320e+00,\n",
    "       3.83884501e+00, 3.93009400e+00, 4.02526259e+00, 4.11602402e+00,\n",
    "       4.20772243e+00, 4.29821467e+00, 4.36960793e+00, 4.45754361e+00,\n",
    "       4.54448533e+00, 4.62940335e+00, 4.69551659e+00, 4.76374626e+00,\n",
    "       4.83393884e+00, 4.89966536e+00, 4.96472788e+00, 5.03161097e+00])\n",
    "\n",
    "supports_pdap = np.array([ 0,  1,  2,  3,  4,  5,  6,  7,  8,  9, 10,  9,  9,  8,  7,  7,  7,\n",
    "        5,  5,  6,  6,  6,  6,  6,  6,  6,  6,  6,  6,  6,  6,  6,  6,  6,\n",
    "        6,  6,  6,  6,  6,  6,  6,  6,  6,  6,  6,  6,  6,  6,  6,  6,  6,\n",
    "        6,  6,  6,  6,  6,  6,  6,  6,  6,  6,  6,  6,  6])\n",
    "\n",
    "residuals_newton = np.array([ 5.26929402e+01,  5.26929402e+01,  2.22783817e+01,  2.22757012e+01,\n",
    "        2.22757012e+01,  2.22757012e+01,  1.67294819e+01,  7.44717092e+00,\n",
    "        7.44712096e+00,  7.44712096e+00,  7.13613228e+00,  1.71201655e-03,\n",
    "        7.72957685e-08, -3.60822483e-15, -3.85802501e-15, -3.85802501e-15])\n",
    "\n",
    "times_newton = np.array([2.38418579e-07, 1.03397369e-02, 3.25956345e-02, 5.25333881e-02,\n",
    "       7.40909576e-02, 9.82441902e-02, 1.30960703e-01, 1.46838903e-01,\n",
    "       1.58454418e-01, 1.71169758e-01, 1.86296225e-01, 1.96773529e-01,\n",
    "       2.05665350e-01, 2.13721991e-01, 2.79594660e-01, 3.43407631e-01])\n",
    "\n",
    "supports_newton = np.array([0, 0, 1, 1, 1, 1, 2, 2, 2, 2, 3, 3, 3, 3, 3, 3])\n",
    "\n",
    "intervals_newton = np.array([[ 1.5,  5.5],\n",
    "       [ 6.5,  9.5],\n",
    "       [10.5, 15.5]])\n",
    "\n",
    "epsilons_newton = np.array([5.00000000e-02, 5.00000000e-02, 5.00000000e-02, 5.00000000e-02,\n",
    "       5.00000000e-02, 5.00000000e-02, 5.00000000e-02, 5.00000000e-02,\n",
    "       5.00000000e-02, 5.00000000e-02, 5.00000000e-02, 5.00000000e-02,\n",
    "       5.00000000e-02, 5.00000000e-02, 1.81577646e-09, 4.18656121e-15])\n",
    "\n",
    "residuals_newton_damped = np.array([ 5.26929402e+01,  5.26929402e+01,  2.26483696e+01,  2.26483696e+01,\n",
    "        7.53644619e+00,  7.53644619e+00,  2.75589320e-01,  2.29500092e-01,\n",
    "        1.89679992e-01,  1.55458948e-01,  1.26228493e-01,  1.01433725e-01,\n",
    "        8.05670039e-02,  6.31629604e-02,  4.87945453e-02,  3.70698755e-02,\n",
    "        2.76297185e-02,  2.01454822e-02,  1.43176099e-02,  9.87429470e-03,\n",
    "        6.57044975e-03,  4.18687522e-03,  2.52957369e-03,  1.42916864e-03,\n",
    "        7.40382236e-04,  3.41524670e-04,  1.33936543e-04,  4.12988467e-05,\n",
    "        8.66414503e-06,  9.16449898e-07,  2.42981779e-08,  3.01275116e-11,\n",
    "       -3.80251386e-15, -3.83026943e-15, -3.83026943e-15])\n",
    "\n",
    "times_newton_damped = np.array([2.38418579e-07, 1.01959705e-02, 2.44181156e-02, 4.55415249e-02,\n",
    "       7.55374432e-02, 1.01310015e-01, 1.17352009e-01, 1.27764225e-01,\n",
    "       1.43806458e-01, 1.54491901e-01, 1.63487196e-01, 1.75086737e-01,\n",
    "       1.86660528e-01, 1.96220398e-01, 2.07118034e-01, 2.18739033e-01,\n",
    "       2.30312586e-01, 2.41689920e-01, 2.51699448e-01, 2.61953831e-01,\n",
    "       2.69539356e-01, 2.79683590e-01, 2.87734985e-01, 2.98524857e-01,\n",
    "       3.06244850e-01, 3.16206217e-01, 3.23993683e-01, 3.34265471e-01,\n",
    "       3.41686726e-01, 3.52069855e-01, 3.59730482e-01, 3.69768858e-01,\n",
    "       4.33537483e-01, 4.41210270e-01, 5.06009102e-01])\n",
    "\n",
    "supports_newton_damped = np.array([0, 0, 1, 1, 2, 2, 3, 3, 3, 3, 3, 3, 3, 3, 3, 3, 3, 3, 3, 3, 3, 3,\n",
    "       3, 3, 3, 3, 3, 3, 3, 3, 3, 3, 3, 3, 3])\n",
    "\n",
    "intervals_newton_damped = np.array([[ 1.5,  2.5],\n",
    "       [ 3.5,  4.5],\n",
    "       [ 5.5, 34.5]])\n",
    "\n",
    "epsilons_newton_damped = np.array([5.00000000e-02, 5.00000000e-02, 5.00000000e-02, 5.00000000e-02,\n",
    "       5.00000000e-02, 5.00000000e-02, 5.00000000e-02, 5.00000000e-02,\n",
    "       5.00000000e-02, 5.00000000e-02, 5.00000000e-02, 5.00000000e-02,\n",
    "       5.00000000e-02, 5.00000000e-02, 5.00000000e-02, 5.00000000e-02,\n",
    "       5.00000000e-02, 5.00000000e-02, 5.00000000e-02, 5.00000000e-02,\n",
    "       5.00000000e-02, 5.00000000e-02, 5.00000000e-02, 5.00000000e-02,\n",
    "       5.00000000e-02, 5.00000000e-02, 5.00000000e-02, 5.00000000e-02,\n",
    "       5.00000000e-02, 5.00000000e-02, 5.00000000e-02, 5.00000000e-02,\n",
    "       4.14104276e-09, 4.14104276e-09, 5.61723242e-15])\n",
    "\n",
    "residuals_lpdap = np.array([5.26929402e+01, 2.27036009e+01, 7.58425867e+00, 7.58339252e+00,\n",
    "       3.65763628e-01, 2.08005076e-01, 1.73018496e-01, 4.60809595e-02,\n",
    "       1.75681395e-02, 1.46086267e-02, 1.19478398e-02, 1.06827200e-02,\n",
    "       9.83991899e-03, 9.30460448e-03, 9.20230503e-03, 9.08020647e-03,\n",
    "       9.00130432e-03, 8.97509436e-03, 8.95127215e-03, 8.93178328e-03,\n",
    "       8.92231995e-03, 8.91153929e-03, 8.90661772e-03, 8.90504254e-03,\n",
    "       6.20975317e-03, 3.73269906e-03, 2.85028196e-03, 2.84743442e-03,\n",
    "       2.84117523e-03, 1.74865652e-03, 1.74714985e-03, 9.49684073e-04,\n",
    "       5.70649169e-04, 5.70587220e-04, 2.42390829e-04, 2.25786179e-04,\n",
    "       2.25786179e-04, 1.93058537e-04, 6.72293647e-05, 5.38232997e-05,\n",
    "       5.38232997e-05, 4.88657046e-05, 4.20376601e-05, 2.14170931e-05,\n",
    "       1.54706491e-05, 1.54706491e-05, 1.51035455e-05, 1.17995318e-05,\n",
    "       5.35359544e-06, 4.51032555e-06, 4.14828685e-06, 3.93497701e-06,\n",
    "       2.30759458e-06, 1.69661099e-06, 1.52127902e-06, 1.52127902e-06,\n",
    "       1.41329276e-06, 7.48565020e-07, 6.02495626e-07, 2.96967478e-07,\n",
    "       2.52691396e-07, 2.11128902e-07, 1.75963442e-07, 7.98911172e-08,\n",
    "       6.79515331e-08, 6.79208871e-08, 5.44293179e-08, 3.68561539e-08,\n",
    "       2.60115424e-08, 2.60115424e-08, 2.60097425e-08, 1.71941612e-08,\n",
    "       1.05450139e-08, 5.68852160e-09, 5.09200673e-09, 3.80388065e-09,\n",
    "       2.66887662e-09, 2.62684180e-09, 2.55926674e-09, 1.21195132e-09,\n",
    "       1.19179056e-09, 1.17725305e-09, 7.05446368e-10, 3.90002253e-10,\n",
    "       3.49914708e-10, 3.49856505e-10, 3.31843664e-10, 1.79882165e-10,\n",
    "       1.50701007e-10, 6.94563851e-11, 6.94302393e-11, 6.04668537e-11,\n",
    "       4.68600714e-11, 2.66583144e-11, 2.23854268e-11, 1.96976879e-11,\n",
    "       1.77524107e-11, 1.09784681e-11, 1.09742215e-11, 6.77455314e-12,\n",
    "       6.13728512e-12, 5.66055536e-12, 3.28689853e-12, 2.54715693e-12,\n",
    "       5.21249710e-13, 5.20861132e-13, 2.39863684e-13, 1.71945791e-13,\n",
    "       1.59650071e-13])\n",
    "\n",
    "times_lpdap = np.array([3.33929062e-03, 4.03299332e-02, 6.54413700e-02, 9.00952816e-02,\n",
    "       1.17777109e-01, 1.46612883e-01, 1.74020290e-01, 1.94362879e-01,\n",
    "       2.16018438e-01, 2.45656490e-01, 2.76825666e-01, 3.07981491e-01,\n",
    "       3.36368561e-01, 3.67496014e-01, 3.93160105e-01, 4.14505720e-01,\n",
    "       4.35403585e-01, 4.62241411e-01, 5.41819334e-01, 5.76987743e-01,\n",
    "       6.05555534e-01, 6.96088314e-01, 7.26593018e-01, 8.37739944e-01,\n",
    "       8.68129015e-01, 8.93475771e-01, 9.76476192e-01, 9.95888472e-01,\n",
    "       1.02132773e+00, 1.04877758e+00, 1.06623602e+00, 1.13967371e+00,\n",
    "       1.16146350e+00, 1.24819207e+00, 1.27119184e+00, 1.29541397e+00,\n",
    "       1.31625557e+00, 1.33803129e+00, 1.43804455e+00, 1.45629191e+00,\n",
    "       1.47178650e+00, 1.49361062e+00, 1.51457167e+00, 1.61387873e+00,\n",
    "       1.63456464e+00, 1.65512395e+00, 1.67402387e+00, 1.69551730e+00,\n",
    "       1.77603912e+00, 1.85229588e+00, 1.86963272e+00, 1.88879991e+00,\n",
    "       1.91163778e+00, 2.00254798e+00, 2.02206516e+00, 2.03980160e+00,\n",
    "       2.05728889e+00, 2.07406855e+00, 2.09057403e+00, 2.17694616e+00,\n",
    "       2.19308543e+00, 2.21007419e+00, 2.22690392e+00, 2.30189371e+00,\n",
    "       2.38954186e+00, 2.48826861e+00, 2.50957775e+00, 2.52556419e+00,\n",
    "       2.60203052e+00, 2.67510939e+00, 2.77255845e+00, 2.79619527e+00,\n",
    "       2.81560302e+00, 2.91905904e+00, 2.99341178e+00, 3.00818276e+00,\n",
    "       3.02768445e+00, 3.04307127e+00, 3.05927587e+00, 3.16291046e+00,\n",
    "       3.18222046e+00, 3.19866872e+00, 3.21726656e+00, 3.23404884e+00,\n",
    "       3.35078168e+00, 3.44812870e+00, 3.47121191e+00, 3.49223018e+00,\n",
    "       3.51275945e+00, 3.60015798e+00, 3.66954589e+00, 3.68557262e+00,\n",
    "       3.70162892e+00, 3.71518302e+00, 3.81193614e+00, 3.82942843e+00,\n",
    "       3.84676147e+00, 3.86699080e+00, 3.88441515e+00, 3.98476672e+00,\n",
    "       4.00261164e+00, 4.02128744e+00, 4.03945827e+00, 4.05781460e+00,\n",
    "       4.15015936e+00, 4.21856475e+00, 4.23385525e+00, 4.25235200e+00,\n",
    "       4.35099697e+00])\n",
    "\n",
    "supports_lpdap = np.array([ 0,  1,  2,  3,  4,  5,  5,  6,  6,  7,  8,  9, 10, 11, 12, 13, 14,\n",
    "       15, 16, 17, 18, 19, 20, 21, 18, 15, 13, 13, 13, 11, 11,  9,  7,  7,\n",
    "        7,  8,  8,  6,  6,  7,  7,  6,  6,  6,  7,  7,  6,  6,  7,  6,  7,\n",
    "        6,  6,  6,  7,  7,  6,  7,  6,  6,  7,  6,  6,  7,  6,  6,  6,  6,\n",
    "        6,  6,  6,  6,  6,  7,  6,  7,  7,  6,  6,  6,  7,  6,  6,  7,  6,\n",
    "        6,  6,  7,  6,  6,  6,  6,  6,  7,  6,  7,  6,  6,  6,  6,  7,  6,\n",
    "        7,  6,  6,  6,  6,  6,  6])\n",
    "\n",
    "epsilons_lpdap = np.array([5.00000000e-02, 5.00000000e-02, 5.00000000e-02, 5.00000000e-02,\n",
    "       5.00000000e-02, 5.00000000e-02, 5.00000000e-02, 5.00000000e-02,\n",
    "       5.00000000e-02, 5.00000000e-02, 5.00000000e-02, 5.00000000e-02,\n",
    "       5.00000000e-02, 5.00000000e-02, 5.00000000e-02, 5.00000000e-02,\n",
    "       5.00000000e-02, 5.00000000e-02, 5.00000000e-02, 2.33970495e-02,\n",
    "       2.33970495e-02, 2.33970495e-02, 1.09934084e-02, 1.09934084e-02,\n",
    "       4.87329698e-03, 4.87329698e-03, 4.87329698e-03, 2.08756260e-03,\n",
    "       2.08756260e-03, 2.08756260e-03, 2.08756260e-03, 2.08756260e-03,\n",
    "       8.15198504e-04, 8.15198504e-04, 2.26700561e-04, 2.26700561e-04,\n",
    "       2.26700561e-04, 2.26700561e-04, 2.26700561e-04, 3.30218973e-05,\n",
    "       3.30218973e-05, 3.30218973e-05, 3.30218973e-05, 3.30218973e-05,\n",
    "       7.65566882e-06, 7.65566882e-06, 7.65566882e-06, 7.65566882e-06,\n",
    "       7.65566882e-06, 7.65566882e-06, 1.84052199e-06, 1.84052199e-06,\n",
    "       1.84052199e-06, 1.84052199e-06, 4.58428877e-07, 4.58428877e-07,\n",
    "       4.58428877e-07, 4.58428877e-07, 4.58428877e-07, 4.58428877e-07,\n",
    "       1.14021824e-07, 1.14021824e-07, 1.14021824e-07, 1.14021824e-07,\n",
    "       1.14021824e-07, 1.14021824e-07, 2.66481147e-08, 2.66481147e-08,\n",
    "       2.66481147e-08, 2.66481147e-08, 2.66481147e-08, 6.87244673e-09,\n",
    "       6.87244673e-09, 6.87244673e-09, 6.87244673e-09, 1.62702117e-09,\n",
    "       1.62702117e-09, 1.62702117e-09, 1.62702117e-09, 1.62702117e-09,\n",
    "       4.18839455e-10, 4.18839455e-10, 4.18839455e-10, 4.18839455e-10,\n",
    "       4.18839455e-10, 4.18839455e-10, 1.08810500e-10, 1.08810500e-10,\n",
    "       1.08810500e-10, 1.08810500e-10, 1.08810500e-10, 2.67817447e-11,\n",
    "       2.67817447e-11, 2.67817447e-11, 2.67817447e-11, 6.60848816e-12,\n",
    "       6.60848816e-12, 6.60848816e-12, 6.60848816e-12, 6.60848816e-12,\n",
    "       1.68762757e-12, 1.68762757e-12, 1.68762757e-12, 1.68762757e-12,\n",
    "       1.68762757e-12, 1.68762757e-12, 3.96318815e-13, 3.96318815e-13,\n",
    "       3.96318815e-13])"
   ]
  },
  {
   "cell_type": "code",
   "execution_count": null,
   "metadata": {},
   "outputs": [],
   "source": [
    "names = [\"PDAP\", \"LPDAP\", \"NLGCG\", \"NLGCG (damped)\"]\n",
    "styles = [\"-\", \"--\", \"-.\", \":\"]\n",
    "plt.figure(figsize=(11.25,5))\n",
    "for array, name, style in zip([residuals_pdap, residuals_lpdap, residuals_newton, residuals_newton_damped], names, styles):\n",
    "    plt.semilogy(np.array(range(len(array))),array, style, label=name);\n",
    "plt.ylabel(\"Objective residual\");\n",
    "plt.xlabel(\"Total iterations\");\n",
    "plt.ylim(1e-12, 55);\n",
    "plt.legend();\n",
    "plt.show()"
   ]
  },
  {
   "cell_type": "code",
   "execution_count": null,
   "metadata": {},
   "outputs": [],
   "source": [
    "names = [\"LPDAP\", \"NLGCG\", \"NLGCG (damped)\"]\n",
    "styles = [\"--\", \"-.\", \":\"]\n",
    "colors = [\"orange\", \"green\", \"red\"]\n",
    "plt.figure(figsize=(11.25,5))\n",
    "for array, name, style, color in zip([epsilons_lpdap, epsilons_newton, epsilons_newton_damped], names, styles, colors):\n",
    "    plt.semilogy(np.array(range(len(array))),array, style, label=name, color=color);\n",
    "plt.ylabel(\"Lazy threshold\");\n",
    "plt.xlabel(\"Total iterations\");\n",
    "plt.ylim(1e-12, 0.1);\n",
    "# plt.xlim(0, 135);\n",
    "plt.legend();\n",
    "plt.show()"
   ]
  },
  {
   "cell_type": "code",
   "execution_count": null,
   "metadata": {},
   "outputs": [],
   "source": [
    "names = [\"PDAP\", \"LPDAP\", \"NLGCG\", \"NLGCG (damped)\"]\n",
    "styles = [\"-\", \"--\", \"-.\", \":\"]\n",
    "plt.figure(figsize=(11.25,5))\n",
    "for array, name, style in zip([supports_pdap, supports_lpdap, supports_newton, supports_newton_damped], names, styles):\n",
    "    plt.plot(np.array(range(len(array))),array, style, label=name);\n",
    "plt.ylabel(\"Support size\");\n",
    "plt.xlabel(\"Total iterations\");\n",
    "plt.legend();\n",
    "plt.show()"
   ]
  },
  {
   "cell_type": "code",
   "execution_count": null,
   "metadata": {},
   "outputs": [],
   "source": [
    "names = [\"PDAP\", \"LPDAP\", \"NLGCG\", \"NLGCG (damped)\"]\n",
    "styles = [\"-\", \"--\", \"-.\", \":\"]\n",
    "plt.figure(figsize=(11.25,5))\n",
    "for domain, array, name, style in zip([times_pdap, times_lpdap, times_newton, times_newton_damped], [residuals_pdap, residuals_lpdap, residuals_newton, residuals_newton_damped], names, styles):\n",
    "    plt.semilogy(domain, array, style, label=name);\n",
    "plt.ylabel(\"Objective residual\");\n",
    "plt.xlabel(\"Time (s)\");\n",
    "plt.ylim(1e-12, 55);\n",
    "plt.legend();\n",
    "plt.show()"
   ]
  },
  {
   "cell_type": "code",
   "execution_count": null,
   "metadata": {},
   "outputs": [],
   "source": [
    "plt.figure(figsize=(11.25,5))\n",
    "plt.semilogy(np.array(range(len(residuals_newton))), residuals_newton, linestyle=\"-.\", color=\"green\");\n",
    "for interval in intervals_newton:\n",
    "    plt.fill_between(interval, 0, 130, hatch=\"/\", color=\"gray\", alpha=0.2);\n",
    "plt.ylim(1e-14, 55);\n",
    "plt.xlim(0, 13);\n",
    "plt.xlabel(\"Total iterations\");\n",
    "plt.show()"
   ]
  }
 ],
 "metadata": {
  "kernelspec": {
   "display_name": "conda_env_lgcg",
   "language": "python",
   "name": "python3"
  },
  "language_info": {
   "codemirror_mode": {
    "name": "ipython",
    "version": 3
   },
   "file_extension": ".py",
   "mimetype": "text/x-python",
   "name": "python",
   "nbconvert_exporter": "python",
   "pygments_lexer": "ipython3",
   "version": "3.10.13"
  }
 },
 "nbformat": 4,
 "nbformat_minor": 2
}
